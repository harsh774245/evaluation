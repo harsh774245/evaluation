{
 "cells": [
  {
   "cell_type": "code",
   "execution_count": 1,
   "metadata": {},
   "outputs": [],
   "source": [
    "# predict doctor's consultation fee"
   ]
  },
  {
   "cell_type": "code",
   "execution_count": 2,
   "metadata": {},
   "outputs": [],
   "source": [
    "import numpy as np\n",
    "import pandas as pd\n",
    "import seaborn as sns \n",
    "import matplotlib.pyplot as plt\n",
    "%matplotlib inline\n",
    "import scipy.stats as st\n",
    "import warnings\n",
    "warnings.filterwarnings('ignore')\n",
    "pd.set_option('display.max_rows', 1000)\n",
    "pd.set_option('display.max_columns', 100)\n",
    "pd.set_option('display.width',1000)"
   ]
  },
  {
   "cell_type": "code",
   "execution_count": 265,
   "metadata": {},
   "outputs": [],
   "source": [
    "train=pd.read_excel('Final_Train.xlsx')\n",
    "test=pd.read_excel('Final_Test.xlsx')\n",
    "sample=pd.read_excel('Sample_submission.xlsx')"
   ]
  },
  {
   "cell_type": "code",
   "execution_count": 266,
   "metadata": {},
   "outputs": [
    {
     "data": {
      "text/plain": [
       "((1987, 6), (5961, 7), (1987, 1))"
      ]
     },
     "execution_count": 266,
     "metadata": {},
     "output_type": "execute_result"
    }
   ],
   "source": [
    "test.shape,train.shape,sample.shape"
   ]
  },
  {
   "cell_type": "code",
   "execution_count": 5,
   "metadata": {},
   "outputs": [
    {
     "data": {
      "text/plain": [
       "Qualification            0\n",
       "Experience               0\n",
       "Rating                3302\n",
       "Place                   25\n",
       "Profile                  0\n",
       "Miscellaneous_Info    2620\n",
       "Fees                     0\n",
       "dtype: int64"
      ]
     },
     "execution_count": 5,
     "metadata": {},
     "output_type": "execute_result"
    }
   ],
   "source": [
    "train.isnull().sum()"
   ]
  },
  {
   "cell_type": "code",
   "execution_count": 6,
   "metadata": {},
   "outputs": [
    {
     "data": {
      "text/plain": [
       "Qualification            0\n",
       "Experience               0\n",
       "Rating                1090\n",
       "Place                    6\n",
       "Profile                  0\n",
       "Miscellaneous_Info     834\n",
       "dtype: int64"
      ]
     },
     "execution_count": 6,
     "metadata": {},
     "output_type": "execute_result"
    }
   ],
   "source": [
    "test.isnull().sum()"
   ]
  },
  {
   "cell_type": "code",
   "execution_count": 7,
   "metadata": {},
   "outputs": [],
   "source": [
    "# there are a few missing values"
   ]
  },
  {
   "cell_type": "code",
   "execution_count": 8,
   "metadata": {},
   "outputs": [
    {
     "data": {
      "text/html": [
       "<div>\n",
       "<style scoped>\n",
       "    .dataframe tbody tr th:only-of-type {\n",
       "        vertical-align: middle;\n",
       "    }\n",
       "\n",
       "    .dataframe tbody tr th {\n",
       "        vertical-align: top;\n",
       "    }\n",
       "\n",
       "    .dataframe thead th {\n",
       "        text-align: right;\n",
       "    }\n",
       "</style>\n",
       "<table border=\"1\" class=\"dataframe\">\n",
       "  <thead>\n",
       "    <tr style=\"text-align: right;\">\n",
       "      <th></th>\n",
       "      <th>Qualification</th>\n",
       "      <th>Experience</th>\n",
       "      <th>Rating</th>\n",
       "      <th>Place</th>\n",
       "      <th>Profile</th>\n",
       "      <th>Miscellaneous_Info</th>\n",
       "      <th>Fees</th>\n",
       "    </tr>\n",
       "  </thead>\n",
       "  <tbody>\n",
       "    <tr>\n",
       "      <td>0</td>\n",
       "      <td>BHMS, MD - Homeopathy</td>\n",
       "      <td>24 years experience</td>\n",
       "      <td>100%</td>\n",
       "      <td>Kakkanad, Ernakulam</td>\n",
       "      <td>Homeopath</td>\n",
       "      <td>100% 16 Feedback Kakkanad, Ernakulam</td>\n",
       "      <td>100</td>\n",
       "    </tr>\n",
       "    <tr>\n",
       "      <td>1</td>\n",
       "      <td>BAMS, MD - Ayurveda Medicine</td>\n",
       "      <td>12 years experience</td>\n",
       "      <td>98%</td>\n",
       "      <td>Whitefield, Bangalore</td>\n",
       "      <td>Ayurveda</td>\n",
       "      <td>98% 76 Feedback Whitefield, Bangalore</td>\n",
       "      <td>350</td>\n",
       "    </tr>\n",
       "    <tr>\n",
       "      <td>2</td>\n",
       "      <td>MBBS, MS - Otorhinolaryngology</td>\n",
       "      <td>9 years experience</td>\n",
       "      <td>NaN</td>\n",
       "      <td>Mathikere - BEL, Bangalore</td>\n",
       "      <td>ENT Specialist</td>\n",
       "      <td>NaN</td>\n",
       "      <td>300</td>\n",
       "    </tr>\n",
       "    <tr>\n",
       "      <td>3</td>\n",
       "      <td>BSc - Zoology, BAMS</td>\n",
       "      <td>12 years experience</td>\n",
       "      <td>NaN</td>\n",
       "      <td>Bannerghatta Road, Bangalore</td>\n",
       "      <td>Ayurveda</td>\n",
       "      <td>Bannerghatta Road, Bangalore ₹250 Available on...</td>\n",
       "      <td>250</td>\n",
       "    </tr>\n",
       "    <tr>\n",
       "      <td>4</td>\n",
       "      <td>BAMS</td>\n",
       "      <td>20 years experience</td>\n",
       "      <td>100%</td>\n",
       "      <td>Keelkattalai, Chennai</td>\n",
       "      <td>Ayurveda</td>\n",
       "      <td>100% 4 Feedback Keelkattalai, Chennai</td>\n",
       "      <td>250</td>\n",
       "    </tr>\n",
       "  </tbody>\n",
       "</table>\n",
       "</div>"
      ],
      "text/plain": [
       "                    Qualification           Experience Rating                         Place         Profile                                 Miscellaneous_Info  Fees\n",
       "0           BHMS, MD - Homeopathy  24 years experience   100%           Kakkanad, Ernakulam       Homeopath               100% 16 Feedback Kakkanad, Ernakulam   100\n",
       "1    BAMS, MD - Ayurveda Medicine  12 years experience    98%         Whitefield, Bangalore        Ayurveda              98% 76 Feedback Whitefield, Bangalore   350\n",
       "2  MBBS, MS - Otorhinolaryngology   9 years experience    NaN    Mathikere - BEL, Bangalore  ENT Specialist                                                NaN   300\n",
       "3             BSc - Zoology, BAMS  12 years experience    NaN  Bannerghatta Road, Bangalore        Ayurveda  Bannerghatta Road, Bangalore ₹250 Available on...   250\n",
       "4                            BAMS  20 years experience   100%         Keelkattalai, Chennai        Ayurveda              100% 4 Feedback Keelkattalai, Chennai   250"
      ]
     },
     "execution_count": 8,
     "metadata": {},
     "output_type": "execute_result"
    }
   ],
   "source": [
    "train.head()"
   ]
  },
  {
   "cell_type": "code",
   "execution_count": 9,
   "metadata": {},
   "outputs": [
    {
     "data": {
      "text/html": [
       "<div>\n",
       "<style scoped>\n",
       "    .dataframe tbody tr th:only-of-type {\n",
       "        vertical-align: middle;\n",
       "    }\n",
       "\n",
       "    .dataframe tbody tr th {\n",
       "        vertical-align: top;\n",
       "    }\n",
       "\n",
       "    .dataframe thead th {\n",
       "        text-align: right;\n",
       "    }\n",
       "</style>\n",
       "<table border=\"1\" class=\"dataframe\">\n",
       "  <thead>\n",
       "    <tr style=\"text-align: right;\">\n",
       "      <th></th>\n",
       "      <th>Qualification</th>\n",
       "      <th>Experience</th>\n",
       "      <th>Rating</th>\n",
       "      <th>Place</th>\n",
       "      <th>Profile</th>\n",
       "      <th>Miscellaneous_Info</th>\n",
       "    </tr>\n",
       "  </thead>\n",
       "  <tbody>\n",
       "    <tr>\n",
       "      <td>0</td>\n",
       "      <td>MBBS</td>\n",
       "      <td>35 years experience</td>\n",
       "      <td>NaN</td>\n",
       "      <td>Ghatkopar East, Mumbai</td>\n",
       "      <td>General Medicine</td>\n",
       "      <td>NaN</td>\n",
       "    </tr>\n",
       "    <tr>\n",
       "      <td>1</td>\n",
       "      <td>MBBS, Diploma in Otorhinolaryngology (DLO)</td>\n",
       "      <td>31 years experience</td>\n",
       "      <td>NaN</td>\n",
       "      <td>West Marredpally, Hyderabad</td>\n",
       "      <td>ENT Specialist</td>\n",
       "      <td>NaN</td>\n",
       "    </tr>\n",
       "    <tr>\n",
       "      <td>2</td>\n",
       "      <td>MBBS, DDVL</td>\n",
       "      <td>40 years experience</td>\n",
       "      <td>70%</td>\n",
       "      <td>KK Nagar, Chennai</td>\n",
       "      <td>Dermatologists</td>\n",
       "      <td>70% 4 Feedback KK Nagar, Chennai</td>\n",
       "    </tr>\n",
       "    <tr>\n",
       "      <td>3</td>\n",
       "      <td>BAMS</td>\n",
       "      <td>0 years experience</td>\n",
       "      <td>NaN</td>\n",
       "      <td>New Ashok Nagar, Delhi</td>\n",
       "      <td>Ayurveda</td>\n",
       "      <td>NaN</td>\n",
       "    </tr>\n",
       "    <tr>\n",
       "      <td>4</td>\n",
       "      <td>BDS, MDS - Conservative Dentistry &amp; Endodontics</td>\n",
       "      <td>16 years experience</td>\n",
       "      <td>100%</td>\n",
       "      <td>Kanakpura Road, Bangalore</td>\n",
       "      <td>Dentist</td>\n",
       "      <td>General Dentistry Conservative Dentistry Cosme...</td>\n",
       "    </tr>\n",
       "  </tbody>\n",
       "</table>\n",
       "</div>"
      ],
      "text/plain": [
       "                                     Qualification           Experience Rating                        Place           Profile                                 Miscellaneous_Info\n",
       "0                                             MBBS  35 years experience    NaN       Ghatkopar East, Mumbai  General Medicine                                                NaN\n",
       "1       MBBS, Diploma in Otorhinolaryngology (DLO)  31 years experience    NaN  West Marredpally, Hyderabad    ENT Specialist                                                NaN\n",
       "2                                       MBBS, DDVL  40 years experience    70%            KK Nagar, Chennai    Dermatologists                   70% 4 Feedback KK Nagar, Chennai\n",
       "3                                             BAMS   0 years experience    NaN       New Ashok Nagar, Delhi          Ayurveda                                                NaN\n",
       "4  BDS, MDS - Conservative Dentistry & Endodontics  16 years experience   100%    Kanakpura Road, Bangalore           Dentist  General Dentistry Conservative Dentistry Cosme..."
      ]
     },
     "execution_count": 9,
     "metadata": {},
     "output_type": "execute_result"
    }
   ],
   "source": [
    "test.head()"
   ]
  },
  {
   "cell_type": "code",
   "execution_count": 10,
   "metadata": {},
   "outputs": [],
   "source": [
    "# take years out of exp\n",
    "# Extract city from place\n",
    "# Miscellaneous_Info has sentences"
   ]
  },
  {
   "cell_type": "code",
   "execution_count": 11,
   "metadata": {},
   "outputs": [
    {
     "data": {
      "text/plain": [
       "Qualification         object\n",
       "Experience            object\n",
       "Rating                object\n",
       "Place                 object\n",
       "Profile               object\n",
       "Miscellaneous_Info    object\n",
       "Fees                   int64\n",
       "dtype: object"
      ]
     },
     "execution_count": 11,
     "metadata": {},
     "output_type": "execute_result"
    }
   ],
   "source": [
    "train.dtypes"
   ]
  },
  {
   "cell_type": "code",
   "execution_count": 12,
   "metadata": {},
   "outputs": [],
   "source": [
    "# all are object"
   ]
  },
  {
   "cell_type": "code",
   "execution_count": 13,
   "metadata": {},
   "outputs": [],
   "source": [
    "# lets count the values"
   ]
  },
  {
   "cell_type": "markdown",
   "metadata": {},
   "source": [
    "# EDA"
   ]
  },
  {
   "cell_type": "markdown",
   "metadata": {},
   "source": [
    "# Univariate"
   ]
  },
  {
   "cell_type": "code",
   "execution_count": 14,
   "metadata": {},
   "outputs": [
    {
     "data": {
      "text/plain": [
       "Index(['Qualification', 'Experience', 'Rating', 'Place', 'Profile', 'Miscellaneous_Info', 'Fees'], dtype='object')"
      ]
     },
     "execution_count": 14,
     "metadata": {},
     "output_type": "execute_result"
    }
   ],
   "source": [
    "train.columns"
   ]
  },
  {
   "cell_type": "code",
   "execution_count": 16,
   "metadata": {},
   "outputs": [
    {
     "data": {
      "text/plain": [
       "1420"
      ]
     },
     "execution_count": 16,
     "metadata": {},
     "output_type": "execute_result"
    }
   ],
   "source": [
    "train['Qualification'].nunique()"
   ]
  },
  {
   "cell_type": "code",
   "execution_count": 17,
   "metadata": {},
   "outputs": [],
   "source": [
    "# there are a lot of unique values in qualification"
   ]
  },
  {
   "cell_type": "code",
   "execution_count": 18,
   "metadata": {},
   "outputs": [
    {
     "data": {
      "text/plain": [
       "64"
      ]
     },
     "execution_count": 18,
     "metadata": {},
     "output_type": "execute_result"
    }
   ],
   "source": [
    "train['Experience'].nunique()"
   ]
  },
  {
   "cell_type": "code",
   "execution_count": 19,
   "metadata": {},
   "outputs": [
    {
     "data": {
      "text/plain": [
       "51"
      ]
     },
     "execution_count": 19,
     "metadata": {},
     "output_type": "execute_result"
    }
   ],
   "source": [
    "train['Rating'].nunique()"
   ]
  },
  {
   "cell_type": "code",
   "execution_count": 20,
   "metadata": {},
   "outputs": [
    {
     "data": {
      "text/plain": [
       "877"
      ]
     },
     "execution_count": 20,
     "metadata": {},
     "output_type": "execute_result"
    }
   ],
   "source": [
    "train['Place'].nunique()"
   ]
  },
  {
   "cell_type": "code",
   "execution_count": 21,
   "metadata": {},
   "outputs": [
    {
     "data": {
      "text/plain": [
       "6"
      ]
     },
     "execution_count": 21,
     "metadata": {},
     "output_type": "execute_result"
    }
   ],
   "source": [
    "train['Profile'].nunique()"
   ]
  },
  {
   "cell_type": "code",
   "execution_count": 22,
   "metadata": {},
   "outputs": [
    {
     "data": {
      "text/plain": [
       "2998"
      ]
     },
     "execution_count": 22,
     "metadata": {},
     "output_type": "execute_result"
    }
   ],
   "source": [
    "train['Miscellaneous_Info'].nunique()"
   ]
  },
  {
   "cell_type": "code",
   "execution_count": 25,
   "metadata": {},
   "outputs": [],
   "source": [
    "# Easy Approach\n",
    "# drop rating\n",
    "# drop miscellaneous_info\n",
    "# drop qualification\n",
    "# take years out of exp\n",
    "# Extract city from place\n",
    "# too less number of columns left"
   ]
  },
  {
   "cell_type": "code",
   "execution_count": 24,
   "metadata": {},
   "outputs": [],
   "source": [
    "# 2nd Approach\n",
    "# extraction from qualification\n",
    "# imputation in rating\n",
    "# drop miscellaneous\n",
    "# take years out of exp\n",
    "# Extract city from place"
   ]
  },
  {
   "cell_type": "code",
   "execution_count": 26,
   "metadata": {},
   "outputs": [],
   "source": [
    "# evaluate individual columns"
   ]
  },
  {
   "cell_type": "code",
   "execution_count": 27,
   "metadata": {},
   "outputs": [
    {
     "data": {
      "text/plain": [
       "Index(['Qualification', 'Experience', 'Rating', 'Place', 'Profile', 'Miscellaneous_Info', 'Fees'], dtype='object')"
      ]
     },
     "execution_count": 27,
     "metadata": {},
     "output_type": "execute_result"
    }
   ],
   "source": [
    "train.columns"
   ]
  },
  {
   "cell_type": "code",
   "execution_count": 29,
   "metadata": {
    "scrolled": true
   },
   "outputs": [
    {
     "data": {
      "text/plain": [
       "0                                 BHMS, MD - Homeopathy\n",
       "1                          BAMS, MD - Ayurveda Medicine\n",
       "2                        MBBS, MS - Otorhinolaryngology\n",
       "3                                   BSc - Zoology, BAMS\n",
       "4                                                  BAMS\n",
       "5                                                  BAMS\n",
       "6                                                  BHMS\n",
       "7                                                   BDS\n",
       "8                           MBBS, MD - General Medicine\n",
       "9                                              BSc, BDS\n",
       "10                                  MBBS, MS, DNB - ENT\n",
       "11                                                 BAMS\n",
       "12                                             BDS, MDS\n",
       "13              BDS, MDS - Oral & Maxillofacial Surgery\n",
       "14    MBBS, Diploma in Otorhinolaryngology (DLO), DN...\n",
       "15                          MBBS, MD - General Medicine\n",
       "16           MBBS, Diploma in Otorhinolaryngology (DLO)\n",
       "17                                 MBBS, MF- Homeopathy\n",
       "18                                       MBBS, MS - ENT\n",
       "19                                                 MBBS\n",
       "20                                        MDS, DNB, BDS\n",
       "21                                      MBBS, DNB - ENT\n",
       "22                                                 MBBS\n",
       "23    MBBS, Fellowship of College of General Practic...\n",
       "24                                           MBBS, DDVL\n",
       "25                                                  BDS\n",
       "26                                    MBBS, IBCLC (USA)\n",
       "27    MBBS, MD - General Medicine, Post Graduate Dip...\n",
       "28                                             BDS, MDS\n",
       "29                         Diploma in Dermatology, MBBS\n",
       "30         MBBS, DDVL, Fellowship in Aesthetic Medicine\n",
       "31                                                  BDS\n",
       "32                                       MBBS, MS - ENT\n",
       "33                DM - Neurology, MD - Pediatrics, MBBS\n",
       "34                                                 BAMS\n",
       "35    BDS, MDS - Oral & Maxillofacial Surgery, Fello...\n",
       "36                                                  BDS\n",
       "37                         BHMS, Diploma in Cosmetology\n",
       "38                            MBBS, MS - ENT, DNB - ENT\n",
       "39                                           MBBS, AFIH\n",
       "40           BDS, MDS - Prosthodontist And Crown Bridge\n",
       "41              BHMS, M. D. Hom. (Practice of Medicine)\n",
       "42    BAMS, Diploma in Emergency Medicine, Diploma i...\n",
       "43                                                 BAMS\n",
       "44    MD - Homeopathy, DHMS (Diploma in Homeopathic ...\n",
       "45       MBBS, MD - Dermatology , Venereology & Leprosy\n",
       "46          BDS, MDS - Oral and Maxillofacial Pathology\n",
       "47                                                 MBBS\n",
       "48                                           MBBS, DDVL\n",
       "49    BDS, MDS - Oral & Maxillofacial Surgery, MFDS RCS\n",
       "50                                                 MBBS\n",
       "51                                                 BAMS\n",
       "52                                           MBBS, DDVL\n",
       "53                                                  BDS\n",
       "54                                                 BAMS\n",
       "55                            MBBS, MS - ENT, MRCS (UK)\n",
       "56                                                  BDS\n",
       "57    MBBS, MD - Dermatology , Venereology & Leprosy...\n",
       "58    MBBS, Member of the Royal College of Physician...\n",
       "59                          MBBS, MD - General Medicine\n",
       "60       MBBS, MD - Dermatology , Venereology & Leprosy\n",
       "61                                             BDS, MDS\n",
       "62           MDS - Prosthodontist And Crown Bridge, BDS\n",
       "63                                                 BHMS\n",
       "64                                                 BHMS\n",
       "65                                BHMS, MS - Psychology\n",
       "66              MDS - Oral & Maxillofacial Surgery, BDS\n",
       "67    MBBS, DDVL, MD - Dermatology , Venereology & L...\n",
       "68                     BHMS, Diploma In Skin Aesthetics\n",
       "69                                       MBBS, MS - ENT\n",
       "70    MDS - Periodontology and Oral Implantology, Ce...\n",
       "71                       MBBS, MS - Otorhinolaryngology\n",
       "72                                                 BHMS\n",
       "73                                                 MBBS\n",
       "74                               MBBS, MD - Dermatology\n",
       "75                              MBBS, MD - Rheumatology\n",
       "76           BDS, MDS - Prosthodontist And Crown Bridge\n",
       "77     BDS, MDS - Paedodontics And Preventive Dentistry\n",
       "78                               MD - Dermatology, MBBS\n",
       "79        MDS-Oral Pathology and Oral Microbiology, BDS\n",
       "80    MBBS, MD - General Medicine, FRCP, Doctor of S...\n",
       "81                                                  BDS\n",
       "82                                                 BAMS\n",
       "83                                            MBBS, DDV\n",
       "84      BDS, MDS - Conservative Dentistry & Endodontics\n",
       "85                          MBBS, MD - General Medicine\n",
       "86    BDS, MDS - Conservative Dentistry & Endodontic...\n",
       "87       MBBS, MD - Dermatology , Venereology & Leprosy\n",
       "88             MD - Dermatology , Venereology & Leprosy\n",
       "89                                                 MBBS\n",
       "90    BAMS, Post Graduate Diploma in Emergency Servi...\n",
       "91    Get inspired by remarkable stories of people l...\n",
       "92    BAMS, MD - Acupuncture, Master of Hospital Adm...\n",
       "93      BDS, MDS - Periodontology and Oral Implantology\n",
       "94    BDS, MDS - Conservative Dentistry & Endodontic...\n",
       "95                                                 BHMS\n",
       "96       MD - Dermatology , Venereology & Leprosy, MBBS\n",
       "97                                           MBBS, DDVL\n",
       "98                                                 BAMS\n",
       "99                              BDS, MDS - Periodontics\n",
       "Name: Qualification, dtype: object"
      ]
     },
     "execution_count": 29,
     "metadata": {},
     "output_type": "execute_result"
    }
   ],
   "source": [
    "train['Qualification'].head(100)"
   ]
  },
  {
   "cell_type": "code",
   "execution_count": 30,
   "metadata": {},
   "outputs": [],
   "source": [
    "# we can create a columns edu_level based on the number of degrees\n",
    "# then drop Qualification"
   ]
  },
  {
   "cell_type": "code",
   "execution_count": 31,
   "metadata": {
    "scrolled": true
   },
   "outputs": [
    {
     "data": {
      "text/plain": [
       "0     24 years experience\n",
       "1     12 years experience\n",
       "2      9 years experience\n",
       "3     12 years experience\n",
       "4     20 years experience\n",
       "5      8 years experience\n",
       "6     42 years experience\n",
       "7     10 years experience\n",
       "8     14 years experience\n",
       "9     23 years experience\n",
       "10     5 years experience\n",
       "11     7 years experience\n",
       "12     9 years experience\n",
       "13    21 years experience\n",
       "14    12 years experience\n",
       "15    10 years experience\n",
       "16    24 years experience\n",
       "17     5 years experience\n",
       "18    19 years experience\n",
       "19    19 years experience\n",
       "20    21 years experience\n",
       "21    14 years experience\n",
       "22    41 years experience\n",
       "23    31 years experience\n",
       "24    23 years experience\n",
       "25     5 years experience\n",
       "26    25 years experience\n",
       "27    12 years experience\n",
       "28    16 years experience\n",
       "29    15 years experience\n",
       "30     7 years experience\n",
       "31    11 years experience\n",
       "32    14 years experience\n",
       "33    23 years experience\n",
       "34     9 years experience\n",
       "35    15 years experience\n",
       "36    10 years experience\n",
       "37    12 years experience\n",
       "38    31 years experience\n",
       "39    16 years experience\n",
       "40     8 years experience\n",
       "41    12 years experience\n",
       "42    31 years experience\n",
       "43     8 years experience\n",
       "44    22 years experience\n",
       "45     7 years experience\n",
       "46    16 years experience\n",
       "47    31 years experience\n",
       "48     8 years experience\n",
       "49    10 years experience\n",
       "50    42 years experience\n",
       "51     9 years experience\n",
       "52    22 years experience\n",
       "53    10 years experience\n",
       "54     9 years experience\n",
       "55    25 years experience\n",
       "56    14 years experience\n",
       "57    11 years experience\n",
       "58    24 years experience\n",
       "59    38 years experience\n",
       "60     8 years experience\n",
       "61    12 years experience\n",
       "62    14 years experience\n",
       "63     5 years experience\n",
       "64    22 years experience\n",
       "65    14 years experience\n",
       "66     6 years experience\n",
       "67    36 years experience\n",
       "68     6 years experience\n",
       "69    13 years experience\n",
       "70    13 years experience\n",
       "71    11 years experience\n",
       "72    18 years experience\n",
       "73    46 years experience\n",
       "74    41 years experience\n",
       "75    40 years experience\n",
       "76     7 years experience\n",
       "77    13 years experience\n",
       "78    12 years experience\n",
       "79    10 years experience\n",
       "80    49 years experience\n",
       "81     9 years experience\n",
       "82    20 years experience\n",
       "83    11 years experience\n",
       "84    10 years experience\n",
       "85    16 years experience\n",
       "86    24 years experience\n",
       "87    33 years experience\n",
       "88    10 years experience\n",
       "89    36 years experience\n",
       "90     8 years experience\n",
       "91     0 years experience\n",
       "92    15 years experience\n",
       "93     7 years experience\n",
       "94    12 years experience\n",
       "95    12 years experience\n",
       "96    13 years experience\n",
       "97    24 years experience\n",
       "98    27 years experience\n",
       "99    12 years experience\n",
       "Name: Experience, dtype: object"
      ]
     },
     "execution_count": 31,
     "metadata": {},
     "output_type": "execute_result"
    }
   ],
   "source": [
    "train['Experience'].head(100)"
   ]
  },
  {
   "cell_type": "code",
   "execution_count": 32,
   "metadata": {},
   "outputs": [],
   "source": [
    "# extract the number"
   ]
  },
  {
   "cell_type": "code",
   "execution_count": 33,
   "metadata": {
    "scrolled": true
   },
   "outputs": [
    {
     "data": {
      "text/plain": [
       "100%    684\n",
       "98%     290\n",
       "99%     259\n",
       "97%     241\n",
       "96%     220\n",
       "95%     178\n",
       "94%     115\n",
       "93%     109\n",
       "92%      66\n",
       "90%      66\n",
       "91%      60\n",
       "89%      42\n",
       "88%      41\n",
       "85%      27\n",
       "82%      23\n",
       "86%      21\n",
       "83%      21\n",
       "80%      19\n",
       "77%      16\n",
       "87%      14\n",
       "79%      13\n",
       "84%      13\n",
       "67%      12\n",
       "81%      12\n",
       "71%       9\n",
       "76%       9\n",
       "73%       8\n",
       "75%       8\n",
       "74%       7\n",
       "60%       7\n",
       "78%       6\n",
       "56%       5\n",
       "68%       5\n",
       "69%       4\n",
       "70%       4\n",
       "72%       3\n",
       "57%       3\n",
       "55%       2\n",
       "33%       2\n",
       "62%       2\n",
       "63%       2\n",
       "64%       2\n",
       "58%       1\n",
       "40%       1\n",
       "53%       1\n",
       "47%       1\n",
       "48%       1\n",
       "65%       1\n",
       "36%       1\n",
       "45%       1\n",
       "7%        1\n",
       "Name: Rating, dtype: int64"
      ]
     },
     "execution_count": 33,
     "metadata": {},
     "output_type": "execute_result"
    }
   ],
   "source": [
    "train['Rating'].value_counts()"
   ]
  },
  {
   "cell_type": "code",
   "execution_count": 36,
   "metadata": {},
   "outputs": [],
   "source": [
    "# convert it into number,\n",
    "# fill missing values with 0 and\n",
    "# impute missing values with median"
   ]
  },
  {
   "cell_type": "code",
   "execution_count": 37,
   "metadata": {},
   "outputs": [
    {
     "data": {
      "text/plain": [
       "0                         Kakkanad, Ernakulam\n",
       "1                       Whitefield, Bangalore\n",
       "2                  Mathikere - BEL, Bangalore\n",
       "3                Bannerghatta Road, Bangalore\n",
       "4                       Keelkattalai, Chennai\n",
       "5                              Porur, Chennai\n",
       "6                           Karol Bagh, Delhi\n",
       "7                          Arekere, Bangalore\n",
       "8                         Old City, Hyderabad\n",
       "9                           Athani, Ernakulam\n",
       "10                   Thousand Lights, Chennai\n",
       "11                      Somajiguda, Hyderabad\n",
       "12          Coimbatore Racecourse, Coimbatore\n",
       "13                   Jubilee Hills, Hyderabad\n",
       "14                              Kondli, Delhi\n",
       "15                    Saroor Nagar, Hyderabad\n",
       "16                     Tambaram West, Chennai\n",
       "17                      Purasawakkam, Chennai\n",
       "18                            KPHB, Hyderabad\n",
       "19                      HSR Layout, Bangalore\n",
       "20                       Pollachi, Coimbatore\n",
       "21                   Vasundhra Enclave, Delhi\n",
       "22                            Chembur, Mumbai\n",
       "23                       Thammanam, Ernakulam\n",
       "24                            Andheri, Mumbai\n",
       "25                 Pattom, Thiruvananthapuram\n",
       "26                      HSR Layout, Bangalore\n",
       "27                      Kukatpally, Hyderabad\n",
       "28                      Vadavalli, Coimbatore\n",
       "29                      Defence Colony, Delhi\n",
       "30                   Banjara Hills, Hyderabad\n",
       "31                          Sion West, Mumbai\n",
       "32                             CR Park, Delhi\n",
       "33                    Mogappair East, Chennai\n",
       "34                        IP Extension, Delhi\n",
       "35                  Safdarjung Enclave, Delhi\n",
       "36                  New Friends Colony, Delhi\n",
       "37                      Borivali West, Mumbai\n",
       "38                               Saket, Delhi\n",
       "39                              Malad, Mumbai\n",
       "40                     Hyder Nagar, Hyderabad\n",
       "41                       Dahisar West, Mumbai\n",
       "42                        RT Nagar, Bangalore\n",
       "43                    Saroor Nagar, Hyderabad\n",
       "44                              Powai, Mumbai\n",
       "45                     Basheerbagh, Hyderabad\n",
       "46                     Musheerabad, Hyderabad\n",
       "47                    AS Rao Nagar, Hyderabad\n",
       "48                        Madhapur, Hyderabad\n",
       "49          Coimbatore Racecourse, Coimbatore\n",
       "50                     Gandhinagar, Hyderabad\n",
       "51                           Chetpet, Chennai\n",
       "52                        Madhapur, Hyderabad\n",
       "53                     Vileparle East, Mumbai\n",
       "54                            KPHB, Hyderabad\n",
       "55                      Whitefield, Bangalore\n",
       "56              Yelahanka New Town, Bangalore\n",
       "57               Bannerghatta Road, Bangalore\n",
       "58                       Kodambakkam, Chennai\n",
       "59                     Malleswaram, Bangalore\n",
       "60                      Pallikaranai, Chennai\n",
       "61                      Nallakunta, Hyderabad\n",
       "62                       Paschim Vihar, Delhi\n",
       "63                          Meera Bagh, Delhi\n",
       "64                          Chattarpur, Delhi\n",
       "65                      HSR Layout, Bangalore\n",
       "66                       Andheri West, Mumbai\n",
       "67                   Himayat Nagar, Hyderabad\n",
       "68                        Adambakkam, Chennai\n",
       "69                        Punjabi Bagh, Delhi\n",
       "70                               Saket, Delhi\n",
       "71                       Paschim Vihar, Delhi\n",
       "72                          Mahalaxmi, Mumbai\n",
       "73                             Kalina, Mumbai\n",
       "74                         Attapur, Hyderabad\n",
       "75                      Lakdikapul, Hyderabad\n",
       "76                          Ambattur, Chennai\n",
       "77                       Ramnagar, Coimbatore\n",
       "78                       Shalimar Bagh, Delhi\n",
       "79                    AS Rao Nagar, Hyderabad\n",
       "80                      Nungambakkam, Chennai\n",
       "81                         Miyapur, Hyderabad\n",
       "82                            Sagarpur, Delhi\n",
       "83                            Girgaon, Mumbai\n",
       "84                       Jayanagar, Bangalore\n",
       "85                Palayam, Thiruvananthapuram\n",
       "86                             Munirka, Delhi\n",
       "87                          Tuglakabad, Delhi\n",
       "88                             Porur, Chennai\n",
       "89                    Moosarambagh, Hyderabad\n",
       "90                       Dahisar West, Mumbai\n",
       "91                                        NaN\n",
       "92                   Anna Nagar East, Chennai\n",
       "93                       Andheri West, Mumbai\n",
       "94                        Bandra West, Mumbai\n",
       "95                  Kanakpura Road, Bangalore\n",
       "96                          Green Park, Delhi\n",
       "97                       Maduravoyal, Chennai\n",
       "98                       Dahisar East, Mumbai\n",
       "99                        Moosapet, Hyderabad\n",
       "100             Yelahanka New Town, Bangalore\n",
       "101                    Koramangala, Bangalore\n",
       "102    TV Medical College, Thiruvananthapuram\n",
       "103                   Mogappair East, Chennai\n",
       "104                    Kadavanthra, Ernakulam\n",
       "105                      Greams Road, Chennai\n",
       "106                   Bommanahalli, Bangalore\n",
       "107                          T Nagar, Chennai\n",
       "108                      Yelahanka, Bangalore\n",
       "109                  Hazrat Nizamuddin, Delhi\n",
       "110                 Old Rajendra Nagar, Delhi\n",
       "111                        Dadar West, Mumbai\n",
       "112                    Indiranagar, Bangalore\n",
       "113                      Perumbakkam, Chennai\n",
       "114                        Arekere, Bangalore\n",
       "115                       Shaikpet, Hyderabad\n",
       "116                        Vyttila, Ernakulam\n",
       "117                         Khar West, Mumbai\n",
       "118                    Kadavanthra, Ernakulam\n",
       "119                     Goregaon West, Mumbai\n",
       "120                         Bakkarwala, Delhi\n",
       "121                       Nesapakkam, Chennai\n",
       "122                    Malleswaram, Bangalore\n",
       "123           BTM Layout 2nd Stage, Bangalore\n",
       "124                      Ashok Nagar, Chennai\n",
       "125                        Chandivali, Mumbai\n",
       "126                        Uttam Nagar, Delhi\n",
       "127                    Gujranwala Town, Delhi\n",
       "128             Greater Kailash Part 1, Delhi\n",
       "129                      Kodambakkam, Chennai\n",
       "130                     Defence Colony, Delhi\n",
       "131                    Panchsheel Park, Delhi\n",
       "132                     Thoraipakkam, Chennai\n",
       "133                  South Extension 2, Delhi\n",
       "134                    Kandivali East, Mumbai\n",
       "135                      Andheri West, Mumbai\n",
       "136                    Malleswaram, Bangalore\n",
       "137                    Indiranagar, Bangalore\n",
       "138                           KPHB, Hyderabad\n",
       "139                     Borivali West, Mumbai\n",
       "140                     Pallikaranai, Chennai\n",
       "141                  Jubilee Hills, Hyderabad\n",
       "142                          Pitampura, Delhi\n",
       "143         Banashankari 3rd Stage, Bangalore\n",
       "144                     Kolenchery, Ernakulam\n",
       "145             Kumaraswamy Layout, Bangalore\n",
       "146                       Vadapalani, Chennai\n",
       "147                      Manikonda, Hyderabad\n",
       "148                   Gandhipuram, Coimbatore\n",
       "149                   Yeshwanthpur, Bangalore\n",
       "150                       Ayanavaram, Chennai\n",
       "151                        Vyttila, Ernakulam\n",
       "152              Basaveshwaranagar, Bangalore\n",
       "153                        Malad West, Mumbai\n",
       "154                         Vikas Puri, Delhi\n",
       "155                          T Nagar, Chennai\n",
       "156                     HSR Layout, Bangalore\n",
       "157                       Kondapur, Hyderabad\n",
       "158                      Andheri East, Mumbai\n",
       "159                         Sulur, Coimbatore\n",
       "160                            Adyar, Chennai\n",
       "161                    Indiranagar, Bangalore\n",
       "162                      Krishna Nagar, Delhi\n",
       "163                   Langer House, Hyderabad\n",
       "164                    Thiruvanmiyur, Chennai\n",
       "165                    Malleswaram, Bangalore\n",
       "166                             Dwarka, Delhi\n",
       "167                             Powai, Mumbai\n",
       "168                      Bhandup West, Mumbai\n",
       "169                         Janak Puri, Delhi\n",
       "170                    Rajajinagar, Bangalore\n",
       "171                  South Extension 1, Delhi\n",
       "172                     Borivali West, Mumbai\n",
       "173                      Kemps Corner, Mumbai\n",
       "174                     Peelamedu, Coimbatore\n",
       "175                    Kandivali West, Mumbai\n",
       "176                        Thevara, Ernakulam\n",
       "177                  Wilson Garden, Bangalore\n",
       "178                       RT Nagar, Bangalore\n",
       "179                            Wadala, Mumbai\n",
       "180                         Pahar Ganj, Delhi\n",
       "181                   Chanchalguda, Hyderabad\n",
       "182                   Chikkadpally, Hyderabad\n",
       "183                 Old Rajendra Nagar, Delhi\n",
       "184                      Andheri East, Mumbai\n",
       "185                Pasur-avanashi, Coimbatore\n",
       "186                    Kandivali West, Mumbai\n",
       "187                     Nagarbhavi, Bangalore\n",
       "188                 Old Rajendra Nagar, Delhi\n",
       "189                       Lajpat Nagar, Delhi\n",
       "190                   Mayur Vihar Ph-I, Delhi\n",
       "191                      Manikonda, Hyderabad\n",
       "192                    Indiranagar, Bangalore\n",
       "193                       Kondapur, Hyderabad\n",
       "194                     Dilshad Garden, Delhi\n",
       "195                         Janak Puri, Delhi\n",
       "196                            Porur, Chennai\n",
       "197                     Pallikaranai, Chennai\n",
       "198                     Whitefield, Bangalore\n",
       "199                    Vijayanagar, Bangalore\n",
       "Name: Place, dtype: object"
      ]
     },
     "execution_count": 37,
     "metadata": {},
     "output_type": "execute_result"
    }
   ],
   "source": [
    "train['Place'].head(200)"
   ]
  },
  {
   "cell_type": "code",
   "execution_count": 38,
   "metadata": {},
   "outputs": [],
   "source": [
    "# Extract area and city out of it"
   ]
  },
  {
   "cell_type": "code",
   "execution_count": 39,
   "metadata": {},
   "outputs": [
    {
     "data": {
      "text/plain": [
       "0                   100% 16 Feedback Kakkanad, Ernakulam\n",
       "1                  98% 76 Feedback Whitefield, Bangalore\n",
       "2                                                    NaN\n",
       "3      Bannerghatta Road, Bangalore ₹250 Available on...\n",
       "4                  100% 4 Feedback Keelkattalai, Chennai\n",
       "5                                                    NaN\n",
       "6                                                    NaN\n",
       "7      Dental Fillings Crowns and Bridges Fixing Impa...\n",
       "8                                                    NaN\n",
       "9                                                    NaN\n",
       "10                                                   NaN\n",
       "11                                                   NaN\n",
       "12     98% 14 Feedback Coimbatore Racecourse, Coimbatore\n",
       "13         Dental Crowns Facet Dental Dental prophylaxis\n",
       "14                                                   NaN\n",
       "15                                                   NaN\n",
       "16                                                   NaN\n",
       "17                                                   NaN\n",
       "18                        79% 8 Feedback KPHB, Hyderabad\n",
       "19                 100% 4 Feedback HSR Layout, Bangalore\n",
       "20                  100% 7 Feedback Pollachi, Coimbatore\n",
       "21     Adenoid / Tonsil Surgery Rhinoplasty Laryngoscopy\n",
       "22                                                   NaN\n",
       "23                                                   NaN\n",
       "24                                                   NaN\n",
       "25                                                   NaN\n",
       "26                100% 46 Feedback HSR Layout, Bangalore\n",
       "27                  95% 6 Feedback Kukatpally, Hyderabad\n",
       "28                                                   NaN\n",
       "29                 97% 60 Feedback Defence Colony, Delhi\n",
       "30              97% 18 Feedback Banjara Hills, Hyderabad\n",
       "31                      Dentistry Sion West, Mumbai ₹500\n",
       "32     Functional Endoscopic Sinus Surgery - FESS Sku...\n",
       "33                88% 2 Feedback Mogappair East, Chennai\n",
       "34                                                   NaN\n",
       "35     Tooth Extraction Impaction / Impacted Tooth Ex...\n",
       "36     Dental Fillings RCT - Root Canal Treatment Gen...\n",
       "37                  90% 2 Feedback Borivali West, Mumbai\n",
       "38                           80% 3 Feedback Saket, Delhi\n",
       "39      Dermabrasion Wrinkle Treatment Microdermabrasion\n",
       "40     Complete/Partial Dentures Fixing Acrylic Parti...\n",
       "41                 100% 21 Feedback Dahisar West, Mumbai\n",
       "42                   100% 7 Feedback RT Nagar, Bangalore\n",
       "43                                                   NaN\n",
       "44     Skin Disease Treatment Endocrine and metabolic...\n",
       "45                                                   NaN\n",
       "46     Dental Fillings Tooth Extraction Periodontal F...\n",
       "47                                                   NaN\n",
       "48                   93% 42 Feedback Madhapur, Hyderabad\n",
       "49                                                   NaN\n",
       "50                                                   NaN\n",
       "51                                                   NaN\n",
       "52                                                   NaN\n",
       "53     Ceramic Veneers / Crowns Tooth Extraction Dent...\n",
       "54     Arthritis Management Infertility Evaluation / ...\n",
       "55                  36% 7 Feedback Whitefield, Bangalore\n",
       "56     Teeth - Jewellery Teeth Reshaping Teeth Whitening\n",
       "57          97% 65 Feedback Bannerghatta Road, Bangalore\n",
       "58                  3 Feedback Kodambakkam, Chennai ₹500\n",
       "59                99% 54 Feedback Malleswaram, Bangalore\n",
       "60                 1 Feedback Pallikaranai, Chennai ₹500\n",
       "61     Crowns and Bridges Fixing Artificial Teeth BPS...\n",
       "62     Tooth Extraction Dental Fillings Scaling / Pol...\n",
       "63                                                   NaN\n",
       "64                                                   NaN\n",
       "65                100% 43 Feedback HSR Layout, Bangalore\n",
       "66     Oral Surgery Procedures Oral & Maxillofacial S...\n",
       "67              78% 24 Feedback Himayat Nagar, Hyderabad\n",
       "68                                                   NaN\n",
       "69                   99% 44 Feedback Punjabi Bagh, Delhi\n",
       "70     Cosmetic/ Aesthetic Dentistry Smile Design Cro...\n",
       "71                                                   NaN\n",
       "72                                                   NaN\n",
       "73                                                   NaN\n",
       "74                     87% 3 Feedback Attapur, Hyderabad\n",
       "75                  93% 9 Feedback Lakdikapul, Hyderabad\n",
       "76     Ceramic Veneers / Crowns Dental Fillings Tooth...\n",
       "77          Laser Dentistry Teeth Whitening Smile Design\n",
       "78                  97% 47 Feedback Shalimar Bagh, Delhi\n",
       "79     Dental Checkup (General) Crowns and Bridges Fi...\n",
       "80     Viral Fever Treatment Allergy Treatment Filari...\n",
       "81     Orthodontics General Dentistry RCT - Single Si...\n",
       "82                                                   NaN\n",
       "83                       99% 43 Feedback Girgaon, Mumbai\n",
       "84     Crowns and Bridges Fixing Impaction / Impacted...\n",
       "85                                                   NaN\n",
       "86     Crowns and Bridges Fixing Complete/Partial Den...\n",
       "87                                                   NaN\n",
       "88                         94% 7 Feedback Porur, Chennai\n",
       "89                                                   NaN\n",
       "90                                                   NaN\n",
       "91                                                   NaN\n",
       "92                                                   NaN\n",
       "93     Dental Implant Fixing Flap Surgery Gum Disease...\n",
       "94     Impaction / Impacted Tooth Extraction Conserva...\n",
       "95      Pediaterics Skin Disorder Kidney Stone Treatment\n",
       "96     General dermatology Botox Injections Skin Boos...\n",
       "97                                                   NaN\n",
       "98                                                   NaN\n",
       "99     Flap Surgery Dental Implant Fixing Periodontal...\n",
       "100                                                  NaN\n",
       "101    Cosmetic/ Aesthetic Dentistry Dental Implant F...\n",
       "102    99% 33 Feedback TV Medical College, Thiruvanan...\n",
       "103             100% 51 Feedback Mogappair East, Chennai\n",
       "104               98% 18 Feedback Kadavanthra, Ernakulam\n",
       "105                                                  NaN\n",
       "106              90% 23 Feedback Bommanahalli, Bangalore\n",
       "107    Ceramic Veneers / Crowns Tooth Extraction Oral...\n",
       "108                 100% 3 Feedback Yelahanka, Bangalore\n",
       "109        Hazrat Nizamuddin, Delhi ₹250 Available Today\n",
       "110                                                  NaN\n",
       "111                   96% 30 Feedback Dadar West, Mumbai\n",
       "112               90% 13 Feedback Indiranagar, Bangalore\n",
       "113    Artificial Teeth Impaction / Impacted Tooth Ex...\n",
       "114                                                  NaN\n",
       "115    Piles Treatment (Non Surgical) Skin Allergies ...\n",
       "116                                                  NaN\n",
       "117                    95% 84 Feedback Khar West, Mumbai\n",
       "118                                                  NaN\n",
       "119                                                  NaN\n",
       "120                                                  NaN\n",
       "121                                                  NaN\n",
       "122    Skin Allergy Treatment Skin Tag Treatment Dark...\n",
       "123      82% 15 Feedback BTM Layout 2nd Stage, Bangalore\n",
       "124                                                  NaN\n",
       "125                   95% 18 Feedback Chandivali, Mumbai\n",
       "126                                                  NaN\n",
       "127    Dental Implant RCT - Root Canal Treatment Lase...\n",
       "128    Diabetes Management Health Checkup (General) V...\n",
       "129                                                  NaN\n",
       "130                90% 55 Feedback Defence Colony, Delhi\n",
       "131       Panchsheel Park, Delhi ₹800 Available Tomorrow\n",
       "132    Acrylic Partial Denture Crowns and Bridges Fix...\n",
       "133             100% 9 Feedback South Extension 2, Delhi\n",
       "134                                                  NaN\n",
       "135                                                  NaN\n",
       "136                                                  NaN\n",
       "137              89% 112 Feedback Indiranagar, Bangalore\n",
       "138    Chronic Pain Treatment Plantar Fascitis Irrita...\n",
       "139                100% 2 Feedback Borivali West, Mumbai\n",
       "140    Functional Endoscopic Sinus Surgery - FESS Sku...\n",
       "141             96% 20 Feedback Jubilee Hills, Hyderabad\n",
       "142                     86% 15 Feedback Pitampura, Delhi\n",
       "143    100% 1 Feedback Banashankari 3rd Stage, Bangalore\n",
       "144                                                  NaN\n",
       "145        100% 9 Feedback Kumaraswamy Layout, Bangalore\n",
       "146            Dermabrasion Chemical Peel Scar Treatment\n",
       "147                                                  NaN\n",
       "148                                                  NaN\n",
       "149    Cosmetic/ Aesthetic Dentistry Dental Implant F...\n",
       "150    Skin Disease Treatment Kidney Stone Treatment ...\n",
       "151                   100% 5 Feedback Vyttila, Ernakulam\n",
       "152        100% 17 Feedback Basaveshwaranagar, Bangalore\n",
       "153                                                  NaN\n",
       "154                                                  NaN\n",
       "155                     100% 4 Feedback T Nagar, Chennai\n",
       "156    Reconstructive Middle Ear Surgery Congenital E...\n",
       "157                                                  NaN\n",
       "158    Crowns and Bridges Fixing Cosmetic/ Aesthetic ...\n",
       "159                    100% 3 Feedback Sulur, Coimbatore\n",
       "160                        95% 5 Feedback Adyar, Chennai\n",
       "161    Cosmetic/ Aesthetic Dentistry Complete/Partial...\n",
       "162                                                  NaN\n",
       "163    Acrylic Partial Denture Crowns and Bridges Fix...\n",
       "164                80% 3 Feedback Thiruvanmiyur, Chennai\n",
       "165                                                  NaN\n",
       "166    Wisdom Tooth Extraction Oral & Maxillofacial S...\n",
       "167             Teeth Whitening 1 Feedback Powai, Mumbai\n",
       "168                                                  NaN\n",
       "169                    95% 67 Feedback Janak Puri, Delhi\n",
       "170                83% 3 Feedback Rajajinagar, Bangalore\n",
       "171            100% 48 Feedback South Extension 1, Delhi\n",
       "172                                                  NaN\n",
       "173                 96% 15 Feedback Kemps Corner, Mumbai\n",
       "174                93% 11 Feedback Peelamedu, Coimbatore\n",
       "175              100% 11 Feedback Kandivali West, Mumbai\n",
       "176                    98% 4 Feedback Thevara, Ernakulam\n",
       "177              88% 9 Feedback Wilson Garden, Bangalore\n",
       "178                   76% 4 Feedback RT Nagar, Bangalore\n",
       "179                                                  NaN\n",
       "180                                                  NaN\n",
       "181                                                  NaN\n",
       "182                                                  NaN\n",
       "183            92% 12 Feedback Old Rajendra Nagar, Delhi\n",
       "184                  85% 1 Feedback Andheri East, Mumbai\n",
       "185                                                  NaN\n",
       "186              Dental Crowns Facet Dental Dental X-Ray\n",
       "187                                                  NaN\n",
       "188            92% 20 Feedback Old Rajendra Nagar, Delhi\n",
       "189                                                  NaN\n",
       "190                                                  NaN\n",
       "191    Acrylic Partial Denture Artificial Teeth Crown...\n",
       "192                                                  NaN\n",
       "193                                                  NaN\n",
       "194                                                  NaN\n",
       "195    Endoscopy of throat , nose , ear Cancer checku...\n",
       "196                       96% 48 Feedback Porur, Chennai\n",
       "197           Tooth Pain Teeth Whitening Dental Fillings\n",
       "198                                                  NaN\n",
       "199                                                  NaN\n",
       "Name: Miscellaneous_Info, dtype: object"
      ]
     },
     "execution_count": 39,
     "metadata": {},
     "output_type": "execute_result"
    }
   ],
   "source": [
    "train['Miscellaneous_Info'].head(200)"
   ]
  },
  {
   "cell_type": "code",
   "execution_count": 44,
   "metadata": {},
   "outputs": [],
   "source": [
    "# check number of qualifications"
   ]
  },
  {
   "cell_type": "code",
   "execution_count": 267,
   "metadata": {},
   "outputs": [],
   "source": [
    "num_deg_train = train.Qualification.apply(lambda x: len(x.split(',')))"
   ]
  },
  {
   "cell_type": "code",
   "execution_count": 268,
   "metadata": {},
   "outputs": [
    {
     "data": {
      "text/plain": [
       "(10, 1)"
      ]
     },
     "execution_count": 268,
     "metadata": {},
     "output_type": "execute_result"
    }
   ],
   "source": [
    "num_deg_train.max(),num_deg_train.min()"
   ]
  },
  {
   "cell_type": "code",
   "execution_count": 269,
   "metadata": {},
   "outputs": [],
   "source": [
    "num_deg_test = test.Qualification.apply(lambda x: len(x.split(',')))"
   ]
  },
  {
   "cell_type": "code",
   "execution_count": 270,
   "metadata": {},
   "outputs": [
    {
     "data": {
      "text/plain": [
       "(17, 1)"
      ]
     },
     "execution_count": 270,
     "metadata": {},
     "output_type": "execute_result"
    }
   ],
   "source": [
    "num_deg_test.max(),num_deg_test.min()"
   ]
  },
  {
   "cell_type": "code",
   "execution_count": 271,
   "metadata": {},
   "outputs": [
    {
     "data": {
      "text/plain": [
       "['Fellowship in Oral implantlogy',\n",
       " ' Certified Advance Course In Endodontics',\n",
       " ' Certified in Orthodontics',\n",
       " ' Certification in Full Mouth Rehabilitation',\n",
       " ' Certified BPS Dentist',\n",
       " ' Certificate in Cosmetic Dentistry',\n",
       " ' Professional Implantology Training Course (PITC)',\n",
       " ' Fellowship in Advanced Endoscopic Sinus Surgery',\n",
       " ' Degree in Dental Implant',\n",
       " ' Fellowship in Lasers & Cosmetology']"
      ]
     },
     "execution_count": 271,
     "metadata": {},
     "output_type": "execute_result"
    }
   ],
   "source": [
    "train.Qualification[train.Qualification.apply(lambda y : len(y.split(','))).idxmax()].split(\",\")"
   ]
  },
  {
   "cell_type": "code",
   "execution_count": 56,
   "metadata": {},
   "outputs": [],
   "source": [
    "# lets clear leading white spaces\n",
    "# clear all the spaces inside and\n",
    "# lowercase all the chars"
   ]
  },
  {
   "cell_type": "code",
   "execution_count": 272,
   "metadata": {},
   "outputs": [],
   "source": [
    "import re\n",
    "def process_qual(string):\n",
    "    sent = re.sub(r'\\([^()]+\\)', lambda p: p.group().replace(\",\",\"-\"), string)\n",
    "    return ','.join(sorted(sent.lower().replace(\" \",\"\").split(\",\")))"
   ]
  },
  {
   "cell_type": "code",
   "execution_count": 273,
   "metadata": {},
   "outputs": [],
   "source": [
    "train['Qualification'] = train['Qualification'].apply(lambda x: process_qual(x))\n",
    "test['Qualification'] = test['Qualification'].apply(lambda x: process_qual(x))"
   ]
  },
  {
   "cell_type": "code",
   "execution_count": 274,
   "metadata": {
    "scrolled": true
   },
   "outputs": [
    {
     "data": {
      "text/plain": [
       "0                                    bhms,md-homeopathy\n",
       "1                              bams,md-ayurvedamedicine\n",
       "2                           mbbs,ms-otorhinolaryngology\n",
       "3                                      bams,bsc-zoology\n",
       "4                                                  bams\n",
       "5                                                  bams\n",
       "6                                                  bhms\n",
       "7                                                   bds\n",
       "8                               mbbs,md-generalmedicine\n",
       "9                                               bds,bsc\n",
       "10                                      dnb-ent,mbbs,ms\n",
       "11                                                 bams\n",
       "12                                              bds,mds\n",
       "13                    bds,mds-oral&maxillofacialsurgery\n",
       "14       diplomainotorhinolaryngology(dlo),dnb-ent,mbbs\n",
       "15                              mbbs,md-generalmedicine\n",
       "16               diplomainotorhinolaryngology(dlo),mbbs\n",
       "17                                   mbbs,mf-homeopathy\n",
       "18                                          mbbs,ms-ent\n",
       "19                                                 mbbs\n",
       "20                                          bds,dnb,mds\n",
       "21                                         dnb-ent,mbbs\n",
       "22                                                 mbbs\n",
       "23      fellowshipofcollegeofgeneralpractice(fcgp),mbbs\n",
       "24                                            ddvl,mbbs\n",
       "25                                                  bds\n",
       "26                                      ibclc(usa),mbbs\n",
       "27    mbbs,md-generalmedicine,postgraduatediplomaind...\n",
       "28                                              bds,mds\n",
       "29                            diplomaindermatology,mbbs\n",
       "30              ddvl,fellowshipinaestheticmedicine,mbbs\n",
       "31                                                  bds\n",
       "32                                          mbbs,ms-ent\n",
       "33                      dm-neurology,mbbs,md-pediatrics\n",
       "34                                                 bams\n",
       "35    bds,fellowshipincleftlipandcraniofacialsurgery...\n",
       "36                                                  bds\n",
       "37                            bhms,diplomaincosmetology\n",
       "38                                  dnb-ent,mbbs,ms-ent\n",
       "39                                            afih,mbbs\n",
       "40                 bds,mds-prosthodontistandcrownbridge\n",
       "41                    bhms,m.d.hom.(practiceofmedicine)\n",
       "42    bams,diplomaincounsellingskills,diplomainemerg...\n",
       "43                                                 bams\n",
       "44    dhms(diplomainhomeopathicmedicineandsurgery),m...\n",
       "45              mbbs,md-dermatology,venereology&leprosy\n",
       "46                bds,mds-oralandmaxillofacialpathology\n",
       "47                                                 mbbs\n",
       "48                                            ddvl,mbbs\n",
       "49            bds,mds-oral&maxillofacialsurgery,mfdsrcs\n",
       "50                                                 mbbs\n",
       "51                                                 bams\n",
       "52                                            ddvl,mbbs\n",
       "53                                                  bds\n",
       "54                                                 bams\n",
       "55                                 mbbs,mrcs(uk),ms-ent\n",
       "56                                                  bds\n",
       "57    fellowshipindermatologicallasersurgery,frguhs,...\n",
       "58    dnb,mbbs,md-medicine,memberoftheroyalcollegeof...\n",
       "59                              mbbs,md-generalmedicine\n",
       "60              mbbs,md-dermatology,venereology&leprosy\n",
       "61                                              bds,mds\n",
       "62                 bds,mds-prosthodontistandcrownbridge\n",
       "63                                                 bhms\n",
       "64                                                 bhms\n",
       "65                                   bhms,ms-psychology\n",
       "66                    bds,mds-oral&maxillofacialsurgery\n",
       "67         ddvl,mbbs,md-dermatology,venereology&leprosy\n",
       "68                         bhms,diplomainskinaesthetics\n",
       "69                                          mbbs,ms-ent\n",
       "70    bds,certificateincosmeticdentistry,fellowofaca...\n",
       "71                          mbbs,ms-otorhinolaryngology\n",
       "72                                                 bhms\n",
       "73                                                 mbbs\n",
       "74                                  mbbs,md-dermatology\n",
       "75                                 mbbs,md-rheumatology\n",
       "76                 bds,mds-prosthodontistandcrownbridge\n",
       "77           bds,mds-paedodonticsandpreventivedentistry\n",
       "78                                  mbbs,md-dermatology\n",
       "79             bds,mds-oralpathologyandoralmicrobiology\n",
       "80    d.litt-diabetology,doctorofscience(dsc.),frcp,...\n",
       "81                                                  bds\n",
       "82                                                 bams\n",
       "83                                             ddv,mbbs\n",
       "84            bds,mds-conservativedentistry&endodontics\n",
       "85                              mbbs,md-generalmedicine\n",
       "86       bds,ficd,mds-conservativedentistry&endodontics\n",
       "87              mbbs,md-dermatology,venereology&leprosy\n",
       "88                   md-dermatology,venereology&leprosy\n",
       "89                                                 mbbs\n",
       "90    bams,postgraduatediplomainemergencyservices(pg...\n",
       "91        getinspiredbyremarkablestoriesofpeoplelikeyou\n",
       "92    bams,masterofhospitaladministration,md-acupunc...\n",
       "93            bds,mds-periodontologyandoralimplantology\n",
       "94    ba,bds,fellowofacademyofgeneraleducation(fage)...\n",
       "95                                                 bhms\n",
       "96              mbbs,md-dermatology,venereology&leprosy\n",
       "97                                            ddvl,mbbs\n",
       "98                                                 bams\n",
       "99                                 bds,mds-periodontics\n",
       "Name: Qualification, dtype: object"
      ]
     },
     "execution_count": 274,
     "metadata": {},
     "output_type": "execute_result"
    }
   ],
   "source": [
    "train['Qualification'].head(100)"
   ]
  },
  {
   "cell_type": "code",
   "execution_count": 275,
   "metadata": {},
   "outputs": [
    {
     "data": {
      "text/plain": [
       "0       bhms\n",
       "1       bams\n",
       "2       mbbs\n",
       "3       bams\n",
       "4       bams\n",
       "        ... \n",
       "5956    mbbs\n",
       "5957    mbbs\n",
       "5958    mbbs\n",
       "5959    mbbs\n",
       "5960     bds\n",
       "Name: Qualification, Length: 5961, dtype: object"
      ]
     },
     "execution_count": 275,
     "metadata": {},
     "output_type": "execute_result"
    }
   ],
   "source": [
    "train['Qualification'].str.split(',').str[0]"
   ]
  },
  {
   "cell_type": "code",
   "execution_count": 276,
   "metadata": {},
   "outputs": [],
   "source": [
    "def seperate_qual(df, column, col_number):\n",
    "    return df[column].str.split(',').str[col_number]"
   ]
  },
  {
   "cell_type": "code",
   "execution_count": 277,
   "metadata": {},
   "outputs": [],
   "source": [
    "# lets create 5 columns of different quals\n",
    "for i in range(0,5):\n",
    "    degree = \"Degree_\"+ str(i+1)\n",
    "    train[degree] = seperate_qual(train,'Qualification', i)"
   ]
  },
  {
   "cell_type": "code",
   "execution_count": 278,
   "metadata": {},
   "outputs": [],
   "source": [
    "# lets create 5 columns of different quals\n",
    "for i in range(0,5):\n",
    "    degree = \"Degree_\"+ str(i+1)\n",
    "    test[degree] = seperate_qual(test,'Qualification', i)"
   ]
  },
  {
   "cell_type": "code",
   "execution_count": 70,
   "metadata": {},
   "outputs": [
    {
     "data": {
      "text/html": [
       "<div>\n",
       "<style scoped>\n",
       "    .dataframe tbody tr th:only-of-type {\n",
       "        vertical-align: middle;\n",
       "    }\n",
       "\n",
       "    .dataframe tbody tr th {\n",
       "        vertical-align: top;\n",
       "    }\n",
       "\n",
       "    .dataframe thead th {\n",
       "        text-align: right;\n",
       "    }\n",
       "</style>\n",
       "<table border=\"1\" class=\"dataframe\">\n",
       "  <thead>\n",
       "    <tr style=\"text-align: right;\">\n",
       "      <th></th>\n",
       "      <th>Qualification</th>\n",
       "      <th>Experience</th>\n",
       "      <th>Rating</th>\n",
       "      <th>Place</th>\n",
       "      <th>Profile</th>\n",
       "      <th>Miscellaneous_Info</th>\n",
       "      <th>Fees</th>\n",
       "      <th>Degree_1</th>\n",
       "      <th>Degree_2</th>\n",
       "      <th>Degree_3</th>\n",
       "      <th>Degree_4</th>\n",
       "      <th>Degree_5</th>\n",
       "    </tr>\n",
       "  </thead>\n",
       "  <tbody>\n",
       "    <tr>\n",
       "      <td>0</td>\n",
       "      <td>bhms,md-homeopathy</td>\n",
       "      <td>24 years experience</td>\n",
       "      <td>100%</td>\n",
       "      <td>Kakkanad, Ernakulam</td>\n",
       "      <td>Homeopath</td>\n",
       "      <td>100% 16 Feedback Kakkanad, Ernakulam</td>\n",
       "      <td>100</td>\n",
       "      <td>bhms</td>\n",
       "      <td>md-homeopathy</td>\n",
       "      <td>NaN</td>\n",
       "      <td>NaN</td>\n",
       "      <td>NaN</td>\n",
       "    </tr>\n",
       "    <tr>\n",
       "      <td>1</td>\n",
       "      <td>bams,md-ayurvedamedicine</td>\n",
       "      <td>12 years experience</td>\n",
       "      <td>98%</td>\n",
       "      <td>Whitefield, Bangalore</td>\n",
       "      <td>Ayurveda</td>\n",
       "      <td>98% 76 Feedback Whitefield, Bangalore</td>\n",
       "      <td>350</td>\n",
       "      <td>bams</td>\n",
       "      <td>md-ayurvedamedicine</td>\n",
       "      <td>NaN</td>\n",
       "      <td>NaN</td>\n",
       "      <td>NaN</td>\n",
       "    </tr>\n",
       "    <tr>\n",
       "      <td>2</td>\n",
       "      <td>mbbs,ms-otorhinolaryngology</td>\n",
       "      <td>9 years experience</td>\n",
       "      <td>NaN</td>\n",
       "      <td>Mathikere - BEL, Bangalore</td>\n",
       "      <td>ENT Specialist</td>\n",
       "      <td>NaN</td>\n",
       "      <td>300</td>\n",
       "      <td>mbbs</td>\n",
       "      <td>ms-otorhinolaryngology</td>\n",
       "      <td>NaN</td>\n",
       "      <td>NaN</td>\n",
       "      <td>NaN</td>\n",
       "    </tr>\n",
       "    <tr>\n",
       "      <td>3</td>\n",
       "      <td>bams,bsc-zoology</td>\n",
       "      <td>12 years experience</td>\n",
       "      <td>NaN</td>\n",
       "      <td>Bannerghatta Road, Bangalore</td>\n",
       "      <td>Ayurveda</td>\n",
       "      <td>Bannerghatta Road, Bangalore ₹250 Available on...</td>\n",
       "      <td>250</td>\n",
       "      <td>bams</td>\n",
       "      <td>bsc-zoology</td>\n",
       "      <td>NaN</td>\n",
       "      <td>NaN</td>\n",
       "      <td>NaN</td>\n",
       "    </tr>\n",
       "    <tr>\n",
       "      <td>4</td>\n",
       "      <td>bams</td>\n",
       "      <td>20 years experience</td>\n",
       "      <td>100%</td>\n",
       "      <td>Keelkattalai, Chennai</td>\n",
       "      <td>Ayurveda</td>\n",
       "      <td>100% 4 Feedback Keelkattalai, Chennai</td>\n",
       "      <td>250</td>\n",
       "      <td>bams</td>\n",
       "      <td>NaN</td>\n",
       "      <td>NaN</td>\n",
       "      <td>NaN</td>\n",
       "      <td>NaN</td>\n",
       "    </tr>\n",
       "  </tbody>\n",
       "</table>\n",
       "</div>"
      ],
      "text/plain": [
       "                 Qualification           Experience Rating                         Place         Profile                                 Miscellaneous_Info  Fees Degree_1                Degree_2 Degree_3 Degree_4 Degree_5\n",
       "0           bhms,md-homeopathy  24 years experience   100%           Kakkanad, Ernakulam       Homeopath               100% 16 Feedback Kakkanad, Ernakulam   100     bhms           md-homeopathy      NaN      NaN      NaN\n",
       "1     bams,md-ayurvedamedicine  12 years experience    98%         Whitefield, Bangalore        Ayurveda              98% 76 Feedback Whitefield, Bangalore   350     bams     md-ayurvedamedicine      NaN      NaN      NaN\n",
       "2  mbbs,ms-otorhinolaryngology   9 years experience    NaN    Mathikere - BEL, Bangalore  ENT Specialist                                                NaN   300     mbbs  ms-otorhinolaryngology      NaN      NaN      NaN\n",
       "3             bams,bsc-zoology  12 years experience    NaN  Bannerghatta Road, Bangalore        Ayurveda  Bannerghatta Road, Bangalore ₹250 Available on...   250     bams             bsc-zoology      NaN      NaN      NaN\n",
       "4                         bams  20 years experience   100%         Keelkattalai, Chennai        Ayurveda              100% 4 Feedback Keelkattalai, Chennai   250     bams                     NaN      NaN      NaN      NaN"
      ]
     },
     "execution_count": 70,
     "metadata": {},
     "output_type": "execute_result"
    }
   ],
   "source": [
    "train.head()"
   ]
  },
  {
   "cell_type": "code",
   "execution_count": 71,
   "metadata": {},
   "outputs": [
    {
     "data": {
      "text/html": [
       "<div>\n",
       "<style scoped>\n",
       "    .dataframe tbody tr th:only-of-type {\n",
       "        vertical-align: middle;\n",
       "    }\n",
       "\n",
       "    .dataframe tbody tr th {\n",
       "        vertical-align: top;\n",
       "    }\n",
       "\n",
       "    .dataframe thead th {\n",
       "        text-align: right;\n",
       "    }\n",
       "</style>\n",
       "<table border=\"1\" class=\"dataframe\">\n",
       "  <thead>\n",
       "    <tr style=\"text-align: right;\">\n",
       "      <th></th>\n",
       "      <th>Qualification</th>\n",
       "      <th>Experience</th>\n",
       "      <th>Rating</th>\n",
       "      <th>Place</th>\n",
       "      <th>Profile</th>\n",
       "      <th>Miscellaneous_Info</th>\n",
       "      <th>Degree_1</th>\n",
       "      <th>Degree_2</th>\n",
       "      <th>Degree_3</th>\n",
       "      <th>Degree_4</th>\n",
       "      <th>Degree_5</th>\n",
       "    </tr>\n",
       "  </thead>\n",
       "  <tbody>\n",
       "    <tr>\n",
       "      <td>0</td>\n",
       "      <td>mbbs</td>\n",
       "      <td>35 years experience</td>\n",
       "      <td>NaN</td>\n",
       "      <td>Ghatkopar East, Mumbai</td>\n",
       "      <td>General Medicine</td>\n",
       "      <td>NaN</td>\n",
       "      <td>mbbs</td>\n",
       "      <td>NaN</td>\n",
       "      <td>NaN</td>\n",
       "      <td>NaN</td>\n",
       "      <td>NaN</td>\n",
       "    </tr>\n",
       "    <tr>\n",
       "      <td>1</td>\n",
       "      <td>diplomainotorhinolaryngology(dlo),mbbs</td>\n",
       "      <td>31 years experience</td>\n",
       "      <td>NaN</td>\n",
       "      <td>West Marredpally, Hyderabad</td>\n",
       "      <td>ENT Specialist</td>\n",
       "      <td>NaN</td>\n",
       "      <td>diplomainotorhinolaryngology(dlo)</td>\n",
       "      <td>mbbs</td>\n",
       "      <td>NaN</td>\n",
       "      <td>NaN</td>\n",
       "      <td>NaN</td>\n",
       "    </tr>\n",
       "    <tr>\n",
       "      <td>2</td>\n",
       "      <td>ddvl,mbbs</td>\n",
       "      <td>40 years experience</td>\n",
       "      <td>70%</td>\n",
       "      <td>KK Nagar, Chennai</td>\n",
       "      <td>Dermatologists</td>\n",
       "      <td>70% 4 Feedback KK Nagar, Chennai</td>\n",
       "      <td>ddvl</td>\n",
       "      <td>mbbs</td>\n",
       "      <td>NaN</td>\n",
       "      <td>NaN</td>\n",
       "      <td>NaN</td>\n",
       "    </tr>\n",
       "    <tr>\n",
       "      <td>3</td>\n",
       "      <td>bams</td>\n",
       "      <td>0 years experience</td>\n",
       "      <td>NaN</td>\n",
       "      <td>New Ashok Nagar, Delhi</td>\n",
       "      <td>Ayurveda</td>\n",
       "      <td>NaN</td>\n",
       "      <td>bams</td>\n",
       "      <td>NaN</td>\n",
       "      <td>NaN</td>\n",
       "      <td>NaN</td>\n",
       "      <td>NaN</td>\n",
       "    </tr>\n",
       "    <tr>\n",
       "      <td>4</td>\n",
       "      <td>bds,mds-conservativedentistry&amp;endodontics</td>\n",
       "      <td>16 years experience</td>\n",
       "      <td>100%</td>\n",
       "      <td>Kanakpura Road, Bangalore</td>\n",
       "      <td>Dentist</td>\n",
       "      <td>General Dentistry Conservative Dentistry Cosme...</td>\n",
       "      <td>bds</td>\n",
       "      <td>mds-conservativedentistry&amp;endodontics</td>\n",
       "      <td>NaN</td>\n",
       "      <td>NaN</td>\n",
       "      <td>NaN</td>\n",
       "    </tr>\n",
       "  </tbody>\n",
       "</table>\n",
       "</div>"
      ],
      "text/plain": [
       "                               Qualification           Experience Rating                        Place           Profile                                 Miscellaneous_Info                           Degree_1                               Degree_2 Degree_3 Degree_4 Degree_5\n",
       "0                                       mbbs  35 years experience    NaN       Ghatkopar East, Mumbai  General Medicine                                                NaN                               mbbs                                    NaN      NaN      NaN      NaN\n",
       "1     diplomainotorhinolaryngology(dlo),mbbs  31 years experience    NaN  West Marredpally, Hyderabad    ENT Specialist                                                NaN  diplomainotorhinolaryngology(dlo)                                   mbbs      NaN      NaN      NaN\n",
       "2                                  ddvl,mbbs  40 years experience    70%            KK Nagar, Chennai    Dermatologists                   70% 4 Feedback KK Nagar, Chennai                               ddvl                                   mbbs      NaN      NaN      NaN\n",
       "3                                       bams   0 years experience    NaN       New Ashok Nagar, Delhi          Ayurveda                                                NaN                               bams                                    NaN      NaN      NaN      NaN\n",
       "4  bds,mds-conservativedentistry&endodontics  16 years experience   100%    Kanakpura Road, Bangalore           Dentist  General Dentistry Conservative Dentistry Cosme...                                bds  mds-conservativedentistry&endodontics      NaN      NaN      NaN"
      ]
     },
     "execution_count": 71,
     "metadata": {},
     "output_type": "execute_result"
    }
   ],
   "source": [
    "test.head()"
   ]
  },
  {
   "cell_type": "code",
   "execution_count": 279,
   "metadata": {},
   "outputs": [],
   "source": [
    "# now, drop qualification from both\n",
    "train.drop('Qualification',axis=1,inplace=True)\n",
    "test.drop('Qualification',axis=1,inplace=True)"
   ]
  },
  {
   "cell_type": "code",
   "execution_count": 280,
   "metadata": {},
   "outputs": [],
   "source": [
    "# now, extract the years from exp\n",
    "train['Experience']=train['Experience'].str.split(' ').str[0]"
   ]
  },
  {
   "cell_type": "code",
   "execution_count": 281,
   "metadata": {},
   "outputs": [],
   "source": [
    "train['Experience']=train['Experience'].astype(np.int64)"
   ]
  },
  {
   "cell_type": "code",
   "execution_count": 282,
   "metadata": {},
   "outputs": [],
   "source": [
    "test['Experience']=test['Experience'].str.split(' ').str[0]\n",
    "test['Experience']=test['Experience'].astype(np.int64)"
   ]
  },
  {
   "cell_type": "code",
   "execution_count": 283,
   "metadata": {},
   "outputs": [],
   "source": [
    "# In rating, instead of Imputation with median, fill nan values with 0, then drop % and create a new feature owing \n",
    "# to the missing values in Rating"
   ]
  },
  {
   "cell_type": "code",
   "execution_count": 284,
   "metadata": {},
   "outputs": [],
   "source": [
    "train['Rating']=train['Rating'].fillna('0%')\n",
    "test['Rating']=test['Rating'].fillna('0%')"
   ]
  },
  {
   "cell_type": "code",
   "execution_count": 285,
   "metadata": {},
   "outputs": [],
   "source": [
    "train['Rating']=train['Rating'].str.replace('%','').astype(np.int64)\n",
    "test['Rating']=test['Rating'].str.replace('%','').astype(np.int64)"
   ]
  },
  {
   "cell_type": "code",
   "execution_count": 286,
   "metadata": {},
   "outputs": [],
   "source": [
    "# lets create a new feature Rating_miss\n",
    "train['Rating_miss']=0\n",
    "for i in range(len(train)):\n",
    "    if train['Rating'].iloc[i]==0:\n",
    "        train['Rating_miss'].iloc[i]=1"
   ]
  },
  {
   "cell_type": "code",
   "execution_count": 287,
   "metadata": {
    "scrolled": true
   },
   "outputs": [],
   "source": [
    "# train[['Rating','Rating_miss']].head(50)"
   ]
  },
  {
   "cell_type": "code",
   "execution_count": 288,
   "metadata": {},
   "outputs": [],
   "source": [
    "test['Rating_miss']=0\n",
    "for i in range(len(test)):\n",
    "    if test['Rating'].iloc[i]==0:\n",
    "        test['Rating_miss'].iloc[i]=1"
   ]
  },
  {
   "cell_type": "code",
   "execution_count": 289,
   "metadata": {},
   "outputs": [],
   "source": [
    "# let's extract city and locality from location"
   ]
  },
  {
   "cell_type": "code",
   "execution_count": 290,
   "metadata": {},
   "outputs": [],
   "source": [
    "train['locality']=train['Place'].str.split(',').str[0]"
   ]
  },
  {
   "cell_type": "code",
   "execution_count": 291,
   "metadata": {},
   "outputs": [],
   "source": [
    "train['city']=train['Place'].str.split(',').str[1]"
   ]
  },
  {
   "cell_type": "code",
   "execution_count": 292,
   "metadata": {},
   "outputs": [],
   "source": [
    "test['locality']=test['Place'].str.split(',').str[0]\n",
    "test['city']=test['Place'].str.split(',').str[1]"
   ]
  },
  {
   "cell_type": "code",
   "execution_count": 293,
   "metadata": {},
   "outputs": [],
   "source": [
    "# lets drop Place\n",
    "train.drop('Place',axis=1,inplace=True)\n",
    "test.drop('Place',axis=1,inplace=True)"
   ]
  },
  {
   "cell_type": "code",
   "execution_count": 294,
   "metadata": {},
   "outputs": [],
   "source": [
    "# lets extract the no of feedbacks from the miscellaneous info"
   ]
  },
  {
   "cell_type": "code",
   "execution_count": 295,
   "metadata": {},
   "outputs": [],
   "source": [
    "# but first replace nan with ''\n",
    "train['Miscellaneous_Info']=train['Miscellaneous_Info'].replace(np.NaN,' ')\n",
    "test['Miscellaneous_Info']=test['Miscellaneous_Info'].replace(np.NaN,' ')"
   ]
  },
  {
   "cell_type": "code",
   "execution_count": 296,
   "metadata": {},
   "outputs": [],
   "source": [
    "res = re.search(r' (.*?) Feedback',train['Miscellaneous_Info'][100])\n",
    "res"
   ]
  },
  {
   "cell_type": "code",
   "execution_count": 297,
   "metadata": {},
   "outputs": [
    {
     "data": {
      "text/plain": [
       "' '"
      ]
     },
     "execution_count": 297,
     "metadata": {},
     "output_type": "execute_result"
    }
   ],
   "source": [
    "train['Miscellaneous_Info'][100]"
   ]
  },
  {
   "cell_type": "code",
   "execution_count": 298,
   "metadata": {},
   "outputs": [],
   "source": [
    "train['number_of_feed']=''\n",
    "for i in range(len(train)):\n",
    "    res = re.search(r' (.*?) Feedback',train['Miscellaneous_Info'][i])\n",
    "    if res:\n",
    "        train['number_of_feed'].iloc[i]=res.group(1)\n",
    "    else:\n",
    "        train['number_of_feed'].iloc[i]='0'"
   ]
  },
  {
   "cell_type": "code",
   "execution_count": 299,
   "metadata": {},
   "outputs": [
    {
     "data": {
      "text/plain": [
       "0                                             4454\n",
       "3                                               76\n",
       "4                                               75\n",
       "5                                               67\n",
       "1                                               63\n",
       "8                                               58\n",
       "2                                               53\n",
       "7                                               50\n",
       "11                                              47\n",
       "9                                               47\n",
       "10                                              45\n",
       "6                                               44\n",
       "12                                              42\n",
       "13                                              39\n",
       "14                                              34\n",
       "19                                              31\n",
       "17                                              30\n",
       "15                                              29\n",
       "16                                              25\n",
       "18                                              24\n",
       "21                                              20\n",
       "29                                              20\n",
       "20                                              19\n",
       "28                                              18\n",
       "23                                              17\n",
       "26                                              15\n",
       "39                                              14\n",
       "24                                              14\n",
       "35                                              14\n",
       "27                                              12\n",
       "25                                              12\n",
       "33                                              12\n",
       "36                                              11\n",
       "37                                              10\n",
       "42                                               9\n",
       "44                                               9\n",
       "32                                               9\n",
       "40                                               9\n",
       "31                                               9\n",
       "22                                               9\n",
       "47                                               8\n",
       "45                                               8\n",
       "48                                               8\n",
       "43                                               8\n",
       "72                                               8\n",
       "49                                               7\n",
       "34                                               7\n",
       "51                                               7\n",
       "46                                               7\n",
       "38                                               7\n",
       "30                                               6\n",
       "55                                               6\n",
       "54                                               6\n",
       "65                                               5\n",
       "60                                               5\n",
       "64                                               5\n",
       "109                                              5\n",
       "53                                               5\n",
       "82                                               5\n",
       "78                                               4\n",
       "83                                               4\n",
       "56                                               4\n",
       "180                                              4\n",
       "94                                               4\n",
       "98                                               4\n",
       "52                                               4\n",
       "59                                               4\n",
       "50                                               4\n",
       "80                                               4\n",
       "70                                               3\n",
       "141                                              3\n",
       "68                                               3\n",
       "76                                               3\n",
       "103                                              3\n",
       "92                                               3\n",
       "102                                              3\n",
       "86                                               3\n",
       "67                                               3\n",
       "58                                               3\n",
       "99                                               3\n",
       "147                                              3\n",
       "57                                               3\n",
       "62                                               3\n",
       "66                                               3\n",
       "41                                               3\n",
       "84                                               3\n",
       "74                                               3\n",
       "63                                               3\n",
       "192                                              2\n",
       "148                                              2\n",
       "97                                               2\n",
       "61                                               2\n",
       "274                                              2\n",
       "134                                              2\n",
       "154                                              2\n",
       "118                                              2\n",
       "222                                              2\n",
       "77                                               2\n",
       "108                                              2\n",
       "256                                              2\n",
       "152                                              2\n",
       "163                                              2\n",
       "90                                               2\n",
       "132                                              2\n",
       "122                                              2\n",
       "88                                               2\n",
       "144                                              2\n",
       "71                                               2\n",
       "135                                              2\n",
       "105                                              2\n",
       "101                                              2\n",
       "127                                              1\n",
       "136                                              1\n",
       "210                                              1\n",
       "1101                                             1\n",
       "1782                                             1\n",
       "75                                               1\n",
       "1061                                             1\n",
       "309                                              1\n",
       "278                                              1\n",
       "155                                              1\n",
       "164                                              1\n",
       "340                                              1\n",
       "260                                              1\n",
       "119                                              1\n",
       "291                                              1\n",
       "X-Ray 1                                          1\n",
       "599                                              1\n",
       "73                                               1\n",
       "87                                               1\n",
       "130                                              1\n",
       "212                                              1\n",
       "238                                              1\n",
       "126                                              1\n",
       "190                                              1\n",
       "157                                              1\n",
       "125                                              1\n",
       "230                                              1\n",
       "173                                              1\n",
       "246                                              1\n",
       "342                                              1\n",
       "566                                              1\n",
       "181                                              1\n",
       "161                                              1\n",
       "388                                              1\n",
       "187                                              1\n",
       "179                                              1\n",
       "Fever Treatment Health Checkup (General) 1       1\n",
       "279                                              1\n",
       "169                                              1\n",
       "120                                              1\n",
       "Management Health Checkup (General) 1            1\n",
       "168                                              1\n",
       "493                                              1\n",
       "547                                              1\n",
       "Implant Fixing Dental Surgery 1                  1\n",
       "560                                              1\n",
       "142                                              1\n",
       "107                                              1\n",
       "317                                              1\n",
       "91                                               1\n",
       "240                                              1\n",
       "243                                              1\n",
       "178                                              1\n",
       "89                                               1\n",
       "Whitening 1                                      1\n",
       "659                                              1\n",
       "854                                              1\n",
       "203                                              1\n",
       "150                                              1\n",
       "213                                              1\n",
       "343                                              1\n",
       "174                                              1\n",
       "639                                              1\n",
       "372                                              1\n",
       "198                                              1\n",
       "332                                              1\n",
       "447                                              1\n",
       "390                                              1\n",
       "113                                              1\n",
       "299                                              1\n",
       "239                                              1\n",
       "159                                              1\n",
       "153                                              1\n",
       "139                                              1\n",
       "131                                              1\n",
       "435                                              1\n",
       "196                                              1\n",
       "81                                               1\n",
       "185                                              1\n",
       "128                                              1\n",
       "110                                              1\n",
       "444                                              1\n",
       "188                                              1\n",
       "175                                              1\n",
       "124                                              1\n",
       "112                                              1\n",
       "79                                               1\n",
       "116                                              1\n",
       "207                                              1\n",
       "248                                              1\n",
       "96                                               1\n",
       "282                                              1\n",
       "69                                               1\n",
       "146                                              1\n",
       "254                                              1\n",
       "162                                              1\n",
       "Treatment Diabetes Management 1                  1\n",
       "104                                              1\n",
       "506                                              1\n",
       "325                                              1\n",
       "Name: number_of_feed, dtype: int64"
      ]
     },
     "execution_count": 299,
     "metadata": {},
     "output_type": "execute_result"
    }
   ],
   "source": [
    "train['number_of_feed'].value_counts()\n",
    "# there are some unwanted strings in it"
   ]
  },
  {
   "cell_type": "code",
   "execution_count": 300,
   "metadata": {},
   "outputs": [],
   "source": [
    "for i in range(len(train)):\n",
    "    if len(train['number_of_feed'].iloc[i])>5:\n",
    "        train['number_of_feed'].iloc[i]='0'"
   ]
  },
  {
   "cell_type": "code",
   "execution_count": 301,
   "metadata": {},
   "outputs": [
    {
     "data": {
      "text/plain": [
       "0       4460\n",
       "3         76\n",
       "4         75\n",
       "5         67\n",
       "1         63\n",
       "8         58\n",
       "2         53\n",
       "7         50\n",
       "9         47\n",
       "11        47\n",
       "10        45\n",
       "6         44\n",
       "12        42\n",
       "13        39\n",
       "14        34\n",
       "19        31\n",
       "17        30\n",
       "15        29\n",
       "16        25\n",
       "18        24\n",
       "21        20\n",
       "29        20\n",
       "20        19\n",
       "28        18\n",
       "23        17\n",
       "26        15\n",
       "39        14\n",
       "24        14\n",
       "35        14\n",
       "27        12\n",
       "33        12\n",
       "25        12\n",
       "36        11\n",
       "37        10\n",
       "31         9\n",
       "22         9\n",
       "40         9\n",
       "32         9\n",
       "44         9\n",
       "42         9\n",
       "48         8\n",
       "47         8\n",
       "45         8\n",
       "43         8\n",
       "72         8\n",
       "49         7\n",
       "34         7\n",
       "51         7\n",
       "38         7\n",
       "46         7\n",
       "55         6\n",
       "54         6\n",
       "30         6\n",
       "53         5\n",
       "65         5\n",
       "64         5\n",
       "60         5\n",
       "82         5\n",
       "109        5\n",
       "83         4\n",
       "78         4\n",
       "56         4\n",
       "180        4\n",
       "98         4\n",
       "80         4\n",
       "94         4\n",
       "52         4\n",
       "59         4\n",
       "50         4\n",
       "102        3\n",
       "63         3\n",
       "99         3\n",
       "84         3\n",
       "41         3\n",
       "103        3\n",
       "92         3\n",
       "57         3\n",
       "68         3\n",
       "86         3\n",
       "58         3\n",
       "67         3\n",
       "141        3\n",
       "76         3\n",
       "70         3\n",
       "66         3\n",
       "74         3\n",
       "147        3\n",
       "62         3\n",
       "154        2\n",
       "274        2\n",
       "135        2\n",
       "152        2\n",
       "118        2\n",
       "148        2\n",
       "222        2\n",
       "97         2\n",
       "77         2\n",
       "192        2\n",
       "108        2\n",
       "134        2\n",
       "61         2\n",
       "132        2\n",
       "256        2\n",
       "163        2\n",
       "71         2\n",
       "144        2\n",
       "122        2\n",
       "90         2\n",
       "101        2\n",
       "88         2\n",
       "105        2\n",
       "230        1\n",
       "87         1\n",
       "260        1\n",
       "164        1\n",
       "212        1\n",
       "210        1\n",
       "73         1\n",
       "127        1\n",
       "130        1\n",
       "1061       1\n",
       "278        1\n",
       "238        1\n",
       "119        1\n",
       "126        1\n",
       "599        1\n",
       "190        1\n",
       "1782       1\n",
       "157        1\n",
       "136        1\n",
       "566        1\n",
       "75         1\n",
       "342        1\n",
       "246        1\n",
       "173        1\n",
       "155        1\n",
       "340        1\n",
       "125        1\n",
       "1101       1\n",
       "291        1\n",
       "181        1\n",
       "309        1\n",
       "161        1\n",
       "447        1\n",
       "332        1\n",
       "107        1\n",
       "142        1\n",
       "560        1\n",
       "547        1\n",
       "493        1\n",
       "388        1\n",
       "120        1\n",
       "169        1\n",
       "279        1\n",
       "179        1\n",
       "187        1\n",
       "317        1\n",
       "91         1\n",
       "240        1\n",
       "243        1\n",
       "178        1\n",
       "89         1\n",
       "659        1\n",
       "854        1\n",
       "203        1\n",
       "150        1\n",
       "213        1\n",
       "343        1\n",
       "174        1\n",
       "639        1\n",
       "372        1\n",
       "198        1\n",
       "390        1\n",
       "124        1\n",
       "506        1\n",
       "188        1\n",
       "168        1\n",
       "299        1\n",
       "239        1\n",
       "159        1\n",
       "153        1\n",
       "139        1\n",
       "131        1\n",
       "435        1\n",
       "196        1\n",
       "81         1\n",
       "185        1\n",
       "128        1\n",
       "110        1\n",
       "325        1\n",
       "104        1\n",
       "113        1\n",
       "175        1\n",
       "112        1\n",
       "79         1\n",
       "116        1\n",
       "207        1\n",
       "248        1\n",
       "96         1\n",
       "282        1\n",
       "69         1\n",
       "146        1\n",
       "254        1\n",
       "162        1\n",
       "444        1\n",
       "Name: number_of_feed, dtype: int64"
      ]
     },
     "execution_count": 301,
     "metadata": {},
     "output_type": "execute_result"
    }
   ],
   "source": [
    "train['number_of_feed'].value_counts()"
   ]
  },
  {
   "cell_type": "code",
   "execution_count": 302,
   "metadata": {},
   "outputs": [],
   "source": [
    "train['number_of_feed']=train['number_of_feed'].astype(np.int64)"
   ]
  },
  {
   "cell_type": "code",
   "execution_count": 303,
   "metadata": {},
   "outputs": [],
   "source": [
    "test['number_of_feed']=''\n",
    "for i in range(len(test)):\n",
    "    res = re.search(r' (.*?) Feedback',test['Miscellaneous_Info'][i])\n",
    "    if res:\n",
    "        test['number_of_feed'].iloc[i]=res.group(1)\n",
    "    else:\n",
    "        test['number_of_feed'].iloc[i]='0'"
   ]
  },
  {
   "cell_type": "code",
   "execution_count": 304,
   "metadata": {},
   "outputs": [
    {
     "data": {
      "text/plain": [
       "0                                         1431\n",
       "2                                           30\n",
       "4                                           27\n",
       "13                                          27\n",
       "5                                           25\n",
       "12                                          23\n",
       "7                                           23\n",
       "3                                           22\n",
       "1                                           22\n",
       "10                                          22\n",
       "9                                           17\n",
       "11                                          15\n",
       "14                                          12\n",
       "16                                          10\n",
       "17                                          10\n",
       "8                                           10\n",
       "23                                           9\n",
       "21                                           9\n",
       "6                                            9\n",
       "20                                           8\n",
       "25                                           7\n",
       "15                                           7\n",
       "28                                           6\n",
       "24                                           6\n",
       "60                                           6\n",
       "42                                           6\n",
       "34                                           6\n",
       "18                                           6\n",
       "29                                           6\n",
       "32                                           5\n",
       "26                                           4\n",
       "30                                           4\n",
       "33                                           4\n",
       "71                                           4\n",
       "19                                           4\n",
       "31                                           4\n",
       "45                                           3\n",
       "110                                          3\n",
       "77                                           3\n",
       "106                                          3\n",
       "41                                           3\n",
       "35                                           3\n",
       "22                                           3\n",
       "43                                           3\n",
       "53                                           3\n",
       "55                                           2\n",
       "87                                           2\n",
       "68                                           2\n",
       "113                                          2\n",
       "38                                           2\n",
       "40                                           2\n",
       "98                                           2\n",
       "51                                           2\n",
       "158                                          2\n",
       "69                                           2\n",
       "130                                          2\n",
       "36                                           2\n",
       "62                                           2\n",
       "50                                           2\n",
       "143                                          2\n",
       "154                                          2\n",
       "138                                          2\n",
       "401                                          1\n",
       "97                                           1\n",
       "52                                           1\n",
       "59                                           1\n",
       "medicine Orthodontic Treatment 3             1\n",
       "79                                           1\n",
       "67                                           1\n",
       "127                                          1\n",
       "156                                          1\n",
       "125                                          1\n",
       "64                                           1\n",
       "44                                           1\n",
       "174                                          1\n",
       "207                                          1\n",
       "88                                           1\n",
       "37                                           1\n",
       "112                                          1\n",
       "293                                          1\n",
       "61                                           1\n",
       "164                                          1\n",
       "39                                           1\n",
       "100                                          1\n",
       "264                                          1\n",
       "128                                          1\n",
       "185                                          1\n",
       "260                                          1\n",
       "111                                          1\n",
       "435                                          1\n",
       "Fillings 5                                   1\n",
       "140                                          1\n",
       "104                                          1\n",
       "172                                          1\n",
       "73                                           1\n",
       "70                                           1\n",
       "78                                           1\n",
       "170                                          1\n",
       "190                                          1\n",
       "1987                                         1\n",
       "251                                          1\n",
       "75                                           1\n",
       "136                                          1\n",
       "94                                           1\n",
       "80                                           1\n",
       "390                                          1\n",
       "356                                          1\n",
       "340                                          1\n",
       "149                                          1\n",
       "159                                          1\n",
       "221                                          1\n",
       "173                                          1\n",
       "296                                          1\n",
       "240                                          1\n",
       "Dermatology Acne / Pimples Treatment 2       1\n",
       "119                                          1\n",
       "83                                           1\n",
       "and ankle problems 1                         1\n",
       "591                                          1\n",
       "203                                          1\n",
       "230                                          1\n",
       "178                                          1\n",
       "280                                          1\n",
       "57                                           1\n",
       "103                                          1\n",
       "360                                          1\n",
       "72                                           1\n",
       "89                                           1\n",
       "200                                          1\n",
       "76                                           1\n",
       "115                                          1\n",
       "144                                          1\n",
       "102                                          1\n",
       "145                                          1\n",
       "95                                           1\n",
       "165                                          1\n",
       "201                                          1\n",
       "497                                          1\n",
       "188                                          1\n",
       "330                                          1\n",
       "91                                           1\n",
       "105                                          1\n",
       "Name: number_of_feed, dtype: int64"
      ]
     },
     "execution_count": 304,
     "metadata": {},
     "output_type": "execute_result"
    }
   ],
   "source": [
    "test['number_of_feed'].value_counts()\n",
    "# there are some unwanted strings in it"
   ]
  },
  {
   "cell_type": "code",
   "execution_count": 305,
   "metadata": {},
   "outputs": [],
   "source": [
    "for i in range(len(test)):\n",
    "    if len(test['number_of_feed'].iloc[i])>5:\n",
    "        test['number_of_feed'].iloc[i]='0'"
   ]
  },
  {
   "cell_type": "code",
   "execution_count": 306,
   "metadata": {},
   "outputs": [],
   "source": [
    "test['number_of_feed']=test['number_of_feed'].astype(np.int64)"
   ]
  },
  {
   "cell_type": "code",
   "execution_count": 307,
   "metadata": {},
   "outputs": [],
   "source": [
    "# now drop miscellaneous info\n",
    "train.drop('Miscellaneous_Info',axis=1,inplace=True)\n",
    "test.drop('Miscellaneous_Info',axis=1,inplace=True)"
   ]
  },
  {
   "cell_type": "code",
   "execution_count": 308,
   "metadata": {},
   "outputs": [],
   "source": [
    "# lets compare both train and test now"
   ]
  },
  {
   "cell_type": "code",
   "execution_count": 309,
   "metadata": {},
   "outputs": [
    {
     "data": {
      "text/html": [
       "<div>\n",
       "<style scoped>\n",
       "    .dataframe tbody tr th:only-of-type {\n",
       "        vertical-align: middle;\n",
       "    }\n",
       "\n",
       "    .dataframe tbody tr th {\n",
       "        vertical-align: top;\n",
       "    }\n",
       "\n",
       "    .dataframe thead th {\n",
       "        text-align: right;\n",
       "    }\n",
       "</style>\n",
       "<table border=\"1\" class=\"dataframe\">\n",
       "  <thead>\n",
       "    <tr style=\"text-align: right;\">\n",
       "      <th></th>\n",
       "      <th>Experience</th>\n",
       "      <th>Rating</th>\n",
       "      <th>Profile</th>\n",
       "      <th>Fees</th>\n",
       "      <th>Degree_1</th>\n",
       "      <th>Degree_2</th>\n",
       "      <th>Degree_3</th>\n",
       "      <th>Degree_4</th>\n",
       "      <th>Degree_5</th>\n",
       "      <th>Rating_miss</th>\n",
       "      <th>locality</th>\n",
       "      <th>city</th>\n",
       "      <th>number_of_feed</th>\n",
       "    </tr>\n",
       "  </thead>\n",
       "  <tbody>\n",
       "    <tr>\n",
       "      <td>0</td>\n",
       "      <td>24</td>\n",
       "      <td>100</td>\n",
       "      <td>Homeopath</td>\n",
       "      <td>100</td>\n",
       "      <td>bhms</td>\n",
       "      <td>md-homeopathy</td>\n",
       "      <td>NaN</td>\n",
       "      <td>NaN</td>\n",
       "      <td>NaN</td>\n",
       "      <td>0</td>\n",
       "      <td>Kakkanad</td>\n",
       "      <td>Ernakulam</td>\n",
       "      <td>16</td>\n",
       "    </tr>\n",
       "    <tr>\n",
       "      <td>1</td>\n",
       "      <td>12</td>\n",
       "      <td>98</td>\n",
       "      <td>Ayurveda</td>\n",
       "      <td>350</td>\n",
       "      <td>bams</td>\n",
       "      <td>md-ayurvedamedicine</td>\n",
       "      <td>NaN</td>\n",
       "      <td>NaN</td>\n",
       "      <td>NaN</td>\n",
       "      <td>0</td>\n",
       "      <td>Whitefield</td>\n",
       "      <td>Bangalore</td>\n",
       "      <td>76</td>\n",
       "    </tr>\n",
       "    <tr>\n",
       "      <td>2</td>\n",
       "      <td>9</td>\n",
       "      <td>0</td>\n",
       "      <td>ENT Specialist</td>\n",
       "      <td>300</td>\n",
       "      <td>mbbs</td>\n",
       "      <td>ms-otorhinolaryngology</td>\n",
       "      <td>NaN</td>\n",
       "      <td>NaN</td>\n",
       "      <td>NaN</td>\n",
       "      <td>1</td>\n",
       "      <td>Mathikere - BEL</td>\n",
       "      <td>Bangalore</td>\n",
       "      <td>0</td>\n",
       "    </tr>\n",
       "    <tr>\n",
       "      <td>3</td>\n",
       "      <td>12</td>\n",
       "      <td>0</td>\n",
       "      <td>Ayurveda</td>\n",
       "      <td>250</td>\n",
       "      <td>bams</td>\n",
       "      <td>bsc-zoology</td>\n",
       "      <td>NaN</td>\n",
       "      <td>NaN</td>\n",
       "      <td>NaN</td>\n",
       "      <td>1</td>\n",
       "      <td>Bannerghatta Road</td>\n",
       "      <td>Bangalore</td>\n",
       "      <td>0</td>\n",
       "    </tr>\n",
       "    <tr>\n",
       "      <td>4</td>\n",
       "      <td>20</td>\n",
       "      <td>100</td>\n",
       "      <td>Ayurveda</td>\n",
       "      <td>250</td>\n",
       "      <td>bams</td>\n",
       "      <td>NaN</td>\n",
       "      <td>NaN</td>\n",
       "      <td>NaN</td>\n",
       "      <td>NaN</td>\n",
       "      <td>0</td>\n",
       "      <td>Keelkattalai</td>\n",
       "      <td>Chennai</td>\n",
       "      <td>4</td>\n",
       "    </tr>\n",
       "  </tbody>\n",
       "</table>\n",
       "</div>"
      ],
      "text/plain": [
       "   Experience  Rating         Profile  Fees Degree_1                Degree_2 Degree_3 Degree_4 Degree_5  Rating_miss           locality        city  number_of_feed\n",
       "0          24     100       Homeopath   100     bhms           md-homeopathy      NaN      NaN      NaN            0           Kakkanad   Ernakulam              16\n",
       "1          12      98        Ayurveda   350     bams     md-ayurvedamedicine      NaN      NaN      NaN            0         Whitefield   Bangalore              76\n",
       "2           9       0  ENT Specialist   300     mbbs  ms-otorhinolaryngology      NaN      NaN      NaN            1    Mathikere - BEL   Bangalore               0\n",
       "3          12       0        Ayurveda   250     bams             bsc-zoology      NaN      NaN      NaN            1  Bannerghatta Road   Bangalore               0\n",
       "4          20     100        Ayurveda   250     bams                     NaN      NaN      NaN      NaN            0       Keelkattalai     Chennai               4"
      ]
     },
     "execution_count": 309,
     "metadata": {},
     "output_type": "execute_result"
    }
   ],
   "source": [
    "train.head()"
   ]
  },
  {
   "cell_type": "code",
   "execution_count": 310,
   "metadata": {},
   "outputs": [
    {
     "data": {
      "text/plain": [
       "Experience         int64\n",
       "Rating             int64\n",
       "Profile           object\n",
       "Fees               int64\n",
       "Degree_1          object\n",
       "Degree_2          object\n",
       "Degree_3          object\n",
       "Degree_4          object\n",
       "Degree_5          object\n",
       "Rating_miss        int64\n",
       "locality          object\n",
       "city              object\n",
       "number_of_feed     int64\n",
       "dtype: object"
      ]
     },
     "execution_count": 310,
     "metadata": {},
     "output_type": "execute_result"
    }
   ],
   "source": [
    "train.dtypes"
   ]
  },
  {
   "cell_type": "code",
   "execution_count": 311,
   "metadata": {},
   "outputs": [
    {
     "data": {
      "text/plain": [
       "Experience           0\n",
       "Rating               0\n",
       "Profile              0\n",
       "Fees                 0\n",
       "Degree_1             0\n",
       "Degree_2          1962\n",
       "Degree_3          4591\n",
       "Degree_4          5589\n",
       "Degree_5          5845\n",
       "Rating_miss          0\n",
       "locality            25\n",
       "city                26\n",
       "number_of_feed       0\n",
       "dtype: int64"
      ]
     },
     "execution_count": 311,
     "metadata": {},
     "output_type": "execute_result"
    }
   ],
   "source": [
    "train.isnull().sum()"
   ]
  },
  {
   "cell_type": "code",
   "execution_count": 312,
   "metadata": {},
   "outputs": [],
   "source": [
    "# there are missing values"
   ]
  },
  {
   "cell_type": "code",
   "execution_count": 313,
   "metadata": {},
   "outputs": [
    {
     "data": {
      "text/html": [
       "<div>\n",
       "<style scoped>\n",
       "    .dataframe tbody tr th:only-of-type {\n",
       "        vertical-align: middle;\n",
       "    }\n",
       "\n",
       "    .dataframe tbody tr th {\n",
       "        vertical-align: top;\n",
       "    }\n",
       "\n",
       "    .dataframe thead th {\n",
       "        text-align: right;\n",
       "    }\n",
       "</style>\n",
       "<table border=\"1\" class=\"dataframe\">\n",
       "  <thead>\n",
       "    <tr style=\"text-align: right;\">\n",
       "      <th></th>\n",
       "      <th>Experience</th>\n",
       "      <th>Rating</th>\n",
       "      <th>Profile</th>\n",
       "      <th>Degree_1</th>\n",
       "      <th>Degree_2</th>\n",
       "      <th>Degree_3</th>\n",
       "      <th>Degree_4</th>\n",
       "      <th>Degree_5</th>\n",
       "      <th>Rating_miss</th>\n",
       "      <th>locality</th>\n",
       "      <th>city</th>\n",
       "      <th>number_of_feed</th>\n",
       "    </tr>\n",
       "  </thead>\n",
       "  <tbody>\n",
       "    <tr>\n",
       "      <td>0</td>\n",
       "      <td>35</td>\n",
       "      <td>0</td>\n",
       "      <td>General Medicine</td>\n",
       "      <td>mbbs</td>\n",
       "      <td>NaN</td>\n",
       "      <td>NaN</td>\n",
       "      <td>NaN</td>\n",
       "      <td>NaN</td>\n",
       "      <td>1</td>\n",
       "      <td>Ghatkopar East</td>\n",
       "      <td>Mumbai</td>\n",
       "      <td>0</td>\n",
       "    </tr>\n",
       "    <tr>\n",
       "      <td>1</td>\n",
       "      <td>31</td>\n",
       "      <td>0</td>\n",
       "      <td>ENT Specialist</td>\n",
       "      <td>diplomainotorhinolaryngology(dlo)</td>\n",
       "      <td>mbbs</td>\n",
       "      <td>NaN</td>\n",
       "      <td>NaN</td>\n",
       "      <td>NaN</td>\n",
       "      <td>1</td>\n",
       "      <td>West Marredpally</td>\n",
       "      <td>Hyderabad</td>\n",
       "      <td>0</td>\n",
       "    </tr>\n",
       "    <tr>\n",
       "      <td>2</td>\n",
       "      <td>40</td>\n",
       "      <td>70</td>\n",
       "      <td>Dermatologists</td>\n",
       "      <td>ddvl</td>\n",
       "      <td>mbbs</td>\n",
       "      <td>NaN</td>\n",
       "      <td>NaN</td>\n",
       "      <td>NaN</td>\n",
       "      <td>0</td>\n",
       "      <td>KK Nagar</td>\n",
       "      <td>Chennai</td>\n",
       "      <td>4</td>\n",
       "    </tr>\n",
       "    <tr>\n",
       "      <td>3</td>\n",
       "      <td>0</td>\n",
       "      <td>0</td>\n",
       "      <td>Ayurveda</td>\n",
       "      <td>bams</td>\n",
       "      <td>NaN</td>\n",
       "      <td>NaN</td>\n",
       "      <td>NaN</td>\n",
       "      <td>NaN</td>\n",
       "      <td>1</td>\n",
       "      <td>New Ashok Nagar</td>\n",
       "      <td>Delhi</td>\n",
       "      <td>0</td>\n",
       "    </tr>\n",
       "    <tr>\n",
       "      <td>4</td>\n",
       "      <td>16</td>\n",
       "      <td>100</td>\n",
       "      <td>Dentist</td>\n",
       "      <td>bds</td>\n",
       "      <td>mds-conservativedentistry&amp;endodontics</td>\n",
       "      <td>NaN</td>\n",
       "      <td>NaN</td>\n",
       "      <td>NaN</td>\n",
       "      <td>0</td>\n",
       "      <td>Kanakpura Road</td>\n",
       "      <td>Bangalore</td>\n",
       "      <td>0</td>\n",
       "    </tr>\n",
       "  </tbody>\n",
       "</table>\n",
       "</div>"
      ],
      "text/plain": [
       "   Experience  Rating           Profile                           Degree_1                               Degree_2 Degree_3 Degree_4 Degree_5  Rating_miss          locality        city  number_of_feed\n",
       "0          35       0  General Medicine                               mbbs                                    NaN      NaN      NaN      NaN            1    Ghatkopar East      Mumbai               0\n",
       "1          31       0    ENT Specialist  diplomainotorhinolaryngology(dlo)                                   mbbs      NaN      NaN      NaN            1  West Marredpally   Hyderabad               0\n",
       "2          40      70    Dermatologists                               ddvl                                   mbbs      NaN      NaN      NaN            0          KK Nagar     Chennai               4\n",
       "3           0       0          Ayurveda                               bams                                    NaN      NaN      NaN      NaN            1   New Ashok Nagar       Delhi               0\n",
       "4          16     100           Dentist                                bds  mds-conservativedentistry&endodontics      NaN      NaN      NaN            0    Kanakpura Road   Bangalore               0"
      ]
     },
     "execution_count": 313,
     "metadata": {},
     "output_type": "execute_result"
    }
   ],
   "source": [
    "test.head()"
   ]
  },
  {
   "cell_type": "code",
   "execution_count": 314,
   "metadata": {},
   "outputs": [
    {
     "data": {
      "text/plain": [
       "Experience         int64\n",
       "Rating             int64\n",
       "Profile           object\n",
       "Degree_1          object\n",
       "Degree_2          object\n",
       "Degree_3          object\n",
       "Degree_4          object\n",
       "Degree_5          object\n",
       "Rating_miss        int64\n",
       "locality          object\n",
       "city              object\n",
       "number_of_feed     int64\n",
       "dtype: object"
      ]
     },
     "execution_count": 314,
     "metadata": {},
     "output_type": "execute_result"
    }
   ],
   "source": [
    "test.dtypes"
   ]
  },
  {
   "cell_type": "code",
   "execution_count": 315,
   "metadata": {},
   "outputs": [
    {
     "data": {
      "text/plain": [
       "Experience           0\n",
       "Rating               0\n",
       "Profile              0\n",
       "Degree_1             0\n",
       "Degree_2           609\n",
       "Degree_3          1498\n",
       "Degree_4          1867\n",
       "Degree_5          1952\n",
       "Rating_miss          0\n",
       "locality             6\n",
       "city                 6\n",
       "number_of_feed       0\n",
       "dtype: int64"
      ]
     },
     "execution_count": 315,
     "metadata": {},
     "output_type": "execute_result"
    }
   ],
   "source": [
    "test.isnull().sum()"
   ]
  },
  {
   "cell_type": "code",
   "execution_count": 316,
   "metadata": {},
   "outputs": [],
   "source": [
    "# now, let's impute the nan values\n",
    "# nan values are in object type columns only\n",
    "# lets replace all with 'nan'\n",
    "traincopy=train.copy()\n",
    "train.fillna('nan',inplace=True)"
   ]
  },
  {
   "cell_type": "code",
   "execution_count": 317,
   "metadata": {},
   "outputs": [],
   "source": [
    "testcopy=test.copy()\n",
    "test.fillna('nan',inplace=True)"
   ]
  },
  {
   "cell_type": "code",
   "execution_count": 318,
   "metadata": {},
   "outputs": [],
   "source": [
    "# now there are no missing values"
   ]
  },
  {
   "cell_type": "code",
   "execution_count": 319,
   "metadata": {},
   "outputs": [
    {
     "data": {
      "text/plain": [
       "Index(['Experience', 'Rating', 'Profile', 'Fees', 'Degree_1', 'Degree_2', 'Degree_3', 'Degree_4', 'Degree_5', 'Rating_miss', 'locality', 'city', 'number_of_feed'], dtype='object')"
      ]
     },
     "execution_count": 319,
     "metadata": {},
     "output_type": "execute_result"
    }
   ],
   "source": [
    "train.columns"
   ]
  },
  {
   "cell_type": "code",
   "execution_count": 145,
   "metadata": {
    "collapsed": true
   },
   "outputs": [
    {
     "data": {
      "text/plain": [
       "9     323\n",
       "10    294\n",
       "11    288\n",
       "8     282\n",
       "12    279\n",
       "19    251\n",
       "14    251\n",
       "13    242\n",
       "7     240\n",
       "6     218\n",
       "15    200\n",
       "5     188\n",
       "16    186\n",
       "18    184\n",
       "17    179\n",
       "20    156\n",
       "21    154\n",
       "22    147\n",
       "23    119\n",
       "4     115\n",
       "3     111\n",
       "24     97\n",
       "0      87\n",
       "27     84\n",
       "28     82\n",
       "25     82\n",
       "26     71\n",
       "2      69\n",
       "30     68\n",
       "29     67\n",
       "34     67\n",
       "32     65\n",
       "33     62\n",
       "38     61\n",
       "39     57\n",
       "37     55\n",
       "31     55\n",
       "35     52\n",
       "36     46\n",
       "40     46\n",
       "42     42\n",
       "43     40\n",
       "41     36\n",
       "44     32\n",
       "46     27\n",
       "45     21\n",
       "49     14\n",
       "48     11\n",
       "47     11\n",
       "51     11\n",
       "50      9\n",
       "54      5\n",
       "52      4\n",
       "56      3\n",
       "55      3\n",
       "53      3\n",
       "57      2\n",
       "59      1\n",
       "60      1\n",
       "64      1\n",
       "65      1\n",
       "58      1\n",
       "66      1\n",
       "61      1\n",
       "Name: Experience, dtype: int64"
      ]
     },
     "execution_count": 145,
     "metadata": {},
     "output_type": "execute_result"
    }
   ],
   "source": [
    "train['Experience'].value_counts()"
   ]
  },
  {
   "cell_type": "code",
   "execution_count": 146,
   "metadata": {},
   "outputs": [
    {
     "data": {
      "text/plain": [
       "64"
      ]
     },
     "execution_count": 146,
     "metadata": {},
     "output_type": "execute_result"
    }
   ],
   "source": [
    "train['Experience'].nunique()"
   ]
  },
  {
   "cell_type": "code",
   "execution_count": 147,
   "metadata": {
    "collapsed": true
   },
   "outputs": [
    {
     "data": {
      "text/plain": [
       "0      3302\n",
       "100     684\n",
       "98      290\n",
       "99      259\n",
       "97      241\n",
       "96      220\n",
       "95      178\n",
       "94      115\n",
       "93      109\n",
       "92       66\n",
       "90       66\n",
       "91       60\n",
       "89       42\n",
       "88       41\n",
       "85       27\n",
       "82       23\n",
       "83       21\n",
       "86       21\n",
       "80       19\n",
       "77       16\n",
       "87       14\n",
       "79       13\n",
       "84       13\n",
       "67       12\n",
       "81       12\n",
       "71        9\n",
       "76        9\n",
       "75        8\n",
       "73        8\n",
       "74        7\n",
       "60        7\n",
       "78        6\n",
       "68        5\n",
       "56        5\n",
       "69        4\n",
       "70        4\n",
       "72        3\n",
       "57        3\n",
       "64        2\n",
       "63        2\n",
       "62        2\n",
       "33        2\n",
       "55        2\n",
       "53        1\n",
       "65        1\n",
       "47        1\n",
       "7         1\n",
       "58        1\n",
       "48        1\n",
       "40        1\n",
       "36        1\n",
       "45        1\n",
       "Name: Rating, dtype: int64"
      ]
     },
     "execution_count": 147,
     "metadata": {},
     "output_type": "execute_result"
    }
   ],
   "source": [
    "train['Rating'].value_counts()"
   ]
  },
  {
   "cell_type": "code",
   "execution_count": 148,
   "metadata": {},
   "outputs": [
    {
     "data": {
      "text/plain": [
       "52"
      ]
     },
     "execution_count": 148,
     "metadata": {},
     "output_type": "execute_result"
    }
   ],
   "source": [
    "train['Rating'].nunique()"
   ]
  },
  {
   "cell_type": "code",
   "execution_count": 149,
   "metadata": {},
   "outputs": [
    {
     "data": {
      "text/plain": [
       "Dentist             1397\n",
       "General Medicine    1173\n",
       "Dermatologists      1034\n",
       "Homeopath            843\n",
       "Ayurveda             786\n",
       "ENT Specialist       728\n",
       "Name: Profile, dtype: int64"
      ]
     },
     "execution_count": 149,
     "metadata": {},
     "output_type": "execute_result"
    }
   ],
   "source": [
    "train['Profile'].value_counts()"
   ]
  },
  {
   "cell_type": "code",
   "execution_count": 150,
   "metadata": {},
   "outputs": [
    {
     "data": {
      "text/plain": [
       "<matplotlib.axes._subplots.AxesSubplot at 0x1b9bed1d348>"
      ]
     },
     "execution_count": 150,
     "metadata": {},
     "output_type": "execute_result"
    },
    {
     "data": {
      "image/png": "[encoded data removed]",
      "text/plain": [
       "<Figure size 432x288 with 1 Axes>"
      ]
     },
     "metadata": {
      "needs_background": "light"
     },
     "output_type": "display_data"
    }
   ],
   "source": [
    "train['Profile'].value_counts().plot.bar()"
   ]
  },
  {
   "cell_type": "code",
   "execution_count": 151,
   "metadata": {},
   "outputs": [
    {
     "data": {
      "text/plain": [
       "mbbs                                                                   1537\n",
       "bds                                                                    1352\n",
       "bams                                                                    751\n",
       "bhms                                                                    747\n",
       "diplomainotorhinolaryngology(dlo)                                       242\n",
       "ddvl                                                                    154\n",
       "ddv                                                                     129\n",
       "diplomaindermatology                                                     58\n",
       "dnb-dermatology&venereology                                              58\n",
       "dnb-ent                                                                  58\n",
       "dhms(diplomainhomeopathicmedicineandsurgery)                             37\n",
       "dnb-generalmedicine                                                      34\n",
       "dvd                                                                      33\n",
       "dnb                                                                      33\n",
       "md-dermatology                                                           27\n",
       "dnb-otorhinolaryngology                                                  27\n",
       "getinspiredbyremarkablestoriesofpeoplelikeyou                            24\n",
       "md-homeopathy                                                            22\n",
       "diplomainchildhealth(dch)                                                19\n",
       "fellowshipindiabetology                                                  17\n",
       "dgo                                                                      17\n",
       "dlo                                                                      16\n",
       "ms-ent                                                                   14\n",
       "md-ayurvedamedicine                                                      13\n",
       "lceh                                                                     13\n",
       "md-physician                                                             13\n",
       "b.sc                                                                     12\n",
       "dm-cardiology                                                            11\n",
       "frguhs                                                                   10\n",
       "dnb-internalmedicine                                                      9\n",
       "dnb-dermatology                                                           9\n",
       "fellowshipinaestheticmedicine                                             9\n",
       "dnb-familymedicine                                                        8\n",
       "diplomaintuberculosisandchestdiseases(dtcd)                               8\n",
       "fellowshipofcollegeofgeneralpractice(fcgp)                                8\n",
       "frcs-generalsurgery                                                       8\n",
       "mds-oral&maxillofacialsurgery                                             7\n",
       "ms-otorhinolaryngology                                                    7\n",
       "diplomainanesthesiology                                                   7\n",
       "frcp                                                                      6\n",
       "mds-conservativedentistry&endodontics                                     6\n",
       "dm-neurology                                                              6\n",
       "mastersinclinicaldermatology                                              5\n",
       "diplomaincardiology                                                       5\n",
       "diplomaindermatology&venerology                                           5\n",
       "fcps-dermatology                                                          5\n",
       "diplomainfamilymedicine(dfm)                                              5\n",
       "diplomainpracticaldermatology                                             4\n",
       "bems                                                                      4\n",
       "md-generalmedicine                                                        4\n",
       "diplomainmedicalradio-diagnosis                                           4\n",
       "dm-nephrology                                                             4\n",
       "fellowshipindermatosurgery                                                4\n",
       "fellowshipincosmeticdermatology                                           4\n",
       "fellowshipindermatologicallasersurgery                                    4\n",
       "diplomainmedicalcosmetology                                               4\n",
       "afih                                                                      4\n",
       "dm-gastroenterology                                                       4\n",
       "certificatecourseinevidencebaseddiabetesmanagement(ccebdm)                4\n",
       "m.d.(psychiatry)                                                          4\n",
       "diplomainaestheticmedicine                                                3\n",
       "fams-fellowshipoftheacademymedicine                                       3\n",
       "diplomaindiabetes                                                         3\n",
       "mds-prosthodontics                                                        3\n",
       "advancedcertificatecourseindiabetes                                       3\n",
       "diplomainorthopaedics                                                     3\n",
       "fellowshipincosmetology                                                   3\n",
       "fellowshipinrheumatology                                                  3\n",
       "dnb-paediatrics                                                           3\n",
       "g.a.m.s                                                                   3\n",
       "fccm                                                                      3\n",
       "advancedcertificatecourseinaestheticdentistry                             3\n",
       "fccp-pulmonarymedicine                                                    3\n",
       "fellowoftheamericanacademyofdermatology(faad)                             3\n",
       "ccebdm                                                                    3\n",
       "fcd-diabetology                                                           3\n",
       "certificatecourseinmanagementofthyroiddisorder                            3\n",
       "ayurvedicpanchkarma                                                       3\n",
       "diplomaindiabetology                                                      3\n",
       "diplomainhealthadministration                                             3\n",
       "dnb-nephrology                                                            3\n",
       "diplomainent                                                              3\n",
       "daa-diplomainallergyasthmaandimmunology                                   3\n",
       "mds-periodontics                                                          3\n",
       "daa                                                                       3\n",
       "mds-orthodonticsanddentofacialorthopaedics                                3\n",
       "dnb-urology/genito-urinarysurgery                                         3\n",
       "fellowshipinpediatricotolaryngology                                       2\n",
       "masterofhealthsciences(mhsc)                                              2\n",
       "dems                                                                      2\n",
       "bsam                                                                      2\n",
       "dm-endocrinology                                                          2\n",
       "m.h.sc-diabetology                                                        2\n",
       "fellowofacademyofgeneraleducation(fage)                                   2\n",
       "ccst-diabetes&endocrinology                                               2\n",
       "diabetes&metabolism                                                       2\n",
       "diplomaingeriatricmedicine                                                2\n",
       "fics                                                                      2\n",
       "fimsa                                                                     2\n",
       "advancedendotonticcourseonrootcanal                                       2\n",
       "do                                                                        2\n",
       "dnb-orthopedics/orthopedicsurgery                                         2\n",
       "diplomainemergencymedicine                                                2\n",
       "mds-paedodonticsandpreventivedentistry                                    2\n",
       "dpm(psychiatry)                                                           2\n",
       "dvl                                                                       2\n",
       "certifiedinhairtransplantation                                            2\n",
       "certificateinchildhealth(cch)                                             2\n",
       "advancedcourseincosmetologyandaestheticmedicine                           2\n",
       "diplomainvenereology                                                      2\n",
       "fcps-medicine                                                             2\n",
       "dhms                                                                      2\n",
       "md-medicine                                                               2\n",
       "mds-pedodontics                                                           2\n",
       "divisionofclinicalpsychology(dcp)                                         2\n",
       "advancediplomainnutritionanddietetics                                     2\n",
       "certificationcourseindiabetes                                             2\n",
       "dm-oncology                                                               2\n",
       "diplomainpreventive&promotivehealthcare                                   2\n",
       "fellowhairtransplantsurgery                                               2\n",
       "mds-oralmedicineandradiology                                              2\n",
       "dnb-cardiology                                                            2\n",
       "mds-orthodontics                                                          2\n",
       "dnb-obstetrics&gynecology                                                 2\n",
       "fellowshipinhead&neckoncologysurgery                                      2\n",
       "dnb-generalsurgery                                                        2\n",
       "dnb-ophthalmology                                                         2\n",
       "fellowshipinminimalaccesssurgery                                          2\n",
       "dnb-pulmonarymedicine                                                     2\n",
       "fellowshipininfectiousdisease                                             1\n",
       "ccedm                                                                     1\n",
       "b.ac                                                                      1\n",
       "d.orthofellowarthroscopy&arthroplasty(aust)                               1\n",
       "fracp(rheumatology)                                                       1\n",
       "certificateinpediatricotolaryngology-headandnecksurgery                   1\n",
       "ms-ayurveda                                                               1\n",
       "diplomaintropicalmedicinehealth                                           1\n",
       "diplomateamericanacademyofaestheticmedicne                                1\n",
       "dnb-radiotherapy                                                          1\n",
       "clinicalfellowshipinrhinology                                             1\n",
       "fracs                                                                     1\n",
       "fellowshipinnon-invasivecardiology(fic)                                   1\n",
       "basiclifesupport(bls)                                                     1\n",
       "fellowshipinlasers&cosmetology                                            1\n",
       "fellowshipinmedicalcosmetology                                            1\n",
       "fica                                                                      1\n",
       "advancedtrainingprogramindiabetescare                                     1\n",
       "certificatecourseingestationaldiabetes(ccgdm)                             1\n",
       "advancedtraumalifesupport(atls)                                           1\n",
       "dm-rheumatology                                                           1\n",
       "diplomainpsychiatry                                                       1\n",
       "fellowshipinmicroearsurgery                                               1\n",
       "diplomainhairrestorationsurgery                                           1\n",
       "md-diabetology                                                            1\n",
       "certificatecourseingestationaldiabetesmellitus                            1\n",
       "frhs                                                                      1\n",
       "diplomainhospitaladministration                                           1\n",
       "eularcertificateinrheumatology                                            1\n",
       "frcs-otolaryngology                                                       1\n",
       "ba                                                                        1\n",
       "aocinaestheticdentistry                                                   1\n",
       "morth                                                                     1\n",
       "diplomainradiotherapy                                                     1\n",
       "diabetes                                                                  1\n",
       "dnb-respiratorydiseases                                                   1\n",
       "ecfmg(usa)                                                                1\n",
       "diplomainacupuncture                                                      1\n",
       "fellowshipinsurgicaloncology(head&neck)                                   1\n",
       "fellowshipindermatology                                                   1\n",
       "diplomaintraditionalchinesemedicine                                       1\n",
       "advancedcertificationinclinicaldiabetology                                1\n",
       "certificateinaestheticmedicine                                            1\n",
       "acdmc                                                                     1\n",
       "fcsi                                                                      1\n",
       "m.ch                                                                      1\n",
       "diplomainurology                                                          1\n",
       "bums                                                                      1\n",
       "diplomainnaturopathy(nd)                                                  1\n",
       "frcsed                                                                    1\n",
       "certificationininfectiousdiseases                                         1\n",
       "fage                                                                      1\n",
       "fellowshipinjointreplacement                                              1\n",
       "m.d.(e.h)                                                                 1\n",
       "certificateinmedicalcosmetologyandaesthetics                              1\n",
       "d.d                                                                       1\n",
       "diplomainphysicalmedicine&rehabilitation                                  1\n",
       "dorl(ent)                                                                 1\n",
       "fellowindermato-surgery                                                   1\n",
       "cct-endocrinologyanddiabetesmellitus                                      1\n",
       "bims                                                                      1\n",
       "ibclc(usa)                                                                1\n",
       "39yearsexperience                                                         1\n",
       "fellowshipinent                                                           1\n",
       "frcs                                                                      1\n",
       "fellowshipinskullbasesurgery                                              1\n",
       "bsc-zoology                                                               1\n",
       "diplomaindiabetes/endocrinology(middlesexuniversity)                      1\n",
       "fellowoftheroyalaustralasiancollegeofsurgeons                             1\n",
       "fico(uk)                                                                  1\n",
       "fellowofadvancedmicroearsurgery                                           1\n",
       "fellowshipinbreastsurgery                                                 1\n",
       "md-skin&vd                                                                1\n",
       "dm-criticalcaremedicine                                                   1\n",
       "ddvcps                                                                    1\n",
       "fellowshipindiabetology(royalliverpoolacademy-uk)                         1\n",
       "diplomainpublichealth                                                     1\n",
       "dnb-pediatrics                                                            1\n",
       "graduatediplomainfamilymedicine                                           1\n",
       "doctorofhomeopathicmedicine(hmd)                                          1\n",
       "d.h.m                                                                     1\n",
       "mds-publichealthdentistry                                                 1\n",
       "certificateinlaseranddermatology                                          1\n",
       "d.litt-diabetology                                                        1\n",
       "masterofpublichealth(mph)                                                 1\n",
       "fcps-oto-rhino-laryngology                                                1\n",
       "certificateincosmeticdentistry                                            1\n",
       "f.s.r.h                                                                   1\n",
       "fellowshipincosmeticsurgery                                               1\n",
       "bnys                                                                      1\n",
       "mds-oralmedicine                                                          1\n",
       "indiandiplomacriticalcaremedicine(idccm)                                  1\n",
       "bachelorofacupuncture                                                     1\n",
       "cochlearimplantsurgery                                                    1\n",
       "frcpch                                                                    1\n",
       "fellowshipinlaryngologybronchoesophagology                                1\n",
       "frcp-endocrinology                                                        1\n",
       "fellowshipindiabetology(johnshopkinsuniversityschoolofmedicine-usa)       1\n",
       "dafprsfellowshipinaestheticsurgery                                        1\n",
       "fccs                                                                      1\n",
       "diplomainskinaesthetics                                                   1\n",
       "advancecourseinosteoporosis                                               1\n",
       "fellowship(endoscopicsinussurgery)                                        1\n",
       "idcc(isccm)                                                               1\n",
       "certificatecourseinsportsandfitnessnutrition                              1\n",
       "diplomaintrichology-cosmetology                                           1\n",
       "gceh                                                                      1\n",
       "fellowshipindiabetology(theuniversityofliverpool-uk)                      1\n",
       "d.sc                                                                      1\n",
       "mba                                                                       1\n",
       "dfm(uk)                                                                   1\n",
       "mbs(h)                                                                    1\n",
       "bachelorofchiropractic                                                    1\n",
       "advancefellowshipinlaser&dermatosurgery                                   1\n",
       "diplomainendoscopy                                                        1\n",
       "diplomaindietetics&publichealthnutrition(ddphn)                           1\n",
       "acls                                                                      1\n",
       "m.medinfamilymedicine                                                     1\n",
       "diplomainclinicaldermatology(uk)                                          1\n",
       "ccdr                                                                      1\n",
       "bsc                                                                       1\n",
       "drcog                                                                     1\n",
       "diplomaindiabetology(mumbaiuniversity)                                    1\n",
       "diplomainultrasonology                                                    1\n",
       "dtcd(diplomaintbandchestdieseas)                                          1\n",
       "diplomainclinicalpathology                                                1\n",
       "diplomainindustrialhygiene                                                1\n",
       "diplomateofamericanboardofhairrestorationsurgery                          1\n",
       "dnb-radiationoncology                                                     1\n",
       "mds-prosthodontistandcrownbridge                                          1\n",
       "dm-pulmonarymedicine&criticalcaremedicine                                 1\n",
       "f.c.i.p                                                                   1\n",
       "dnb-peripheralvascularsurgery                                             1\n",
       "fellowshipinlaryngology                                                   1\n",
       "f.a.m                                                                     1\n",
       "ccd(diabetology)                                                          1\n",
       "fiams                                                                     1\n",
       "advancedcertificatecourseindentalimplants                                 1\n",
       "facc                                                                      1\n",
       "cct-dermatology                                                           1\n",
       "diplomainmedicallawandethics(pgdmle)                                      1\n",
       "cgo                                                                       1\n",
       "fellowshipinadvancedendoscopicsinussurgery                                1\n",
       "Name: Degree_1, dtype: int64"
      ]
     },
     "execution_count": 151,
     "metadata": {},
     "output_type": "execute_result"
    }
   ],
   "source": [
    "train['Degree_1'].value_counts()"
   ]
  },
  {
   "cell_type": "code",
   "execution_count": 152,
   "metadata": {},
   "outputs": [],
   "source": [
    "# binning required"
   ]
  },
  {
   "cell_type": "code",
   "execution_count": 153,
   "metadata": {},
   "outputs": [],
   "source": [
    "# train['Degree_1'].value_counts().plot.bar()"
   ]
  },
  {
   "cell_type": "code",
   "execution_count": 154,
   "metadata": {},
   "outputs": [
    {
     "data": {
      "text/plain": [
       "nan                                                                                      1962\n",
       "mbbs                                                                                      940\n",
       "md-dermatology                                                                            417\n",
       "ms-ent                                                                                    262\n",
       "md-generalmedicine                                                                        215\n",
       "md-homeopathy                                                                             141\n",
       "md-ayurvedamedicine                                                                       109\n",
       "mds-conservativedentistry&endodontics                                                      89\n",
       "mds-oral&maxillofacialsurgery                                                              76\n",
       "mds                                                                                        75\n",
       "md-medicine                                                                                58\n",
       "mds-prosthodontics                                                                         56\n",
       "ms-otorhinolaryngology                                                                     56\n",
       "mds-orthodontics                                                                           54\n",
       "dnb-ent                                                                                    51\n",
       "md-internalmedicine                                                                        50\n",
       "mds-periodontologyandoralimplantology                                                      43\n",
       "mds-paedodonticsandpreventivedentistry                                                     41\n",
       "mds-prosthodontistandcrownbridge                                                           37\n",
       "mds-orthodonticsanddentofacialorthopaedics                                                 36\n",
       "mds-periodontics                                                                           33\n",
       "certificateindentalimplants                                                                31\n",
       "mds-pedodontics                                                                            28\n",
       "dnb-dermatology&venereology                                                                27\n",
       "dnb                                                                                        24\n",
       "ms-ayurveda                                                                                22\n",
       "mds-oralmedicineandradiology                                                               21\n",
       "phd-orthodontics&dentofacialorthopaedics                                                   20\n",
       "postgraduatediplomaindiabetology(pgdd)                                                     19\n",
       "certificateinchildhealth(cch)                                                              17\n",
       "dnb-otorhinolaryngology                                                                    16\n",
       "venereology&leprosy                                                                        15\n",
       "fellowshipinoralimplantlogy                                                                13\n",
       "bams                                                                                       13\n",
       "fellowshipinaestheticmedicine                                                              13\n",
       "certificateoforalimplantology                                                              12\n",
       "md-skin&vd                                                                                 12\n",
       "ms-generalsurgery                                                                          11\n",
       "md-alternatemedicine                                                                       11\n",
       "cgo                                                                                        11\n",
       "dvd                                                                                        11\n",
       "fellowofacademyofgeneraleducation(fage)                                                    11\n",
       "dhms(diplomainhomeopathicmedicineandsurgery)                                               10\n",
       "frguhs                                                                                      9\n",
       "bds                                                                                         9\n",
       "diplomainotorhinolaryngology(dlo)                                                           8\n",
       "mds-oralpathologyandoralmicrobiology                                                        8\n",
       "md-skin                                                                                     8\n",
       "diplomaindermatology                                                                        8\n",
       "md-pediatrics                                                                               8\n",
       "post-graduatecertificateinoralimplantology(pgcoi)                                           7\n",
       "diplomainacupuncture                                                                        7\n",
       "mrcp(uk)                                                                                    7\n",
       "ddvl                                                                                        7\n",
       "certificateincosmeticdentistry                                                              6\n",
       "certificatecourseinadvancedhomoeopathy(c.c.a.h)                                             6\n",
       "fellowshipindiabetology                                                                     6\n",
       "ms-psychology                                                                               6\n",
       "d.y.a                                                                                       6\n",
       "fellowshipanddiplomateinimplantologyfromicoi(usa)                                           5\n",
       "dnhe                                                                                        5\n",
       "diplomainhealthadministration                                                               5\n",
       "diplomaindietandnutrition                                                                   5\n",
       "ficoi                                                                                       5\n",
       "pgdiplomainclinicalcosmetology(pgdcc)                                                       5\n",
       "certificationinaestheticdentistry                                                           5\n",
       "md-physician                                                                                5\n",
       "mrcs(uk)                                                                                    5\n",
       "bsam                                                                                        5\n",
       "md-pharmacology                                                                             5\n",
       "diplomainimplanthology                                                                      5\n",
       "diplomainnaturopathy(nd)                                                                    4\n",
       "mds-oralpathology                                                                           4\n",
       "diplomainhospitaladministration                                                             4\n",
       "fellowshipinpediatricdermatology                                                            4\n",
       "mba                                                                                         4\n",
       "mba-hospitalmanagement                                                                      4\n",
       "postgraduatediplomainmaternityandchildhealth(pgdmch)                                        4\n",
       "fellowshipofcollegeofgeneralpractice(fcgp)                                                  4\n",
       "postgraduatediplomainemergencyservices(pgdems)                                              4\n",
       "mds-publichealthdentistry                                                                   4\n",
       "mrcgp                                                                                       4\n",
       "mds-endodontics                                                                             4\n",
       "md-anaesthesiology                                                                          4\n",
       "diplomainnaturopathy&yoga(nddy)                                                             4\n",
       "phd-ayurveda                                                                                4\n",
       "dorl(ent)                                                                                   4\n",
       "pgdhhm                                                                                      4\n",
       "ms-counsellingandpsychotherapy                                                              4\n",
       "diplomainhospitalmanagement                                                                 4\n",
       "fellowshipincosmetology                                                                     4\n",
       "mch-headandneckoncology                                                                     4\n",
       "diplomainemergencymedicine                                                                  4\n",
       "fellowshipindermatologicallasersurgery                                                      4\n",
       "masterofhospitaladministration                                                              3\n",
       "certificateininvisiblebraces                                                                3\n",
       "md-pathology                                                                                3\n",
       "dnb-generalmedicine                                                                         3\n",
       "pgindiabetology                                                                             3\n",
       "mch-urology                                                                                 3\n",
       "md-obstetrics&gynaecology                                                                   3\n",
       "certifiedcourseinyoga                                                                       3\n",
       "diplomaincosmetology                                                                        3\n",
       "md-acupuncture                                                                              3\n",
       "fellowshipincosmeticdermatology                                                             3\n",
       "frcs-otolaryngology                                                                         3\n",
       "diplomainpharmacy                                                                           3\n",
       "fcah(fellowshipcourseinadvancehomoepath)                                                    3\n",
       "md-dravyaguna                                                                               3\n",
       "fellowshipinaestheticdentistry(fad)                                                         3\n",
       "postgraduatecertificateinendodontics(pgce)                                                  3\n",
       "mds-prosthodontist&oralimplantologist                                                       3\n",
       "dicoi                                                                                       3\n",
       "md-familymedicine                                                                           3\n",
       "fellowshipinhead&neckoncologysurgery                                                        3\n",
       "ffdrcsi                                                                                     3\n",
       "md-diabetology                                                                              3\n",
       "fcps-dermatology                                                                            3\n",
       "pgcertificatecourseindiabeteseducation(pgdce)                                               3\n",
       "mba(hcs)                                                                                    3\n",
       "certificationinlaserdentistry                                                               3\n",
       "certificationinfullmouthrehabilitation                                                      3\n",
       "lceh                                                                                        3\n",
       "ficd                                                                                        3\n",
       "doctorofhomeopathicmedicine(hmd)                                                            3\n",
       "mds-oralmedicine                                                                            3\n",
       "masterofpublichealth(mph)                                                                   3\n",
       "fellowshipinlaryngologybronchoesophagology                                                  2\n",
       "msc-forensicodontology                                                                      2\n",
       "md-homeopathypsychiatry                                                                     2\n",
       "do                                                                                          2\n",
       "dnb-generalsurgery                                                                          2\n",
       "fdsrcs-fellowshipindentalsurgery                                                            2\n",
       "md-tuberculosis&respiratorydiseases/medicine                                                2\n",
       "fellowshipinimplantology                                                                    2\n",
       "diplomainimplantdentistry                                                                   2\n",
       "certificatecourseinimplantology                                                             2\n",
       "md-cardiology                                                                               2\n",
       "mph                                                                                         2\n",
       "diplomaincounsellingskills                                                                  2\n",
       "postgraduatediplomainclinicalresearch(pgdcr)                                                2\n",
       "ms-ayurvedicgynecology&obstetrics                                                           2\n",
       "diplomainfamilymedicine(dfm)                                                                2\n",
       "pgdiplomainhealth&hospitalmanagement                                                        2\n",
       "mnams-generalsurgery                                                                        2\n",
       "md-anatomy                                                                                  2\n",
       "fellowofinternationalcongressoforalimplantologist                                           2\n",
       "mrcpch(uk)                                                                                  2\n",
       "ms-obstetrics&gynaecology                                                                   2\n",
       "ma-psychology                                                                               2\n",
       "fellowshipindermatosurgery                                                                  2\n",
       "ms-ophthalmology                                                                            2\n",
       "certificateendodontics&pedodontics                                                          2\n",
       "pgmha                                                                                       2\n",
       "fage                                                                                        2\n",
       "fellowshipingastroenterology                                                                2\n",
       "md-tuberculosis&respiratorydiseases/pulmonarymedicine                                       2\n",
       "fcd-diabetology                                                                             2\n",
       "certifiedinpanchkarma                                                                       2\n",
       "mf-homeopathy                                                                               2\n",
       "mba-healthcaremanagement                                                                    2\n",
       "fccs                                                                                        2\n",
       "md-pulmonarymedicine                                                                        2\n",
       "md-communitymedicine                                                                        2\n",
       "fellowshipinmedicalcosmetology                                                              2\n",
       "certifiedadvancecourseinendodontics                                                         2\n",
       "md-homoeopathicphilosophy                                                                   2\n",
       "postgraduatediplomaclinicalcardiology(pgdcc)                                                2\n",
       "frcp                                                                                        2\n",
       "invisaligntrainingcourse                                                                    2\n",
       "fcps-mid.&gynae                                                                             2\n",
       "msc-yoga                                                                                    2\n",
       "diplomaintrichology-cosmetology                                                             2\n",
       "msc-clinicaldermatology                                                                     2\n",
       "postgraduatecertificateinadvancedoralimplantology                                           2\n",
       "bhms                                                                                        2\n",
       "mds-preventiveandpublichealthdentistry                                                      2\n",
       "fellowshipinappliednutrition(fan)                                                           2\n",
       "fellowshipinlasers&aesthetics                                                               2\n",
       "bsc                                                                                         2\n",
       "llb                                                                                         2\n",
       "doctorofmedicine                                                                            2\n",
       "certificationinyoga                                                                         2\n",
       "ccedm                                                                                       2\n",
       "postgraduatediplomainyoga                                                                   2\n",
       "md-homeoorganon                                                                             2\n",
       "mch-neurosurgery                                                                            2\n",
       "md-paediatrics                                                                              2\n",
       "fellowhairtransplantsurgery                                                                 2\n",
       "m.ch                                                                                        2\n",
       "postgraduatediplomainhospital&healthcaremanagement                                          2\n",
       "diplomainpublichealth                                                                       2\n",
       "dnb-internalmedicine                                                                        2\n",
       "bsc-zoology                                                                                 2\n",
       "integratedclinicalhypnotherapy                                                              2\n",
       "md-yogaandrehab                                                                             2\n",
       "frcs-generalsurgery                                                                         2\n",
       "dnb-dermatology                                                                             2\n",
       "fscai                                                                                       2\n",
       "m.d.inkayachikista                                                                          2\n",
       "msc                                                                                         2\n",
       "certifiedbpsdentist                                                                         2\n",
       "m.d.hom.(practiceofmedicine)                                                                2\n",
       "postgraduatediplomainhospitalmanagement                                                     2\n",
       "m.sc.-clinicalnutritionanddietetics                                                         1\n",
       "md(hom)-paeditrics                                                                          1\n",
       "mastersinemergencymedicine                                                                  1\n",
       "md-microbiology                                                                             1\n",
       "csd                                                                                         1\n",
       "doctorateofmedicineinelectrohomoeopathy(mdeh)                                               1\n",
       "certificateindentalimplantology                                                             1\n",
       "fellowshipinendocrinology                                                                   1\n",
       "mcem                                                                                        1\n",
       "dnb-nephrology                                                                              1\n",
       "md-radiodiagnosis/radiology                                                                 1\n",
       "certificatecourseinpanchakarma                                                              1\n",
       "mcip                                                                                        1\n",
       "distancefellowshipindiabetesmanagement                                                      1\n",
       "pgdiplomainemergencytraumacare                                                              1\n",
       "msc-endocrinology(uk)                                                                       1\n",
       "postgraduatediplomainhealthcaremanagement(pgdhm)                                            1\n",
       "md-kayachikitsalaya                                                                         1\n",
       "basiclifesupport(bls)                                                                       1\n",
       "mastersinsurgery(ms)                                                                        1\n",
       "memberoftheroyalcollegeofgeneralpractitionersuk(mrcgp)                                      1\n",
       "certificatecourseingestationaldiabetes(ccgdm)                                               1\n",
       "ccmtd                                                                                       1\n",
       "ms-pediatric                                                                                1\n",
       "m.a-sanskrit                                                                                1\n",
       "fellowshipinminimalaccesssurgery                                                            1\n",
       "diplomaintbandchestdiseases                                                                 1\n",
       "fellowshipindiabetology(royalliverpoolacademy-uk)                                           1\n",
       "mrcp(paed)                                                                                  1\n",
       "md-acupressure                                                                              1\n",
       "fundamentalinoralimplantology                                                               1\n",
       "postgraduateinhomeopathy(london)                                                            1\n",
       "postgraduatediplomainadvancedimplantology                                                   1\n",
       "fracp(rheumatology)                                                                         1\n",
       "diplomainlaserdentistry                                                                     1\n",
       "fellowshipindiabetology(bostonschoolofmedicine-usa)                                         1\n",
       "postgraduatediplomainorthodontics                                                           1\n",
       "dnb-infectiousdisease                                                                       1\n",
       "pgdiplomainpreventiveandpromotivehealthcare(pgdpphc)                                        1\n",
       "m.h.sc-diabetology                                                                          1\n",
       "mch-surgicaloncology                                                                        1\n",
       "mba-hospitaladministration                                                                  1\n",
       "certificatecourseintherapeuticyoga                                                          1\n",
       "fica                                                                                        1\n",
       "educationdiplomainnaturopathyandyoga                                                        1\n",
       "msc-physiology                                                                              1\n",
       "dmd-doctorofdentalmedicine                                                                  1\n",
       "fellowshipincardiacrehabilitation                                                           1\n",
       "fellowshipprograminforensicodontology                                                       1\n",
       "postgraduatediplomainmedicalcosmetology(pgdmc)                                              1\n",
       "diplomainpersonalcounsellingskills(dpcs)                                                    1\n",
       "phd-neuropsychology                                                                         1\n",
       "membershipofthefacultyofdentalsurgeons(mfds)                                                1\n",
       "certificateinhealthmanagement                                                               1\n",
       "fnb-infectiousdisease                                                                       1\n",
       "mds-periodontist&implantalogist                                                             1\n",
       "fellowshipincleftlip&palate                                                                 1\n",
       "diplomaincosmeticdentistry                                                                  1\n",
       "mastersincounsellingandpsychotherapy                                                        1\n",
       "masteroffamilymedicine                                                                      1\n",
       "dm-endocrinology                                                                            1\n",
       "dnb-oral&maxillofacialsurgery                                                               1\n",
       "mds-oral&maxillofacialpathologyandmicrobiology                                              1\n",
       "postgraduatediplomaindiabeticeducation                                                      1\n",
       "pcad(usa)                                                                                   1\n",
       "certificationin“preventingchronicpain:ahumansystemsapproach”                                1\n",
       "internationalcertificateinimplantdentistry                                                  1\n",
       "fellowshipinayurvedicmedicine                                                               1\n",
       "dnb-familymedicine                                                                          1\n",
       "pgce(endodontics)                                                                           1\n",
       "fccp-pulmonarymedicine                                                                      1\n",
       "certificateinfoodandnutrition                                                               1\n",
       "md-dvl                                                                                      1\n",
       "m.d.panchakarma                                                                             1\n",
       "fdssurgicaloraloncology                                                                     1\n",
       "diplomainobesitymanagemnt                                                                   1\n",
       "diplomainaestheticdermatology                                                               1\n",
       "advancedtraumalifesupport(atls)                                                             1\n",
       "mds-preventive&communitydentistry                                                           1\n",
       "certificatecourseinadvanceimplantology                                                      1\n",
       "certificateinaestheticmedicine                                                              1\n",
       "ms-endocrinology&diabetes                                                                   1\n",
       "mch-cardiothoracicsurgery                                                                   1\n",
       "ms-ayurvedicophthalmology                                                                   1\n",
       "certificateinclinicalcosmetology                                                            1\n",
       "pgdha                                                                                       1\n",
       "diplomaofthefacultyoffamilyplanning(dffp)                                                   1\n",
       "md-geriatrics                                                                               1\n",
       "certificateinbotoxandfillers                                                                1\n",
       "dip'nmd                                                                                     1\n",
       "certificatecourseinpositivepsychology                                                       1\n",
       "diplomainaestheticmedicine                                                                  1\n",
       "implantexternshipprogram                                                                    1\n",
       "diplomainsportstherapy                                                                      1\n",
       "comprehensivecourseinmodernendodontics                                                      1\n",
       "fellowshiptraininginintensivecaremedicine                                                   1\n",
       "dat(diplomainaccupressureandfootreflexology)                                                1\n",
       "mba-healthcareadministration                                                                1\n",
       "fellowshipinorthopaedicrehabilitation(for)                                                  1\n",
       "certificationinsmiledesigning                                                               1\n",
       "masterincounsellingpsychology                                                               1\n",
       "mfdsrcs                                                                                     1\n",
       "d.ac                                                                                        1\n",
       "doctorofmedicine(alternatemedicine)                                                         1\n",
       "md-physiology                                                                               1\n",
       "mdayurvedandyog                                                                             1\n",
       "fiams                                                                                       1\n",
       "dnb-ophthalmology                                                                           1\n",
       "md-ayurvedicpharmacology                                                                    1\n",
       "postgraduateinhomoeopathy                                                                   1\n",
       "diplomaintropicalmedicinehealth                                                             1\n",
       "diplomainmedicalcosmetologyandaestheticmedicine                                             1\n",
       "diplomainanatomyphysiology                                                                  1\n",
       "dnb-respiratorydiseases                                                                     1\n",
       "ecfmg(usa)                                                                                  1\n",
       "europeandiplomainintensivecaremedicine(edic)                                                1\n",
       "certificationinpersonalcounsling                                                            1\n",
       "diplomainvenereology                                                                        1\n",
       "md-ayurvedicobstetricsandgynecology                                                         1\n",
       "certificationofaestheticdentistry&periodontics                                              1\n",
       "advancedcertificatecourseindiabetes                                                         1\n",
       "mba(healthcare)                                                                             1\n",
       "certificateinmedicalcosmetology                                                             1\n",
       "masterofhealthsciences(mhsc)                                                                1\n",
       "certificatecourseinoralimplantology                                                         1\n",
       "dpm(psychiatry)                                                                             1\n",
       "fellowshipinhead&necksurgery                                                                1\n",
       "mba-healthcareservices                                                                      1\n",
       "ms-orthopaedics                                                                             1\n",
       "diplomainindustrialhygiene                                                                  1\n",
       "mastersinclinicaldermatology                                                                1\n",
       "m.sc-biochemistry                                                                           1\n",
       "diplomainskinaesthetics                                                                     1\n",
       "fellowshipincosmeticsurgery                                                                 1\n",
       "ms-counselling&psychotherapy                                                                1\n",
       "dnb-paediatrics                                                                             1\n",
       "mds-operativedentistry                                                                      1\n",
       "nutritioncertification                                                                      1\n",
       "memberoftheroyalsocietyforthepromotionofhealth(uk)(mrsh)                                    1\n",
       "phd-clinicalneuroscience(pediatrics)                                                        1\n",
       "m.scinyoga                                                                                  1\n",
       "bpth/bpt                                                                                    1\n",
       "msc-appliedpsychology                                                                       1\n",
       "traininginfacialaesthetics                                                                  1\n",
       "fellowshipinrhinologyandendoscopicskullbasesurgery                                          1\n",
       "cert.(prosthodontics)                                                                       1\n",
       "diplomateofnationalboardexam                                                                1\n",
       "diplomainpanchkarmachikitsa                                                                 1\n",
       "pgdyoga                                                                                     1\n",
       "postgraduatediplomainholistichealthcare                                                     1\n",
       "advancedcertificatecourseindentalimplants                                                   1\n",
       "bems                                                                                        1\n",
       "fellowshipinsnoringsurgery                                                                  1\n",
       "diplomainrheumatology                                                                       1\n",
       "certificationoflifecoach                                                                    1\n",
       "certificateinguidanceandcounselling                                                         1\n",
       "diplomaincounsellingandpsychotherapy                                                        1\n",
       "certifiedinorthodontics                                                                     1\n",
       "diplomainnutritionandhealtheducation                                                        1\n",
       "fellowshipinchildandadolescentpsychiatry                                                    1\n",
       "phd-dermatology&venereology                                                                 1\n",
       "fellowshipinvitreo-retina                                                                   1\n",
       "dnb-pediatrics                                                                              1\n",
       "diplomateinneuromuscularfunctionalorthodonticsandgathology                                  1\n",
       "certificatecourseinmanagementofthyroiddisorder                                              1\n",
       "fellowofindiancollegeofcardiology(ficc)                                                     1\n",
       "frcs                                                                                        1\n",
       "certificatecourseinnutritionanddietetics                                                    1\n",
       "amiessentials-appliedworkshopforaestheticprocedures                                         1\n",
       "pgdpc(postgraduationdiplomainpsychologicalcounselling)                                      1\n",
       "fellowshipinpediatricendocrinology                                                          1\n",
       "masterofclinicaldentistry                                                                   1\n",
       "fcps-generalsurgery                                                                         1\n",
       "diplomainskin&vinerealdisease                                                               1\n",
       "continuingeducationcertificateprogramontemporomandibularjointdisorderandorofacialpain       1\n",
       "europeandiplomainrespiratorymedicine                                                        1\n",
       "md-social&preventivemedicine/communitymedicine                                              1\n",
       "dhms                                                                                        1\n",
       "pgcr                                                                                        1\n",
       "fellowshipsib                                                                               1\n",
       "pgde(cosmetic&estheticdentist)                                                              1\n",
       "certifiedinadvancedorthodontics                                                             1\n",
       "diplomateinoralimplantology                                                                 1\n",
       "diplomainabls(usa)                                                                          1\n",
       "diplomainacupressuretherapy                                                                 1\n",
       "m.ch-orthopaedics                                                                           1\n",
       "ms(shalyatantra)                                                                            1\n",
       "ccst-internalmedicine                                                                       1\n",
       "phd-diabetes                                                                                1\n",
       "pgdiplomaclinicalresearch                                                                   1\n",
       "md-repertory                                                                                1\n",
       "fellowshipinimplantandestheticdentistry                                                     1\n",
       "msc-psychology                                                                              1\n",
       "dlo                                                                                         1\n",
       "f.c.p.s(dermatology)                                                                        1\n",
       "facp                                                                                        1\n",
       "fams-dermatology                                                                            1\n",
       "diplomaofclinicalhypnotherapy                                                               1\n",
       "md-rheumatology                                                                             1\n",
       "md-ayurvedicvachaspati                                                                      1\n",
       "phd-acupuncture                                                                             1\n",
       "pgdinendodontics                                                                            1\n",
       "mcp(ucla-usa)                                                                               1\n",
       "diplomainnaturopathy&yogicscience(dnys)                                                     1\n",
       "dm-gastroenterology                                                                         1\n",
       "md-opthalmology                                                                             1\n",
       "certificatecourseinnadisutra                                                                1\n",
       "fics-ent                                                                                    1\n",
       "fcpsskin&vd                                                                                 1\n",
       "fellowshipincleftlipandcraniofacialsurgery                                                  1\n",
       "d.sc                                                                                        1\n",
       "md-transfusionmedicine                                                                      1\n",
       "gceh                                                                                        1\n",
       "yogainstructor'scourse                                                                      1\n",
       "postgraduatediplomainpsychologicalcounseling                                                1\n",
       "md-(dermatology&std)                                                                        1\n",
       "diplomainnaturopathy&yogicscience(dnyt)                                                     1\n",
       "diplomaofnutrition&dietplanning                                                             1\n",
       "pdcc-pediatricendocrinology                                                                 1\n",
       "certifiedinpedodontics                                                                      1\n",
       "fellowoftheroyalcollegeofsurgeonsofireland                                                  1\n",
       "certificatecourseinreiki                                                                    1\n",
       "doctorofscience(dsc.)                                                                       1\n",
       "fellowshipinclinicalcardiology                                                              1\n",
       "implantologyicoi(usa)                                                                       1\n",
       "md-ophthalmology                                                                            1\n",
       "masteroforallaserapplications                                                               1\n",
       "diplomaingynaecology&obstetrics                                                             1\n",
       "mch-oncology                                                                                1\n",
       "mch-cardiothoracicandvascularsurgery                                                        1\n",
       "diplomaineducationalpsychology                                                              1\n",
       "diplomainindustrialhealth                                                                   1\n",
       "mds-oralandmaxillofacialpathology                                                           1\n",
       "fcps-oto-rhino-laryngology                                                                  1\n",
       "fics                                                                                        1\n",
       "fellowshipindiabetology(royalliverpooluniversityhospital-uk)                                1\n",
       "certificationinnutritionandweightmanagement                                                 1\n",
       "diplomainclinicalpanchakarma                                                                1\n",
       "pgdiplomainpanchakarma                                                                      1\n",
       "fellowshipinmedicalcosmetology(fmc)                                                         1\n",
       "m.s.(ayurved)striroga&prasutitantra                                                         1\n",
       "certificatecourseintuberculosis&chestdiseases                                               1\n",
       "fellowofamericancollegeofendocrinology(face)                                                1\n",
       "fellowshipinjointreplacement                                                                1\n",
       "mds-oralpathalogy&microbiology                                                              1\n",
       "certificatecourseindentallasers                                                             1\n",
       "currentconceptsinamericandentistryadvancesinimplantologyandoralrehabilitation               1\n",
       "mds-implantology                                                                            1\n",
       "certificatecourseincosmeticdermatology&lasers                                               1\n",
       "diplomainyogashikshaka                                                                      1\n",
       "dnb-orthopedics/orthopedicsurgery                                                           1\n",
       "p.gdiplomainaestheticdentistry                                                              1\n",
       "pgdiplomainchildhealth                                                                      1\n",
       "certificateinsportsnutrition                                                                1\n",
       "m.d.(psychiatry)                                                                            1\n",
       "certificationforprofessionalchemicalpeelworkshop                                            1\n",
       "certificateincosmetology                                                                    1\n",
       "fellowshipinphonosurgery                                                                    1\n",
       "familywelfareandpopulation                                                                  1\n",
       "mrcps                                                                                       1\n",
       "mams                                                                                        1\n",
       "certificateinimplantology                                                                   1\n",
       "dnb-pediatricsurgery                                                                        1\n",
       "ms                                                                                          1\n",
       "fracs(generalsurgery)                                                                       1\n",
       "certifiedinmanaligner                                                                       1\n",
       "mds-orthodonticsandorofacialorthopaedics                                                    1\n",
       "diplomainadvancedskinandhairtreatments                                                      1\n",
       "diplomainjournalism                                                                         1\n",
       "mch-surgicalgastroenterology/g.i.surgery                                                    1\n",
       "fccm                                                                                        1\n",
       "Name: Degree_2, dtype: int64"
      ]
     },
     "execution_count": 154,
     "metadata": {},
     "output_type": "execute_result"
    }
   ],
   "source": [
    "train['Degree_2'].value_counts()"
   ]
  },
  {
   "cell_type": "code",
   "execution_count": null,
   "metadata": {},
   "outputs": [],
   "source": [
    "# binning required in all degrees"
   ]
  },
  {
   "cell_type": "code",
   "execution_count": 155,
   "metadata": {},
   "outputs": [],
   "source": [
    "# train['Degree_2'].value_counts().plot.bar()"
   ]
  },
  {
   "cell_type": "code",
   "execution_count": 156,
   "metadata": {},
   "outputs": [
    {
     "data": {
      "text/plain": [
       "nan                                                                              4591\n",
       "mbbs                                                                              257\n",
       "venereology&leprosy                                                               198\n",
       "md-dermatology                                                                    125\n",
       "ms-ent                                                                            105\n",
       "md-generalmedicine                                                                 44\n",
       "ms-otorhinolaryngology                                                             29\n",
       "postgraduatediplomaindiabetology(pgdd)                                             21\n",
       "md-internalmedicine                                                                20\n",
       "ms-generalsurgery                                                                  19\n",
       "md-homeopathy                                                                      15\n",
       "mds-oral&maxillofacialsurgery                                                      14\n",
       "cgo                                                                                13\n",
       "md-ayurvedamedicine                                                                12\n",
       "mds-prosthodontics                                                                 11\n",
       "md-skin&vd                                                                         11\n",
       "mds-orthodontics                                                                   11\n",
       "md-medicine                                                                         9\n",
       "mds-periodontics                                                                    9\n",
       "vd&leprosy                                                                          8\n",
       "mds-conservativedentistry&endodontics                                               8\n",
       "fellowofacademyofgeneraleducation(fage)                                             8\n",
       "mrcs(uk)                                                                            7\n",
       "phd-ayurveda                                                                        7\n",
       "mds-prosthodontistandcrownbridge                                                    7\n",
       "mds                                                                                 7\n",
       "mrcp(uk)                                                                            6\n",
       "phd-orthodontics&dentofacialorthopaedics                                            6\n",
       "ms-psychology                                                                       6\n",
       "pgdiplomainclinicalcosmetology(pgdcc)                                               6\n",
       "md-obstetrics&gynaecology                                                           5\n",
       "fcps-dermatology                                                                    5\n",
       "ms-ayurveda                                                                         5\n",
       "md-skin                                                                             5\n",
       "msc-psychotherapyandcounselling                                                     4\n",
       "mds-paedodonticsandpreventivedentistry                                              4\n",
       "postgraduatediplomainemergencyservices(pgdems)                                      4\n",
       "md-pediatrics                                                                       4\n",
       "dnhe                                                                                4\n",
       "frcp                                                                                3\n",
       "md-alternatemedicine                                                                3\n",
       "mds-oralmedicineandradiology                                                        3\n",
       "md-physician                                                                        3\n",
       "dnb-dermatology&venereology                                                         3\n",
       "pgdmls                                                                              3\n",
       "fellowshipinhead&neckoncologysurgery                                                3\n",
       "msc                                                                                 3\n",
       "postgraduatediplomainclinicalresearch(pgdcr)                                        3\n",
       "certificationinaestheticdentistry                                                   3\n",
       "nutritioncertification                                                              3\n",
       "mds-periodontologyandoralimplantology                                               3\n",
       "fellowshipanddiplomateinimplantologyfromicoi(usa)                                   3\n",
       "msc-masteroforalimplantology(moi)                                                   3\n",
       "certificationinlaserdentistry                                                       3\n",
       "postgraduatecourseindiabetology                                                     2\n",
       "pgdpc(postgraduationdiplomainpsychologicalcounselling)                              2\n",
       "certificateoforalimplantology                                                       2\n",
       "md-diabetology                                                                      2\n",
       "md-anaesthesiology                                                                  2\n",
       "postgraduatediplomainendocrinology                                                  2\n",
       "fellowshipindiabetology                                                             2\n",
       "postgraduatediplomainhealthcaremanagement(pgdhm)                                    2\n",
       "mcps                                                                                2\n",
       "certifiedadvancecourseinendodontics                                                 2\n",
       "postgraduatecertificateinendodontics(pgce)                                          2\n",
       "md-acupuncture                                                                      2\n",
       "mastersdiplomainacupressure                                                         2\n",
       "diplomainemergencymedicine                                                          2\n",
       "pgindiabetology(usa)                                                                2\n",
       "dnb-otorhinolaryngology                                                             2\n",
       "dvd                                                                                 2\n",
       "mams                                                                                2\n",
       "mph                                                                                 2\n",
       "md-communitymedicine                                                                2\n",
       "post-graduatecertificateinoralimplantology(pgcoi)                                   2\n",
       "fellowshipinanti-agingandaestheticmedicine                                          2\n",
       "postmdsraiims                                                                       2\n",
       "mnams(membershipofthenationalacademy)                                               2\n",
       "ficoi                                                                               2\n",
       "fellowshipinimplantology                                                            2\n",
       "postgraduatediplomaclinicalcardiology(pgdcc)                                        2\n",
       "fcps-generalsurgery                                                                 2\n",
       "msc-yoga                                                                            2\n",
       "fcpsskin&vd                                                                         2\n",
       "indiandiplomacriticalcaremedicine(idccm)                                            2\n",
       "memberoftheroyalsocietyforthepromotionofhealth(uk)(mrsh)                            2\n",
       "postgraduatediplomainmedicologicalsystems(pgdms)                                    2\n",
       "diplomainlaserdentistry                                                             2\n",
       "diplomainhospitaladministration                                                     2\n",
       "postgraduatediplomainorthodontics                                                   2\n",
       "msc-clinicaldermatology                                                             2\n",
       "fccp-pulmonarymedicine                                                              2\n",
       "ms-counsellingandpsychotherapy                                                      2\n",
       "mrcgp                                                                               2\n",
       "certificationinfullmouthrehabilitation                                              2\n",
       "mrcps                                                                               2\n",
       "ccmtd                                                                               2\n",
       "postgraduatediplomainyoga                                                           2\n",
       "fcps-oto-rhino-laryngology                                                          2\n",
       "fellowshipinnon-invasivecardiology(fic)                                             2\n",
       "dnb-ent                                                                             2\n",
       "certificationinclearaligners                                                        2\n",
       "certificateinfoodandnutrition                                                       2\n",
       "md-cardiology                                                                       2\n",
       "md-dvl                                                                              2\n",
       "ph.d(doctorofphilosophy)                                                            1\n",
       "md-(dermatology&std)                                                                1\n",
       "doctorofmedicine(alternatemedicine)                                                 1\n",
       "pginlaserdentistry                                                                  1\n",
       "postgraduatecourseinrheumatology                                                    1\n",
       "diach(greece)                                                                       1\n",
       "postgraduatediplomaindiabetes                                                       1\n",
       "postgraduatediplomainfamilymedicine(pgdfm)                                          1\n",
       "phd-homoeopathy                                                                     1\n",
       "md-ayurvedicpharmacology                                                            1\n",
       "mch-plasticsurgery                                                                  1\n",
       "mderm                                                                               1\n",
       "md-rheumatology                                                                     1\n",
       "mnams-generalsurgery                                                                1\n",
       "fcps-mid.&gynae                                                                     1\n",
       "certificateincosmetology                                                            1\n",
       "pgdhhm                                                                              1\n",
       "fellowshipinadvancedendoscopicsinussurgery                                          1\n",
       "postgraduatecertificatecourseinaestheticdentistry                                   1\n",
       "dnb-generalmedicine                                                                 1\n",
       "currentconceptsinamericandentistryadvancesinimplantologyandoralrehabilitation       1\n",
       "scedermatology(rcp-uk)                                                              1\n",
       "basiclifesupport(bls)                                                               1\n",
       "ms-otrohinolaryngology                                                              1\n",
       "msc.-dermatologyskillsandtreatment(universityofhertfordshire)                       1\n",
       "diplomainnaturopathy&yogicscience(dnys)                                             1\n",
       "mba                                                                                 1\n",
       "certifiedanalyticalhypnotherapist                                                   1\n",
       "pgindiabetology                                                                     1\n",
       "mch-surgicaloncology                                                                1\n",
       "pgdiplomainsexualmedicine                                                           1\n",
       "fellowshipinclearpathaligners                                                       1\n",
       "postgraduatecertificateinadvancedoralimplantology                                   1\n",
       "diplomainacupuncture                                                                1\n",
       "postgraduatediplomainmaternityandchildhealth(pgdmch)                                1\n",
       "postgraduatediplomainhealth                                                         1\n",
       "pgcad                                                                               1\n",
       "fellowshipincardiacrehabilitation                                                   1\n",
       "ma(yogashastra)                                                                     1\n",
       "morth                                                                               1\n",
       "frcs-otolaryngology                                                                 1\n",
       "mastersincounsellingandpsychotherapy                                                1\n",
       "diplomainhairrestorationsurgery                                                     1\n",
       "diplomainmedicallawandethics(pgdmle)                                                1\n",
       "germany                                                                             1\n",
       "comprehensivecourseinmodernendodontics                                              1\n",
       "mphilpsychology                                                                     1\n",
       "diplomainpracticaldermatology                                                       1\n",
       "fellowshipinphonosurgery                                                            1\n",
       "diplomainchildhealth(dch)                                                           1\n",
       "advancedcertificationinclinicaldiabetology                                          1\n",
       "fellowshipindermatology                                                             1\n",
       "frcs-generalsurgery                                                                 1\n",
       "fellowoftheamericanacademyofdermatology(faad)                                       1\n",
       "fpfa                                                                                1\n",
       "mcip                                                                                1\n",
       "certificationin“vitalsigns:understandingwhatthebodyistellingus”                     1\n",
       "ma                                                                                  1\n",
       "mnams-nephrology                                                                    1\n",
       "pg-echocardiography                                                                 1\n",
       "pgdiplomainvalueeducationandspirtuality                                             1\n",
       "md-microbiology                                                                     1\n",
       "postgraduatediplomainhealthsciences(pgdhsc)                                         1\n",
       "mds-orthodonticsanddentofacialorthopaedics                                          1\n",
       "ms-ophthalmology                                                                    1\n",
       "postdoctoralfellowshipindiabetology                                                 1\n",
       "diplomainhomoeopathyandbiochemistry                                                 1\n",
       "fellowshipinendocrinology                                                           1\n",
       "postgraduatediplomainsportsmedicine                                                 1\n",
       "fellowshipindermatologicallasersurgery                                              1\n",
       "md-nephrology                                                                       1\n",
       "singapore                                                                           1\n",
       "fellowshipindiabetology&endocrinology                                               1\n",
       "certificateindentalimplants                                                         1\n",
       "memberofthenationalacademyofmedicalsciences                                         1\n",
       "diplomainskinaesthetics                                                             1\n",
       "diplomaofnutrition&dietplanning                                                     1\n",
       "yogainstructor'scourse                                                              1\n",
       "certificateinyoga&meditation                                                        1\n",
       "m.d.(psychiatry)                                                                    1\n",
       "advancedcertificateinendodonticsandesthetics                                        1\n",
       "certifiedinpanchkarma                                                               1\n",
       "mch-urology/genito-urinarysurgery                                                   1\n",
       "diplomainhealthadministration                                                       1\n",
       "md-tb&chest                                                                         1\n",
       "postgraduatediplomaindiabetology(pgdd)(middlesexuniversity-uk)                      1\n",
       "postgraduatediplomaindermotology(pgdd)                                              1\n",
       "postgraduatediplomainmedicalcosmetology(pgdmc)                                      1\n",
       "diplomainimplanthology                                                              1\n",
       "m.ch-orthopaedics                                                                   1\n",
       "dnb-internalmedicine                                                                1\n",
       "p.g.diplomainyoga&meditation                                                        1\n",
       "md-pharmacology                                                                     1\n",
       "phd-acupuncture                                                                     1\n",
       "certificateincosmeticdentistry                                                      1\n",
       "fellowshipinpediatricdermatology                                                    1\n",
       "eularcertificateforrheumaticdiseases                                                1\n",
       "fdsendodontics                                                                      1\n",
       "diplomainobesity&painmanagement                                                     1\n",
       "dsm(siddhamedicine)                                                                 1\n",
       "postgraduatediplomaindiabetology(pgdd)(madrasmedicalcollege)                        1\n",
       "mf-homeopathy                                                                       1\n",
       "tfo(usa)                                                                            1\n",
       "mfdsrcs                                                                             1\n",
       "md-oncology                                                                         1\n",
       "pgcc-rheumatology                                                                   1\n",
       "frguhs                                                                              1\n",
       "fellowshipinoralimplantlogy                                                         1\n",
       "mfgdp-membershipofthefacultyofgeneraldentalpractitioners                            1\n",
       "diplomaofthefacultyoffamilyplanning(dffp)                                           1\n",
       "fnb-criticalcaremedicine                                                            1\n",
       "dnb-pulmonarymedicine                                                               1\n",
       "mch-urology                                                                         1\n",
       "m.sc.yogaandnaturopathy                                                             1\n",
       "dnb-endocrinology                                                                   1\n",
       "mch-burns&plasticsurgery                                                            1\n",
       "weightmanagementconsultantcertificate                                               1\n",
       "ph.dpanchakarma                                                                     1\n",
       "fellowshipincosmetology                                                             1\n",
       "d.dermatology(ay.)                                                                  1\n",
       "certificatecourseinsujoktherapy                                                     1\n",
       "ficd                                                                                1\n",
       "mrcp                                                                                1\n",
       "md-infectiousdiseases                                                               1\n",
       "clinicalnutritionistcertifcate                                                      1\n",
       "postgraduatediplomainperiodonticsandimplantology                                    1\n",
       "mba-hospitalmanagement                                                              1\n",
       "postgraduatediplomainhealthmanagement                                               1\n",
       "frcs                                                                                1\n",
       "md-venereology                                                                      1\n",
       "certificateinorthodontics                                                           1\n",
       "mds-rootcanalspecialist                                                             1\n",
       "certificatecourseinpanchakarma                                                      1\n",
       "dnb                                                                                 1\n",
       "fcps(ent)                                                                           1\n",
       "certificateinbotox                                                                  1\n",
       "ms-counselling&psychotherapy                                                        1\n",
       "diplomainhospitalmanagement                                                         1\n",
       "md-radiotherapy                                                                     1\n",
       "md-tuberculosis&respiratorydiseases/medicine                                        1\n",
       "certificatecourseincosmeticdermatology&lasers                                       1\n",
       "diplomaindietandnutrition                                                           1\n",
       "dih                                                                                 1\n",
       "pg-homeo                                                                            1\n",
       "p.gdiplomaindiabetesmanagement                                                      1\n",
       "fage                                                                                1\n",
       "masteroffamilymedicine                                                              1\n",
       "ms                                                                                  1\n",
       "mch-surgicalgastroenterology/g.i.surgery                                            1\n",
       "f.a.g.e                                                                             1\n",
       "bds                                                                                 1\n",
       "certificatecourseinsportsandfitnessnutrition                                        1\n",
       "diplomaintrichology-cosmetology                                                     1\n",
       "oneyearcertificatecourseinhospitalmanagement                                        1\n",
       "fellowshipinaestheticmedicine                                                       1\n",
       "certificatecourseinimplantology                                                     1\n",
       "diplomainmedicaltrichology                                                          1\n",
       "fscai                                                                               1\n",
       "professionaldiplomainclinicalresearch(pdcr)                                         1\n",
       "ms-ayurvedicgeneralsurgery                                                          1\n",
       "pgnahi                                                                              1\n",
       "fellowshipinmedicalcosmetology(fmc)                                                 1\n",
       "fellowshipinskullbasesurgery                                                        1\n",
       "fellowshipinotologyandneurotology                                                   1\n",
       "memberoftheroyalcollegeofphysicians                                                 1\n",
       "msc-psychology                                                                      1\n",
       "fellowshipinimplantandestheticdentistry                                             1\n",
       "md-(medicine-endocrinology)                                                         1\n",
       "md-bio-chemistry                                                                    1\n",
       "certifiedimplantologist                                                             1\n",
       "fellowshipofcollegeofgeneralpractice(fcgp)                                          1\n",
       "mds-orthodonticsandorofacialorthopaedics                                            1\n",
       "mds-prosthodontist&oralimplantologist                                               1\n",
       "mba(healthcare)                                                                     1\n",
       "invisaligntrainingcourse                                                            1\n",
       "mds-oralpathologyandoralmicrobiology                                                1\n",
       "md-physicalmedicine&rehabilitation                                                  1\n",
       "certificatecourseofoneyearindentalimplants                                          1\n",
       "diplomainskintreatments(uk)                                                         1\n",
       "pgdiplomainmedicaltourism                                                           1\n",
       "ms-orthopaedics                                                                     1\n",
       "diplomaindietetics                                                                  1\n",
       "mrcpch(uk)                                                                          1\n",
       "certificateinnutritionandhealthinhospitalized                                       1\n",
       "Name: Degree_3, dtype: int64"
      ]
     },
     "execution_count": 156,
     "metadata": {},
     "output_type": "execute_result"
    }
   ],
   "source": [
    "train['Degree_3'].value_counts()"
   ]
  },
  {
   "cell_type": "code",
   "execution_count": 157,
   "metadata": {},
   "outputs": [],
   "source": [
    "# train['Degree_3'].value_counts().plot.bar()"
   ]
  },
  {
   "cell_type": "code",
   "execution_count": 158,
   "metadata": {
    "collapsed": true
   },
   "outputs": [
    {
     "data": {
      "text/plain": [
       "nan                                                                                   5589\n",
       "mbbs                                                                                    58\n",
       "venereology&leprosy                                                                     55\n",
       "md-dermatology                                                                          33\n",
       "ms-ent                                                                                  23\n",
       "md-generalmedicine                                                                      12\n",
       "ms-generalsurgery                                                                        9\n",
       "mrcp(uk)                                                                                 6\n",
       "ms-otorhinolaryngology                                                                   6\n",
       "vd&leprosy                                                                               5\n",
       "mds-oral&maxillofacialsurgery                                                            5\n",
       "postgraduatediplomaindiabetology(pgdd)                                                   4\n",
       "mds-orthodonticsanddentofacialorthopaedics                                               4\n",
       "postgraduatecourseindiabetology                                                          4\n",
       "md-ayurvedamedicine                                                                      4\n",
       "mds-conservativedentistry&endodontics                                                    4\n",
       "mds-prosthodontics                                                                       4\n",
       "memberoftheroyalcollegeofphysicians                                                      3\n",
       "postgraduatediplomainclinicalresearch(pgdcr)                                             3\n",
       "md-skin&vd                                                                               3\n",
       "ms-psychology                                                                            3\n",
       "md-medicine                                                                              3\n",
       "postgraduatediplomainhospital&healthcaremanagement                                       3\n",
       "postgraduatediplomainhealthcaremanagement(pgdhm)                                         3\n",
       "certificationinaestheticdentistry                                                        2\n",
       "mrcgp                                                                                    2\n",
       "frguhs                                                                                   2\n",
       "postgraduatediplomainendocrinology                                                       2\n",
       "fellowshipinimplantology                                                                 2\n",
       "post-graduatecertificateinoralimplantology(pgcoi)                                        2\n",
       "mds-oralpathology                                                                        2\n",
       "md-homeopathy                                                                            2\n",
       "csd                                                                                      2\n",
       "md-alternatemedicine                                                                     2\n",
       "mnams(membershipofthenationalacademy)                                                    2\n",
       "yogainstructor'scourse                                                                   2\n",
       "mf-homeopathy                                                                            2\n",
       "phd-ayurveda                                                                             2\n",
       "frcp                                                                                     2\n",
       "mfdsrcs                                                                                  2\n",
       "diplomainnaturopathy&yogicscience(dnys)                                                  1\n",
       "pgindiabetology(usa)                                                                     1\n",
       "phd-homoeopathy                                                                          1\n",
       "pgdhhm                                                                                   1\n",
       "fellowshipanddiplomateinimplantologyfromicoi(usa)                                        1\n",
       "paanchabhauticayurvedacertificate                                                        1\n",
       "certifiedadvancecourseinendodontics                                                      1\n",
       "mcps                                                                                     1\n",
       "mch-plasticsurgery                                                                       1\n",
       "p.g.hom.(london)                                                                         1\n",
       "md-acupuncture                                                                           1\n",
       "diplomainskinpolishingtechnology                                                         1\n",
       "mba                                                                                      1\n",
       "diplomainskinaesthetics                                                                  1\n",
       "md-physician                                                                             1\n",
       "pgindiabetology                                                                          1\n",
       "fellowindianacademyofclinicalmedicine                                                    1\n",
       "certifiedsinusliftsurgeon                                                                1\n",
       "diplomainnaturopathy(nd)                                                                 1\n",
       "dnb-familymedicine                                                                       1\n",
       "memberofroyalcollegeofemergencymedicine(mrcem)                                           1\n",
       "healthandnutrition(ddhn)                                                                 1\n",
       "msc                                                                                      1\n",
       "ma                                                                                       1\n",
       "diplomaintrichology-cosmetology                                                          1\n",
       "mds-periodontologyandoralimplantology                                                    1\n",
       "fellowshipindermatologicallasersurgery                                                   1\n",
       "ficoi                                                                                    1\n",
       "pgdha                                                                                    1\n",
       "md-microbiology                                                                          1\n",
       "ms-ayurveda                                                                              1\n",
       "md-internalmedicine                                                                      1\n",
       "certificatecourseingestationaldiabetes(ccgdm)                                            1\n",
       "postgraduatediplomainemergencyservices(pgdems)                                           1\n",
       "pgdnd                                                                                    1\n",
       "doctorofhomeopathicmedicine(hmd)                                                         1\n",
       "bds                                                                                      1\n",
       "diplomaindermatology                                                                     1\n",
       "uk(mrcpuk)                                                                               1\n",
       "md-cardiology                                                                            1\n",
       "trainingcertificateinhairtransplant                                                      1\n",
       "fellowshipinlasers&advanceddermatology                                                   1\n",
       "pgcr                                                                                     1\n",
       "md-familymedicine                                                                        1\n",
       "mrcs(uk)                                                                                 1\n",
       "postgraduatediplomaindiabetology(pgdd)(johnshopkinsuniversityschoolofmedicine-usa)       1\n",
       "ms-implantolgy                                                                           1\n",
       "m.sc-counsellingandfamilytherapy                                                         1\n",
       "phd-alternativemedicine                                                                  1\n",
       "pgdiplomainclinicalcosmetology(pgdcc)                                                    1\n",
       "postgraduatediplomainorthodontics                                                        1\n",
       "ms-counsellingandpsychotherapy                                                           1\n",
       "md-acupressure                                                                           1\n",
       "certifiednationaldiabeteseducator                                                        1\n",
       "fcps-oto-rhino-laryngology                                                               1\n",
       "diplomainclinicalnutrition                                                               1\n",
       "fellowshipinoralimplantlogy                                                              1\n",
       "fellowshipinclinicalcosmetology                                                          1\n",
       "mnams-dermatology                                                                        1\n",
       "clinicalcardiologycertification                                                          1\n",
       "fellowshipinhead&neckoncologysurgery                                                     1\n",
       "dysc.                                                                                    1\n",
       "phd-psychology                                                                           1\n",
       "md-pediatrics                                                                            1\n",
       "maslp                                                                                    1\n",
       "msc-psychotherapyandcounselling                                                          1\n",
       "ms-urology                                                                               1\n",
       "diplomainbeautytherapy                                                                   1\n",
       "postgraduatediplomainclinicalnutrition&dietetics                                         1\n",
       "fellowofacademyofgeneraleducation(fage)                                                  1\n",
       "mds-orthodonticsandorofacialorthopaedics                                                 1\n",
       "mds-oralpathologyandoralmicrobiology                                                     1\n",
       "msc-masteroforalimplantology(moi)                                                        1\n",
       "invisaligntrainingcourse                                                                 1\n",
       "certifiedbpsdentist                                                                      1\n",
       "fage-fellow                                                                              1\n",
       "diplomateinoralimplantology                                                              1\n",
       "msc-psychology                                                                           1\n",
       "fellowshipindiabetology                                                                  1\n",
       "pgdiplomainemergencytraumacare                                                           1\n",
       "fellowshipcochlearimplanttraining                                                        1\n",
       "pgnahi                                                                                   1\n",
       "ph.d-ent                                                                                 1\n",
       "Name: Degree_4, dtype: int64"
      ]
     },
     "execution_count": 158,
     "metadata": {},
     "output_type": "execute_result"
    }
   ],
   "source": [
    "train['Degree_4'].value_counts()"
   ]
  },
  {
   "cell_type": "code",
   "execution_count": 161,
   "metadata": {},
   "outputs": [],
   "source": [
    "# remove degree_4 and degre_5"
   ]
  },
  {
   "cell_type": "code",
   "execution_count": 159,
   "metadata": {},
   "outputs": [],
   "source": [
    "# train['Degree_4'].value_counts().plot.bar()"
   ]
  },
  {
   "cell_type": "code",
   "execution_count": 160,
   "metadata": {
    "collapsed": true
   },
   "outputs": [
    {
     "data": {
      "text/plain": [
       "nan                                                                 5845\n",
       "venereology&leprosy                                                   24\n",
       "mbbs                                                                  11\n",
       "md-generalmedicine                                                     7\n",
       "ms-otorhinolaryngology                                                 4\n",
       "md-dermatology                                                         4\n",
       "ms-ent                                                                 4\n",
       "postgraduatediplomaindiabetology(pgdd)                                 3\n",
       "md-alternatemedicine                                                   3\n",
       "pgde(cosmetic&estheticdentist)                                         2\n",
       "mrcps                                                                  2\n",
       "cvd                                                                    2\n",
       "ms-orthopaedics                                                        2\n",
       "diplomaintrichology-cosmetology                                        2\n",
       "pgindiabetology                                                        2\n",
       "mrcs(uk)                                                               2\n",
       "md-ccm                                                                 1\n",
       "msc-psychotherapy                                                      1\n",
       "md-pulmonarymedicine                                                   1\n",
       "robertturnerdiabetesresearchtraining                                   1\n",
       "postgraduatecertificateinendodontics(pgce)                             1\n",
       "frcp                                                                   1\n",
       "postgraduatediplomaclinicalcardiology(pgdcc)                           1\n",
       "postgraduatediplomaindiabetology(pgdd)(universityofleicester-uk)       1\n",
       "md-painmanagement                                                      1\n",
       "pdcc-hand                                                              1\n",
       "pgdiplomaintrichology                                                  1\n",
       "fellowshipinnon-invasivecardiology(fic)                                1\n",
       "postgraduatediplomainemergencyservices(pgdems)                         1\n",
       "postgraduatediplomainyoga                                              1\n",
       "implantexternshipprogram                                               1\n",
       "mrcpsych                                                               1\n",
       "mnams-plasticsurgery                                                   1\n",
       "diplomaindietandnutrition                                              1\n",
       "postgraduatediplomaincounselling&psychotherapy                         1\n",
       "phdinliberalstudiesindiabetology(trinitycollege)                       1\n",
       "postgraduateinclinicalpsychology                                       1\n",
       "ms-paediatricssurgery                                                  1\n",
       "mrcp(uk)                                                               1\n",
       "pgdcfs                                                                 1\n",
       "mds-orthodontics                                                       1\n",
       "diplomainfamilymedicine(dfm)                                           1\n",
       "mds-oral&maxillofacialsurgery                                          1\n",
       "certificationinfullmouthrehabilitation                                 1\n",
       "mds-periodontics                                                       1\n",
       "uk(mrcpuk)                                                             1\n",
       "professionalimplantologytrainingcourse(pitc)                           1\n",
       "pgdmls                                                                 1\n",
       "diplomainslimming&lasertreatments                                      1\n",
       "mnams(membershipofthenationalacademy)                                  1\n",
       "certifiedinorthodontics                                                1\n",
       "ms-generalsurgery                                                      1\n",
       "fellowshipinhead&necksurgery                                           1\n",
       "fellowshipinrheumatology                                               1\n",
       "certifiedyogaandpranichealingtherapist                                 1\n",
       "fellowofacademyofgeneraleducation(fage)                                1\n",
       "ms-counselling&psychotherapy                                           1\n",
       "mnams-familymedicine                                                   1\n",
       "Name: Degree_5, dtype: int64"
      ]
     },
     "execution_count": 160,
     "metadata": {},
     "output_type": "execute_result"
    }
   ],
   "source": [
    "train['Degree_5'].value_counts()"
   ]
  },
  {
   "cell_type": "code",
   "execution_count": 162,
   "metadata": {},
   "outputs": [],
   "source": [
    "# train['Degree_5'].value_counts().plot.bar()"
   ]
  },
  {
   "cell_type": "code",
   "execution_count": 163,
   "metadata": {},
   "outputs": [
    {
     "data": {
      "text/plain": [
       "1    3302\n",
       "0    2659\n",
       "Name: Rating_miss, dtype: int64"
      ]
     },
     "execution_count": 163,
     "metadata": {},
     "output_type": "execute_result"
    }
   ],
   "source": [
    "train['Rating_miss'].value_counts()"
   ]
  },
  {
   "cell_type": "code",
   "execution_count": 164,
   "metadata": {},
   "outputs": [
    {
     "data": {
      "text/plain": [
       "<matplotlib.axes._subplots.AxesSubplot at 0x1b9bee29fc8>"
      ]
     },
     "execution_count": 164,
     "metadata": {},
     "output_type": "execute_result"
    },
    {
     "data": {
      "image/png": "[encoded data removed]",
      "text/plain": [
       "<Figure size 432x288 with 1 Axes>"
      ]
     },
     "metadata": {
      "needs_background": "light"
     },
     "output_type": "display_data"
    }
   ],
   "source": [
    "train['Rating_miss'].value_counts().plot.bar()"
   ]
  },
  {
   "cell_type": "code",
   "execution_count": 165,
   "metadata": {},
   "outputs": [
    {
     "data": {
      "text/plain": [
       "HSR Layout                  75\n",
       "Andheri West                70\n",
       "Dwarka                      68\n",
       "Banjara Hills               64\n",
       "Mulund West                 54\n",
       "Borivali West               52\n",
       "Kandivali West              50\n",
       "Indiranagar                 48\n",
       "Malad West                  47\n",
       "Malleswaram                 47\n",
       "Whitefield                  47\n",
       "Pitampura                   45\n",
       "Andheri East                43\n",
       "Vileparle West              43\n",
       "Powai                       42\n",
       "Jubilee Hills               40\n",
       "Bannerghatta Road           39\n",
       "Marathahalli                39\n",
       "Bandra West                 38\n",
       "Ghatkopar East              38\n",
       "Kondapur                    38\n",
       "Janak Puri                  37\n",
       "Rohini                      37\n",
       "Secunderabad                37\n",
       "Adyar                       37\n",
       "Paschim Vihar               36\n",
       "Shalimar Bagh               36\n",
       "KPHB                        35\n",
       "Koramangala                 35\n",
       "Kukatpally                  34\n",
       "R.S. Puram                  34\n",
       "Old Rajendra Nagar          34\n",
       "Madhapur                    32\n",
       "Ghatkopar West              31\n",
       "Gachibowli                  31\n",
       "Anna Nagar                  31\n",
       "Velachery                   30\n",
       "Yelahanka                   30\n",
       "T Nagar                     29\n",
       "Vasant Kunj                 29\n",
       "Mira Road                   29\n",
       "Kandivali East              28\n",
       "Dilsukhnagar                28\n",
       "Chembur                     28\n",
       "Kalyan Nagar                27\n",
       "Bellandur                   27\n",
       "Bhandup West                27\n",
       "Rajajinagar                 27\n",
       "Nungambakkam                26\n",
       "Saket                       26\n",
       "Lajpat Nagar                26\n",
       "nan                         25\n",
       "Sarjapur Road               25\n",
       "Santacruz West              25\n",
       "Porur                       25\n",
       "Kilpauk                     25\n",
       "Mehdipatnam                 24\n",
       "Thoraipakkam                24\n",
       "BTM Layout 2nd Stage        23\n",
       "Goregaon West               23\n",
       "Mayur Vihar Ph-I            22\n",
       "Banashankari 3rd Stage      22\n",
       "Vijayanagar                 22\n",
       "Manikonda                   21\n",
       "Vileparle East              21\n",
       "Vanasthalipuram             21\n",
       "RT Nagar                    21\n",
       "Patparganj                  21\n",
       "Mahim                       21\n",
       "Goregaon East               21\n",
       "Peelamedu                   20\n",
       "Saibaba Colony              20\n",
       "Attapur                     19\n",
       "Tambaram East               19\n",
       "Safdarjung Enclave          19\n",
       "Khar West                   19\n",
       "Dilshad Garden              19\n",
       "Dadar West                  19\n",
       "Yeshwanthpur                18\n",
       "Laxmi Nagar                 18\n",
       "Green Park                  18\n",
       "KR Puram                    18\n",
       "Jayanagar                   18\n",
       "Karol Bagh                  18\n",
       "Kalkaji                     17\n",
       "Electronics City            17\n",
       "Ganapathy                   17\n",
       "Vasant Vihar                17\n",
       "Malviya Nagar               17\n",
       "Sarita Vihar                17\n",
       "Chembur East                17\n",
       "Rajouri Garden              17\n",
       "Nanganallur                 17\n",
       "Tolichowki                  17\n",
       "Malakpet                    16\n",
       "Ramamurthy Nagar            16\n",
       "Basavanagudi                16\n",
       "AS Rao Nagar                16\n",
       "Jayanagar 9 Block           16\n",
       "Mylapore                    16\n",
       "Vikas Puri                  16\n",
       "Dahisar East                16\n",
       "Chanda Nagar                16\n",
       "Chromepet                   15\n",
       "Basaveshwaranagar           15\n",
       "Prabhadevi                  15\n",
       "Krishna Nagar               15\n",
       "Pallikaranai                15\n",
       "Defence Colony              15\n",
       "Thiruvanmiyur               14\n",
       "Pusa Road                   14\n",
       "Kammana Halli               14\n",
       "Alwarpet                    14\n",
       "Greater Kailash Part 1      14\n",
       "Dadar East                  14\n",
       "Valasaravakkam              14\n",
       "Vadapalani                  14\n",
       "Old Airport Road            14\n",
       "Jayanagar 4 Block           14\n",
       "Nagarbhavi                  13\n",
       "Kundalahalli                13\n",
       "Miyapur                     13\n",
       "Ameerpet                    13\n",
       "JP Nagar 7 Phase            13\n",
       "Sahakaranagar               13\n",
       "Panchsheel Park             13\n",
       "Nizampet                    13\n",
       "Vyttila                     13\n",
       "Medavakkam                  13\n",
       "Kolathur                    13\n",
       "Borivali East               13\n",
       "Kakkanad                    13\n",
       "Himayat Nagar               12\n",
       "Vanagaram                   12\n",
       "Richmond Town               12\n",
       "Punjabi Bagh                12\n",
       "Vadavalli                   12\n",
       "Mulund East                 12\n",
       "Madinaguda                  12\n",
       "Arekere                     12\n",
       "Royapettah                  12\n",
       "Greater Kailash Part 2      12\n",
       "Kurla West                  12\n",
       "Moti Nagar                  12\n",
       "Ambattur                    11\n",
       "Punjagutta                  11\n",
       "Kadavanthra                 11\n",
       "JP Nagar 2 Phase            11\n",
       "Begumpet                    11\n",
       "Chetpet                     11\n",
       "Kemps Corner                11\n",
       "Shahdara                    11\n",
       "Mathikere - BEL             11\n",
       "Ramanathapuram              11\n",
       "Malkajgiri                  11\n",
       "Edapally                    11\n",
       "Parel                       11\n",
       "CV Raman Nagar              11\n",
       "Perumbakkam                 11\n",
       "Anna Nagar West             10\n",
       "Kadugodi                    10\n",
       "Rajakilpakkam               10\n",
       "Madipakkam                  10\n",
       "Matunga                     10\n",
       "Kodambakkam                 10\n",
       "Kanakpura Road              10\n",
       "Panampilly Nagar            10\n",
       "Santacruz East              10\n",
       "Kaggadasapura               10\n",
       "Tilak Nagar                 10\n",
       "Frazer Town                 10\n",
       "Pattom                      10\n",
       "Bhayandar East              10\n",
       "Wadala                      10\n",
       "Mayur Vihar Ph-III           9\n",
       "Besant Nagar                 9\n",
       "Sakinaka                     9\n",
       "Tambaram West                9\n",
       "Gandhipuram                  9\n",
       "Banashankari 1st Stage       9\n",
       "Manapakkam                   9\n",
       "Ecil                         9\n",
       "New Friends Colony           9\n",
       "Ashok Nagar                  9\n",
       "Bhayandar West               9\n",
       "Juhu                         9\n",
       "Somajiguda                   9\n",
       "Habsiguda                    9\n",
       "Shaikpet                     9\n",
       "Okhla                        9\n",
       "Banaswadi                    9\n",
       "Jogeshwari West              9\n",
       "Teynampet                    9\n",
       "CR Park                      9\n",
       "West Marredpally             9\n",
       "Hebbal                       9\n",
       "Vidyanagar                   9\n",
       "Arumbakkam                   9\n",
       "Malad East                   9\n",
       "HRBR Layout                  9\n",
       "LB Nagar                     8\n",
       "Bandra East                  8\n",
       "New BEL Road                 8\n",
       "Tambaram                     8\n",
       "Greams Road                  8\n",
       "Coimbatore Racecourse        8\n",
       "Viveknagar                   8\n",
       "Virugambakkam                8\n",
       "Masab Tank                   8\n",
       "Triplicane                   8\n",
       "Patel Nagar West             8\n",
       "Kothapet                     8\n",
       "Domlur                       8\n",
       "Aminjikarai                  8\n",
       "Guduvanchery                 8\n",
       "Ayanavaram                   8\n",
       "Colaba                       8\n",
       "Mazgaon                      8\n",
       "Hari Nagar                   8\n",
       "Banashankari 2nd Stage       8\n",
       "South Extension 2            8\n",
       "East Of Kailash              8\n",
       "Chamarajpet                  8\n",
       "Nallakunta                   8\n",
       "Pandav Nagar                 8\n",
       "Uttam Nagar                  7\n",
       "Chattarpur                   7\n",
       "Lingampally                  7\n",
       "JP Nagar 5 Phase             7\n",
       "Rajarajeshwarinagar          7\n",
       "Villivakkam                  7\n",
       "Pollachi                     7\n",
       "Thousand Lights              7\n",
       "South Extension 1            7\n",
       "Anand Vihar                  7\n",
       "Hauz Khas                    7\n",
       "Ashok Vihar                  7\n",
       "Nagawara                     7\n",
       "Trimulgherry                 7\n",
       "OMR Road                     7\n",
       "Yelahanka New Town           7\n",
       "KK Nagar                     7\n",
       "Serilingampally              7\n",
       "Sanjay Nagar                 7\n",
       "Perungudi                    7\n",
       "Worli                        7\n",
       "Ramesh Nagar                 7\n",
       "BTM Layout                   7\n",
       "Jogeshwari East              7\n",
       "Aluva                        7\n",
       "Borivali                     7\n",
       "Purasawakkam                 7\n",
       "Padmarao Nagar               7\n",
       "Adambakkam                   7\n",
       "Singanallur                  7\n",
       "Saravanampatti               7\n",
       "Santosh Nagar                7\n",
       "Perambur                     7\n",
       "Ramnagar                     6\n",
       "Lower Parel                  6\n",
       "Sanath Nagar                 6\n",
       "Najafgarh                    6\n",
       "Saroor Nagar                 6\n",
       "Tarnaka                      6\n",
       "Erragadda                    6\n",
       "Tripunithura                 6\n",
       "Vidyaranyapura               6\n",
       "Tondiarpet                   6\n",
       "Sadashivanagar               6\n",
       "Bowenpally                   6\n",
       "Mira Bhayandar               6\n",
       "Perumbavoor                  6\n",
       "Saligramam                   6\n",
       "Vikhroli East                6\n",
       "Grant Road                   6\n",
       "Shenoy Nagar                 6\n",
       "Millers Road                 6\n",
       "Oshiwara                     6\n",
       "Banashankari                 6\n",
       "Hitech City                  6\n",
       "BTM Layout 1st Stage         6\n",
       "Mayur Vihar Ph-II            6\n",
       "Egmore                       6\n",
       "New Thippasandra             6\n",
       "Charni Road                  6\n",
       "Ulsoor                       6\n",
       "Chikkadpally                 6\n",
       "Mogappair West               6\n",
       "Alandur                      6\n",
       "Chintal                      6\n",
       "JP Nagar 3 Phase             6\n",
       "Bhandup East                 6\n",
       "Mahadevapura                 6\n",
       "Mogappair East               6\n",
       "Lokhandwala                  6\n",
       "Kengeri                      6\n",
       "West Mambalam                6\n",
       "New Rajendra Nagar           6\n",
       "Sheikh Sarai                 6\n",
       "Gujranwala Town              6\n",
       "Sholinganallur               6\n",
       "Uppal                        6\n",
       "Madhu Vihar                  6\n",
       "Alwal                        6\n",
       "Katwaria Sarai               5\n",
       "Yamuna Vihar                 5\n",
       "Dahisar West                 5\n",
       "Varthur                      5\n",
       "Opera House                  5\n",
       "JP Nagar 6 Phase             5\n",
       "Siddhapudur                  5\n",
       "Sowripalayam                 5\n",
       "Anna Nagar East              5\n",
       "Kothaguda                    5\n",
       "Preet Vihar                  5\n",
       "Jeedimetla                   5\n",
       "Suchitra Circle              5\n",
       "Kamla Nagar                  5\n",
       "Vijaynagar Colony            5\n",
       "Kasturi nagar                5\n",
       "Model Town                   5\n",
       "Pallavaram                   5\n",
       "Hazrat Nizamuddin            5\n",
       "Munirka                      5\n",
       "Choolaimedu                  5\n",
       "Sreekaryam                   5\n",
       "Karkhana                     5\n",
       "Nallagandla                  5\n",
       "Horamavu                     5\n",
       "Karkardooma                  5\n",
       "IP Extension                 5\n",
       "Kumarapuram                  5\n",
       "Sion West                    5\n",
       "Jayanagar 5 Block            5\n",
       "Tardeo                       5\n",
       "Adarsh Nagar                 5\n",
       "RK Puram                     5\n",
       "Ashok Vihar Phase 1          5\n",
       "Dadar                        5\n",
       "Kaloor                       5\n",
       "Peddar Road                  5\n",
       "JP Nagar 1 Phase             5\n",
       "Dwarka Sector 7              4\n",
       "Jayanagar 7 Block            4\n",
       "Raja Annamalai Puram         4\n",
       "Jeevanbhimanagar             4\n",
       "Khairatabad                  4\n",
       "Cuffe Parade                 4\n",
       "JP Nagar                     4\n",
       "Civil Lines                  4\n",
       "Barkatpura                   4\n",
       "Pragathi Nagar               4\n",
       "Mulund                       4\n",
       "Govandi                      4\n",
       "Banerji Road                 4\n",
       "Shivaji Nagar                4\n",
       "HBR Layout                   4\n",
       "Chunabhatti                  4\n",
       "Jasola                       4\n",
       "Marine Drive                 4\n",
       "Sampangiramnagar             4\n",
       "Vikhroli West                4\n",
       "Kurla East                   4\n",
       "Vilankurichi                 4\n",
       "Kalamassery                  4\n",
       "Tatabad                      4\n",
       "Mogappair                    4\n",
       "Saidapet                     4\n",
       "Keshav Puram                 4\n",
       "SR Nagar                     4\n",
       "Old City                     4\n",
       "Jakkur                       4\n",
       "Andheri                      4\n",
       "Alwarthirunagar              4\n",
       "Konanakunte                  4\n",
       "Palarivattom                 4\n",
       "Kumaraswamy Layout           4\n",
       "Yousufguda                   4\n",
       "Naraina Vihar                4\n",
       "Rohini Sector 7              4\n",
       "Wilson Garden                4\n",
       "Chandra Layout               4\n",
       "Vijaynagar                   4\n",
       "Srinagar Colony              4\n",
       "Shakarpur                    4\n",
       "Pammal                       4\n",
       "Rani Bagh                    4\n",
       "Chandivali                   4\n",
       "Washermenpet                 4\n",
       "Koramangala 4 Block          4\n",
       "Nandanam                     4\n",
       "Patel Nagar East             4\n",
       "Poonamalle                   4\n",
       "Kottivakkam                  3\n",
       "Sainikpuri                   3\n",
       "Nariman Point                3\n",
       "Pappanaickenpalayam          3\n",
       "Red Hills                    3\n",
       "Hyderguda                    3\n",
       "Kothanur                     3\n",
       "New Ashok Nagar              3\n",
       "Sowcarpet                    3\n",
       "Coimbatore Ukkadam           3\n",
       "Moosapet                     3\n",
       "Madangir                     3\n",
       "Singasandra                  3\n",
       "Thiruvallom                  3\n",
       "Vikhroli                     3\n",
       "Mira-Bhayandar Road          3\n",
       "Vennala                      3\n",
       "Kochi                        3\n",
       "Nangloi                      3\n",
       "Moosarambagh                 3\n",
       "JB Nagar                     3\n",
       "Musheerabad                  3\n",
       "Perurkada                    3\n",
       "MRC Nagar                    3\n",
       "Karamana                     3\n",
       "Jhilmil Colony               3\n",
       "Lajpat Nagar 4               3\n",
       "Sion                         3\n",
       "Gopalapuram                  3\n",
       "TV Medical College           3\n",
       "Malabar Hill                 3\n",
       "St Thomas Mount              3\n",
       "Mugalivakkam                 3\n",
       "Koramangala 5 Block          3\n",
       "Munnekollal                  3\n",
       "Cotton Hill                  3\n",
       "Kilkattalai                  3\n",
       "Selvapuram                   3\n",
       "Girgaon                      3\n",
       "HAL 2nd Stage                3\n",
       "MG Road                      3\n",
       "Azadpur                      3\n",
       "Shastri Nagar                3\n",
       "Dharavi                      3\n",
       "Hope College                 3\n",
       "Ashok Vihar Phase 3          3\n",
       "Prashant Vihar               3\n",
       "Versova                      3\n",
       "Keelkattalai                 3\n",
       "Sion East                    3\n",
       "Basheerbagh                  3\n",
       "Thoppumpady                  3\n",
       "Coimbatore Central           3\n",
       "Malad                        3\n",
       "Thiruvottiyur                3\n",
       "Palam Colony                 3\n",
       "Jangpura                     3\n",
       "Kompally                     3\n",
       "Shantinagar                  3\n",
       "Sun city                     3\n",
       "Byculla                      3\n",
       "Hoodi                        3\n",
       "Kazhakuttam                  3\n",
       "Angamaly                     3\n",
       "Velandipalayam               3\n",
       "Shivalik                     3\n",
       "Sagarpur                     3\n",
       "Vasanthnagar                 3\n",
       "Khan Market                  3\n",
       "Kailash Colony               3\n",
       "Patel Nagar                  3\n",
       "East Marredpally             3\n",
       "Kandanchavadi                3\n",
       "Langer House                 3\n",
       "Pahar Ganj                   3\n",
       "Dwarka Sector 6              3\n",
       "Lakdikapul                   3\n",
       "Jalahalli                    3\n",
       "Uttarahalli                  3\n",
       "Koramangala 1 Block          3\n",
       "Kolenchery                   3\n",
       "Greater Kailash              3\n",
       "Kirti Nagar                  3\n",
       "Lal baug                     3\n",
       "Ramkoti                      3\n",
       "Kachiguda                    3\n",
       "Elamakkara                   3\n",
       "Mandaveli                    3\n",
       "Kalina                       3\n",
       "Anand Niketan                3\n",
       "Kumara Park West             3\n",
       "Begur                        3\n",
       "Mukherjee Nagar              3\n",
       "Kasavanahalli                3\n",
       "Tagore Garden                3\n",
       "Ramanthapur                  3\n",
       "Karapakkam                   3\n",
       "Koramangala 6 Block          2\n",
       "Moti Bagh                    2\n",
       "Marol                        2\n",
       "Dwarka Sector 5              2\n",
       "Manali                       2\n",
       "Hulimavu                     2\n",
       "Saidabad                     2\n",
       "Malleshpalya                 2\n",
       "Mahalaxmi                    2\n",
       "Palayam                      2\n",
       "Puzhal                       2\n",
       "Abhiramapuram                2\n",
       "Alaknanda                    2\n",
       "Panathur                     2\n",
       "Avadi                        2\n",
       "Sundarapuram                 2\n",
       "Nagpada                      2\n",
       "Balapur                      2\n",
       "Dasarahalli                  2\n",
       "Ulloor                       2\n",
       "Guindy                       2\n",
       "Neelankarai                  2\n",
       "Ernakulam College            2\n",
       "Kandivali                    2\n",
       "Peeragarhi                   2\n",
       "Thanisandra                  2\n",
       "Dahisar                      2\n",
       "Thammanam                    2\n",
       "Tuglakabad                   2\n",
       "T Dasarahalli                2\n",
       "Selaiyur                     2\n",
       "Kodungaiyur                  2\n",
       "Kondli                       2\n",
       "Park Town                    2\n",
       "Gandhi Nagar                 2\n",
       "Sultanpur                    2\n",
       "TVM Pettah                   2\n",
       "Khetwadi                     2\n",
       "Doddanekundi                 2\n",
       "Marine Lines                 2\n",
       "Palluruthy                   2\n",
       "Rohini Sector 22             2\n",
       "Kelambakkam                  2\n",
       "Thirumullaivoyal             2\n",
       "Mallepally                   2\n",
       "Balanagar                    2\n",
       "Ganesh Nagar                 2\n",
       "Vasundhra Enclave            2\n",
       "Vengal Rao Nagar             2\n",
       "Vikrampuri Colony            2\n",
       "King Koti                    2\n",
       "Navalur                      2\n",
       "Amberpet                     2\n",
       "Adugodi                      2\n",
       "Breach Candy                 2\n",
       "Hafeezpet                    2\n",
       "Mahalakshmi Layout           2\n",
       "Vanchiyur                    2\n",
       "Lajpat Nagar III             2\n",
       "Residency Road               2\n",
       "Dwarka Sector 23             2\n",
       "Ram Nagar                    2\n",
       "Vivek Vihar                  2\n",
       "Kuravankonam                 2\n",
       "Bommanahalli                 2\n",
       "Hayathnagar                  2\n",
       "Lothkunta                    2\n",
       "Nagole                       2\n",
       "Kattakada                    2\n",
       "Kavundampalayam              2\n",
       "Richards Town                2\n",
       "Padmanabhanagar              2\n",
       "Kalkere                      2\n",
       "Boduppal                     2\n",
       "Qutab Institutional Area     2\n",
       "Kotturpuram                  2\n",
       "Royapuram                    2\n",
       "Madiwala                     2\n",
       "Sembakkam                    2\n",
       "Balkampet                    2\n",
       "Karwan                       2\n",
       "Kuniamuthur                  2\n",
       "Pappanaickenpalayam West     2\n",
       "Jayanagar 3 Block            2\n",
       "Broadway                     2\n",
       "Charkop                      2\n",
       "Narayanguda                  2\n",
       "Chinchpokli                  2\n",
       "August Kranti Marg           2\n",
       "Seshadripuram                2\n",
       "Kanchanbagh                  2\n",
       "Chanakyapuri                 2\n",
       "Dwarka Sector 22             2\n",
       "Dommasandra                  2\n",
       "Korattur                     2\n",
       "Subhash Nagar                2\n",
       "Bilekahalli                  2\n",
       "Lado Sarai                   2\n",
       "Ambalamukku                  2\n",
       "Langford Road                2\n",
       "Thrikkakara                  2\n",
       "Palavakkam                   2\n",
       "Trombay                      2\n",
       "Veerakeralam                 2\n",
       "Sulur                        2\n",
       "Abids                        2\n",
       "Koothattukulam               2\n",
       "Gowrivakkam                  2\n",
       "Dwarka Sector 3              2\n",
       "New Seemapuri                2\n",
       "Tri Nagar                    2\n",
       "Kaudiar Square               2\n",
       "Vignan Nagar                 2\n",
       "Kanjurmarg                   2\n",
       "Goldwins                     2\n",
       "RTC X Road                   2\n",
       "Molarband                    2\n",
       "Old Bowenpally               2\n",
       "Delhi                        2\n",
       "Chintadripet                 2\n",
       "Rohini Sector 3              2\n",
       "Rohini Sector 4              2\n",
       "Murugeshpalya                2\n",
       "Ernakulam North              2\n",
       "Nizamuddin East              2\n",
       "Edayarpalayam                2\n",
       "Abbigere                     2\n",
       "Begum Bazar                  2\n",
       "Sasthamangalam               2\n",
       "Surajmal Vihar               2\n",
       "Model Town 2                 2\n",
       "Rohini Sector 6              1\n",
       "Chullickal                   1\n",
       "Mahalingapuram               1\n",
       "Yakutpura                    1\n",
       "Netaji Nagar                 1\n",
       "JP Nagar 4 Phase             1\n",
       "PMG Jn                       1\n",
       "Indirapuram                  1\n",
       "Chintalmet                   1\n",
       "Nanjundapuram                1\n",
       "Paravur                      1\n",
       "Bandlaguda                   1\n",
       "Koramangala 2 Block          1\n",
       "Inder Puri                   1\n",
       "Kallambalam                  1\n",
       "Chandni Chowk                1\n",
       "Mankhurd                     1\n",
       "Cherannagar                  1\n",
       "Muttada                      1\n",
       "Rohini Sector 11             1\n",
       "Saraswati Vihar              1\n",
       "Kalyanpuri                   1\n",
       "Harlur                       1\n",
       "Ramapuram                    1\n",
       "Mulanthuruthy                1\n",
       "Vishnu Garden                1\n",
       "Ramamangalam                 1\n",
       "Edapally North               1\n",
       "Pappanaickenpudur            1\n",
       "Darya Ganj                   1\n",
       "Karukappilli                 1\n",
       "Peyad                        1\n",
       "Rana Pratap Bagh             1\n",
       "Manacaud                     1\n",
       "Thonnakkal                   1\n",
       "Sangam Vihar                 1\n",
       "Manjapra                     1\n",
       "TVM Fort                     1\n",
       "Maduravoyal                  1\n",
       "Shivrampally                 1\n",
       "Lodhi Colony                 1\n",
       "Vaduthala                    1\n",
       "Poojapura                    1\n",
       "Vallakkadavoo                1\n",
       "Jayamahal                    1\n",
       "Durga Puri                   1\n",
       "Shakti Nagar                 1\n",
       "Neredmet                     1\n",
       "Srirampuram                  1\n",
       "Ganganagar                   1\n",
       "Thudiyalur                   1\n",
       "Pothencode                   1\n",
       "Tiruvottiyur                 1\n",
       "Vadasserikonam               1\n",
       "Podanur                      1\n",
       "Surya Niketan                1\n",
       "MKB Nagar                    1\n",
       "Mehrauli                     1\n",
       "Kaggalipura                  1\n",
       "Saki Vihar Road              1\n",
       "Kishanbagh                   1\n",
       "e                            1\n",
       "Aya Nagar                    1\n",
       "Valiathura                   1\n",
       "Pezhakkappilly               1\n",
       "Deoli                        1\n",
       "Pattimattam                  1\n",
       "Matunga West                 1\n",
       "Athani                       1\n",
       "Moula Ali                    1\n",
       "Rohini Sector 8              1\n",
       "Nayandahalli                 1\n",
       "Khajaguda                    1\n",
       "Vasant Enclave               1\n",
       "Puthenvelikkara              1\n",
       "Connaught Place              1\n",
       "Fort                         1\n",
       "Nampally                     1\n",
       "Urapakkam                    1\n",
       "Paruthippara                 1\n",
       "Madandapuram                 1\n",
       "Radhakrishnan Salai          1\n",
       "Akshaya nagar                1\n",
       "Model Town 3                 1\n",
       "Churchgate                   1\n",
       "Uppilipalayam                1\n",
       "Domalguda                    1\n",
       "Kilokri                      1\n",
       "Kala Ghoda                   1\n",
       "Malumichampatti              1\n",
       "Kattupakkam                  1\n",
       "Vyasarpadi                   1\n",
       "Chaitanyapuri                1\n",
       "SV Road                      1\n",
       "Ramachandrapuram             1\n",
       "ECR Road                     1\n",
       "Chinmaya Nagar               1\n",
       "TV Museum                    1\n",
       "Sarjapura                    1\n",
       "Jagriti Enclave              1\n",
       "Kovalam                      1\n",
       "Austin Town                  1\n",
       "Thevara                      1\n",
       "RMV 2nd Stage                1\n",
       "Afzalgunj                    1\n",
       "Satya Niketan                1\n",
       "Kalapatti                    1\n",
       "Gulabi Bagh                  1\n",
       "Rajendra Nagar               1\n",
       "IDA Jeedimetla               1\n",
       "Changampuzha Nagar           1\n",
       "Neyyattinkara Town           1\n",
       "Khanpur                      1\n",
       "Periyar Nagar                1\n",
       "Siddapura                    1\n",
       "Jayanagar 1 Block            1\n",
       "Geeta Colony                 1\n",
       "Mount Road                   1\n",
       "Kapashera                    1\n",
       "Cumballa Hill                1\n",
       "Edakochi                     1\n",
       "Nirman Vihar                 1\n",
       "Perumathura                  1\n",
       "Piravom                      1\n",
       "Dwarka Sector 13             1\n",
       "Neeti Bagh                   1\n",
       "Baghlingampally              1\n",
       "Agaram                       1\n",
       "Gulmohar Park                1\n",
       "Kochi M.G.Road               1\n",
       "Sindhi Colony                1\n",
       "Madanpura                    1\n",
       "Muvattupuzha                 1\n",
       "Raj Nagar - 2                1\n",
       "Vazhakulam                   1\n",
       "Sukhdev Vihar                1\n",
       "Peenya                       1\n",
       "Kowdiar                      1\n",
       "Sion Koliwada                1\n",
       "Rathinapuri                  1\n",
       "Palkulangara                 1\n",
       "Nesapakkam                   1\n",
       "Rohini Sector 5              1\n",
       "Nellimoodu                   1\n",
       "Koramangala 8 Block          1\n",
       "GTB Nagar                    1\n",
       "Gottigerre                   1\n",
       "HAL                          1\n",
       "Kothamangalam                1\n",
       "Gandhinagar                  1\n",
       "Koovappady                   1\n",
       "AECS Layout                  1\n",
       "Hennur                       1\n",
       "Rani Khera                   1\n",
       "Vileparle                    1\n",
       "Vigyan Vihar                 1\n",
       "Champapet                    1\n",
       "Peroor                       1\n",
       "Sukh Vihar                   1\n",
       "SG Palya (Kormangla)         1\n",
       "Uday Park                    1\n",
       "Kovilambakkam                1\n",
       "Kakkanad West                1\n",
       "Meera Bagh                   1\n",
       "Mumbai Central               1\n",
       "Kalady                       1\n",
       "Falaknuma                    1\n",
       "Film Nagar                   1\n",
       "VV Puram                     1\n",
       "Rohini Sector 2              1\n",
       "Hyder Nagar                  1\n",
       "Shanti Niketan               1\n",
       "Bakkarwala                   1\n",
       "Dwarka Sector 4              1\n",
       "West Of Chord Road           1\n",
       "Sithalapakkam                1\n",
       "Neb Sarai                    1\n",
       "Jeevan Park                  1\n",
       "Mandapeshwar                 1\n",
       "Tis Hazari                   1\n",
       "Walkeshwar                   1\n",
       "Vellakinar                   1\n",
       "Mettupalayam                 1\n",
       "Shakurpur                    1\n",
       "Kingsway Camp                1\n",
       "Deonar                       1\n",
       "JP Nagar 8 Phase             1\n",
       "Ullal Upanagara              1\n",
       "Eroor South                  1\n",
       "Santacruz                    1\n",
       "Hegde Nagar                  1\n",
       "Anand Lok                    1\n",
       "Cunningham Road              1\n",
       "Jacob Circle                 1\n",
       "Poovachal                    1\n",
       "Vizhinjam                    1\n",
       "Badarpur                     1\n",
       "Nehru Place                  1\n",
       "Pachalam                     1\n",
       "Nettoor                      1\n",
       "Jahangirpuri                 1\n",
       "Rohini Sector 24             1\n",
       "TV Chalai                    1\n",
       "Dickenson Road               1\n",
       "Venjaramoodu                 1\n",
       "Hebbal Kempapura             1\n",
       "Yellareddyguda               1\n",
       "Kuppakonanpudur              1\n",
       "Borabanda                    1\n",
       "Bali Nagar                   1\n",
       "Beeramguda                   1\n",
       "Paradise                     1\n",
       "Ondipudur                    1\n",
       "Perungalathur                1\n",
       "Narela                       1\n",
       "Shankar Vihar                1\n",
       "Thirumala                    1\n",
       "Jamia Nagar                  1\n",
       "Delhi Cantt                  1\n",
       "Goregaon                     1\n",
       "J.C Nagar                    1\n",
       "Nand Nagri                   1\n",
       "Coimbatore Aerodrome         1\n",
       "Venkitapuram                 1\n",
       "Parassala                    1\n",
       "Pondy Bazaar                 1\n",
       "Chitlapakkam                 1\n",
       "Swasthya Vihar               1\n",
       "Model Town 1                 1\n",
       "Mansarover Garden            1\n",
       "Pasur-avanashi               1\n",
       "Subzi Mandi                  1\n",
       "Pappanamcode                 1\n",
       "Rohini Sector 15             1\n",
       "Gorai                        1\n",
       "Silampur                     1\n",
       "Cherai                       1\n",
       "TVM Beach                    1\n",
       "Kovilpalayam                 1\n",
       "Charminar                    1\n",
       "Chanchalguda                 1\n",
       "Balaramapuram                1\n",
       "Karmanghat                   1\n",
       "Kovaipudur                   1\n",
       "Bolarum                      1\n",
       "Dwarka Sector 10             1\n",
       "Name: locality, dtype: int64"
      ]
     },
     "execution_count": 165,
     "metadata": {},
     "output_type": "execute_result"
    }
   ],
   "source": [
    "train['locality'].value_counts()"
   ]
  },
  {
   "cell_type": "code",
   "execution_count": 166,
   "metadata": {},
   "outputs": [],
   "source": [
    "# train['locality'].value_counts().plot.bar()"
   ]
  },
  {
   "cell_type": "code",
   "execution_count": 167,
   "metadata": {},
   "outputs": [
    {
     "data": {
      "text/plain": [
       " Bangalore             1258\n",
       " Mumbai                1219\n",
       " Delhi                 1184\n",
       " Hyderabad              951\n",
       " Chennai                855\n",
       " Coimbatore             228\n",
       " Ernakulam              153\n",
       " Thiruvananthapuram      86\n",
       "nan                      26\n",
       " Sector 5                 1\n",
       "Name: city, dtype: int64"
      ]
     },
     "execution_count": 167,
     "metadata": {},
     "output_type": "execute_result"
    }
   ],
   "source": [
    "train['city'].value_counts()"
   ]
  },
  {
   "cell_type": "code",
   "execution_count": 168,
   "metadata": {},
   "outputs": [],
   "source": [
    "# binning required"
   ]
  },
  {
   "cell_type": "code",
   "execution_count": 169,
   "metadata": {},
   "outputs": [
    {
     "data": {
      "text/plain": [
       "<matplotlib.axes._subplots.AxesSubplot at 0x1b9bee4a508>"
      ]
     },
     "execution_count": 169,
     "metadata": {},
     "output_type": "execute_result"
    },
    {
     "data": {
      "image/png": "[encoded data removed]",
      "text/plain": [
       "<Figure size 432x288 with 1 Axes>"
      ]
     },
     "metadata": {
      "needs_background": "light"
     },
     "output_type": "display_data"
    }
   ],
   "source": [
    "train['city'].value_counts().plot.bar()"
   ]
  },
  {
   "cell_type": "code",
   "execution_count": 170,
   "metadata": {
    "collapsed": true
   },
   "outputs": [
    {
     "data": {
      "text/plain": [
       "0       4460\n",
       "3         76\n",
       "4         75\n",
       "5         67\n",
       "1         63\n",
       "8         58\n",
       "2         53\n",
       "7         50\n",
       "9         47\n",
       "11        47\n",
       "10        45\n",
       "6         44\n",
       "12        42\n",
       "13        39\n",
       "14        34\n",
       "19        31\n",
       "17        30\n",
       "15        29\n",
       "16        25\n",
       "18        24\n",
       "21        20\n",
       "29        20\n",
       "20        19\n",
       "28        18\n",
       "23        17\n",
       "26        15\n",
       "35        14\n",
       "39        14\n",
       "24        14\n",
       "33        12\n",
       "27        12\n",
       "25        12\n",
       "36        11\n",
       "37        10\n",
       "42         9\n",
       "44         9\n",
       "40         9\n",
       "32         9\n",
       "31         9\n",
       "22         9\n",
       "47         8\n",
       "45         8\n",
       "48         8\n",
       "43         8\n",
       "72         8\n",
       "51         7\n",
       "46         7\n",
       "38         7\n",
       "34         7\n",
       "49         7\n",
       "55         6\n",
       "54         6\n",
       "30         6\n",
       "82         5\n",
       "109        5\n",
       "65         5\n",
       "53         5\n",
       "64         5\n",
       "60         5\n",
       "83         4\n",
       "59         4\n",
       "78         4\n",
       "52         4\n",
       "50         4\n",
       "56         4\n",
       "180        4\n",
       "98         4\n",
       "80         4\n",
       "94         4\n",
       "62         3\n",
       "86         3\n",
       "41         3\n",
       "92         3\n",
       "74         3\n",
       "70         3\n",
       "66         3\n",
       "68         3\n",
       "103        3\n",
       "84         3\n",
       "57         3\n",
       "147        3\n",
       "76         3\n",
       "99         3\n",
       "58         3\n",
       "141        3\n",
       "67         3\n",
       "102        3\n",
       "63         3\n",
       "77         2\n",
       "144        2\n",
       "274        2\n",
       "192        2\n",
       "61         2\n",
       "88         2\n",
       "90         2\n",
       "108        2\n",
       "148        2\n",
       "97         2\n",
       "101        2\n",
       "105        2\n",
       "222        2\n",
       "152        2\n",
       "71         2\n",
       "132        2\n",
       "118        2\n",
       "122        2\n",
       "256        2\n",
       "134        2\n",
       "154        2\n",
       "135        2\n",
       "163        2\n",
       "260        1\n",
       "372        1\n",
       "340        1\n",
       "332        1\n",
       "212        1\n",
       "168        1\n",
       "342        1\n",
       "188        1\n",
       "248        1\n",
       "196        1\n",
       "240        1\n",
       "164        1\n",
       "116        1\n",
       "136        1\n",
       "128        1\n",
       "599        1\n",
       "547        1\n",
       "447        1\n",
       "435        1\n",
       "343        1\n",
       "299        1\n",
       "291        1\n",
       "279        1\n",
       "243        1\n",
       "239        1\n",
       "207        1\n",
       "75         1\n",
       "79         1\n",
       "87         1\n",
       "1782       1\n",
       "854        1\n",
       "566        1\n",
       "506        1\n",
       "390        1\n",
       "96         1\n",
       "104        1\n",
       "112        1\n",
       "444        1\n",
       "120        1\n",
       "124        1\n",
       "388        1\n",
       "159        1\n",
       "560        1\n",
       "203        1\n",
       "309        1\n",
       "317        1\n",
       "325        1\n",
       "493        1\n",
       "1061       1\n",
       "1101       1\n",
       "131        1\n",
       "127        1\n",
       "119        1\n",
       "107        1\n",
       "198        1\n",
       "639        1\n",
       "190        1\n",
       "178        1\n",
       "174        1\n",
       "162        1\n",
       "91         1\n",
       "150        1\n",
       "146        1\n",
       "142        1\n",
       "130        1\n",
       "126        1\n",
       "110        1\n",
       "213        1\n",
       "185        1\n",
       "181        1\n",
       "230        1\n",
       "187        1\n",
       "179        1\n",
       "175        1\n",
       "155        1\n",
       "282        1\n",
       "139        1\n",
       "278        1\n",
       "254        1\n",
       "246        1\n",
       "238        1\n",
       "69         1\n",
       "173        1\n",
       "73         1\n",
       "81         1\n",
       "89         1\n",
       "113        1\n",
       "125        1\n",
       "210        1\n",
       "153        1\n",
       "157        1\n",
       "161        1\n",
       "169        1\n",
       "659        1\n",
       "Name: number_of_feed, dtype: int64"
      ]
     },
     "execution_count": 170,
     "metadata": {},
     "output_type": "execute_result"
    }
   ],
   "source": [
    "train['number_of_feed'].value_counts()"
   ]
  },
  {
   "cell_type": "code",
   "execution_count": 201,
   "metadata": {},
   "outputs": [],
   "source": [
    "# we'll only apply binning to city\n",
    "# then, after seeing some results we'll try to reduce the dimensionality by removing\n",
    "# all the degrees and locality coz there are lot of unique values in them"
   ]
  },
  {
   "cell_type": "code",
   "execution_count": 202,
   "metadata": {},
   "outputs": [],
   "source": [
    "# we don't have any criteria to merge different classes, so we won't use binning"
   ]
  },
  {
   "cell_type": "code",
   "execution_count": 320,
   "metadata": {},
   "outputs": [],
   "source": [
    "train['city']=train['city'].str.replace(' Sector 5','nan')"
   ]
  },
  {
   "cell_type": "code",
   "execution_count": 321,
   "metadata": {},
   "outputs": [],
   "source": [
    "# train['city'].value_counts()"
   ]
  },
  {
   "cell_type": "code",
   "execution_count": 322,
   "metadata": {},
   "outputs": [],
   "source": [
    "test['city']=test['city'].str.replace(' Sector 5','nan')"
   ]
  },
  {
   "cell_type": "markdown",
   "metadata": {},
   "source": [
    "# Bivariate Analysis"
   ]
  },
  {
   "cell_type": "code",
   "execution_count": 208,
   "metadata": {},
   "outputs": [
    {
     "data": {
      "text/plain": [
       "Index(['Experience', 'Rating', 'Profile', 'Fees', 'Degree_1', 'Degree_2', 'Degree_3', 'Degree_4', 'Degree_5', 'Rating_miss', 'locality', 'city', 'number_of_feed'], dtype='object')"
      ]
     },
     "execution_count": 208,
     "metadata": {},
     "output_type": "execute_result"
    }
   ],
   "source": [
    "train.columns"
   ]
  },
  {
   "cell_type": "code",
   "execution_count": 209,
   "metadata": {
    "scrolled": true
   },
   "outputs": [
    {
     "data": {
      "text/html": [
       "<div>\n",
       "<style scoped>\n",
       "    .dataframe tbody tr th:only-of-type {\n",
       "        vertical-align: middle;\n",
       "    }\n",
       "\n",
       "    .dataframe tbody tr th {\n",
       "        vertical-align: top;\n",
       "    }\n",
       "\n",
       "    .dataframe thead th {\n",
       "        text-align: right;\n",
       "    }\n",
       "</style>\n",
       "<table border=\"1\" class=\"dataframe\">\n",
       "  <thead>\n",
       "    <tr style=\"text-align: right;\">\n",
       "      <th></th>\n",
       "      <th>Fees</th>\n",
       "    </tr>\n",
       "    <tr>\n",
       "      <th>city</th>\n",
       "      <th></th>\n",
       "    </tr>\n",
       "  </thead>\n",
       "  <tbody>\n",
       "    <tr>\n",
       "      <td>Bangalore</td>\n",
       "      <td>328.842607</td>\n",
       "    </tr>\n",
       "    <tr>\n",
       "      <td>Chennai</td>\n",
       "      <td>283.602339</td>\n",
       "    </tr>\n",
       "    <tr>\n",
       "      <td>Coimbatore</td>\n",
       "      <td>154.298246</td>\n",
       "    </tr>\n",
       "    <tr>\n",
       "      <td>Delhi</td>\n",
       "      <td>363.006757</td>\n",
       "    </tr>\n",
       "    <tr>\n",
       "      <td>Ernakulam</td>\n",
       "      <td>188.431373</td>\n",
       "    </tr>\n",
       "    <tr>\n",
       "      <td>Hyderabad</td>\n",
       "      <td>307.507886</td>\n",
       "    </tr>\n",
       "    <tr>\n",
       "      <td>Mumbai</td>\n",
       "      <td>308.292863</td>\n",
       "    </tr>\n",
       "    <tr>\n",
       "      <td>Thiruvananthapuram</td>\n",
       "      <td>167.267442</td>\n",
       "    </tr>\n",
       "    <tr>\n",
       "      <td>nan</td>\n",
       "      <td>112.962963</td>\n",
       "    </tr>\n",
       "  </tbody>\n",
       "</table>\n",
       "</div>"
      ],
      "text/plain": [
       "                           Fees\n",
       "city                           \n",
       " Bangalore           328.842607\n",
       " Chennai             283.602339\n",
       " Coimbatore          154.298246\n",
       " Delhi               363.006757\n",
       " Ernakulam           188.431373\n",
       " Hyderabad           307.507886\n",
       " Mumbai              308.292863\n",
       " Thiruvananthapuram  167.267442\n",
       "nan                  112.962963"
      ]
     },
     "execution_count": 209,
     "metadata": {},
     "output_type": "execute_result"
    }
   ],
   "source": [
    "train.groupby('city').mean()[['Fees']]"
   ]
  },
  {
   "cell_type": "code",
   "execution_count": 212,
   "metadata": {},
   "outputs": [
    {
     "data": {
      "text/plain": [
       "<matplotlib.axes._subplots.AxesSubplot at 0x1b9bf499688>"
      ]
     },
     "execution_count": 212,
     "metadata": {},
     "output_type": "execute_result"
    },
    {
     "data": {
      "image/png": "[encoded data removed]",
      "text/plain": [
       "<Figure size 432x288 with 1 Axes>"
      ]
     },
     "metadata": {
      "needs_background": "light"
     },
     "output_type": "display_data"
    }
   ],
   "source": [
    "train.groupby('city').mean()[['Fees']].plot.bar()"
   ]
  },
  {
   "cell_type": "code",
   "execution_count": 210,
   "metadata": {
    "scrolled": true
   },
   "outputs": [
    {
     "data": {
      "text/html": [
       "<div>\n",
       "<style scoped>\n",
       "    .dataframe tbody tr th:only-of-type {\n",
       "        vertical-align: middle;\n",
       "    }\n",
       "\n",
       "    .dataframe tbody tr th {\n",
       "        vertical-align: top;\n",
       "    }\n",
       "\n",
       "    .dataframe thead th {\n",
       "        text-align: right;\n",
       "    }\n",
       "</style>\n",
       "<table border=\"1\" class=\"dataframe\">\n",
       "  <thead>\n",
       "    <tr style=\"text-align: right;\">\n",
       "      <th></th>\n",
       "      <th>Fees</th>\n",
       "    </tr>\n",
       "    <tr>\n",
       "      <th>Profile</th>\n",
       "      <th></th>\n",
       "    </tr>\n",
       "  </thead>\n",
       "  <tbody>\n",
       "    <tr>\n",
       "      <td>Ayurveda</td>\n",
       "      <td>238.968193</td>\n",
       "    </tr>\n",
       "    <tr>\n",
       "      <td>Dentist</td>\n",
       "      <td>238.199714</td>\n",
       "    </tr>\n",
       "    <tr>\n",
       "      <td>Dermatologists</td>\n",
       "      <td>393.133462</td>\n",
       "    </tr>\n",
       "    <tr>\n",
       "      <td>ENT Specialist</td>\n",
       "      <td>387.321429</td>\n",
       "    </tr>\n",
       "    <tr>\n",
       "      <td>General Medicine</td>\n",
       "      <td>313.908781</td>\n",
       "    </tr>\n",
       "    <tr>\n",
       "      <td>Homeopath</td>\n",
       "      <td>306.499407</td>\n",
       "    </tr>\n",
       "  </tbody>\n",
       "</table>\n",
       "</div>"
      ],
      "text/plain": [
       "                        Fees\n",
       "Profile                     \n",
       "Ayurveda          238.968193\n",
       "Dentist           238.199714\n",
       "Dermatologists    393.133462\n",
       "ENT Specialist    387.321429\n",
       "General Medicine  313.908781\n",
       "Homeopath         306.499407"
      ]
     },
     "execution_count": 210,
     "metadata": {},
     "output_type": "execute_result"
    }
   ],
   "source": [
    "train.groupby('Profile').mean()[['Fees']]"
   ]
  },
  {
   "cell_type": "code",
   "execution_count": 213,
   "metadata": {},
   "outputs": [
    {
     "data": {
      "text/plain": [
       "<matplotlib.axes._subplots.AxesSubplot at 0x1b9c04e0708>"
      ]
     },
     "execution_count": 213,
     "metadata": {},
     "output_type": "execute_result"
    },
    {
     "data": {
      "image/png": "[encoded data removed]",
      "text/plain": [
       "<Figure size 432x288 with 1 Axes>"
      ]
     },
     "metadata": {
      "needs_background": "light"
     },
     "output_type": "display_data"
    }
   ],
   "source": [
    "train.groupby('Profile').mean()[['Fees']].plot.bar()"
   ]
  },
  {
   "cell_type": "code",
   "execution_count": 211,
   "metadata": {},
   "outputs": [
    {
     "data": {
      "text/html": [
       "<div>\n",
       "<style scoped>\n",
       "    .dataframe tbody tr th:only-of-type {\n",
       "        vertical-align: middle;\n",
       "    }\n",
       "\n",
       "    .dataframe tbody tr th {\n",
       "        vertical-align: top;\n",
       "    }\n",
       "\n",
       "    .dataframe thead th {\n",
       "        text-align: right;\n",
       "    }\n",
       "</style>\n",
       "<table border=\"1\" class=\"dataframe\">\n",
       "  <thead>\n",
       "    <tr style=\"text-align: right;\">\n",
       "      <th></th>\n",
       "      <th>Fees</th>\n",
       "    </tr>\n",
       "    <tr>\n",
       "      <th>Rating_miss</th>\n",
       "      <th></th>\n",
       "    </tr>\n",
       "  </thead>\n",
       "  <tbody>\n",
       "    <tr>\n",
       "      <td>0</td>\n",
       "      <td>342.890184</td>\n",
       "    </tr>\n",
       "    <tr>\n",
       "      <td>1</td>\n",
       "      <td>279.804058</td>\n",
       "    </tr>\n",
       "  </tbody>\n",
       "</table>\n",
       "</div>"
      ],
      "text/plain": [
       "                   Fees\n",
       "Rating_miss            \n",
       "0            342.890184\n",
       "1            279.804058"
      ]
     },
     "execution_count": 211,
     "metadata": {},
     "output_type": "execute_result"
    }
   ],
   "source": [
    "train.groupby('Rating_miss').mean()[['Fees']]"
   ]
  },
  {
   "cell_type": "code",
   "execution_count": 214,
   "metadata": {},
   "outputs": [
    {
     "data": {
      "text/plain": [
       "<matplotlib.axes._subplots.AxesSubplot at 0x1b9be7d4608>"
      ]
     },
     "execution_count": 214,
     "metadata": {},
     "output_type": "execute_result"
    },
    {
     "data": {
      "image/png": "[encoded data removed]",
      "text/plain": [
       "<Figure size 432x288 with 1 Axes>"
      ]
     },
     "metadata": {
      "needs_background": "light"
     },
     "output_type": "display_data"
    }
   ],
   "source": [
    "train.groupby('Rating_miss').mean()[['Fees']].plot.bar()"
   ]
  },
  {
   "cell_type": "code",
   "execution_count": 216,
   "metadata": {},
   "outputs": [
    {
     "data": {
      "text/plain": [
       "<seaborn.axisgrid.PairGrid at 0x1b9c11b8c08>"
      ]
     },
     "execution_count": 216,
     "metadata": {},
     "output_type": "execute_result"
    },
    {
     "data": {
      "image/png": "[encoded data removed]",
      "text/plain": [
       "<Figure size 720x720 with 20 Axes>"
      ]
     },
     "metadata": {
      "needs_background": "light"
     },
     "output_type": "display_data"
    }
   ],
   "source": [
    "sns.pairplot(train,vars=['Experience','Rating','Fees','number_of_feed'])"
   ]
  },
  {
   "cell_type": "markdown",
   "metadata": {},
   "source": [
    "# Encoding"
   ]
  },
  {
   "cell_type": "code",
   "execution_count": 323,
   "metadata": {},
   "outputs": [],
   "source": [
    "from sklearn.preprocessing import LabelEncoder\n",
    "def le(df,col):\n",
    "    lab=LabelEncoder()\n",
    "    df[col]=pd.Series(lab.fit_transform(df[col]))"
   ]
  },
  {
   "cell_type": "code",
   "execution_count": 324,
   "metadata": {},
   "outputs": [],
   "source": [
    "# drop degree 4 and 5\n",
    "# train.drop(['Degree_4','Degree_5'],axis=1,inplace=True)\n",
    "# test.drop(['Degree_4','Degree_5'],axis=1,inplace=True)"
   ]
  },
  {
   "cell_type": "code",
   "execution_count": 325,
   "metadata": {},
   "outputs": [
    {
     "data": {
      "text/plain": [
       "Experience         int64\n",
       "Rating             int64\n",
       "Profile           object\n",
       "Fees               int64\n",
       "Degree_1          object\n",
       "Degree_2          object\n",
       "Degree_3          object\n",
       "Degree_4          object\n",
       "Degree_5          object\n",
       "Rating_miss        int64\n",
       "locality          object\n",
       "city              object\n",
       "number_of_feed     int64\n",
       "dtype: object"
      ]
     },
     "execution_count": 325,
     "metadata": {},
     "output_type": "execute_result"
    }
   ],
   "source": [
    "train.dtypes"
   ]
  },
  {
   "cell_type": "code",
   "execution_count": 326,
   "metadata": {},
   "outputs": [],
   "source": [
    "le(train,'Profile')\n",
    "le(train,'Degree_1')\n",
    "le(train,'Degree_2')\n",
    "le(train,'Degree_3')\n",
    "le(train,'Degree_4')\n",
    "le(train,'Degree_5')\n",
    "le(train,'locality')\n",
    "le(train,'city')"
   ]
  },
  {
   "cell_type": "code",
   "execution_count": 327,
   "metadata": {},
   "outputs": [],
   "source": [
    "le(test,'Profile')\n",
    "le(test,'Degree_1')\n",
    "le(test,'Degree_2')\n",
    "le(test,'Degree_3')\n",
    "le(test,'Degree_4')\n",
    "le(test,'Degree_5')\n",
    "le(test,'locality')\n",
    "le(test,'city')"
   ]
  },
  {
   "cell_type": "markdown",
   "metadata": {},
   "source": [
    "# Comparison of two data sets"
   ]
  },
  {
   "cell_type": "code",
   "execution_count": 328,
   "metadata": {},
   "outputs": [
    {
     "data": {
      "text/html": [
       "<div>\n",
       "<style scoped>\n",
       "    .dataframe tbody tr th:only-of-type {\n",
       "        vertical-align: middle;\n",
       "    }\n",
       "\n",
       "    .dataframe tbody tr th {\n",
       "        vertical-align: top;\n",
       "    }\n",
       "\n",
       "    .dataframe thead th {\n",
       "        text-align: right;\n",
       "    }\n",
       "</style>\n",
       "<table border=\"1\" class=\"dataframe\">\n",
       "  <thead>\n",
       "    <tr style=\"text-align: right;\">\n",
       "      <th></th>\n",
       "      <th>Experience</th>\n",
       "      <th>Rating</th>\n",
       "      <th>Profile</th>\n",
       "      <th>Fees</th>\n",
       "      <th>Degree_1</th>\n",
       "      <th>Degree_2</th>\n",
       "      <th>Degree_3</th>\n",
       "      <th>Degree_4</th>\n",
       "      <th>Degree_5</th>\n",
       "      <th>Rating_miss</th>\n",
       "      <th>locality</th>\n",
       "      <th>city</th>\n",
       "      <th>number_of_feed</th>\n",
       "    </tr>\n",
       "  </thead>\n",
       "  <tbody>\n",
       "    <tr>\n",
       "      <td>0</td>\n",
       "      <td>24</td>\n",
       "      <td>100</td>\n",
       "      <td>5</td>\n",
       "      <td>100</td>\n",
       "      <td>26</td>\n",
       "      <td>330</td>\n",
       "      <td>226</td>\n",
       "      <td>90</td>\n",
       "      <td>38</td>\n",
       "      <td>0</td>\n",
       "      <td>296</td>\n",
       "      <td>4</td>\n",
       "      <td>16</td>\n",
       "    </tr>\n",
       "    <tr>\n",
       "      <td>1</td>\n",
       "      <td>12</td>\n",
       "      <td>98</td>\n",
       "      <td>0</td>\n",
       "      <td>350</td>\n",
       "      <td>22</td>\n",
       "      <td>316</td>\n",
       "      <td>226</td>\n",
       "      <td>90</td>\n",
       "      <td>38</td>\n",
       "      <td>0</td>\n",
       "      <td>855</td>\n",
       "      <td>0</td>\n",
       "      <td>76</td>\n",
       "    </tr>\n",
       "    <tr>\n",
       "      <td>2</td>\n",
       "      <td>9</td>\n",
       "      <td>0</td>\n",
       "      <td>3</td>\n",
       "      <td>300</td>\n",
       "      <td>246</td>\n",
       "      <td>411</td>\n",
       "      <td>226</td>\n",
       "      <td>90</td>\n",
       "      <td>38</td>\n",
       "      <td>1</td>\n",
       "      <td>452</td>\n",
       "      <td>0</td>\n",
       "      <td>0</td>\n",
       "    </tr>\n",
       "    <tr>\n",
       "      <td>3</td>\n",
       "      <td>12</td>\n",
       "      <td>0</td>\n",
       "      <td>0</td>\n",
       "      <td>250</td>\n",
       "      <td>22</td>\n",
       "      <td>12</td>\n",
       "      <td>226</td>\n",
       "      <td>90</td>\n",
       "      <td>38</td>\n",
       "      <td>1</td>\n",
       "      <td>68</td>\n",
       "      <td>0</td>\n",
       "      <td>0</td>\n",
       "    </tr>\n",
       "    <tr>\n",
       "      <td>4</td>\n",
       "      <td>20</td>\n",
       "      <td>100</td>\n",
       "      <td>0</td>\n",
       "      <td>250</td>\n",
       "      <td>22</td>\n",
       "      <td>422</td>\n",
       "      <td>226</td>\n",
       "      <td>90</td>\n",
       "      <td>38</td>\n",
       "      <td>0</td>\n",
       "      <td>335</td>\n",
       "      <td>1</td>\n",
       "      <td>4</td>\n",
       "    </tr>\n",
       "    <tr>\n",
       "      <td>5</td>\n",
       "      <td>8</td>\n",
       "      <td>0</td>\n",
       "      <td>0</td>\n",
       "      <td>100</td>\n",
       "      <td>22</td>\n",
       "      <td>422</td>\n",
       "      <td>226</td>\n",
       "      <td>90</td>\n",
       "      <td>38</td>\n",
       "      <td>1</td>\n",
       "      <td>604</td>\n",
       "      <td>1</td>\n",
       "      <td>0</td>\n",
       "    </tr>\n",
       "    <tr>\n",
       "      <td>6</td>\n",
       "      <td>42</td>\n",
       "      <td>0</td>\n",
       "      <td>5</td>\n",
       "      <td>200</td>\n",
       "      <td>26</td>\n",
       "      <td>422</td>\n",
       "      <td>226</td>\n",
       "      <td>90</td>\n",
       "      <td>38</td>\n",
       "      <td>1</td>\n",
       "      <td>324</td>\n",
       "      <td>3</td>\n",
       "      <td>0</td>\n",
       "    </tr>\n",
       "    <tr>\n",
       "      <td>7</td>\n",
       "      <td>10</td>\n",
       "      <td>99</td>\n",
       "      <td>1</td>\n",
       "      <td>200</td>\n",
       "      <td>24</td>\n",
       "      <td>422</td>\n",
       "      <td>226</td>\n",
       "      <td>90</td>\n",
       "      <td>38</td>\n",
       "      <td>0</td>\n",
       "      <td>33</td>\n",
       "      <td>0</td>\n",
       "      <td>0</td>\n",
       "    </tr>\n",
       "    <tr>\n",
       "      <td>8</td>\n",
       "      <td>14</td>\n",
       "      <td>0</td>\n",
       "      <td>4</td>\n",
       "      <td>100</td>\n",
       "      <td>246</td>\n",
       "      <td>327</td>\n",
       "      <td>226</td>\n",
       "      <td>90</td>\n",
       "      <td>38</td>\n",
       "      <td>1</td>\n",
       "      <td>540</td>\n",
       "      <td>5</td>\n",
       "      <td>0</td>\n",
       "    </tr>\n",
       "    <tr>\n",
       "      <td>9</td>\n",
       "      <td>23</td>\n",
       "      <td>0</td>\n",
       "      <td>1</td>\n",
       "      <td>100</td>\n",
       "      <td>24</td>\n",
       "      <td>11</td>\n",
       "      <td>226</td>\n",
       "      <td>90</td>\n",
       "      <td>38</td>\n",
       "      <td>1</td>\n",
       "      <td>39</td>\n",
       "      <td>4</td>\n",
       "      <td>0</td>\n",
       "    </tr>\n",
       "  </tbody>\n",
       "</table>\n",
       "</div>"
      ],
      "text/plain": [
       "   Experience  Rating  Profile  Fees  Degree_1  Degree_2  Degree_3  Degree_4  Degree_5  Rating_miss  locality  city  number_of_feed\n",
       "0          24     100        5   100        26       330       226        90        38            0       296     4              16\n",
       "1          12      98        0   350        22       316       226        90        38            0       855     0              76\n",
       "2           9       0        3   300       246       411       226        90        38            1       452     0               0\n",
       "3          12       0        0   250        22        12       226        90        38            1        68     0               0\n",
       "4          20     100        0   250        22       422       226        90        38            0       335     1               4\n",
       "5           8       0        0   100        22       422       226        90        38            1       604     1               0\n",
       "6          42       0        5   200        26       422       226        90        38            1       324     3               0\n",
       "7          10      99        1   200        24       422       226        90        38            0        33     0               0\n",
       "8          14       0        4   100       246       327       226        90        38            1       540     5               0\n",
       "9          23       0        1   100        24        11       226        90        38            1        39     4               0"
      ]
     },
     "execution_count": 328,
     "metadata": {},
     "output_type": "execute_result"
    }
   ],
   "source": [
    "train.head(10)"
   ]
  },
  {
   "cell_type": "code",
   "execution_count": 329,
   "metadata": {},
   "outputs": [
    {
     "data": {
      "text/html": [
       "<div>\n",
       "<style scoped>\n",
       "    .dataframe tbody tr th:only-of-type {\n",
       "        vertical-align: middle;\n",
       "    }\n",
       "\n",
       "    .dataframe tbody tr th {\n",
       "        vertical-align: top;\n",
       "    }\n",
       "\n",
       "    .dataframe thead th {\n",
       "        text-align: right;\n",
       "    }\n",
       "</style>\n",
       "<table border=\"1\" class=\"dataframe\">\n",
       "  <thead>\n",
       "    <tr style=\"text-align: right;\">\n",
       "      <th></th>\n",
       "      <th>Experience</th>\n",
       "      <th>Rating</th>\n",
       "      <th>Profile</th>\n",
       "      <th>Degree_1</th>\n",
       "      <th>Degree_2</th>\n",
       "      <th>Degree_3</th>\n",
       "      <th>Degree_4</th>\n",
       "      <th>Degree_5</th>\n",
       "      <th>Rating_miss</th>\n",
       "      <th>locality</th>\n",
       "      <th>city</th>\n",
       "      <th>number_of_feed</th>\n",
       "    </tr>\n",
       "  </thead>\n",
       "  <tbody>\n",
       "    <tr>\n",
       "      <td>0</td>\n",
       "      <td>35</td>\n",
       "      <td>0</td>\n",
       "      <td>4</td>\n",
       "      <td>136</td>\n",
       "      <td>224</td>\n",
       "      <td>103</td>\n",
       "      <td>36</td>\n",
       "      <td>16</td>\n",
       "      <td>1</td>\n",
       "      <td>142</td>\n",
       "      <td>6</td>\n",
       "      <td>0</td>\n",
       "    </tr>\n",
       "    <tr>\n",
       "      <td>1</td>\n",
       "      <td>31</td>\n",
       "      <td>0</td>\n",
       "      <td>3</td>\n",
       "      <td>60</td>\n",
       "      <td>148</td>\n",
       "      <td>103</td>\n",
       "      <td>36</td>\n",
       "      <td>16</td>\n",
       "      <td>1</td>\n",
       "      <td>577</td>\n",
       "      <td>5</td>\n",
       "      <td>0</td>\n",
       "    </tr>\n",
       "    <tr>\n",
       "      <td>2</td>\n",
       "      <td>40</td>\n",
       "      <td>70</td>\n",
       "      <td>2</td>\n",
       "      <td>32</td>\n",
       "      <td>148</td>\n",
       "      <td>103</td>\n",
       "      <td>36</td>\n",
       "      <td>16</td>\n",
       "      <td>0</td>\n",
       "      <td>212</td>\n",
       "      <td>1</td>\n",
       "      <td>4</td>\n",
       "    </tr>\n",
       "    <tr>\n",
       "      <td>3</td>\n",
       "      <td>0</td>\n",
       "      <td>0</td>\n",
       "      <td>0</td>\n",
       "      <td>9</td>\n",
       "      <td>224</td>\n",
       "      <td>103</td>\n",
       "      <td>36</td>\n",
       "      <td>16</td>\n",
       "      <td>1</td>\n",
       "      <td>373</td>\n",
       "      <td>3</td>\n",
       "      <td>0</td>\n",
       "    </tr>\n",
       "    <tr>\n",
       "      <td>4</td>\n",
       "      <td>16</td>\n",
       "      <td>100</td>\n",
       "      <td>1</td>\n",
       "      <td>11</td>\n",
       "      <td>186</td>\n",
       "      <td>103</td>\n",
       "      <td>36</td>\n",
       "      <td>16</td>\n",
       "      <td>0</td>\n",
       "      <td>231</td>\n",
       "      <td>0</td>\n",
       "      <td>0</td>\n",
       "    </tr>\n",
       "    <tr>\n",
       "      <td>5</td>\n",
       "      <td>14</td>\n",
       "      <td>90</td>\n",
       "      <td>1</td>\n",
       "      <td>11</td>\n",
       "      <td>184</td>\n",
       "      <td>103</td>\n",
       "      <td>36</td>\n",
       "      <td>16</td>\n",
       "      <td>0</td>\n",
       "      <td>552</td>\n",
       "      <td>1</td>\n",
       "      <td>0</td>\n",
       "    </tr>\n",
       "    <tr>\n",
       "      <td>6</td>\n",
       "      <td>23</td>\n",
       "      <td>94</td>\n",
       "      <td>3</td>\n",
       "      <td>60</td>\n",
       "      <td>148</td>\n",
       "      <td>103</td>\n",
       "      <td>36</td>\n",
       "      <td>16</td>\n",
       "      <td>0</td>\n",
       "      <td>134</td>\n",
       "      <td>0</td>\n",
       "      <td>6</td>\n",
       "    </tr>\n",
       "    <tr>\n",
       "      <td>7</td>\n",
       "      <td>9</td>\n",
       "      <td>94</td>\n",
       "      <td>1</td>\n",
       "      <td>11</td>\n",
       "      <td>198</td>\n",
       "      <td>103</td>\n",
       "      <td>36</td>\n",
       "      <td>16</td>\n",
       "      <td>0</td>\n",
       "      <td>31</td>\n",
       "      <td>5</td>\n",
       "      <td>0</td>\n",
       "    </tr>\n",
       "    <tr>\n",
       "      <td>8</td>\n",
       "      <td>11</td>\n",
       "      <td>99</td>\n",
       "      <td>0</td>\n",
       "      <td>9</td>\n",
       "      <td>135</td>\n",
       "      <td>53</td>\n",
       "      <td>54</td>\n",
       "      <td>16</td>\n",
       "      <td>0</td>\n",
       "      <td>48</td>\n",
       "      <td>0</td>\n",
       "      <td>203</td>\n",
       "    </tr>\n",
       "    <tr>\n",
       "      <td>9</td>\n",
       "      <td>44</td>\n",
       "      <td>0</td>\n",
       "      <td>5</td>\n",
       "      <td>13</td>\n",
       "      <td>224</td>\n",
       "      <td>103</td>\n",
       "      <td>36</td>\n",
       "      <td>16</td>\n",
       "      <td>1</td>\n",
       "      <td>323</td>\n",
       "      <td>3</td>\n",
       "      <td>0</td>\n",
       "    </tr>\n",
       "  </tbody>\n",
       "</table>\n",
       "</div>"
      ],
      "text/plain": [
       "   Experience  Rating  Profile  Degree_1  Degree_2  Degree_3  Degree_4  Degree_5  Rating_miss  locality  city  number_of_feed\n",
       "0          35       0        4       136       224       103        36        16            1       142     6               0\n",
       "1          31       0        3        60       148       103        36        16            1       577     5               0\n",
       "2          40      70        2        32       148       103        36        16            0       212     1               4\n",
       "3           0       0        0         9       224       103        36        16            1       373     3               0\n",
       "4          16     100        1        11       186       103        36        16            0       231     0               0\n",
       "5          14      90        1        11       184       103        36        16            0       552     1               0\n",
       "6          23      94        3        60       148       103        36        16            0       134     0               6\n",
       "7           9      94        1        11       198       103        36        16            0        31     5               0\n",
       "8          11      99        0         9       135        53        54        16            0        48     0             203\n",
       "9          44       0        5        13       224       103        36        16            1       323     3               0"
      ]
     },
     "execution_count": 329,
     "metadata": {},
     "output_type": "execute_result"
    }
   ],
   "source": [
    "test.head(10)"
   ]
  },
  {
   "cell_type": "markdown",
   "metadata": {},
   "source": [
    "# Distribution and corr"
   ]
  },
  {
   "cell_type": "code",
   "execution_count": 330,
   "metadata": {},
   "outputs": [
    {
     "data": {
      "image/png": "[encoded data removed]",
      "text/plain": [
       "<Figure size 432x288 with 1 Axes>"
      ]
     },
     "metadata": {
      "needs_background": "light"
     },
     "output_type": "display_data"
    },
    {
     "data": {
      "image/png": "[encoded data removed]",
      "text/plain": [
       "<Figure size 432x288 with 1 Axes>"
      ]
     },
     "metadata": {
      "needs_background": "light"
     },
     "output_type": "display_data"
    },
    {
     "data": {
      "image/png": "[encoded data removed]",
      "text/plain": [
       "<Figure size 432x288 with 1 Axes>"
      ]
     },
     "metadata": {
      "needs_background": "light"
     },
     "output_type": "display_data"
    },
    {
     "data": {
      "image/png": "[encoded data removed]",
      "text/plain": [
       "<Figure size 432x288 with 1 Axes>"
      ]
     },
     "metadata": {
      "needs_background": "light"
     },
     "output_type": "display_data"
    },
    {
     "data": {
      "image/png": "[encoded data removed]",
      "text/plain": [
       "<Figure size 432x288 with 1 Axes>"
      ]
     },
     "metadata": {
      "needs_background": "light"
     },
     "output_type": "display_data"
    },
    {
     "data": {
      "image/png": "[encoded data removed]",
      "text/plain": [
       "<Figure size 432x288 with 1 Axes>"
      ]
     },
     "metadata": {
      "needs_background": "light"
     },
     "output_type": "display_data"
    },
    {
     "data": {
      "image/png": "[encoded data removed]",
      "text/plain": [
       "<Figure size 432x288 with 1 Axes>"
      ]
     },
     "metadata": {
      "needs_background": "light"
     },
     "output_type": "display_data"
    },
    {
     "data": {
      "image/png": "[encoded data removed]",
      "text/plain": [
       "<Figure size 432x288 with 1 Axes>"
      ]
     },
     "metadata": {
      "needs_background": "light"
     },
     "output_type": "display_data"
    },
    {
     "data": {
      "image/png": "[encoded data removed]",
      "text/plain": [
       "<Figure size 432x288 with 1 Axes>"
      ]
     },
     "metadata": {
      "needs_background": "light"
     },
     "output_type": "display_data"
    },
    {
     "data": {
      "image/png": "[encoded data removed]",
      "text/plain": [
       "<Figure size 432x288 with 1 Axes>"
      ]
     },
     "metadata": {
      "needs_background": "light"
     },
     "output_type": "display_data"
    },
    {
     "data": {
      "image/png": "[encoded data removed]",
      "text/plain": [
       "<Figure size 432x288 with 1 Axes>"
      ]
     },
     "metadata": {
      "needs_background": "light"
     },
     "output_type": "display_data"
    },
    {
     "data": {
      "image/png": "[encoded data removed]",
      "text/plain": [
       "<Figure size 432x288 with 1 Axes>"
      ]
     },
     "metadata": {
      "needs_background": "light"
     },
     "output_type": "display_data"
    },
    {
     "data": {
      "image/png": "[encoded data removed]",
      "text/plain": [
       "<Figure size 432x288 with 1 Axes>"
      ]
     },
     "metadata": {
      "needs_background": "light"
     },
     "output_type": "display_data"
    }
   ],
   "source": [
    "cols=train.columns.values\n",
    "# Distplot\n",
    "for i in cols:\n",
    "    plt.subplots()\n",
    "    sns.distplot(train[i])"
   ]
  },
  {
   "cell_type": "code",
   "execution_count": 331,
   "metadata": {},
   "outputs": [
    {
     "data": {
      "text/plain": [
       "Experience         0.991089\n",
       "Rating             0.247186\n",
       "Profile            0.108803\n",
       "Fees               0.751870\n",
       "Degree_1           0.550342\n",
       "Degree_2          -1.533785\n",
       "Degree_3          -2.365631\n",
       "Degree_4          -4.391701\n",
       "Degree_5          -5.630812\n",
       "Rating_miss       -0.217056\n",
       "locality           0.112887\n",
       "city               0.011154\n",
       "number_of_feed    15.549903\n",
       "dtype: float64"
      ]
     },
     "execution_count": 331,
     "metadata": {},
     "output_type": "execute_result"
    }
   ],
   "source": [
    "train.skew()"
   ]
  },
  {
   "cell_type": "code",
   "execution_count": 332,
   "metadata": {},
   "outputs": [],
   "source": [
    "# Experience,number_of_feed"
   ]
  },
  {
   "cell_type": "code",
   "execution_count": 333,
   "metadata": {},
   "outputs": [
    {
     "data": {
      "text/plain": [
       "<matplotlib.axes._subplots.AxesSubplot at 0x1b9cab96b48>"
      ]
     },
     "execution_count": 333,
     "metadata": {},
     "output_type": "execute_result"
    },
    {
     "data": {
      "image/png": "[encoded data removed]",
      "text/plain": [
       "<Figure size 720x432 with 2 Axes>"
      ]
     },
     "metadata": {
      "needs_background": "light"
     },
     "output_type": "display_data"
    }
   ],
   "source": [
    "plt.figure(figsize=(10,6))\n",
    "sns.heatmap(train.corr(),annot=True,cmap='coolwarm',linewidths=0.8)"
   ]
  },
  {
   "cell_type": "code",
   "execution_count": 334,
   "metadata": {},
   "outputs": [],
   "source": [
    "# corr in degree 2 and 3"
   ]
  },
  {
   "cell_type": "markdown",
   "metadata": {},
   "source": [
    "# Outliers"
   ]
  },
  {
   "cell_type": "code",
   "execution_count": 335,
   "metadata": {},
   "outputs": [
    {
     "data": {
      "image/png": "[encoded data removed]",
      "text/plain": [
       "<Figure size 936x4320 with 13 Axes>"
      ]
     },
     "metadata": {
      "needs_background": "light"
     },
     "output_type": "display_data"
    }
   ],
   "source": [
    "plt.figure(figsize=(13,60))\n",
    "for i in range(len(cols)):\n",
    "    plt.subplot(13,13,i+1)\n",
    "    sns.boxplot(train[cols[i]], color='green', orient='v')\n",
    "    plt.tight_layout()"
   ]
  },
  {
   "cell_type": "code",
   "execution_count": 231,
   "metadata": {},
   "outputs": [],
   "source": [
    "# outliers in exp, number of feed"
   ]
  },
  {
   "cell_type": "code",
   "execution_count": 336,
   "metadata": {},
   "outputs": [
    {
     "data": {
      "text/plain": [
       "767"
      ]
     },
     "execution_count": 336,
     "metadata": {},
     "output_type": "execute_result"
    }
   ],
   "source": [
    "from scipy.stats import zscore\n",
    "z=np.abs(zscore(train))\n",
    "len(np.where(z>3)[0])"
   ]
  },
  {
   "cell_type": "code",
   "execution_count": 337,
   "metadata": {},
   "outputs": [],
   "source": [
    "trainz=train.copy()"
   ]
  },
  {
   "cell_type": "code",
   "execution_count": 338,
   "metadata": {},
   "outputs": [
    {
     "data": {
      "text/plain": [
       "(5456, 13)"
      ]
     },
     "execution_count": 338,
     "metadata": {},
     "output_type": "execute_result"
    }
   ],
   "source": [
    "\n",
    "train=train[(z<3).all(axis=1)]\n",
    "train.shape"
   ]
  },
  {
   "cell_type": "code",
   "execution_count": 339,
   "metadata": {},
   "outputs": [
    {
     "data": {
      "text/plain": [
       "195"
      ]
     },
     "execution_count": 339,
     "metadata": {},
     "output_type": "execute_result"
    }
   ],
   "source": [
    "from scipy.stats import zscore\n",
    "z=np.abs(zscore(test))\n",
    "len(np.where(z>3)[0])"
   ]
  },
  {
   "cell_type": "code",
   "execution_count": 340,
   "metadata": {},
   "outputs": [],
   "source": [
    "testz=test.copy()"
   ]
  },
  {
   "cell_type": "code",
   "execution_count": 341,
   "metadata": {},
   "outputs": [
    {
     "data": {
      "text/plain": [
       "(1852, 12)"
      ]
     },
     "execution_count": 341,
     "metadata": {},
     "output_type": "execute_result"
    }
   ],
   "source": [
    "\n",
    "test=test[(z<3).all(axis=1)]\n",
    "test.shape"
   ]
  },
  {
   "cell_type": "markdown",
   "metadata": {},
   "source": [
    "# Definitions"
   ]
  },
  {
   "cell_type": "code",
   "execution_count": null,
   "metadata": {},
   "outputs": [],
   "source": []
  },
  {
   "cell_type": "code",
   "execution_count": 342,
   "metadata": {},
   "outputs": [],
   "source": [
    "# this is a regression problem"
   ]
  },
  {
   "cell_type": "code",
   "execution_count": 343,
   "metadata": {},
   "outputs": [],
   "source": [
    "# lets seperate x and y"
   ]
  },
  {
   "cell_type": "code",
   "execution_count": 344,
   "metadata": {},
   "outputs": [],
   "source": [
    "x=train.drop('Fees',axis=1)\n",
    "y=train['Fees']\n",
    "xtest=test.copy()"
   ]
  },
  {
   "cell_type": "code",
   "execution_count": 243,
   "metadata": {},
   "outputs": [],
   "source": [
    "from sklearn.linear_model import LinearRegression\n",
    "from sklearn.linear_model import Ridge\n",
    "from sklearn.linear_model import Lasso\n",
    "from sklearn.tree import DecisionTreeRegressor\n",
    "from sklearn.neighbors import KNeighborsRegressor\n",
    "from sklearn.svm import SVR\n",
    "from sklearn.ensemble import RandomForestRegressor,GradientBoostingRegressor\n",
    "from xgboost import XGBRegressor\n",
    "from sklearn.ensemble import AdaBoostRegressor\n",
    "from sklearn.model_selection import cross_val_score,cross_val_predict,cross_validate\n",
    "from sklearn.model_selection import train_test_split\n",
    "from sklearn.metrics import mean_squared_error, mean_absolute_error, r2_score"
   ]
  },
  {
   "cell_type": "code",
   "execution_count": 244,
   "metadata": {},
   "outputs": [],
   "source": [
    "lr=LinearRegression(n_jobs=-1)\n",
    "rid=Ridge(random_state=45)\n",
    "ls=Lasso(random_state=45)\n",
    "dt=DecisionTreeRegressor(random_state=45)\n",
    "svr=SVR()\n",
    "knn=KNeighborsRegressor(n_jobs=-1)\n",
    "rf=RandomForestRegressor(n_jobs=-1,random_state=45)\n",
    "gb=GradientBoostingRegressor(random_state=45)\n",
    "xgb=XGBRegressor(n_jobs=-1,random_state=45)\n",
    "ada=AdaBoostRegressor(random_state=45)"
   ]
  },
  {
   "cell_type": "code",
   "execution_count": 367,
   "metadata": {},
   "outputs": [],
   "source": [
    "# Now, let's define some functions to reuse them\n",
    "def fit(m,x,y,rs=45):\n",
    "    x_train, x_test, y_train, y_test=train_test_split(x,y,test_size=0.25,random_state=rs)\n",
    "    m.fit(x_train,y_train)\n",
    "    \n",
    "def get_score(m,x,y,rs=45):\n",
    "    x_train, x_test, y_train, y_test=train_test_split(x,y,test_size=0.25,random_state=rs)\n",
    "    m.fit(x_train,y_train)\n",
    "    train_score=m.score(x_train,y_train)\n",
    "    pred=m.predict(x_test)\n",
    "    test_score=r2_score(pred,y_test)\n",
    "    rmse=np.sqrt(mean_squared_error(pred,y_test))\n",
    "    return train_score,test_score,rmse\n",
    "\n",
    "def get_pred(m,x,y,rs=45):\n",
    "    x_train, x_test, y_train, y_test=train_test_split(x,y,test_size=0.25,random_state=rs)\n",
    "    m.fit(x_train,y_train)\n",
    "    pred=m.predict(x_test)\n",
    "    return pred\n",
    "\n",
    "def get_metrics(m,x,y,rs=45):\n",
    "    x_train, x_test, y_train, y_test=train_test_split(x,y,test_size=0.25,random_state=rs)\n",
    "    m.fit(x_train,y_train)\n",
    "    pred=m.predict(x_test)\n",
    "    mse=mean_squared_error(pred,y_test)\n",
    "    mae=mean_absolute_error(pred,y_test)\n",
    "    rmse=np.sqrt(mean_squared_error(pred,y_test))\n",
    "    return mse,rmse,mae\n",
    "\n",
    "from sklearn.model_selection import GridSearchCV\n",
    "def gridcv(m,p,x,y):\n",
    "    gkb=GridSearchCV(m,p,n_jobs=-1,cv=4,verbose=5,scoring='neg_mean_squared_error')\n",
    "    gkb.fit(x,y)\n",
    "    return gkb.best_params_\n",
    "\n",
    "\n",
    "from sklearn.model_selection import RandomizedSearchCV\n",
    "def randomcv(m,p,x,y):\n",
    "    from sklearn.model_selection import RandomizedSearchCV\n",
    "    gkb=RandomizedSearchCV(estimator=m,param_distributions=p,\n",
    "                          cv=4,n_iter=100,scoring='neg_mean_squared_error',\n",
    "                          n_jobs=-1, verbose=5,return_train_score=True,random_state=45)\n",
    "    gkb.fit(x,y)\n",
    "    return gkb.best_params_\n",
    "\n",
    "from mlxtend.feature_selection import SequentialFeatureSelector as sfs\n",
    "def bfe(m,x,y,k):\n",
    "    sf=sfs(m, k_features=k, forward=False, verbose=3, cv=5, n_jobs=-1)\n",
    "    sf.fit(x,y)\n",
    "    feat_names=list(sf.k_feature_names_)\n",
    "    xbfe=x[feat_names]\n",
    "    return xbfe\n",
    "\n",
    "def ffs(m,x,y,k):\n",
    "    sf=sfs(m, k_features=k, forward=True, cv=5, n_jobs=-1)\n",
    "    sf.fit(x,y)\n",
    "    feat_names=list(sf.k_feature_names_)\n",
    "    xffs=x[feat_names]\n",
    "    return xffs\n",
    "\n",
    "from sklearn.decomposition import PCA\n",
    "def nforpca(x):\n",
    "    pca=PCA().fit(x)\n",
    "    plt.figure()\n",
    "    plt.plot(np.cumsum(pca.explained_variance_ratio_)*100)\n",
    "    plt.xlabel('No of Components')\n",
    "    plt.ylabel('Variance')\n",
    "    plt.axhline(y=95, color='r', linestyle='--')\n",
    "    plt.show()\n",
    "    \n",
    "def pca(m,x,n):\n",
    "    pca=PCA(n_components=n)\n",
    "    xpca=pd.DataFrame(pca.fit_transform(x))\n",
    "    return xpca\n",
    "\n",
    "\n",
    "def cross(m,x,y,c=5):\n",
    "    score=cross_val_score(m,x,y,cv=c,n_jobs=-1,scoring='r2')\n",
    "    return (score.mean(), score.std())\n",
    "\n",
    "from sklearn.preprocessing import StandardScaler\n",
    "def std(x):\n",
    "    scx=StandardScaler()\n",
    "    xs=pd.DataFrame(scx.fit_transform(x), columns=x.columns)\n",
    "    return xs\n",
    "\n",
    "from sklearn.preprocessing import MinMaxScaler\n",
    "def mmc(x):\n",
    "    mm=MinMaxScaler()\n",
    "    xm=pd.DataFrame(mm.fit_transform(x), columns=x.columns)\n",
    "    return xm\n",
    "\n",
    "def modified_bfe(m,x,y,k):\n",
    "    sf=sfs(m, k_features=k, forward=False, cv=5, n_jobs=-1)\n",
    "    sf.fit(x,y)\n",
    "    feat_names=list(sf.k_feature_names_)\n",
    "    xbfe=x[feat_names]\n",
    "    x_train, x_test, y_train, y_test=train_test_split(xbfe,y,test_size=0.25,random_state=45)\n",
    "    m.fit(x_train,y_train)\n",
    "    pred=m.predict(x_test)\n",
    "    test_score=r2_score(pred,y_test)\n",
    "    rmse=np.sqrt(mean_squared_error(pred,y_test))\n",
    "    return test_score,rmse\n",
    "\n",
    "def modified_ffs(m,x,y,k):\n",
    "    sf=sfs(m, k_features=k, forward=True, cv=5, n_jobs=-1)\n",
    "    sf.fit(x,y)\n",
    "    feat_names=list(sf.k_feature_names_)\n",
    "    xffs=x[feat_names]\n",
    "    x_train, x_test, y_train, y_test=train_test_split(xffs,y,test_size=0.25,random_state=45)\n",
    "    m.fit(x_train,y_train)\n",
    "    pred=m.predict(x_test)\n",
    "    test_score=r2_score(pred,y_test)\n",
    "    return test_score\n",
    "\n",
    "def modified_pca(m,x,y,n):\n",
    "    pca=PCA(n_components=n)\n",
    "    xpca=pd.DataFrame(pca.fit_transform(x))\n",
    "    x_train, x_test, y_train, y_test=train_test_split(xpca,y,test_size=0.25,random_state=45)\n",
    "    m.fit(x_train,y_train)\n",
    "    pred=m.predict(x_test)\n",
    "    test_score=r2_score(pred,y_test)\n",
    "    return test_score\n",
    "\n",
    "def tts(x,y,rs=45):\n",
    "    x_train, x_test, y_train, y_test=train_test_split(x,y,test_size=0.25,random_state=rs)\n",
    "    return x_train, x_test, y_train, y_test"
   ]
  },
  {
   "cell_type": "markdown",
   "metadata": {},
   "source": [
    "# Iteration A"
   ]
  },
  {
   "cell_type": "code",
   "execution_count": 345,
   "metadata": {},
   "outputs": [
    {
     "data": {
      "text/html": [
       "<div>\n",
       "<style scoped>\n",
       "    .dataframe tbody tr th:only-of-type {\n",
       "        vertical-align: middle;\n",
       "    }\n",
       "\n",
       "    .dataframe tbody tr th {\n",
       "        vertical-align: top;\n",
       "    }\n",
       "\n",
       "    .dataframe thead th {\n",
       "        text-align: right;\n",
       "    }\n",
       "</style>\n",
       "<table border=\"1\" class=\"dataframe\">\n",
       "  <thead>\n",
       "    <tr style=\"text-align: right;\">\n",
       "      <th></th>\n",
       "      <th>Experience</th>\n",
       "      <th>Rating</th>\n",
       "      <th>Profile</th>\n",
       "      <th>Degree_1</th>\n",
       "      <th>Degree_2</th>\n",
       "      <th>Degree_3</th>\n",
       "      <th>Degree_4</th>\n",
       "      <th>Degree_5</th>\n",
       "      <th>Rating_miss</th>\n",
       "      <th>locality</th>\n",
       "      <th>city</th>\n",
       "      <th>number_of_feed</th>\n",
       "    </tr>\n",
       "  </thead>\n",
       "  <tbody>\n",
       "    <tr>\n",
       "      <td>0</td>\n",
       "      <td>24</td>\n",
       "      <td>100</td>\n",
       "      <td>5</td>\n",
       "      <td>26</td>\n",
       "      <td>330</td>\n",
       "      <td>226</td>\n",
       "      <td>90</td>\n",
       "      <td>38</td>\n",
       "      <td>0</td>\n",
       "      <td>296</td>\n",
       "      <td>4</td>\n",
       "      <td>16</td>\n",
       "    </tr>\n",
       "    <tr>\n",
       "      <td>1</td>\n",
       "      <td>12</td>\n",
       "      <td>98</td>\n",
       "      <td>0</td>\n",
       "      <td>22</td>\n",
       "      <td>316</td>\n",
       "      <td>226</td>\n",
       "      <td>90</td>\n",
       "      <td>38</td>\n",
       "      <td>0</td>\n",
       "      <td>855</td>\n",
       "      <td>0</td>\n",
       "      <td>76</td>\n",
       "    </tr>\n",
       "    <tr>\n",
       "      <td>2</td>\n",
       "      <td>9</td>\n",
       "      <td>0</td>\n",
       "      <td>3</td>\n",
       "      <td>246</td>\n",
       "      <td>411</td>\n",
       "      <td>226</td>\n",
       "      <td>90</td>\n",
       "      <td>38</td>\n",
       "      <td>1</td>\n",
       "      <td>452</td>\n",
       "      <td>0</td>\n",
       "      <td>0</td>\n",
       "    </tr>\n",
       "    <tr>\n",
       "      <td>4</td>\n",
       "      <td>20</td>\n",
       "      <td>100</td>\n",
       "      <td>0</td>\n",
       "      <td>22</td>\n",
       "      <td>422</td>\n",
       "      <td>226</td>\n",
       "      <td>90</td>\n",
       "      <td>38</td>\n",
       "      <td>0</td>\n",
       "      <td>335</td>\n",
       "      <td>1</td>\n",
       "      <td>4</td>\n",
       "    </tr>\n",
       "    <tr>\n",
       "      <td>5</td>\n",
       "      <td>8</td>\n",
       "      <td>0</td>\n",
       "      <td>0</td>\n",
       "      <td>22</td>\n",
       "      <td>422</td>\n",
       "      <td>226</td>\n",
       "      <td>90</td>\n",
       "      <td>38</td>\n",
       "      <td>1</td>\n",
       "      <td>604</td>\n",
       "      <td>1</td>\n",
       "      <td>0</td>\n",
       "    </tr>\n",
       "  </tbody>\n",
       "</table>\n",
       "</div>"
      ],
      "text/plain": [
       "   Experience  Rating  Profile  Degree_1  Degree_2  Degree_3  Degree_4  Degree_5  Rating_miss  locality  city  number_of_feed\n",
       "0          24     100        5        26       330       226        90        38            0       296     4              16\n",
       "1          12      98        0        22       316       226        90        38            0       855     0              76\n",
       "2           9       0        3       246       411       226        90        38            1       452     0               0\n",
       "4          20     100        0        22       422       226        90        38            0       335     1               4\n",
       "5           8       0        0        22       422       226        90        38            1       604     1               0"
      ]
     },
     "execution_count": 345,
     "metadata": {},
     "output_type": "execute_result"
    }
   ],
   "source": [
    "x.head()"
   ]
  },
  {
   "cell_type": "code",
   "execution_count": 346,
   "metadata": {},
   "outputs": [
    {
     "name": "stdout",
     "output_type": "stream",
     "text": [
      "LR  (0.1247212917527364, -6.02014885513376, 178.89644306079194)\n",
      "RID  (0.12469276018217244, -6.072556376742184, 178.88778367609768)\n",
      "LS  (0.11993559042465775, -6.5803293606890545, 179.17805478249093)\n",
      "DT  (0.9976906217138326, -0.49730822174482636, 230.37546810584095)\n",
      "SVR  (0.009681635426089796, -21556.3314079631, 187.18829655374452)\n",
      "KNN  (0.3519203256801089, -2.021769865756987, 188.16658643924913)\n",
      "RF  (0.8377128166893504, -1.6581015594807824, 180.6537702927905)\n",
      "GB  (0.2948119054718905, -3.0157008632260895, 168.9516489020188)\n",
      "XGB  (0.787452412772951, -1.1410374717864458, 173.9054803389131)\n"
     ]
    }
   ],
   "source": [
    "print(\"LR \", get_score(lr,x,y))\n",
    "print(\"RID \", get_score(rid,x,y))\n",
    "print(\"LS \", get_score(ls,x,y))\n",
    "print(\"DT \", get_score(dt,x,y))\n",
    "print(\"SVR \", get_score(svr,x,y))\n",
    "print(\"KNN \", get_score(knn,x,y))\n",
    "print(\"RF \", get_score(rf,x,y))\n",
    "print(\"GB \", get_score(gb,x,y))\n",
    "print(\"XGB \", get_score(xgb,x,y))"
   ]
  },
  {
   "cell_type": "code",
   "execution_count": 248,
   "metadata": {},
   "outputs": [],
   "source": [
    "# all the models are over fitting a lot"
   ]
  },
  {
   "cell_type": "markdown",
   "metadata": {},
   "source": [
    "# Iteration B"
   ]
  },
  {
   "cell_type": "code",
   "execution_count": 347,
   "metadata": {},
   "outputs": [],
   "source": [
    "x1=x.drop('locality',axis=1)"
   ]
  },
  {
   "cell_type": "code",
   "execution_count": 348,
   "metadata": {},
   "outputs": [
    {
     "name": "stdout",
     "output_type": "stream",
     "text": [
      "LR  (0.12129320352945416, -6.278768969414957, 179.2287514488509)\n",
      "RID  (0.12126374600084087, -6.336096504455479, 179.2208104473478)\n",
      "LS  (0.11636272337744047, -6.890285481742131, 179.52552536065696)\n",
      "DT  (0.912319283870793, -0.5114442563189332, 232.26106806087716)\n",
      "SVR  (0.029180928604052525, -385.3744099572141, 185.54105763559167)\n",
      "KNN  (0.3736861730424579, -1.8237738131149919, 186.27591051638876)\n",
      "RF  (0.7693003927168385, -1.3803697689159362, 186.9549288617373)\n",
      "GB  (0.27453513753335324, -3.0850707899174727, 170.2046570840545)\n",
      "XGB  (0.6567027008737853, -1.551930135944334, 176.87762407553632)\n"
     ]
    }
   ],
   "source": [
    "print(\"LR \", get_score(lr,x1,y))\n",
    "print(\"RID \", get_score(rid,x1,y))\n",
    "print(\"LS \", get_score(ls,x1,y))\n",
    "print(\"DT \", get_score(dt,x1,y))\n",
    "print(\"SVR \", get_score(svr,x1,y))\n",
    "print(\"KNN \", get_score(knn,x1,y))\n",
    "print(\"RF \", get_score(rf,x1,y))\n",
    "print(\"GB \", get_score(gb,x1,y))\n",
    "print(\"XGB \", get_score(xgb,x1,y))"
   ]
  },
  {
   "cell_type": "code",
   "execution_count": 349,
   "metadata": {},
   "outputs": [],
   "source": [
    "# score didn't improved"
   ]
  },
  {
   "cell_type": "code",
   "execution_count": 351,
   "metadata": {},
   "outputs": [],
   "source": [
    "# lets scale the data\n",
    "xs=std(x)"
   ]
  },
  {
   "cell_type": "code",
   "execution_count": 353,
   "metadata": {},
   "outputs": [
    {
     "name": "stdout",
     "output_type": "stream",
     "text": [
      "3   -0.9260010250861017\n",
      "4   -1.2341158857138366\n",
      "5   -1.2538430864094043\n",
      "6   -1.338386453566284\n",
      "7   -1.4317306195179582\n",
      "8   -1.352016999381592\n",
      "9   -1.3927826439385482\n",
      "10   -1.3136891550343348\n",
      "11   -1.556690174820769\n",
      "12   -1.6581015594807824\n"
     ]
    }
   ],
   "source": [
    "# now, lets apply bfe\n",
    "for i in range(3,13):\n",
    "    print(i,\" \",modified_bfe(rf,x,y,i))"
   ]
  },
  {
   "cell_type": "code",
   "execution_count": 354,
   "metadata": {},
   "outputs": [
    {
     "name": "stdout",
     "output_type": "stream",
     "text": [
      "3   -2.8739936904098164\n",
      "4   -2.874477406087127\n",
      "5   -2.8499607073629423\n",
      "6   -2.1308703504153823\n",
      "7   -1.347054202227171\n",
      "8   -0.9891838701168139\n",
      "9   -0.8960380152483025\n",
      "10   -0.7131153665996817\n",
      "11   -0.4781917375503957\n",
      "12   -0.49730822174482636\n"
     ]
    }
   ],
   "source": [
    "# now, lets apply bfe\n",
    "for i in range(3,13):\n",
    "    print(i,\" \",modified_bfe(dt,x,y,i))"
   ]
  },
  {
   "cell_type": "markdown",
   "metadata": {},
   "source": [
    "# Iteration D"
   ]
  },
  {
   "cell_type": "code",
   "execution_count": 364,
   "metadata": {},
   "outputs": [
    {
     "name": "stdout",
     "output_type": "stream",
     "text": [
      "LR  (0.1247212917527365, -6.020148855133776, 178.8964430607919)\n",
      "RID  (0.12471553499356136, -6.043668521729876, 178.8914244334216)\n",
      "LS  (0.12167309900340606, -6.894903482738191, 178.80728525712672)\n",
      "DT  (0.9976906217138326, -0.5045537860386882, 231.61500440154913)\n",
      "SVR  (0.06656166025666166, -23.818916493178858, 183.41410770493513)\n",
      "KNN  (0.3647390805121573, -1.7807800847445363, 183.94724444525644)\n",
      "RF  (0.8383237872606848, -1.6479245970497738, 179.93855940537875)\n",
      "GB  (0.2948119054718905, -3.0175504557694905, 168.95977492325636)\n",
      "XGB  (0.787452412772951, -1.1347095247973429, 173.74874466829354)\n"
     ]
    }
   ],
   "source": [
    "print(\"LR \", get_score(lr,xs,y))\n",
    "print(\"RID \", get_score(rid,xs,y))\n",
    "print(\"LS \", get_score(ls,xs,y))\n",
    "print(\"DT \", get_score(dt,xs,y))\n",
    "print(\"SVR \", get_score(svr,xs,y))\n",
    "print(\"KNN \", get_score(knn,xs,y))\n",
    "print(\"RF \", get_score(rf,xs,y))\n",
    "print(\"GB \", get_score(gb,xs,y))\n",
    "print(\"XGB \", get_score(xgb,xs,y))"
   ]
  },
  {
   "cell_type": "code",
   "execution_count": 361,
   "metadata": {},
   "outputs": [],
   "source": [
    "x2=xs.copy()"
   ]
  },
  {
   "cell_type": "code",
   "execution_count": 362,
   "metadata": {},
   "outputs": [],
   "source": [
    "x2.drop(['Degree_3','Degree_4','Degree_5'],axis=1,inplace=True)"
   ]
  },
  {
   "cell_type": "code",
   "execution_count": 363,
   "metadata": {},
   "outputs": [
    {
     "name": "stdout",
     "output_type": "stream",
     "text": [
      "LR  (0.12403015278803675, -6.045778419298034, 178.8189836964385)\n",
      "RID  (0.12402438205269128, -6.069676618043311, 178.8133421584976)\n",
      "LS  (0.12110241094225671, -6.898447724761696, 178.79146703824912)\n",
      "DT  (0.9976555034308922, -0.4755386824479222, 232.7576001764125)\n",
      "SVR  (0.07054765861789491, -21.804286932371127, 182.8902314408642)\n",
      "KNN  (0.372193322367391, -1.7118425916960067, 183.1816780014454)\n",
      "RF  (0.8387924308451209, -1.5480445310965827, 181.96075820426438)\n",
      "GB  (0.29233316528330733, -3.0462945391054452, 168.9189146519573)\n",
      "XGB  (0.7787212587426166, -1.1367027699973735, 172.66585242375572)\n"
     ]
    }
   ],
   "source": [
    "print(\"LR \", get_score(lr,x2,y))\n",
    "print(\"RID \", get_score(rid,x2,y))\n",
    "print(\"LS \", get_score(ls,x2,y))\n",
    "print(\"DT \", get_score(dt,x2,y))\n",
    "print(\"SVR \", get_score(svr,x2,y))\n",
    "print(\"KNN \", get_score(knn,x2,y))\n",
    "print(\"RF \", get_score(rf,x2,y))\n",
    "print(\"GB \", get_score(gb,x2,y))\n",
    "print(\"XGB \", get_score(xgb,x2,y))"
   ]
  },
  {
   "cell_type": "code",
   "execution_count": 365,
   "metadata": {},
   "outputs": [],
   "source": [
    "# there is no use of dropping any columns"
   ]
  },
  {
   "cell_type": "code",
   "execution_count": 366,
   "metadata": {},
   "outputs": [],
   "source": [
    "# lets tune gb coz it is performing the best in terms of error"
   ]
  },
  {
   "cell_type": "code",
   "execution_count": 368,
   "metadata": {},
   "outputs": [
    {
     "name": "stdout",
     "output_type": "stream",
     "text": [
      "3   (-3.879427489049222, 169.48307109538462)\n",
      "4   (-3.3593831446506446, 171.5851325484246)\n",
      "5   (-3.1500352149424398, 170.38125191437578)\n",
      "6   (-2.913361171592422, 169.0322710659493)\n",
      "7   (-2.9360240354927654, 168.91156769938456)\n",
      "8   (-2.9747480252440743, 169.27079949914182)\n",
      "9   (-2.9955046130555694, 169.04765239051025)\n",
      "10   (-3.05945838554163, 169.61784168288818)\n",
      "11   (-3.069215592557269, 169.78966515341128)\n",
      "12   (-3.0175504557694905, 168.95977492325636)\n"
     ]
    }
   ],
   "source": [
    "# now, lets apply bfe\n",
    "for i in range(3,13):\n",
    "    print(i,\" \",modified_bfe(gb,xs,y,i))"
   ]
  },
  {
   "cell_type": "code",
   "execution_count": 369,
   "metadata": {},
   "outputs": [
    {
     "name": "stderr",
     "output_type": "stream",
     "text": [
      "[Parallel(n_jobs=-1)]: Using backend LokyBackend with 4 concurrent workers.\n",
      "[Parallel(n_jobs=-1)]: Done  10 out of  12 | elapsed:    6.0s remaining:    1.1s\n",
      "[Parallel(n_jobs=-1)]: Done  12 out of  12 | elapsed:    6.1s finished\n",
      "\n",
      "[2020-03-28 15:03:34] Features: 11/7 -- score: 0.21428409700876622[Parallel(n_jobs=-1)]: Using backend LokyBackend with 4 concurrent workers.\n",
      "[Parallel(n_jobs=-1)]: Done   8 out of  11 | elapsed:    3.6s remaining:    1.3s\n",
      "[Parallel(n_jobs=-1)]: Done  11 out of  11 | elapsed:    5.1s finished\n",
      "\n",
      "[2020-03-28 15:03:39] Features: 10/7 -- score: 0.2157555641389785[Parallel(n_jobs=-1)]: Using backend LokyBackend with 4 concurrent workers.\n",
      "[Parallel(n_jobs=-1)]: Done   7 out of  10 | elapsed:    3.4s remaining:    1.4s\n",
      "[Parallel(n_jobs=-1)]: Done  10 out of  10 | elapsed:    4.5s finished\n",
      "\n",
      "[2020-03-28 15:03:44] Features: 9/7 -- score: 0.218079969946039[Parallel(n_jobs=-1)]: Using backend LokyBackend with 4 concurrent workers.\n",
      "[Parallel(n_jobs=-1)]: Done   6 out of   9 | elapsed:    3.3s remaining:    1.6s\n",
      "[Parallel(n_jobs=-1)]: Done   9 out of   9 | elapsed:    4.2s finished\n",
      "\n",
      "[2020-03-28 15:03:48] Features: 8/7 -- score: 0.21918058510713986[Parallel(n_jobs=-1)]: Using backend LokyBackend with 4 concurrent workers.\n",
      "[Parallel(n_jobs=-1)]: Done   4 out of   8 | elapsed:    1.4s remaining:    1.4s\n",
      "[Parallel(n_jobs=-1)]: Done   8 out of   8 | elapsed:    2.9s finished\n",
      "\n",
      "[2020-03-28 15:03:51] Features: 7/7 -- score: 0.21975498076917904"
     ]
    },
    {
     "data": {
      "text/html": [
       "<div>\n",
       "<style scoped>\n",
       "    .dataframe tbody tr th:only-of-type {\n",
       "        vertical-align: middle;\n",
       "    }\n",
       "\n",
       "    .dataframe tbody tr th {\n",
       "        vertical-align: top;\n",
       "    }\n",
       "\n",
       "    .dataframe thead th {\n",
       "        text-align: right;\n",
       "    }\n",
       "</style>\n",
       "<table border=\"1\" class=\"dataframe\">\n",
       "  <thead>\n",
       "    <tr style=\"text-align: right;\">\n",
       "      <th></th>\n",
       "      <th>Experience</th>\n",
       "      <th>Profile</th>\n",
       "      <th>Degree_2</th>\n",
       "      <th>Degree_5</th>\n",
       "      <th>Rating_miss</th>\n",
       "      <th>locality</th>\n",
       "      <th>city</th>\n",
       "    </tr>\n",
       "  </thead>\n",
       "  <tbody>\n",
       "    <tr>\n",
       "      <td>0</td>\n",
       "      <td>0.631077</td>\n",
       "      <td>1.525945</td>\n",
       "      <td>-0.354130</td>\n",
       "      <td>0.007237</td>\n",
       "      <td>-1.163945</td>\n",
       "      <td>-0.465301</td>\n",
       "      <td>0.398636</td>\n",
       "    </tr>\n",
       "    <tr>\n",
       "      <td>1</td>\n",
       "      <td>-0.470762</td>\n",
       "      <td>-1.467783</td>\n",
       "      <td>-0.536966</td>\n",
       "      <td>0.007237</td>\n",
       "      <td>-1.163945</td>\n",
       "      <td>1.718233</td>\n",
       "      <td>-1.336473</td>\n",
       "    </tr>\n",
       "    <tr>\n",
       "      <td>2</td>\n",
       "      <td>-0.746222</td>\n",
       "      <td>0.328454</td>\n",
       "      <td>0.703708</td>\n",
       "      <td>0.007237</td>\n",
       "      <td>0.859147</td>\n",
       "      <td>0.144057</td>\n",
       "      <td>-1.336473</td>\n",
       "    </tr>\n",
       "    <tr>\n",
       "      <td>3</td>\n",
       "      <td>0.263797</td>\n",
       "      <td>-1.467783</td>\n",
       "      <td>0.847365</td>\n",
       "      <td>0.007237</td>\n",
       "      <td>-1.163945</td>\n",
       "      <td>-0.312962</td>\n",
       "      <td>-0.902695</td>\n",
       "    </tr>\n",
       "    <tr>\n",
       "      <td>4</td>\n",
       "      <td>-0.838042</td>\n",
       "      <td>-1.467783</td>\n",
       "      <td>0.847365</td>\n",
       "      <td>0.007237</td>\n",
       "      <td>0.859147</td>\n",
       "      <td>0.737791</td>\n",
       "      <td>-0.902695</td>\n",
       "    </tr>\n",
       "  </tbody>\n",
       "</table>\n",
       "</div>"
      ],
      "text/plain": [
       "   Experience   Profile  Degree_2  Degree_5  Rating_miss  locality      city\n",
       "0    0.631077  1.525945 -0.354130  0.007237    -1.163945 -0.465301  0.398636\n",
       "1   -0.470762 -1.467783 -0.536966  0.007237    -1.163945  1.718233 -1.336473\n",
       "2   -0.746222  0.328454  0.703708  0.007237     0.859147  0.144057 -1.336473\n",
       "3    0.263797 -1.467783  0.847365  0.007237    -1.163945 -0.312962 -0.902695\n",
       "4   -0.838042 -1.467783  0.847365  0.007237     0.859147  0.737791 -0.902695"
      ]
     },
     "execution_count": 369,
     "metadata": {},
     "output_type": "execute_result"
    }
   ],
   "source": [
    "xsbfe1=bfe(gb,xs,y,7)\n",
    "xsbfe1.head()"
   ]
  },
  {
   "cell_type": "code",
   "execution_count": 382,
   "metadata": {},
   "outputs": [
    {
     "name": "stdout",
     "output_type": "stream",
     "text": [
      "2   (0.2125190066578202, 0.005655486024994882)\n",
      "3   (0.21608110502371383, 0.009209865690857005)\n",
      "4   (0.21593100162999304, 0.005238510095073015)\n",
      "5   (0.21975498076917904, 0.010810383581799128)\n",
      "6   (0.21833858014873497, 0.009338989456469785)\n",
      "7   (0.2168150732509794, 0.018811880511843924)\n",
      "8   (0.21889775837462827, 0.01924185979209145)\n",
      "9   (0.219156178369606, 0.013340164915319946)\n",
      "10   (0.21742378749654426, 0.02499755554462615)\n",
      "11   (0.21962839755595828, 0.028745950649030447)\n",
      "12   (0.21939626527722034, 0.02626177240354356)\n",
      "13   (0.22080451771820137, 0.031112402575218752)\n",
      "14   (0.2167874472710947, 0.028896625399846953)\n",
      "15   (0.2196571834217035, 0.032226453143851516)\n",
      "16   (0.22330338135268124, 0.025691347555747222)\n",
      "17   (0.21818361547689424, 0.03653991801634608)\n",
      "18   (0.22027433226782053, 0.03666999584998397)\n",
      "19   (0.2193033894694376, 0.037940575806217)\n",
      "20   (0.21924267689620186, 0.03421191838016356)\n",
      "21   (0.21825204036452311, 0.037775248997637415)\n",
      "22   (0.22043759401211951, 0.03464408031957593)\n",
      "23   (0.21876587705299877, 0.04592774823393213)\n",
      "24   (0.22010286917590735, 0.04267244664272661)\n"
     ]
    }
   ],
   "source": [
    "# lets cross validate\n",
    "for i in range(2,25):\n",
    "    print(i,\" \",cross(gb,xsbfe1,y,i))"
   ]
  },
  {
   "cell_type": "code",
   "execution_count": 371,
   "metadata": {},
   "outputs": [],
   "source": [
    "crosspred=cross_val_predict(gb,xsbfe1,y,cv=5)"
   ]
  },
  {
   "cell_type": "code",
   "execution_count": 372,
   "metadata": {},
   "outputs": [
    {
     "name": "stdout",
     "output_type": "stream",
     "text": [
      "Mean_Squared_Error:  27161.13440241866\n",
      "Root_Mean_Squared_Error:  164.80635425376855\n",
      "Mean_Absolute_Error:  129.77826039797182\n"
     ]
    }
   ],
   "source": [
    "# Evaluation metrics\n",
    "mse=mean_squared_error(y,crosspred)\n",
    "mae=mean_absolute_error(y,crosspred)\n",
    "rmse=np.sqrt(mean_squared_error(y,crosspred))\n",
    "print('Mean_Squared_Error: ', mse)\n",
    "print('Root_Mean_Squared_Error: ', rmse)\n",
    "print('Mean_Absolute_Error: ', mae)"
   ]
  },
  {
   "cell_type": "code",
   "execution_count": 373,
   "metadata": {},
   "outputs": [],
   "source": [
    "# error decreased to 164"
   ]
  },
  {
   "cell_type": "code",
   "execution_count": 383,
   "metadata": {},
   "outputs": [
    {
     "name": "stdout",
     "output_type": "stream",
     "text": [
      "2   (-0.5693036377775058, 0.03774717937847094)\n",
      "3   (-0.6158007316557376, 0.058771748147998404)\n",
      "4   (-0.5544547219766036, 0.05838875765103094)\n",
      "5   (-0.5656635107933576, 0.03670844317089241)\n",
      "6   (-0.5559011654949961, 0.08025677915252628)\n",
      "7   (-0.5198945952116268, 0.09409824361921305)\n",
      "8   (-0.5353965390010647, 0.06526674652796906)\n",
      "9   (-0.49021342028390413, 0.09664619416461251)\n",
      "10   (-0.5822280727038998, 0.07003420469884326)\n",
      "11   (-0.5062912713750556, 0.1271055129989542)\n",
      "12   (-0.5270634092235661, 0.08147335826363211)\n",
      "13   (-0.498630688232693, 0.0874021486856432)\n",
      "14   (-0.5545199756745011, 0.15044979792029609)\n",
      "15   (-0.5490796637279419, 0.11621976590307592)\n",
      "16   (-0.49733522780360895, 0.10254100331782429)\n",
      "17   (-0.5757608083807116, 0.1474582462809754)\n",
      "18   (-0.5467430266049474, 0.1146121201126083)\n",
      "19   (-0.5632422557464468, 0.12228942598710103)\n",
      "20   (-0.5487461830153769, 0.10059564942685364)\n",
      "21   (-0.5691005125101654, 0.12335853664045139)\n",
      "22   (-0.5499274017228593, 0.13130625057221917)\n",
      "23   (-0.523857988974214, 0.1452789783481003)\n",
      "24   (-0.5586254394066394, 0.17927021006283503)\n"
     ]
    }
   ],
   "source": [
    "for i in range(2,25):\n",
    "    print(i,\" \",cross(dt,x,y,i))"
   ]
  },
  {
   "cell_type": "code",
   "execution_count": 384,
   "metadata": {},
   "outputs": [
    {
     "name": "stdout",
     "output_type": "stream",
     "text": [
      "2   (0.10762763831297839, 0.005598763407646978)\n",
      "3   (0.11265825892458499, 0.006117312787593266)\n",
      "4   (0.1113078320461911, 0.011905830481905461)\n",
      "5   (0.10890934907160699, 0.008331813571139214)\n",
      "6   (0.11073823281845124, 0.016569167193223433)\n",
      "7   (0.11021751071811751, 0.016423044703072768)\n",
      "8   (0.11123472906132546, 0.01775424756904148)\n",
      "9   (0.11046743169320594, 0.013413008221185584)\n",
      "10   (0.10936960082879574, 0.01640112397849326)\n",
      "11   (0.11042570376783577, 0.02004426994999668)\n",
      "12   (0.10899462316016077, 0.025171125576126354)\n",
      "13   (0.10954696563470938, 0.029629085987388046)\n",
      "14   (0.10844951465550579, 0.02683430419948849)\n",
      "15   (0.10901608265186971, 0.027540355641227452)\n",
      "16   (0.10988584079952127, 0.02819983632520656)\n",
      "17   (0.10936766410885897, 0.031531547255215474)\n",
      "18   (0.10916650772734762, 0.030216985744229815)\n",
      "19   (0.10817877848378087, 0.03344034109502021)\n",
      "20   (0.10784121028003538, 0.03043465974123656)\n",
      "21   (0.1087024417458817, 0.03394346378109113)\n",
      "22   (0.10885087700336933, 0.029996603343042307)\n",
      "23   (0.1080976820282158, 0.03517682225445352)\n",
      "24   (0.10677053616952603, 0.03407525437126514)\n"
     ]
    }
   ],
   "source": [
    "for i in range(2,25):\n",
    "    print(i,\" \",cross(lr,xs,y,i))"
   ]
  },
  {
   "cell_type": "code",
   "execution_count": 385,
   "metadata": {},
   "outputs": [
    {
     "name": "stdout",
     "output_type": "stream",
     "text": [
      "2   (0.10783636070101454, 0.005214273623421195)\n",
      "3   (0.11267205649258401, 0.006128416314750857)\n",
      "4   (0.1113471160302131, 0.01188413397367775)\n",
      "5   (0.10891785536085194, 0.008317424766235695)\n",
      "6   (0.11075958359282105, 0.01644357418509309)\n",
      "7   (0.11022396012826403, 0.016399681034683387)\n",
      "8   (0.11125152443174098, 0.017715734027923254)\n",
      "9   (0.11049075268163519, 0.013375862525108872)\n",
      "10   (0.10939342506849548, 0.0163550590023268)\n",
      "11   (0.11044960017253529, 0.019966346913376884)\n",
      "12   (0.1090167408093309, 0.02507569207469452)\n",
      "13   (0.10956941654395552, 0.02954263939633315)\n",
      "14   (0.10847737388440135, 0.026651805370989025)\n",
      "15   (0.10903583042348795, 0.027450545623431882)\n",
      "16   (0.10990866720202815, 0.02806190260237995)\n",
      "17   (0.1093841482020996, 0.03145620880272147)\n",
      "18   (0.10919073420587852, 0.030073808507507863)\n",
      "19   (0.10819894372745478, 0.03333757383161439)\n",
      "20   (0.10786291593017723, 0.030306814329876603)\n",
      "21   (0.10872796760015599, 0.03381743242008307)\n",
      "22   (0.10886480874787186, 0.02991767317889767)\n",
      "23   (0.10812160427323379, 0.035110290453736724)\n",
      "24   (0.10678629599989609, 0.033939922220057844)\n"
     ]
    }
   ],
   "source": [
    "for i in range(2,25):\n",
    "    print(i,\" \",cross(rid,xs,y,i))"
   ]
  },
  {
   "cell_type": "code",
   "execution_count": 386,
   "metadata": {},
   "outputs": [
    {
     "name": "stdout",
     "output_type": "stream",
     "text": [
      "2   (0.10770155493393185, 0.0030499958448049203)\n",
      "3   (0.11060081324803168, 0.006627755183120017)\n",
      "4   (0.10988971399329414, 0.01154055432409854)\n",
      "5   (0.10702999920426323, 0.008573057050796574)\n",
      "6   (0.10902896020326536, 0.014065194620538596)\n",
      "7   (0.10810821009436096, 0.016344609605486442)\n",
      "8   (0.10939311000782921, 0.01703925126257919)\n",
      "9   (0.10874230341370948, 0.013275370832005542)\n",
      "10   (0.10782028838649024, 0.01571094079509663)\n",
      "11   (0.10891403704331344, 0.01879521908196635)\n",
      "12   (0.10722483602691557, 0.022853879623654597)\n",
      "13   (0.10795487609576605, 0.02711299492459495)\n",
      "14   (0.10690110341577462, 0.0232704476489071)\n",
      "15   (0.10737810819312076, 0.025785349979432808)\n",
      "16   (0.10836753779055314, 0.02541292143267059)\n",
      "17   (0.10738603626851288, 0.029494416908460334)\n",
      "18   (0.10776859701615407, 0.02652419834574297)\n",
      "19   (0.10661330432460611, 0.03122696913167589)\n",
      "20   (0.10623894705699985, 0.027758933281800992)\n",
      "21   (0.10714553006395923, 0.03130127192021926)\n",
      "22   (0.10703533072221273, 0.028028981079666948)\n",
      "23   (0.10643896723169213, 0.033838012290780956)\n",
      "24   (0.10500648202076146, 0.03093572732916676)\n"
     ]
    }
   ],
   "source": [
    "for i in range(2,25):\n",
    "    print(i,\" \",cross(ls,xs,y,i))"
   ]
  },
  {
   "cell_type": "code",
   "execution_count": 378,
   "metadata": {},
   "outputs": [
    {
     "name": "stdout",
     "output_type": "stream",
     "text": [
      "2   (0.049437876288798865, 0.001669871917144572)\n",
      "3   (0.05438062415112266, 0.00947881527066349)\n",
      "4   (0.058160029573833066, 0.01045147986173544)\n",
      "5   (0.05797501427165628, 0.016284946715026886)\n",
      "6   (0.05932977860949681, 0.020278143676347695)\n",
      "7   (0.0599396581412878, 0.024591901274103118)\n",
      "8   (0.0619188673383312, 0.01797252543523353)\n",
      "9   (0.06126357724241866, 0.022335295250922708)\n",
      "10   (0.06105687006637408, 0.020278628151224744)\n",
      "11   (0.06184086165848337, 0.020019458346555035)\n",
      "12   (0.06031554824610097, 0.02942865773109567)\n",
      "13   (0.061837884996616764, 0.02805984201715523)\n",
      "14   (0.061134755837568736, 0.027743956018698165)\n"
     ]
    }
   ],
   "source": [
    "for i in range(2,15):\n",
    "    print(i,\" \",cross(svr,xs,y,i))"
   ]
  },
  {
   "cell_type": "code",
   "execution_count": 379,
   "metadata": {},
   "outputs": [
    {
     "name": "stdout",
     "output_type": "stream",
     "text": [
      "2   (0.01621935880416331, 0.0018848117851167356)\n",
      "3   (0.01974291907550622, 0.01972847745649669)\n",
      "4   (0.029682433905741684, 0.01554156276538887)\n",
      "5   (0.015451210173671459, 0.022011765281117392)\n",
      "6   (0.035782994053181416, 0.017550471416057704)\n",
      "7   (0.025915893151932386, 0.040090010494112406)\n",
      "8   (0.03488201888523572, 0.023944704652728015)\n",
      "9   (0.03337335579405661, 0.036235045143058114)\n",
      "10   (0.02800309022545534, 0.04298584581695577)\n",
      "11   (0.03631097191888137, 0.041853103306603925)\n",
      "12   (0.036871722847740096, 0.04474967080278223)\n",
      "13   (0.038028115067262294, 0.06093830110606006)\n",
      "14   (0.02945027039663221, 0.053604144903380016)\n"
     ]
    }
   ],
   "source": [
    "for i in range(2,15):\n",
    "    print(i,\" \",cross(knn,xs,y,i))"
   ]
  },
  {
   "cell_type": "code",
   "execution_count": 380,
   "metadata": {},
   "outputs": [
    {
     "name": "stdout",
     "output_type": "stream",
     "text": [
      "2   (0.08871726788728146, 0.0008508728204915106)\n",
      "3   (0.10298904551651107, 0.025339950947974563)\n",
      "4   (0.11225763727472804, 0.03075888763166387)\n",
      "5   (0.09836429377156375, 0.03214605651063028)\n",
      "6   (0.12443712140010214, 0.03256260618476908)\n",
      "7   (0.12096446679471372, 0.043761441584089504)\n",
      "8   (0.11175393730049546, 0.022606598708356407)\n",
      "9   (0.12055860317875168, 0.019379129411783255)\n",
      "10   (0.10450222225158919, 0.03392565911111146)\n",
      "11   (0.11852061928448432, 0.03762629456138554)\n",
      "12   (0.11143993608466342, 0.03855250183637023)\n",
      "13   (0.11489568032601104, 0.040417128461894054)\n",
      "14   (0.11074899223408911, 0.040587427776586735)\n"
     ]
    }
   ],
   "source": [
    "for i in range(2,15):\n",
    "    print(i,\" \",cross(rf,xs,y,i))"
   ]
  },
  {
   "cell_type": "code",
   "execution_count": 387,
   "metadata": {},
   "outputs": [
    {
     "name": "stdout",
     "output_type": "stream",
     "text": [
      "2   (0.11514719321374439, 0.011673416981303142)\n",
      "3   (0.15936881882527174, 0.017621675512408307)\n",
      "4   (0.17495263628755797, 0.030484710037754107)\n",
      "5   (0.18320878354168033, 0.03400338710463162)\n",
      "6   (0.1871326293630394, 0.037001917125886505)\n",
      "7   (0.17953469140205655, 0.03676689404781823)\n",
      "8   (0.18111483280382806, 0.035636163195944225)\n",
      "9   (0.1873710017315312, 0.043306792169472176)\n",
      "10   (0.17744434473753046, 0.04987523112338453)\n",
      "11   (0.1915162272757468, 0.034852864548362075)\n",
      "12   (0.18502659730328955, 0.04435417791307347)\n",
      "13   (0.1850584669554799, 0.04789441590730399)\n",
      "14   (0.17899177768663252, 0.06099490151784063)\n",
      "15   (0.19349567202619308, 0.06251621942588823)\n",
      "16   (0.18558649963851245, 0.060571920249141396)\n",
      "17   (0.19622182404115038, 0.06852779915520973)\n",
      "18   (0.18278932547859542, 0.062037284101654315)\n",
      "19   (0.18567702082777146, 0.0637881979080054)\n",
      "20   (0.17925846438950005, 0.0649649603888828)\n",
      "21   (0.17537691429978236, 0.05620739537333359)\n",
      "22   (0.18208569738985012, 0.05517687296663773)\n",
      "23   (0.19455935532943594, 0.06108722987592135)\n",
      "24   (0.18263409614741177, 0.06389374081566278)\n"
     ]
    }
   ],
   "source": [
    "for i in range(2,25):\n",
    "    print(i,\" \",cross(xgb,xs,y,i))"
   ]
  },
  {
   "cell_type": "code",
   "execution_count": 388,
   "metadata": {},
   "outputs": [],
   "source": [
    "# lets try everything with rid and gb"
   ]
  },
  {
   "cell_type": "markdown",
   "metadata": {},
   "source": [
    "# Rid"
   ]
  },
  {
   "cell_type": "code",
   "execution_count": 389,
   "metadata": {},
   "outputs": [],
   "source": [
    "# with xs"
   ]
  },
  {
   "cell_type": "code",
   "execution_count": 390,
   "metadata": {},
   "outputs": [],
   "source": [
    "# lets try deleting some features"
   ]
  },
  {
   "cell_type": "code",
   "execution_count": 391,
   "metadata": {},
   "outputs": [],
   "source": [
    "xsr=xs.copy()"
   ]
  },
  {
   "cell_type": "code",
   "execution_count": 392,
   "metadata": {},
   "outputs": [],
   "source": [
    "# first, try bfe"
   ]
  },
  {
   "cell_type": "code",
   "execution_count": 393,
   "metadata": {},
   "outputs": [
    {
     "name": "stdout",
     "output_type": "stream",
     "text": [
      "3   (-8.00821564869054, 179.1246273505089)\n",
      "4   (-7.242145822349123, 178.88780660791218)\n",
      "5   (-6.713580580857904, 179.22172041909215)\n",
      "6   (-6.44270351992666, 178.84802081453125)\n",
      "7   (-6.147592337869996, 178.72174843401234)\n",
      "8   (-6.102870222065301, 178.6330823316374)\n",
      "9   (-6.075646922161938, 178.55686599356667)\n",
      "10   (-6.042589642510634, 178.73997527380476)\n",
      "11   (-6.0557356732999805, 178.82931158008444)\n",
      "12   (-6.043668521729876, 178.8914244334216)\n"
     ]
    }
   ],
   "source": [
    "for i in range(3,13):\n",
    "    print(i,\" \",modified_bfe(rid,xs,y,i))"
   ]
  },
  {
   "cell_type": "code",
   "execution_count": 394,
   "metadata": {},
   "outputs": [],
   "source": [
    "# performing best at 9"
   ]
  },
  {
   "cell_type": "code",
   "execution_count": 396,
   "metadata": {},
   "outputs": [
    {
     "name": "stderr",
     "output_type": "stream",
     "text": [
      "[Parallel(n_jobs=-1)]: Using backend LokyBackend with 4 concurrent workers.\n",
      "[Parallel(n_jobs=-1)]: Done   5 out of  12 | elapsed:    0.0s remaining:    0.0s\n",
      "[Parallel(n_jobs=-1)]: Done  12 out of  12 | elapsed:    0.1s finished\n",
      "\n",
      "[2020-03-28 18:39:47] Features: 11/9 -- score: 0.10961600191560177[Parallel(n_jobs=-1)]: Using backend LokyBackend with 4 concurrent workers.\n",
      "[Parallel(n_jobs=-1)]: Done   4 out of  11 | elapsed:    0.0s remaining:    0.0s\n",
      "[Parallel(n_jobs=-1)]: Done   8 out of  11 | elapsed:    0.0s remaining:    0.0s\n",
      "[Parallel(n_jobs=-1)]: Done  11 out of  11 | elapsed:    0.0s finished\n",
      "\n",
      "[2020-03-28 18:39:48] Features: 10/9 -- score: 0.11023805575288168[Parallel(n_jobs=-1)]: Using backend LokyBackend with 4 concurrent workers.\n",
      "[Parallel(n_jobs=-1)]: Done   3 out of  10 | elapsed:    0.0s remaining:    0.0s\n",
      "[Parallel(n_jobs=-1)]: Done   7 out of  10 | elapsed:    0.0s remaining:    0.0s\n",
      "[Parallel(n_jobs=-1)]: Done  10 out of  10 | elapsed:    0.0s finished\n",
      "\n",
      "[2020-03-28 18:39:48] Features: 9/9 -- score: 0.11055942566927737"
     ]
    }
   ],
   "source": [
    "xsbrid=bfe(rid,xs,y,9)"
   ]
  },
  {
   "cell_type": "code",
   "execution_count": 397,
   "metadata": {},
   "outputs": [
    {
     "data": {
      "text/html": [
       "<div>\n",
       "<style scoped>\n",
       "    .dataframe tbody tr th:only-of-type {\n",
       "        vertical-align: middle;\n",
       "    }\n",
       "\n",
       "    .dataframe tbody tr th {\n",
       "        vertical-align: top;\n",
       "    }\n",
       "\n",
       "    .dataframe thead th {\n",
       "        text-align: right;\n",
       "    }\n",
       "</style>\n",
       "<table border=\"1\" class=\"dataframe\">\n",
       "  <thead>\n",
       "    <tr style=\"text-align: right;\">\n",
       "      <th></th>\n",
       "      <th>Experience</th>\n",
       "      <th>Rating</th>\n",
       "      <th>Profile</th>\n",
       "      <th>Degree_1</th>\n",
       "      <th>Degree_2</th>\n",
       "      <th>Degree_5</th>\n",
       "      <th>Rating_miss</th>\n",
       "      <th>locality</th>\n",
       "      <th>number_of_feed</th>\n",
       "    </tr>\n",
       "  </thead>\n",
       "  <tbody>\n",
       "    <tr>\n",
       "      <td>0</td>\n",
       "      <td>0.631077</td>\n",
       "      <td>1.274263</td>\n",
       "      <td>1.525945</td>\n",
       "      <td>-0.844663</td>\n",
       "      <td>-0.354130</td>\n",
       "      <td>0.007237</td>\n",
       "      <td>-1.163945</td>\n",
       "      <td>-0.465301</td>\n",
       "      <td>0.542685</td>\n",
       "    </tr>\n",
       "    <tr>\n",
       "      <td>1</td>\n",
       "      <td>-0.470762</td>\n",
       "      <td>1.231702</td>\n",
       "      <td>-1.467783</td>\n",
       "      <td>-0.885242</td>\n",
       "      <td>-0.536966</td>\n",
       "      <td>0.007237</td>\n",
       "      <td>-1.163945</td>\n",
       "      <td>1.718233</td>\n",
       "      <td>3.795579</td>\n",
       "    </tr>\n",
       "    <tr>\n",
       "      <td>2</td>\n",
       "      <td>-0.746222</td>\n",
       "      <td>-0.853780</td>\n",
       "      <td>0.328454</td>\n",
       "      <td>1.387185</td>\n",
       "      <td>0.703708</td>\n",
       "      <td>0.007237</td>\n",
       "      <td>0.859147</td>\n",
       "      <td>0.144057</td>\n",
       "      <td>-0.324753</td>\n",
       "    </tr>\n",
       "    <tr>\n",
       "      <td>3</td>\n",
       "      <td>0.263797</td>\n",
       "      <td>1.274263</td>\n",
       "      <td>-1.467783</td>\n",
       "      <td>-0.885242</td>\n",
       "      <td>0.847365</td>\n",
       "      <td>0.007237</td>\n",
       "      <td>-1.163945</td>\n",
       "      <td>-0.312962</td>\n",
       "      <td>-0.107893</td>\n",
       "    </tr>\n",
       "    <tr>\n",
       "      <td>4</td>\n",
       "      <td>-0.838042</td>\n",
       "      <td>-0.853780</td>\n",
       "      <td>-1.467783</td>\n",
       "      <td>-0.885242</td>\n",
       "      <td>0.847365</td>\n",
       "      <td>0.007237</td>\n",
       "      <td>0.859147</td>\n",
       "      <td>0.737791</td>\n",
       "      <td>-0.324753</td>\n",
       "    </tr>\n",
       "  </tbody>\n",
       "</table>\n",
       "</div>"
      ],
      "text/plain": [
       "   Experience    Rating   Profile  Degree_1  Degree_2  Degree_5  Rating_miss  locality  number_of_feed\n",
       "0    0.631077  1.274263  1.525945 -0.844663 -0.354130  0.007237    -1.163945 -0.465301        0.542685\n",
       "1   -0.470762  1.231702 -1.467783 -0.885242 -0.536966  0.007237    -1.163945  1.718233        3.795579\n",
       "2   -0.746222 -0.853780  0.328454  1.387185  0.703708  0.007237     0.859147  0.144057       -0.324753\n",
       "3    0.263797  1.274263 -1.467783 -0.885242  0.847365  0.007237    -1.163945 -0.312962       -0.107893\n",
       "4   -0.838042 -0.853780 -1.467783 -0.885242  0.847365  0.007237     0.859147  0.737791       -0.324753"
      ]
     },
     "execution_count": 397,
     "metadata": {},
     "output_type": "execute_result"
    }
   ],
   "source": [
    "xsbrid.head()"
   ]
  },
  {
   "cell_type": "code",
   "execution_count": 398,
   "metadata": {},
   "outputs": [
    {
     "name": "stdout",
     "output_type": "stream",
     "text": [
      "2   (0.11041510451279646, 0.003919831964534937)\n",
      "3   (0.11403723196513434, 0.005597438143638542)\n",
      "4   (0.11255297890759136, 0.01112338575855488)\n",
      "5   (0.11055942566927701, 0.008509091251469016)\n",
      "6   (0.11183854925715082, 0.016843684112665257)\n",
      "7   (0.11103591310099929, 0.017168589382645507)\n",
      "8   (0.11207704534451456, 0.017833308731550677)\n",
      "9   (0.11159643639320288, 0.013497585013152152)\n"
     ]
    }
   ],
   "source": [
    "# now, lets cross validate from 2 to 9\n",
    "for i in range(2,10):\n",
    "    print(i,\" \",cross(rid,xsbrid,y,i))"
   ]
  },
  {
   "cell_type": "code",
   "execution_count": 399,
   "metadata": {},
   "outputs": [],
   "source": [
    "# max score at cv=3\n",
    "# the score has improved a little"
   ]
  },
  {
   "cell_type": "code",
   "execution_count": 400,
   "metadata": {},
   "outputs": [],
   "source": [
    "# lets first tune rid with xsbrid"
   ]
  },
  {
   "cell_type": "code",
   "execution_count": 401,
   "metadata": {},
   "outputs": [],
   "source": [
    "Ridge?"
   ]
  },
  {
   "cell_type": "code",
   "execution_count": 406,
   "metadata": {},
   "outputs": [
    {
     "name": "stdout",
     "output_type": "stream",
     "text": [
      "Fitting 4 folds for each of 11 candidates, totalling 44 fits\n"
     ]
    },
    {
     "name": "stderr",
     "output_type": "stream",
     "text": [
      "[Parallel(n_jobs=-1)]: Using backend LokyBackend with 4 concurrent workers.\n",
      "[Parallel(n_jobs=-1)]: Done  28 out of  44 | elapsed:    0.2s remaining:    0.0s\n",
      "[Parallel(n_jobs=-1)]: Done  44 out of  44 | elapsed:    0.2s finished\n"
     ]
    },
    {
     "data": {
      "text/plain": [
       "{'alpha': 4}"
      ]
     },
     "execution_count": 406,
     "metadata": {},
     "output_type": "execute_result"
    }
   ],
   "source": [
    "param_rid={'alpha':[0.1,0.5,1,1.5,2,2.5,3,3.5,4,4.5,5]}\n",
    "gridcv(rid,param_rid,xsbrid,y)"
   ]
  },
  {
   "cell_type": "code",
   "execution_count": 407,
   "metadata": {},
   "outputs": [],
   "source": [
    "rid1=Ridge(alpha=4)"
   ]
  },
  {
   "cell_type": "code",
   "execution_count": 408,
   "metadata": {},
   "outputs": [
    {
     "name": "stdout",
     "output_type": "stream",
     "text": [
      "2   (0.11078042388511539, 0.0031075967377766633)\n",
      "3   (0.11401394478259581, 0.005654075309811322)\n",
      "4   (0.11260018302880334, 0.01106369422685626)\n",
      "5   (0.11053981669902013, 0.008488753922143037)\n",
      "6   (0.11185374234522495, 0.016541147057591434)\n",
      "7   (0.11101515824499852, 0.017110336861505884)\n",
      "8   (0.11208272882700972, 0.01772712154972727)\n",
      "9   (0.11161916504896463, 0.013422013712883677)\n"
     ]
    }
   ],
   "source": [
    "for i in range(2,10):\n",
    "    print(i,\" \",cross(rid1,xsbrid,y,i))"
   ]
  },
  {
   "cell_type": "code",
   "execution_count": 409,
   "metadata": {},
   "outputs": [],
   "source": [
    "# score improved a little at cv=3"
   ]
  },
  {
   "cell_type": "code",
   "execution_count": 415,
   "metadata": {},
   "outputs": [
    {
     "data": {
      "text/plain": [
       "(0.11425263317343744, 0.005635407323968664)"
      ]
     },
     "execution_count": 415,
     "metadata": {},
     "output_type": "execute_result"
    }
   ],
   "source": [
    "# lets try to boost it\n",
    "adadt=AdaBoostRegressor(base_estimator=rid1, random_state=45, n_estimators=50, learning_rate=0.001)\n",
    "cross(adadt,xsbrid,y,3)"
   ]
  },
  {
   "cell_type": "code",
   "execution_count": 416,
   "metadata": {},
   "outputs": [],
   "source": [
    "# now, lets finally check rmse on it"
   ]
  },
  {
   "cell_type": "code",
   "execution_count": 417,
   "metadata": {},
   "outputs": [],
   "source": [
    "crosspredrid=cross_val_predict(adadt,xsbrid,y,cv=3)"
   ]
  },
  {
   "cell_type": "code",
   "execution_count": 418,
   "metadata": {},
   "outputs": [
    {
     "name": "stdout",
     "output_type": "stream",
     "text": [
      "Mean_Squared_Error:  30875.172547959333\n",
      "Root_Mean_Squared_Error:  175.71332490155473\n",
      "Mean_Absolute_Error:  142.40570217993005\n"
     ]
    }
   ],
   "source": [
    "# Evaluation metrics\n",
    "mse=mean_squared_error(y,crosspredrid)\n",
    "mae=mean_absolute_error(y,crosspredrid)\n",
    "rmse=np.sqrt(mean_squared_error(y,crosspredrid))\n",
    "print('Mean_Squared_Error: ', mse)\n",
    "print('Root_Mean_Squared_Error: ', rmse)\n",
    "print('Mean_Absolute_Error: ', mae)"
   ]
  },
  {
   "cell_type": "code",
   "execution_count": 419,
   "metadata": {},
   "outputs": [],
   "source": [
    "# the error reduced from 178"
   ]
  },
  {
   "cell_type": "markdown",
   "metadata": {},
   "source": [
    "# GB"
   ]
  },
  {
   "cell_type": "code",
   "execution_count": 420,
   "metadata": {},
   "outputs": [],
   "source": [
    "# lets apply bfe"
   ]
  },
  {
   "cell_type": "code",
   "execution_count": 421,
   "metadata": {},
   "outputs": [],
   "source": [
    "# we've already applied bfe\n",
    "# xsbfe1=bfe(gb,xs,y,7)\n",
    "# xsbfe1.head()\n",
    "# best score was at k=7"
   ]
  },
  {
   "cell_type": "code",
   "execution_count": 423,
   "metadata": {},
   "outputs": [
    {
     "name": "stdout",
     "output_type": "stream",
     "text": [
      "2   (0.2125190066578202, 0.005655486024994882)\n",
      "3   (0.21608110502371383, 0.009209865690857005)\n",
      "4   (0.21593100162999304, 0.005238510095073015)\n",
      "5   (0.21975498076917904, 0.010810383581799128)\n",
      "6   (0.21833858014873497, 0.009338989456469785)\n",
      "7   (0.2168150732509794, 0.018811880511843924)\n",
      "8   (0.21889775837462827, 0.01924185979209145)\n",
      "9   (0.219156178369606, 0.013340164915319946)\n",
      "10   (0.21742378749654426, 0.02499755554462615)\n",
      "11   (0.21962839755595828, 0.028745950649030447)\n",
      "12   (0.21939626527722034, 0.02626177240354356)\n",
      "13   (0.22080451771820137, 0.031112402575218752)\n",
      "14   (0.2167874472710947, 0.028896625399846953)\n",
      "15   (0.2196571834217035, 0.032226453143851516)\n",
      "16   (0.22330338135268124, 0.025691347555747222)\n",
      "17   (0.21818361547689424, 0.03653991801634608)\n",
      "18   (0.22027433226782053, 0.03666999584998397)\n",
      "19   (0.2193033894694376, 0.037940575806217)\n",
      "20   (0.21924267689620186, 0.03421191838016356)\n",
      "21   (0.21825204036452311, 0.037775248997637415)\n",
      "22   (0.22043759401211951, 0.03464408031957593)\n",
      "23   (0.21876587705299877, 0.04592774823393213)\n",
      "24   (0.22010286917590735, 0.04267244664272661)\n"
     ]
    }
   ],
   "source": [
    "for i in range(2,25):\n",
    "    print(i,\" \",cross(gb,xsbfe1,y,i))"
   ]
  },
  {
   "cell_type": "code",
   "execution_count": 424,
   "metadata": {},
   "outputs": [
    {
     "data": {
      "text/plain": [
       "(0.22330338135268124, 0.025691347555747222)"
      ]
     },
     "execution_count": 424,
     "metadata": {},
     "output_type": "execute_result"
    }
   ],
   "source": [
    "cross(gb,xsbfe1,y,16)"
   ]
  },
  {
   "cell_type": "code",
   "execution_count": 425,
   "metadata": {},
   "outputs": [],
   "source": [
    "# lets tune gb with xsbfe1"
   ]
  },
  {
   "cell_type": "code",
   "execution_count": 429,
   "metadata": {},
   "outputs": [],
   "source": [
    "GradientBoostingRegressor?"
   ]
  },
  {
   "cell_type": "code",
   "execution_count": 428,
   "metadata": {},
   "outputs": [
    {
     "name": "stdout",
     "output_type": "stream",
     "text": [
      "Fitting 4 folds for each of 24 candidates, totalling 96 fits\n"
     ]
    },
    {
     "name": "stderr",
     "output_type": "stream",
     "text": [
      "[Parallel(n_jobs=-1)]: Using backend LokyBackend with 4 concurrent workers.\n",
      "[Parallel(n_jobs=-1)]: Done  10 tasks      | elapsed:    4.3s\n",
      "[Parallel(n_jobs=-1)]: Done  64 tasks      | elapsed:    9.6s\n",
      "[Parallel(n_jobs=-1)]: Done  96 out of  96 | elapsed:   13.0s finished\n"
     ]
    },
    {
     "data": {
      "text/plain": [
       "{'loss': 'ls', 'max_features': 'auto', 'warm_start': True}"
      ]
     },
     "execution_count": 428,
     "metadata": {},
     "output_type": "execute_result"
    }
   ],
   "source": [
    "param_gb={'loss':['ls', 'lad', 'huber', 'quantile'],\n",
    "          'max_features':['auto','sqrt','log2'],'warm_start':[True,False]}\n",
    "gridcv(gb,param_gb,xsbfe1,y)"
   ]
  },
  {
   "cell_type": "code",
   "execution_count": 430,
   "metadata": {},
   "outputs": [],
   "source": [
    "gb1=GradientBoostingRegressor(random_state=45,max_features= 'auto', warm_start= True)"
   ]
  },
  {
   "cell_type": "code",
   "execution_count": 432,
   "metadata": {},
   "outputs": [
    {
     "name": "stdout",
     "output_type": "stream",
     "text": [
      "Fitting 4 folds for each of 100 candidates, totalling 400 fits\n"
     ]
    },
    {
     "name": "stderr",
     "output_type": "stream",
     "text": [
      "[Parallel(n_jobs=-1)]: Using backend LokyBackend with 4 concurrent workers.\n",
      "[Parallel(n_jobs=-1)]: Done  10 tasks      | elapsed:    6.0s\n",
      "[Parallel(n_jobs=-1)]: Done  64 tasks      | elapsed:   23.2s\n",
      "[Parallel(n_jobs=-1)]: Done 154 tasks      | elapsed:   57.8s\n",
      "[Parallel(n_jobs=-1)]: Done 280 tasks      | elapsed:  1.9min\n",
      "[Parallel(n_jobs=-1)]: Done 400 out of 400 | elapsed:  2.4min finished\n"
     ]
    },
    {
     "data": {
      "text/plain": [
       "{'min_samples_split': 2,\n",
       " 'min_samples_leaf': 4,\n",
       " 'max_depth': 4,\n",
       " 'learning_rate': 0.1,\n",
       " 'alpha': 0.7}"
      ]
     },
     "execution_count": 432,
     "metadata": {},
     "output_type": "execute_result"
    }
   ],
   "source": [
    "param_gb1={'learning_rate':[0.0001,0.001,0.01,0.1,1,2],'min_samples_split':[2,3,4,5,8],\n",
    "          'min_samples_leaf':[1,2,3,4],'max_depth':[2,4,6,8,10,12],'alpha':[0.1,0.2,0.4,0.7,0.9]}\n",
    "randomcv(gb1,param_gb1,xsbfe1,y)"
   ]
  },
  {
   "cell_type": "code",
   "execution_count": 433,
   "metadata": {},
   "outputs": [
    {
     "name": "stdout",
     "output_type": "stream",
     "text": [
      "Fitting 4 folds for each of 100 candidates, totalling 400 fits\n"
     ]
    },
    {
     "name": "stderr",
     "output_type": "stream",
     "text": [
      "[Parallel(n_jobs=-1)]: Using backend LokyBackend with 4 concurrent workers.\n",
      "[Parallel(n_jobs=-1)]: Done  10 tasks      | elapsed:    1.0s\n",
      "[Parallel(n_jobs=-1)]: Done  64 tasks      | elapsed:    5.8s\n",
      "[Parallel(n_jobs=-1)]: Done 154 tasks      | elapsed:   14.1s\n",
      "[Parallel(n_jobs=-1)]: Done 280 tasks      | elapsed:   27.0s\n",
      "[Parallel(n_jobs=-1)]: Done 400 out of 400 | elapsed:   37.9s finished\n"
     ]
    },
    {
     "data": {
      "text/plain": [
       "{'min_samples_split': 3,\n",
       " 'min_samples_leaf': 5,\n",
       " 'max_depth': 5,\n",
       " 'learning_rate': 0.1,\n",
       " 'alpha': 0.7}"
      ]
     },
     "execution_count": 433,
     "metadata": {},
     "output_type": "execute_result"
    }
   ],
   "source": [
    "param_gb2={'learning_rate':[0.05,0.1,0.2,0.4,0.6],'min_samples_split':[2,3],\n",
    "          'min_samples_leaf':[3,4,5],'max_depth':[2,3,4,5],'alpha':[0.1,0.2,0.4,0.7,0.9]}\n",
    "randomcv(gb1,param_gb1,xsbfe1,y)"
   ]
  },
  {
   "cell_type": "code",
   "execution_count": 434,
   "metadata": {},
   "outputs": [
    {
     "name": "stdout",
     "output_type": "stream",
     "text": [
      "Fitting 4 folds for each of 100 candidates, totalling 400 fits\n"
     ]
    },
    {
     "name": "stderr",
     "output_type": "stream",
     "text": [
      "[Parallel(n_jobs=-1)]: Using backend LokyBackend with 4 concurrent workers.\n",
      "[Parallel(n_jobs=-1)]: Done  10 tasks      | elapsed:    1.7s\n",
      "[Parallel(n_jobs=-1)]: Done  64 tasks      | elapsed:    9.7s\n",
      "[Parallel(n_jobs=-1)]: Done 154 tasks      | elapsed:   24.2s\n",
      "[Parallel(n_jobs=-1)]: Done 280 tasks      | elapsed:   42.2s\n",
      "[Parallel(n_jobs=-1)]: Done 400 out of 400 | elapsed:  1.0min finished\n"
     ]
    },
    {
     "data": {
      "text/plain": [
       "{'min_samples_split': 2,\n",
       " 'min_samples_leaf': 6,\n",
       " 'max_depth': 6,\n",
       " 'learning_rate': 0.1,\n",
       " 'alpha': 0.3}"
      ]
     },
     "execution_count": 434,
     "metadata": {},
     "output_type": "execute_result"
    }
   ],
   "source": [
    "param_gb2={'learning_rate':[0.1,0.2,0.3],'min_samples_split':[2,3,4],\n",
    "          'min_samples_leaf':[4,5,6,7],'max_depth':[4,5,6,7],'alpha':[0.3,0.4,0.5,0.6,0.7,0.8]}\n",
    "randomcv(gb1,param_gb2,xsbfe1,y)"
   ]
  },
  {
   "cell_type": "code",
   "execution_count": 435,
   "metadata": {},
   "outputs": [],
   "source": [
    "gb2=GradientBoostingRegressor(random_state=45,max_features= 'auto', warm_start= True,min_samples_split= 2,\n",
    " min_samples_leaf= 6,\n",
    " max_depth= 6,\n",
    " learning_rate= 0.1,\n",
    " alpha= 0.3)"
   ]
  },
  {
   "cell_type": "code",
   "execution_count": 437,
   "metadata": {},
   "outputs": [
    {
     "name": "stdout",
     "output_type": "stream",
     "text": [
      "Fitting 4 folds for each of 14 candidates, totalling 56 fits\n"
     ]
    },
    {
     "name": "stderr",
     "output_type": "stream",
     "text": [
      "[Parallel(n_jobs=-1)]: Using backend LokyBackend with 4 concurrent workers.\n",
      "[Parallel(n_jobs=-1)]: Done  10 tasks      | elapsed:    0.9s\n",
      "[Parallel(n_jobs=-1)]: Done  56 out of  56 | elapsed:    8.8s finished\n"
     ]
    },
    {
     "data": {
      "text/plain": [
       "{'n_estimators': 110}"
      ]
     },
     "execution_count": 437,
     "metadata": {},
     "output_type": "execute_result"
    }
   ],
   "source": [
    "param_gb3={'n_estimators':range(30,170,10)}\n",
    "gridcv(gb2,param_gb3,xsbfe1,y)"
   ]
  },
  {
   "cell_type": "code",
   "execution_count": 438,
   "metadata": {},
   "outputs": [],
   "source": [
    "gb3=GradientBoostingRegressor(random_state=45,max_features= 'auto', warm_start= True,min_samples_split= 2,\n",
    " min_samples_leaf= 6,\n",
    " max_depth= 6,\n",
    " learning_rate= 0.1,\n",
    " alpha= 0.3,n_estimators= 110)"
   ]
  },
  {
   "cell_type": "code",
   "execution_count": 439,
   "metadata": {},
   "outputs": [
    {
     "data": {
      "text/plain": [
       "(0.2404492875702192, 0.03836918269229687)"
      ]
     },
     "execution_count": 439,
     "metadata": {},
     "output_type": "execute_result"
    }
   ],
   "source": [
    "cross(gb3,xsbfe1,y,16)"
   ]
  },
  {
   "cell_type": "code",
   "execution_count": 440,
   "metadata": {},
   "outputs": [],
   "source": [
    "# score improved"
   ]
  },
  {
   "cell_type": "code",
   "execution_count": 443,
   "metadata": {},
   "outputs": [
    {
     "name": "stdout",
     "output_type": "stream",
     "text": [
      "Fitting 4 folds for each of 100 candidates, totalling 400 fits\n"
     ]
    },
    {
     "name": "stderr",
     "output_type": "stream",
     "text": [
      "[Parallel(n_jobs=-1)]: Using backend LokyBackend with 4 concurrent workers.\n",
      "[Parallel(n_jobs=-1)]: Done  10 tasks      | elapsed:    1.6s\n",
      "[Parallel(n_jobs=-1)]: Done  64 tasks      | elapsed:   11.1s\n",
      "[Parallel(n_jobs=-1)]: Done 154 tasks      | elapsed:   25.8s\n",
      "[Parallel(n_jobs=-1)]: Done 280 tasks      | elapsed:   46.9s\n",
      "[Parallel(n_jobs=-1)]: Done 400 out of 400 | elapsed:  1.1min finished\n"
     ]
    },
    {
     "data": {
      "text/plain": [
       "{'min_samples_split': 3,\n",
       " 'min_samples_leaf': 4,\n",
       " 'max_depth': 5,\n",
       " 'learning_rate': 0.1,\n",
       " 'alpha': 0.7}"
      ]
     },
     "execution_count": 443,
     "metadata": {},
     "output_type": "execute_result"
    }
   ],
   "source": [
    "# lets try another trial of tuning\n",
    "param_gb4={'learning_rate':[0.1,0.2,0.3,0.4],'min_samples_split':[2,3,4,5],\n",
    "          'min_samples_leaf':[3,4,5,6,7],'max_depth':[4,5,6,7,8],'alpha':[0.2,0.3,0.4,0.5,0.6,0.7,0.8]}\n",
    "randomcv(gb,param_gb4,xsbfe1,y)"
   ]
  },
  {
   "cell_type": "code",
   "execution_count": 444,
   "metadata": {},
   "outputs": [],
   "source": [
    "gb4=GradientBoostingRegressor(random_state=45,min_samples_split= 3,\n",
    " min_samples_leaf= 4,\n",
    " max_depth= 5,\n",
    " learning_rate= 0.1,\n",
    " alpha= 0.7)"
   ]
  },
  {
   "cell_type": "code",
   "execution_count": 446,
   "metadata": {},
   "outputs": [
    {
     "name": "stdout",
     "output_type": "stream",
     "text": [
      "Fitting 4 folds for each of 12 candidates, totalling 48 fits\n"
     ]
    },
    {
     "name": "stderr",
     "output_type": "stream",
     "text": [
      "[Parallel(n_jobs=-1)]: Using backend LokyBackend with 4 concurrent workers.\n",
      "[Parallel(n_jobs=-1)]: Done  10 tasks      | elapsed:    1.4s\n",
      "[Parallel(n_jobs=-1)]: Done  48 out of  48 | elapsed:    8.5s finished\n"
     ]
    },
    {
     "data": {
      "text/plain": [
       "{'n_estimators': 180}"
      ]
     },
     "execution_count": 446,
     "metadata": {},
     "output_type": "execute_result"
    }
   ],
   "source": [
    "param_gb6={'n_estimators':range(80,200,10)}\n",
    "gridcv(gb4,param_gb6,xsbfe1,y)"
   ]
  },
  {
   "cell_type": "code",
   "execution_count": 447,
   "metadata": {},
   "outputs": [
    {
     "data": {
      "text/plain": [
       "(0.24208625619972401, 0.03810459042141834)"
      ]
     },
     "execution_count": 447,
     "metadata": {},
     "output_type": "execute_result"
    }
   ],
   "source": [
    "gb5=GradientBoostingRegressor(random_state=45,min_samples_split= 3,\n",
    " min_samples_leaf= 4,\n",
    " max_depth= 5,\n",
    " learning_rate= 0.1,\n",
    " alpha= 0.7,n_estimators=180)\n",
    "cross(gb5,xsbfe1,y,16)"
   ]
  },
  {
   "cell_type": "code",
   "execution_count": 448,
   "metadata": {},
   "outputs": [],
   "source": [
    "# the score improved"
   ]
  },
  {
   "cell_type": "code",
   "execution_count": 441,
   "metadata": {},
   "outputs": [],
   "source": [
    "# lets try to boost gb4,xsbfe1,y"
   ]
  },
  {
   "cell_type": "code",
   "execution_count": 449,
   "metadata": {},
   "outputs": [
    {
     "data": {
      "text/plain": [
       "(0.24661020895164443, 0.03127577309253523)"
      ]
     },
     "execution_count": 449,
     "metadata": {},
     "output_type": "execute_result"
    }
   ],
   "source": [
    "adagb=AdaBoostRegressor(base_estimator=gb4, random_state=45, n_estimators=50, learning_rate=0.0001)\n",
    "cross(adagb,xsbfe1,y,16)"
   ]
  },
  {
   "cell_type": "code",
   "execution_count": 450,
   "metadata": {},
   "outputs": [],
   "source": [
    "# took around 2 minutes"
   ]
  },
  {
   "cell_type": "code",
   "execution_count": 452,
   "metadata": {},
   "outputs": [
    {
     "data": {
      "text/plain": [
       "(0.24558733323335147, 0.03175004822414221)"
      ]
     },
     "execution_count": 452,
     "metadata": {},
     "output_type": "execute_result"
    }
   ],
   "source": [
    "adagb=AdaBoostRegressor(base_estimator=gb4, random_state=45, n_estimators=50, learning_rate=0.01)\n",
    "cross(adagb,xsbfe1,y,16)"
   ]
  },
  {
   "cell_type": "code",
   "execution_count": 453,
   "metadata": {},
   "outputs": [
    {
     "data": {
      "text/plain": [
       "(0.24730921002575557, 0.03205558893351855)"
      ]
     },
     "execution_count": 453,
     "metadata": {},
     "output_type": "execute_result"
    }
   ],
   "source": [
    "adagb=AdaBoostRegressor(base_estimator=gb4, random_state=45, n_estimators=100, learning_rate=0.0001)\n",
    "cross(adagb,xsbfe1,y,16)"
   ]
  },
  {
   "cell_type": "code",
   "execution_count": 457,
   "metadata": {},
   "outputs": [
    {
     "data": {
      "text/plain": [
       "(0.24742723450763832, 0.031827539617566195)"
      ]
     },
     "execution_count": 457,
     "metadata": {},
     "output_type": "execute_result"
    }
   ],
   "source": [
    "adagb200=AdaBoostRegressor(base_estimator=gb4, random_state=45, n_estimators=200, learning_rate=0.0001)\n",
    "cross(adagb200,xsbfe1,y,16)"
   ]
  },
  {
   "cell_type": "code",
   "execution_count": 458,
   "metadata": {},
   "outputs": [
    {
     "data": {
      "text/plain": [
       "(0.2530618041307495, 0.0353315720186658)"
      ]
     },
     "execution_count": 458,
     "metadata": {},
     "output_type": "execute_result"
    }
   ],
   "source": [
    "adagb1=AdaBoostRegressor(base_estimator=gb3, random_state=45, n_estimators=50, learning_rate=0.0001)\n",
    "cross(adagb1,xsbfe1,y,16)"
   ]
  },
  {
   "cell_type": "code",
   "execution_count": 459,
   "metadata": {},
   "outputs": [],
   "source": [
    "crosspredgb=cross_val_predict(adagb1,xsbfe1,y,cv=16)"
   ]
  },
  {
   "cell_type": "code",
   "execution_count": 460,
   "metadata": {},
   "outputs": [
    {
     "name": "stdout",
     "output_type": "stream",
     "text": [
      "Mean_Squared_Error:  25995.640994673402\n",
      "Root_Mean_Squared_Error:  161.2316376976721\n",
      "Mean_Absolute_Error:  124.69861698668548\n"
     ]
    }
   ],
   "source": [
    "# Evaluation metrics\n",
    "mse=mean_squared_error(y,crosspredgb)\n",
    "mae=mean_absolute_error(y,crosspredgb)\n",
    "rmse=np.sqrt(mean_squared_error(y,crosspredgb))\n",
    "print('Mean_Squared_Error: ', mse)\n",
    "print('Root_Mean_Squared_Error: ', rmse)\n",
    "print('Mean_Absolute_Error: ', mae)"
   ]
  },
  {
   "cell_type": "code",
   "execution_count": 461,
   "metadata": {},
   "outputs": [],
   "source": [
    "# the error reduced"
   ]
  },
  {
   "cell_type": "code",
   "execution_count": 468,
   "metadata": {},
   "outputs": [],
   "source": [
    "# now, lets make a copy of xs\n",
    "xsc=xs.copy()"
   ]
  },
  {
   "cell_type": "code",
   "execution_count": 469,
   "metadata": {},
   "outputs": [
    {
     "name": "stdout",
     "output_type": "stream",
     "text": [
      "9   (0.19160897133936702, 0.016975354361073513)\n",
      "10   (0.18950669231721035, 0.0229621128172783)\n",
      "11   (0.1897197342605036, 0.027397622825898693)\n",
      "12   (0.19053363943391624, 0.027921199368664842)\n",
      "13   (0.19078243398851974, 0.035682932170107165)\n",
      "14   (0.18943556954398685, 0.02766903953122974)\n",
      "15   (0.19066447916346663, 0.03074404760859163)\n",
      "16   (0.19108447161714945, 0.031436538782104465)\n",
      "17   (0.18987790680925296, 0.04343205466348178)\n"
     ]
    }
   ],
   "source": [
    "# now, we'll try to drop features and look at results\n",
    "xsc1=xsc.drop(['locality','Degree_1','Degree_2','Degree_3','Degree_4','Degree_5','Rating_miss','number_of_feed'],axis=1)\n",
    "for i in range(9,18):\n",
    "    print(i,\" \",cross(gb,xsc1,y,i))"
   ]
  },
  {
   "cell_type": "code",
   "execution_count": 470,
   "metadata": {},
   "outputs": [
    {
     "name": "stdout",
     "output_type": "stream",
     "text": [
      "9   (0.1876709612789514, 0.016286467613595337)\n",
      "10   (0.18667268908944812, 0.019853141022800183)\n",
      "11   (0.18763214178892412, 0.02354994452486079)\n",
      "12   (0.18589895577092655, 0.027055132140823328)\n",
      "13   (0.1860461137861948, 0.032236677728767635)\n",
      "14   (0.18703251714235006, 0.02557763957371157)\n",
      "15   (0.18804057622497583, 0.028637013949522765)\n",
      "16   (0.18900523979430306, 0.03096731381663806)\n",
      "17   (0.1859486680389551, 0.04189863301996143)\n"
     ]
    }
   ],
   "source": [
    "# now, we'll try to drop features and look at results\n",
    "xsc2=xsc.drop(['locality','Degree_1','Degree_2','Degree_3','Degree_4','Degree_5','Rating_miss'],axis=1)\n",
    "for i in range(9,18):\n",
    "    print(i,\" \",cross(gb,xsc2,y,i))"
   ]
  },
  {
   "cell_type": "code",
   "execution_count": 471,
   "metadata": {},
   "outputs": [
    {
     "name": "stdout",
     "output_type": "stream",
     "text": [
      "9   (0.18764645490923387, 0.0154327858455751)\n",
      "10   (0.1864235764809925, 0.02298213863991565)\n",
      "11   (0.188316099897662, 0.025337579640487246)\n",
      "12   (0.18810544205095656, 0.027178370715352184)\n",
      "13   (0.18726157339031274, 0.032341312298957425)\n",
      "14   (0.18708159030072638, 0.025889761316040233)\n",
      "15   (0.1895742920502274, 0.02896997068033137)\n",
      "16   (0.18844391279786898, 0.029210631398478057)\n",
      "17   (0.18865472663282362, 0.04031087347331864)\n"
     ]
    }
   ],
   "source": [
    "# now, we'll try to drop features and look at results\n",
    "xsc3=xsc.drop(['locality','Degree_1','Degree_2','Rating_miss','number_of_feed'],axis=1)\n",
    "for i in range(9,18):\n",
    "    print(i,\" \",cross(gb,xsc3,y,i))"
   ]
  },
  {
   "cell_type": "code",
   "execution_count": 472,
   "metadata": {},
   "outputs": [
    {
     "name": "stdout",
     "output_type": "stream",
     "text": [
      "9   (0.21444517728107876, 0.011700153370118347)\n",
      "10   (0.21337720425673892, 0.02363925770032393)\n",
      "11   (0.216606313965727, 0.025142730133670275)\n",
      "12   (0.21585352832388582, 0.02295585280054989)\n",
      "13   (0.21662994941132424, 0.029598986770824082)\n",
      "14   (0.21332355490969773, 0.027720093551879307)\n",
      "15   (0.2162702479049539, 0.032804232617180636)\n",
      "16   (0.21854659258096143, 0.025477482910543123)\n",
      "17   (0.2146613194917625, 0.03773646317869785)\n"
     ]
    }
   ],
   "source": [
    "# now, we'll try to drop features and look at results\n",
    "xsc4=xsc.drop(['Degree_3','Degree_4','Degree_5'],axis=1)\n",
    "for i in range(9,18):\n",
    "    print(i,\" \",cross(gb,xsc4,y,i))"
   ]
  },
  {
   "cell_type": "code",
   "execution_count": 473,
   "metadata": {},
   "outputs": [
    {
     "name": "stdout",
     "output_type": "stream",
     "text": [
      "9   (0.21464254458721446, 0.011771967447703492)\n",
      "10   (0.21349725996816024, 0.02391340196609273)\n",
      "11   (0.21713204378134024, 0.025127975663443946)\n",
      "12   (0.21634349463278624, 0.022780343316579865)\n",
      "13   (0.21666054723612257, 0.029760398309009742)\n",
      "14   (0.21379124642925257, 0.028118575327846246)\n",
      "15   (0.2165679595997814, 0.032842587259181454)\n",
      "16   (0.2187213001025738, 0.025527364140449194)\n",
      "17   (0.2146501370366205, 0.037989330977286385)\n"
     ]
    }
   ],
   "source": [
    "# now, we'll try to drop features and look at results\n",
    "xsc5=xsc.drop(['Degree_3','Degree_4','Degree_5','Rating_miss'],axis=1)\n",
    "for i in range(9,18):\n",
    "    print(i,\" \",cross(gb,xsc5,y,i))"
   ]
  },
  {
   "cell_type": "code",
   "execution_count": 474,
   "metadata": {},
   "outputs": [
    {
     "name": "stdout",
     "output_type": "stream",
     "text": [
      "9   (0.21897910187088035, 0.013359214803836962)\n",
      "10   (0.21784754466911224, 0.02691353948669113)\n",
      "11   (0.22089210313729007, 0.028225408817706892)\n",
      "12   (0.21924261012965807, 0.024177035911520997)\n",
      "13   (0.22194869811349666, 0.032130235383920104)\n",
      "14   (0.2211713845823376, 0.02941457133958817)\n",
      "15   (0.21943332606101304, 0.03494916522340432)\n",
      "16   (0.22168843772017177, 0.025499123344069195)\n",
      "17   (0.21904267607048494, 0.038745694967391595)\n"
     ]
    }
   ],
   "source": [
    "# now, we'll try to drop features and look at results\n",
    "xsc6=xsc.drop(['Degree_3','Degree_4','Degree_5','Rating_miss','number_of_feed'],axis=1)\n",
    "for i in range(9,18):\n",
    "    print(i,\" \",cross(gb,xsc6,y,i))"
   ]
  },
  {
   "cell_type": "code",
   "execution_count": 475,
   "metadata": {},
   "outputs": [
    {
     "name": "stdout",
     "output_type": "stream",
     "text": [
      "9   (0.20198163363622912, 0.012275391845358885)\n",
      "10   (0.20100660099082063, 0.024140437069595715)\n",
      "11   (0.20496891971473807, 0.02624022059435396)\n",
      "12   (0.2030104727286249, 0.02798744932318219)\n",
      "13   (0.20224890955613248, 0.030718036048162926)\n",
      "14   (0.20204012878629626, 0.029021876922133424)\n",
      "15   (0.20253544820239383, 0.03755641429790222)\n",
      "16   (0.20495501294917795, 0.02976069250917905)\n",
      "17   (0.2014216815519672, 0.0446648314952257)\n"
     ]
    }
   ],
   "source": [
    "# now, we'll try to drop features and look at results\n",
    "xsc7=xsc.drop(['locality','Degree_3','Degree_4','Degree_5','Rating_miss','number_of_feed'],axis=1)\n",
    "for i in range(9,18):\n",
    "    print(i,\" \",cross(gb,xsc7,y,i))"
   ]
  },
  {
   "cell_type": "code",
   "execution_count": 476,
   "metadata": {},
   "outputs": [
    {
     "name": "stdout",
     "output_type": "stream",
     "text": [
      "9   (0.20090604273858442, 0.01757873215846849)\n",
      "10   (0.1991694231625294, 0.023702227514610156)\n",
      "11   (0.2023557926294934, 0.025420590978892457)\n",
      "12   (0.20313311613426063, 0.025509927961193155)\n",
      "13   (0.2043348916477032, 0.033674860849022575)\n",
      "14   (0.20277669944570534, 0.028403767645365032)\n",
      "15   (0.20322733128523224, 0.030059944485762106)\n",
      "16   (0.20577670618701593, 0.029900101412339175)\n",
      "17   (0.20160984040347085, 0.04007721576802728)\n"
     ]
    }
   ],
   "source": [
    "# now, we'll try to drop features and look at results\n",
    "xsc8=xsc.drop(['Degree_1','Degree_2','Degree_3','Degree_4','Degree_5'],axis=1)\n",
    "for i in range(9,18):\n",
    "    print(i,\" \",cross(gb,xsc8,y,i))"
   ]
  },
  {
   "cell_type": "code",
   "execution_count": 479,
   "metadata": {},
   "outputs": [
    {
     "name": "stdout",
     "output_type": "stream",
     "text": [
      "9   (0.2068231049495359, 0.01950637560991847)\n",
      "10   (0.20462681120633408, 0.02990591480272804)\n",
      "11   (0.20945390469390002, 0.026693728485726532)\n",
      "12   (0.20566230917639125, 0.02495690697627463)\n",
      "13   (0.21030320075734238, 0.036744583682622414)\n",
      "14   (0.20571509605542654, 0.029807280829179616)\n",
      "15   (0.20565049086425902, 0.03155871469108716)\n",
      "16   (0.20736269942829366, 0.030734294813177458)\n",
      "17   (0.2044211220969937, 0.04281068188028118)\n"
     ]
    }
   ],
   "source": [
    "# now, we'll try to drop features and look at results\n",
    "xsc9=xsc.drop(['Degree_2','Degree_3','Degree_4','Degree_5','Rating_miss','number_of_feed'],axis=1)\n",
    "for i in range(9,18):\n",
    "    print(i,\" \",cross(gb,xsc9,y,i))"
   ]
  },
  {
   "cell_type": "code",
   "execution_count": 480,
   "metadata": {},
   "outputs": [],
   "source": [
    "# tried numerous iterations with variety of features\n",
    "# the best score is with xsc6"
   ]
  },
  {
   "cell_type": "code",
   "execution_count": 481,
   "metadata": {},
   "outputs": [
    {
     "data": {
      "text/html": [
       "<div>\n",
       "<style scoped>\n",
       "    .dataframe tbody tr th:only-of-type {\n",
       "        vertical-align: middle;\n",
       "    }\n",
       "\n",
       "    .dataframe tbody tr th {\n",
       "        vertical-align: top;\n",
       "    }\n",
       "\n",
       "    .dataframe thead th {\n",
       "        text-align: right;\n",
       "    }\n",
       "</style>\n",
       "<table border=\"1\" class=\"dataframe\">\n",
       "  <thead>\n",
       "    <tr style=\"text-align: right;\">\n",
       "      <th></th>\n",
       "      <th>Experience</th>\n",
       "      <th>Rating</th>\n",
       "      <th>Profile</th>\n",
       "      <th>Degree_1</th>\n",
       "      <th>Degree_2</th>\n",
       "      <th>locality</th>\n",
       "      <th>city</th>\n",
       "    </tr>\n",
       "  </thead>\n",
       "  <tbody>\n",
       "    <tr>\n",
       "      <td>0</td>\n",
       "      <td>0.631077</td>\n",
       "      <td>1.274263</td>\n",
       "      <td>1.525945</td>\n",
       "      <td>-0.844663</td>\n",
       "      <td>-0.35413</td>\n",
       "      <td>-0.465301</td>\n",
       "      <td>0.398636</td>\n",
       "    </tr>\n",
       "  </tbody>\n",
       "</table>\n",
       "</div>"
      ],
      "text/plain": [
       "   Experience    Rating   Profile  Degree_1  Degree_2  locality      city\n",
       "0    0.631077  1.274263  1.525945 -0.844663  -0.35413 -0.465301  0.398636"
      ]
     },
     "execution_count": 481,
     "metadata": {},
     "output_type": "execute_result"
    }
   ],
   "source": [
    "xsc6.head(1)"
   ]
  },
  {
   "cell_type": "code",
   "execution_count": 482,
   "metadata": {},
   "outputs": [
    {
     "data": {
      "text/html": [
       "<div>\n",
       "<style scoped>\n",
       "    .dataframe tbody tr th:only-of-type {\n",
       "        vertical-align: middle;\n",
       "    }\n",
       "\n",
       "    .dataframe tbody tr th {\n",
       "        vertical-align: top;\n",
       "    }\n",
       "\n",
       "    .dataframe thead th {\n",
       "        text-align: right;\n",
       "    }\n",
       "</style>\n",
       "<table border=\"1\" class=\"dataframe\">\n",
       "  <thead>\n",
       "    <tr style=\"text-align: right;\">\n",
       "      <th></th>\n",
       "      <th>Experience</th>\n",
       "      <th>Profile</th>\n",
       "      <th>Degree_2</th>\n",
       "      <th>Degree_5</th>\n",
       "      <th>Rating_miss</th>\n",
       "      <th>locality</th>\n",
       "      <th>city</th>\n",
       "    </tr>\n",
       "  </thead>\n",
       "  <tbody>\n",
       "    <tr>\n",
       "      <td>0</td>\n",
       "      <td>0.631077</td>\n",
       "      <td>1.525945</td>\n",
       "      <td>-0.35413</td>\n",
       "      <td>0.007237</td>\n",
       "      <td>-1.163945</td>\n",
       "      <td>-0.465301</td>\n",
       "      <td>0.398636</td>\n",
       "    </tr>\n",
       "  </tbody>\n",
       "</table>\n",
       "</div>"
      ],
      "text/plain": [
       "   Experience   Profile  Degree_2  Degree_5  Rating_miss  locality      city\n",
       "0    0.631077  1.525945  -0.35413  0.007237    -1.163945 -0.465301  0.398636"
      ]
     },
     "execution_count": 482,
     "metadata": {},
     "output_type": "execute_result"
    }
   ],
   "source": [
    "xsbfe1.head(1)"
   ]
  },
  {
   "cell_type": "code",
   "execution_count": 484,
   "metadata": {},
   "outputs": [
    {
     "name": "stdout",
     "output_type": "stream",
     "text": [
      "Fitting 4 folds for each of 100 candidates, totalling 400 fits\n"
     ]
    },
    {
     "name": "stderr",
     "output_type": "stream",
     "text": [
      "[Parallel(n_jobs=-1)]: Using backend LokyBackend with 4 concurrent workers.\n",
      "[Parallel(n_jobs=-1)]: Done  10 tasks      | elapsed:    1.4s\n",
      "[Parallel(n_jobs=-1)]: Done  64 tasks      | elapsed:    9.6s\n",
      "[Parallel(n_jobs=-1)]: Done 154 tasks      | elapsed:   25.3s\n",
      "[Parallel(n_jobs=-1)]: Done 280 tasks      | elapsed:   44.6s\n",
      "[Parallel(n_jobs=-1)]: Done 400 out of 400 | elapsed:  1.1min finished\n"
     ]
    },
    {
     "data": {
      "text/plain": [
       "{'min_samples_split': 4,\n",
       " 'min_samples_leaf': 6,\n",
       " 'max_depth': 5,\n",
       " 'learning_rate': 0.1,\n",
       " 'alpha': 0.4}"
      ]
     },
     "execution_count": 484,
     "metadata": {},
     "output_type": "execute_result"
    }
   ],
   "source": [
    "param_gb4={'learning_rate':[0.01,0.05,0.1,0.2],'min_samples_split':[4,5,6],\n",
    "          'min_samples_leaf':[4,5,6,7],'max_depth':[4,5,6],'alpha':[0.3,0.4,0.5,0.6,0.7]}\n",
    "randomcv(gb,param_gb4,xsc6,y)"
   ]
  },
  {
   "cell_type": "code",
   "execution_count": 485,
   "metadata": {},
   "outputs": [],
   "source": [
    "gbr=GradientBoostingRegressor(random_state=45,min_samples_split= 4,\n",
    " min_samples_leaf= 6,\n",
    " max_depth= 5,\n",
    " learning_rate= 0.1,\n",
    " alpha= 0.4)"
   ]
  },
  {
   "cell_type": "code",
   "execution_count": 486,
   "metadata": {},
   "outputs": [
    {
     "name": "stdout",
     "output_type": "stream",
     "text": [
      "Fitting 4 folds for each of 12 candidates, totalling 48 fits\n"
     ]
    },
    {
     "name": "stderr",
     "output_type": "stream",
     "text": [
      "[Parallel(n_jobs=-1)]: Using backend LokyBackend with 4 concurrent workers.\n",
      "[Parallel(n_jobs=-1)]: Done  10 tasks      | elapsed:    1.7s\n",
      "[Parallel(n_jobs=-1)]: Done  48 out of  48 | elapsed:    8.9s finished\n"
     ]
    },
    {
     "data": {
      "text/plain": [
       "{'n_estimators': 140}"
      ]
     },
     "execution_count": 486,
     "metadata": {},
     "output_type": "execute_result"
    }
   ],
   "source": [
    "param_gbr={'n_estimators':range(80,200,10)}\n",
    "gridcv(gbr,param_gbr,xsc6,y)"
   ]
  },
  {
   "cell_type": "code",
   "execution_count": 487,
   "metadata": {},
   "outputs": [],
   "source": [
    "gbr1=GradientBoostingRegressor(random_state=45,min_samples_split= 4,\n",
    " min_samples_leaf= 6,\n",
    " max_depth= 5,\n",
    " learning_rate= 0.1,\n",
    " alpha= 0.4,n_estimators= 140)"
   ]
  },
  {
   "cell_type": "code",
   "execution_count": 488,
   "metadata": {},
   "outputs": [
    {
     "name": "stdout",
     "output_type": "stream",
     "text": [
      "9   (0.24473008243511643, 0.02195638721640692)\n",
      "10   (0.23478888519601285, 0.03599036392424778)\n",
      "11   (0.24324590700578919, 0.04115639411693713)\n",
      "12   (0.24294052873434946, 0.02977280610616685)\n",
      "13   (0.23966452742517802, 0.043362829202970056)\n",
      "14   (0.2374421455835359, 0.04504756922481526)\n",
      "15   (0.23933164945117247, 0.038949976948273096)\n",
      "16   (0.24059343836147823, 0.03853042614868179)\n",
      "17   (0.2405666699228296, 0.045609001756059434)\n"
     ]
    }
   ],
   "source": [
    "for i in range(9,18):\n",
    "    print(i,\" \",cross(gbr1,xsc6,y,i))"
   ]
  },
  {
   "cell_type": "code",
   "execution_count": 489,
   "metadata": {},
   "outputs": [
    {
     "name": "stdout",
     "output_type": "stream",
     "text": [
      "6   (0.24006249315916037, 0.02450614483639496)\n",
      "7   (0.2393809019857347, 0.030846593258249455)\n",
      "8   (0.24218177862846094, 0.02216592403260779)\n"
     ]
    }
   ],
   "source": [
    "for i in range(6,9):\n",
    "    print(i,\" \",cross(gbr1,xsc6,y,i))"
   ]
  },
  {
   "cell_type": "code",
   "execution_count": 490,
   "metadata": {},
   "outputs": [],
   "source": [
    "# best score at cv=9"
   ]
  },
  {
   "cell_type": "code",
   "execution_count": 491,
   "metadata": {},
   "outputs": [],
   "source": [
    "# lets boost it"
   ]
  },
  {
   "cell_type": "code",
   "execution_count": 492,
   "metadata": {},
   "outputs": [
    {
     "data": {
      "text/plain": [
       "(0.2525543680318231, 0.023742755336948976)"
      ]
     },
     "execution_count": 492,
     "metadata": {},
     "output_type": "execute_result"
    }
   ],
   "source": [
    "adagbr=AdaBoostRegressor(base_estimator=gbr1, random_state=45, n_estimators=50, learning_rate=0.0001)\n",
    "cross(adagbr,xsc6,y,9)"
   ]
  },
  {
   "cell_type": "code",
   "execution_count": 493,
   "metadata": {},
   "outputs": [
    {
     "data": {
      "text/plain": [
       "(0.2506391589513727, 0.022443715578156713)"
      ]
     },
     "execution_count": 493,
     "metadata": {},
     "output_type": "execute_result"
    }
   ],
   "source": [
    "adagbr1=AdaBoostRegressor(base_estimator=gbr1, random_state=45, n_estimators=50, learning_rate=0.001)\n",
    "cross(adagbr1,xsc6,y,9)"
   ]
  },
  {
   "cell_type": "code",
   "execution_count": 494,
   "metadata": {},
   "outputs": [
    {
     "data": {
      "text/plain": [
       "(0.25296332644458, 0.021989004938320258)"
      ]
     },
     "execution_count": 494,
     "metadata": {},
     "output_type": "execute_result"
    }
   ],
   "source": [
    "adagbr2=AdaBoostRegressor(base_estimator=gbr1, random_state=45, n_estimators=100, learning_rate=0.0001)\n",
    "cross(adagbr2,xsc6,y,9)"
   ]
  },
  {
   "cell_type": "code",
   "execution_count": 495,
   "metadata": {},
   "outputs": [
    {
     "data": {
      "text/plain": [
       "(0.25302055062410717, 0.021959712045046424)"
      ]
     },
     "execution_count": 495,
     "metadata": {},
     "output_type": "execute_result"
    }
   ],
   "source": [
    "adagbr3=AdaBoostRegressor(base_estimator=gbr1, random_state=45, n_estimators=150, learning_rate=0.0001)\n",
    "cross(adagbr3,xsc6,y,9)"
   ]
  },
  {
   "cell_type": "code",
   "execution_count": 496,
   "metadata": {},
   "outputs": [
    {
     "data": {
      "text/plain": [
       "(0.2530263601282634, 0.021541850769319807)"
      ]
     },
     "execution_count": 496,
     "metadata": {},
     "output_type": "execute_result"
    }
   ],
   "source": [
    "adagbr4=AdaBoostRegressor(base_estimator=gbr1, random_state=45, n_estimators=200, learning_rate=0.0001)\n",
    "cross(adagbr4,xsc6,y,9)"
   ]
  },
  {
   "cell_type": "code",
   "execution_count": 497,
   "metadata": {},
   "outputs": [],
   "source": [
    "# adagbr4 is giving the best score"
   ]
  },
  {
   "cell_type": "code",
   "execution_count": 498,
   "metadata": {},
   "outputs": [],
   "source": [
    "crosspredgbr=cross_val_predict(adagbr4,xsc6,y,cv=9)"
   ]
  },
  {
   "cell_type": "code",
   "execution_count": 499,
   "metadata": {},
   "outputs": [
    {
     "name": "stdout",
     "output_type": "stream",
     "text": [
      "Mean_Squared_Error:  25997.35130414149\n",
      "Root_Mean_Squared_Error:  161.23694149958777\n",
      "Mean_Absolute_Error:  125.16919286836801\n"
     ]
    }
   ],
   "source": [
    "# Evaluation metrics\n",
    "mse=mean_squared_error(y,crosspredgbr)\n",
    "mae=mean_absolute_error(y,crosspredgbr)\n",
    "rmse=np.sqrt(mean_squared_error(y,crosspredgbr))\n",
    "print('Mean_Squared_Error: ', mse)\n",
    "print('Root_Mean_Squared_Error: ', rmse)\n",
    "print('Mean_Absolute_Error: ', mae)"
   ]
  },
  {
   "cell_type": "code",
   "execution_count": 500,
   "metadata": {},
   "outputs": [],
   "source": [
    "# in terms of mae and rmse, adagb1,xsbfe1,y,cv=16 performed better"
   ]
  },
  {
   "cell_type": "code",
   "execution_count": 501,
   "metadata": {},
   "outputs": [],
   "source": [
    "cv_results = cross_validate(adagb1,xsbfe1,y,cv=16, return_estimator=True)\n",
    "ada_fit = cv_results['estimator']\n",
    "ada_fit=ada_fit[0]"
   ]
  },
  {
   "cell_type": "code",
   "execution_count": 502,
   "metadata": {},
   "outputs": [
    {
     "data": {
      "text/plain": [
       "['ada_doctor.pkl']"
      ]
     },
     "execution_count": 502,
     "metadata": {},
     "output_type": "execute_result"
    }
   ],
   "source": [
    "import joblib\n",
    "joblib.dump(ada_fit,'ada_doctor.pkl')"
   ]
  },
  {
   "cell_type": "code",
   "execution_count": 503,
   "metadata": {},
   "outputs": [],
   "source": [
    "xtest=test.drop(['Degree_3','Degree_4','Degree_5','Rating_miss','number_of_feed'],axis=1)"
   ]
  },
  {
   "cell_type": "code",
   "execution_count": 504,
   "metadata": {},
   "outputs": [],
   "source": [
    "xstest=std(xtest)"
   ]
  },
  {
   "cell_type": "code",
   "execution_count": 505,
   "metadata": {},
   "outputs": [],
   "source": [
    "pred=ada_fit.predict(xstest)\n",
    "predic=pd.DataFrame(pred)\n",
    "predic.to_csv('pred_doctor_fee.csv')"
   ]
  },
  {
   "cell_type": "code",
   "execution_count": null,
   "metadata": {},
   "outputs": [],
   "source": []
  }
 ],
 "metadata": {
  "kernelspec": {
   "display_name": "Python 3",
   "language": "python",
   "name": "python3"
  },
  "language_info": {
   "codemirror_mode": {
    "name": "ipython",
    "version": 3
   },
   "file_extension": ".py",
   "mimetype": "text/x-python",
   "name": "python",
   "nbconvert_exporter": "python",
   "pygments_lexer": "ipython3",
   "version": "3.7.4"
  }
 },
 "nbformat": 4,
 "nbformat_minor": 2
}
