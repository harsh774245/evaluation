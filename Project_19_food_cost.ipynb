{
 "cells": [
  {
   "cell_type": "code",
   "execution_count": 1,
   "metadata": {},
   "outputs": [],
   "source": [
    "# predict resuarant food cost"
   ]
  },
  {
   "cell_type": "code",
   "execution_count": 2,
   "metadata": {},
   "outputs": [],
   "source": [
    "import numpy as np\n",
    "import pandas as pd\n",
    "import seaborn as sns \n",
    "import matplotlib.pyplot as plt\n",
    "%matplotlib inline\n",
    "import scipy.stats as st\n",
    "import warnings\n",
    "warnings.filterwarnings('ignore')\n",
    "pd.set_option('display.max_rows', 1000)\n",
    "pd.set_option('display.max_columns', 100)\n",
    "pd.set_option('display.width',1000)"
   ]
  },
  {
   "cell_type": "code",
   "execution_count": 134,
   "metadata": {},
   "outputs": [],
   "source": [
    "train=pd.read_excel('Data_Train.xlsx')\n",
    "test=pd.read_excel('Data_Test.xlsx')"
   ]
  },
  {
   "cell_type": "code",
   "execution_count": 282,
   "metadata": {},
   "outputs": [],
   "source": [
    "train_2=pd.read_excel('Data_Train.xlsx')\n",
    "test_2=pd.read_excel('Data_Test.xlsx')"
   ]
  },
  {
   "cell_type": "code",
   "execution_count": 4,
   "metadata": {},
   "outputs": [
    {
     "data": {
      "text/plain": [
       "((12690, 9), (4231, 8))"
      ]
     },
     "execution_count": 4,
     "metadata": {},
     "output_type": "execute_result"
    }
   ],
   "source": [
    "train.shape, test.shape"
   ]
  },
  {
   "cell_type": "code",
   "execution_count": 5,
   "metadata": {},
   "outputs": [
    {
     "data": {
      "text/plain": [
       "TITLE               0\n",
       "RESTAURANT_ID       0\n",
       "CUISINES            0\n",
       "TIME                0\n",
       "CITY              112\n",
       "LOCALITY           98\n",
       "RATING              2\n",
       "VOTES            1204\n",
       "COST                0\n",
       "dtype: int64"
      ]
     },
     "execution_count": 5,
     "metadata": {},
     "output_type": "execute_result"
    }
   ],
   "source": [
    "train.isnull().sum()"
   ]
  },
  {
   "cell_type": "code",
   "execution_count": 6,
   "metadata": {},
   "outputs": [
    {
     "data": {
      "text/plain": [
       "TITLE              0\n",
       "RESTAURANT_ID      0\n",
       "CUISINES           0\n",
       "TIME               0\n",
       "CITY              35\n",
       "LOCALITY          30\n",
       "RATING             2\n",
       "VOTES            402\n",
       "dtype: int64"
      ]
     },
     "execution_count": 6,
     "metadata": {},
     "output_type": "execute_result"
    }
   ],
   "source": [
    "test.isnull().sum()"
   ]
  },
  {
   "cell_type": "code",
   "execution_count": 7,
   "metadata": {},
   "outputs": [
    {
     "data": {
      "text/plain": [
       "TITLE            object\n",
       "RESTAURANT_ID     int64\n",
       "CUISINES         object\n",
       "TIME             object\n",
       "CITY             object\n",
       "LOCALITY         object\n",
       "RATING           object\n",
       "VOTES            object\n",
       "COST              int64\n",
       "dtype: object"
      ]
     },
     "execution_count": 7,
     "metadata": {},
     "output_type": "execute_result"
    }
   ],
   "source": [
    "train.dtypes"
   ]
  },
  {
   "cell_type": "code",
   "execution_count": 8,
   "metadata": {},
   "outputs": [
    {
     "data": {
      "text/plain": [
       "113"
      ]
     },
     "execution_count": 8,
     "metadata": {},
     "output_type": "execute_result"
    }
   ],
   "source": [
    "train['TITLE'].nunique()"
   ]
  },
  {
   "cell_type": "code",
   "execution_count": 9,
   "metadata": {},
   "outputs": [
    {
     "data": {
      "text/plain": [
       "11892"
      ]
     },
     "execution_count": 9,
     "metadata": {},
     "output_type": "execute_result"
    }
   ],
   "source": [
    "train['RESTAURANT_ID'].nunique()"
   ]
  },
  {
   "cell_type": "code",
   "execution_count": 10,
   "metadata": {},
   "outputs": [
    {
     "data": {
      "text/plain": [
       "4155"
      ]
     },
     "execution_count": 10,
     "metadata": {},
     "output_type": "execute_result"
    }
   ],
   "source": [
    "train['CUISINES'].nunique()"
   ]
  },
  {
   "cell_type": "code",
   "execution_count": 11,
   "metadata": {},
   "outputs": [
    {
     "data": {
      "text/plain": [
       "2689"
      ]
     },
     "execution_count": 11,
     "metadata": {},
     "output_type": "execute_result"
    }
   ],
   "source": [
    "train['TIME'].nunique()"
   ]
  },
  {
   "cell_type": "code",
   "execution_count": 12,
   "metadata": {},
   "outputs": [
    {
     "data": {
      "text/plain": [
       "32"
      ]
     },
     "execution_count": 12,
     "metadata": {},
     "output_type": "execute_result"
    }
   ],
   "source": [
    "train['RATING'].nunique()"
   ]
  },
  {
   "cell_type": "code",
   "execution_count": 13,
   "metadata": {},
   "outputs": [
    {
     "data": {
      "text/plain": [
       "359"
      ]
     },
     "execution_count": 13,
     "metadata": {},
     "output_type": "execute_result"
    }
   ],
   "source": [
    "train['CITY'].nunique()"
   ]
  },
  {
   "cell_type": "code",
   "execution_count": 14,
   "metadata": {},
   "outputs": [
    {
     "data": {
      "text/plain": [
       "1416"
      ]
     },
     "execution_count": 14,
     "metadata": {},
     "output_type": "execute_result"
    }
   ],
   "source": [
    "train['LOCALITY'].nunique()"
   ]
  },
  {
   "cell_type": "code",
   "execution_count": 15,
   "metadata": {},
   "outputs": [
    {
     "data": {
      "text/plain": [
       "1847"
      ]
     },
     "execution_count": 15,
     "metadata": {},
     "output_type": "execute_result"
    }
   ],
   "source": [
    "train['VOTES'].nunique()"
   ]
  },
  {
   "cell_type": "code",
   "execution_count": 16,
   "metadata": {},
   "outputs": [
    {
     "data": {
      "text/html": [
       "<div>\n",
       "<style scoped>\n",
       "    .dataframe tbody tr th:only-of-type {\n",
       "        vertical-align: middle;\n",
       "    }\n",
       "\n",
       "    .dataframe tbody tr th {\n",
       "        vertical-align: top;\n",
       "    }\n",
       "\n",
       "    .dataframe thead th {\n",
       "        text-align: right;\n",
       "    }\n",
       "</style>\n",
       "<table border=\"1\" class=\"dataframe\">\n",
       "  <thead>\n",
       "    <tr style=\"text-align: right;\">\n",
       "      <th></th>\n",
       "      <th>TITLE</th>\n",
       "      <th>RESTAURANT_ID</th>\n",
       "      <th>CUISINES</th>\n",
       "      <th>TIME</th>\n",
       "      <th>CITY</th>\n",
       "      <th>LOCALITY</th>\n",
       "      <th>RATING</th>\n",
       "      <th>VOTES</th>\n",
       "      <th>COST</th>\n",
       "    </tr>\n",
       "  </thead>\n",
       "  <tbody>\n",
       "    <tr>\n",
       "      <td>0</td>\n",
       "      <td>CASUAL DINING</td>\n",
       "      <td>9438</td>\n",
       "      <td>Malwani, Goan, North Indian</td>\n",
       "      <td>11am – 4pm, 7:30pm – 11:30pm (Mon-Sun)</td>\n",
       "      <td>Thane</td>\n",
       "      <td>Dombivali East</td>\n",
       "      <td>3.6</td>\n",
       "      <td>49 votes</td>\n",
       "      <td>1200</td>\n",
       "    </tr>\n",
       "    <tr>\n",
       "      <td>1</td>\n",
       "      <td>CASUAL DINING,BAR</td>\n",
       "      <td>13198</td>\n",
       "      <td>Asian, Modern Indian, Japanese</td>\n",
       "      <td>6pm – 11pm (Mon-Sun)</td>\n",
       "      <td>Chennai</td>\n",
       "      <td>Ramapuram</td>\n",
       "      <td>4.2</td>\n",
       "      <td>30 votes</td>\n",
       "      <td>1500</td>\n",
       "    </tr>\n",
       "    <tr>\n",
       "      <td>2</td>\n",
       "      <td>CASUAL DINING</td>\n",
       "      <td>10915</td>\n",
       "      <td>North Indian, Chinese, Biryani, Hyderabadi</td>\n",
       "      <td>11am – 3:30pm, 7pm – 11pm (Mon-Sun)</td>\n",
       "      <td>Chennai</td>\n",
       "      <td>Saligramam</td>\n",
       "      <td>3.8</td>\n",
       "      <td>221 votes</td>\n",
       "      <td>800</td>\n",
       "    </tr>\n",
       "    <tr>\n",
       "      <td>3</td>\n",
       "      <td>QUICK BITES</td>\n",
       "      <td>6346</td>\n",
       "      <td>Tibetan, Chinese</td>\n",
       "      <td>11:30am – 1am (Mon-Sun)</td>\n",
       "      <td>Mumbai</td>\n",
       "      <td>Bandra West</td>\n",
       "      <td>4.1</td>\n",
       "      <td>24 votes</td>\n",
       "      <td>800</td>\n",
       "    </tr>\n",
       "    <tr>\n",
       "      <td>4</td>\n",
       "      <td>DESSERT PARLOR</td>\n",
       "      <td>15387</td>\n",
       "      <td>Desserts</td>\n",
       "      <td>11am – 1am (Mon-Sun)</td>\n",
       "      <td>Mumbai</td>\n",
       "      <td>Lower Parel</td>\n",
       "      <td>3.8</td>\n",
       "      <td>165 votes</td>\n",
       "      <td>300</td>\n",
       "    </tr>\n",
       "    <tr>\n",
       "      <td>5</td>\n",
       "      <td>CASUAL DINING</td>\n",
       "      <td>5618</td>\n",
       "      <td>North Indian, Chinese, Seafood, Biryani</td>\n",
       "      <td>12noon – 12:30AM (Mon-Sun)</td>\n",
       "      <td>Mumbai</td>\n",
       "      <td>Vile Parle West</td>\n",
       "      <td>4.0</td>\n",
       "      <td>550 votes</td>\n",
       "      <td>800</td>\n",
       "    </tr>\n",
       "    <tr>\n",
       "      <td>6</td>\n",
       "      <td>CAFÉ</td>\n",
       "      <td>4383</td>\n",
       "      <td>Cafe, Chinese, Pizza, North Indian, Burger</td>\n",
       "      <td>12noon – 11:30pm (Mon, Tue, Thu, Fri, Sat, Sun...</td>\n",
       "      <td>Bangalore</td>\n",
       "      <td>Koramangala 6th Block</td>\n",
       "      <td>4.1</td>\n",
       "      <td>509 votes</td>\n",
       "      <td>600</td>\n",
       "    </tr>\n",
       "    <tr>\n",
       "      <td>7</td>\n",
       "      <td>MICROBREWERY</td>\n",
       "      <td>1249</td>\n",
       "      <td>Bar Food</td>\n",
       "      <td>1pm – 1am (Mon-Sun)</td>\n",
       "      <td>Gurgaon</td>\n",
       "      <td>Sector 29</td>\n",
       "      <td>4.3</td>\n",
       "      <td>1612 votes</td>\n",
       "      <td>1600</td>\n",
       "    </tr>\n",
       "    <tr>\n",
       "      <td>8</td>\n",
       "      <td>QUICK BITES</td>\n",
       "      <td>7062</td>\n",
       "      <td>South Indian, North Indian</td>\n",
       "      <td>7am – 10:30pm (Mon-Sun)</td>\n",
       "      <td>Bangalore</td>\n",
       "      <td>Bannerghatta Road</td>\n",
       "      <td>3.9</td>\n",
       "      <td>101 votes</td>\n",
       "      <td>300</td>\n",
       "    </tr>\n",
       "    <tr>\n",
       "      <td>9</td>\n",
       "      <td>QUICK BITES</td>\n",
       "      <td>10109</td>\n",
       "      <td>North Indian</td>\n",
       "      <td>11am – 2pm, 4pm – 10:30pm (Mon-Sun)</td>\n",
       "      <td>Hyderabad</td>\n",
       "      <td>Dilsukhnagar</td>\n",
       "      <td>3.3</td>\n",
       "      <td>219 votes</td>\n",
       "      <td>200</td>\n",
       "    </tr>\n",
       "  </tbody>\n",
       "</table>\n",
       "</div>"
      ],
      "text/plain": [
       "               TITLE  RESTAURANT_ID                                    CUISINES                                               TIME       CITY               LOCALITY RATING       VOTES  COST\n",
       "0      CASUAL DINING           9438                 Malwani, Goan, North Indian             11am – 4pm, 7:30pm – 11:30pm (Mon-Sun)      Thane         Dombivali East    3.6    49 votes  1200\n",
       "1  CASUAL DINING,BAR          13198              Asian, Modern Indian, Japanese                               6pm – 11pm (Mon-Sun)    Chennai              Ramapuram    4.2    30 votes  1500\n",
       "2      CASUAL DINING          10915  North Indian, Chinese, Biryani, Hyderabadi                11am – 3:30pm, 7pm – 11pm (Mon-Sun)    Chennai             Saligramam    3.8   221 votes   800\n",
       "3        QUICK BITES           6346                            Tibetan, Chinese                            11:30am – 1am (Mon-Sun)     Mumbai            Bandra West    4.1    24 votes   800\n",
       "4     DESSERT PARLOR          15387                                    Desserts                               11am – 1am (Mon-Sun)     Mumbai            Lower Parel    3.8   165 votes   300\n",
       "5      CASUAL DINING           5618     North Indian, Chinese, Seafood, Biryani                         12noon – 12:30AM (Mon-Sun)     Mumbai        Vile Parle West    4.0   550 votes   800\n",
       "6               CAFÉ           4383  Cafe, Chinese, Pizza, North Indian, Burger  12noon – 11:30pm (Mon, Tue, Thu, Fri, Sat, Sun...  Bangalore  Koramangala 6th Block    4.1   509 votes   600\n",
       "7       MICROBREWERY           1249                                    Bar Food                                1pm – 1am (Mon-Sun)    Gurgaon              Sector 29    4.3  1612 votes  1600\n",
       "8        QUICK BITES           7062                  South Indian, North Indian                            7am – 10:30pm (Mon-Sun)  Bangalore      Bannerghatta Road    3.9   101 votes   300\n",
       "9        QUICK BITES          10109                                North Indian                11am – 2pm, 4pm – 10:30pm (Mon-Sun)  Hyderabad           Dilsukhnagar    3.3   219 votes   200"
      ]
     },
     "execution_count": 16,
     "metadata": {},
     "output_type": "execute_result"
    }
   ],
   "source": [
    "train.head(10)"
   ]
  },
  {
   "cell_type": "code",
   "execution_count": 135,
   "metadata": {},
   "outputs": [
    {
     "data": {
      "text/plain": [
       "(2, 1)"
      ]
     },
     "execution_count": 135,
     "metadata": {},
     "output_type": "execute_result"
    }
   ],
   "source": [
    "# lets seperate the titles\n",
    "num_title_train = train.TITLE.apply(lambda x: len(x.split(',')))\n",
    "num_title_train.max(),num_title_train.min()"
   ]
  },
  {
   "cell_type": "code",
   "execution_count": 136,
   "metadata": {},
   "outputs": [
    {
     "data": {
      "text/plain": [
       "(2, 1)"
      ]
     },
     "execution_count": 136,
     "metadata": {},
     "output_type": "execute_result"
    }
   ],
   "source": [
    "num_title_test = test.TITLE.apply(lambda x: len(x.split(',')))\n",
    "num_title_test.max(),num_title_test.min()"
   ]
  },
  {
   "cell_type": "code",
   "execution_count": 57,
   "metadata": {},
   "outputs": [],
   "source": [
    "# a few rows have 2 titles"
   ]
  },
  {
   "cell_type": "code",
   "execution_count": 137,
   "metadata": {},
   "outputs": [
    {
     "data": {
      "text/plain": [
       "['CASUAL DINING', 'BAR']"
      ]
     },
     "execution_count": 137,
     "metadata": {},
     "output_type": "execute_result"
    }
   ],
   "source": [
    "train.TITLE[train.TITLE.apply(lambda y : len(y.split(','))).idxmax()].split(',')"
   ]
  },
  {
   "cell_type": "code",
   "execution_count": 45,
   "metadata": {},
   "outputs": [],
   "source": [
    "# lets drop space inside of ' '\n",
    "# lets drop the trailing space of 2nd token"
   ]
  },
  {
   "cell_type": "code",
   "execution_count": 138,
   "metadata": {},
   "outputs": [
    {
     "data": {
      "text/plain": [
       "0        NaN\n",
       "1        BAR\n",
       "2        NaN\n",
       "3        NaN\n",
       "4        NaN\n",
       "        ... \n",
       "12685    NaN\n",
       "12686    BAR\n",
       "12687    NaN\n",
       "12688    NaN\n",
       "12689    NaN\n",
       "Name: TITLE, Length: 12690, dtype: object"
      ]
     },
     "execution_count": 138,
     "metadata": {},
     "output_type": "execute_result"
    }
   ],
   "source": [
    "train['TITLE'].str.split(',').str[1]"
   ]
  },
  {
   "cell_type": "code",
   "execution_count": 139,
   "metadata": {},
   "outputs": [],
   "source": [
    "train['TITLE_1']=train['TITLE'].str.split(',').str[0]"
   ]
  },
  {
   "cell_type": "code",
   "execution_count": 140,
   "metadata": {},
   "outputs": [],
   "source": [
    "train['TITLE_2']=train['TITLE'].str.split(',').str[1]"
   ]
  },
  {
   "cell_type": "code",
   "execution_count": 141,
   "metadata": {
    "scrolled": false
   },
   "outputs": [
    {
     "data": {
      "text/plain": [
       "BAR               428\n",
       "QUICK BITES       261\n",
       "CASUAL DINING     257\n",
       "DESSERT PARLOR    138\n",
       "CAFÉ               94\n",
       "BAKERY             69\n",
       "SWEET SHOP         53\n",
       "LOUNGE             47\n",
       "PUB                35\n",
       "BEVERAGE SHOP      34\n",
       "MICROBREWERY       27\n",
       "FOOD COURT         15\n",
       "FINE DINING         8\n",
       "CLUB                5\n",
       "KIOSK               4\n",
       "IRANI CAFE          3\n",
       "CONFECTIONERY       2\n",
       "FOOD TRUCK          1\n",
       "PAAN SHOP           1\n",
       "Name: TITLE_2, dtype: int64"
      ]
     },
     "execution_count": 141,
     "metadata": {},
     "output_type": "execute_result"
    }
   ],
   "source": [
    "train['TITLE_2'].value_counts()"
   ]
  },
  {
   "cell_type": "code",
   "execution_count": 142,
   "metadata": {},
   "outputs": [
    {
     "data": {
      "text/plain": [
       "'BAR'"
      ]
     },
     "execution_count": 142,
     "metadata": {},
     "output_type": "execute_result"
    }
   ],
   "source": [
    "train['TITLE_2'][1]"
   ]
  },
  {
   "cell_type": "code",
   "execution_count": 143,
   "metadata": {},
   "outputs": [],
   "source": [
    "test['TITLE_1']=test['TITLE'].str.split(',').str[0]\n",
    "test['TITLE_2']=test['TITLE'].str.split(',').str[1]"
   ]
  },
  {
   "cell_type": "code",
   "execution_count": 144,
   "metadata": {},
   "outputs": [],
   "source": [
    "# we'll drop title now from both"
   ]
  },
  {
   "cell_type": "code",
   "execution_count": 145,
   "metadata": {
    "scrolled": true
   },
   "outputs": [
    {
     "data": {
      "text/plain": [
       "7264     8\n",
       "4634     7\n",
       "9910     6\n",
       "13173    5\n",
       "1571     5\n",
       "12747    5\n",
       "8171     5\n",
       "3378     5\n",
       "13150    5\n",
       "2231     5\n",
       "1521     5\n",
       "11971    5\n",
       "7745     5\n",
       "8032     5\n",
       "10614    5\n",
       "12891    5\n",
       "4058     5\n",
       "661      4\n",
       "7173     4\n",
       "13078    4\n",
       "12129    4\n",
       "10648    4\n",
       "13513    4\n",
       "5804     4\n",
       "5227     4\n",
       "8351     4\n",
       "201      4\n",
       "6935     4\n",
       "12645    4\n",
       "10357    4\n",
       "13999    4\n",
       "6466     4\n",
       "7421     4\n",
       "8605     4\n",
       "1619     4\n",
       "12332    4\n",
       "6476     4\n",
       "3469     4\n",
       "5898     4\n",
       "8499     4\n",
       "5046     4\n",
       "11182    4\n",
       "13113    4\n",
       "3111     4\n",
       "13672    4\n",
       "4452     4\n",
       "10259    4\n",
       "5674     4\n",
       "12806    4\n",
       "13048    4\n",
       "2229     3\n",
       "9317     3\n",
       "7932     3\n",
       "7241     3\n",
       "3861     3\n",
       "14711    3\n",
       "5627     3\n",
       "796      3\n",
       "14463    3\n",
       "741      3\n",
       "2795     3\n",
       "11086    3\n",
       "3057     3\n",
       "11746    3\n",
       "4595     3\n",
       "13331    3\n",
       "14502    3\n",
       "14517    3\n",
       "302      3\n",
       "5599     3\n",
       "5183     3\n",
       "1842     3\n",
       "740      3\n",
       "4453     3\n",
       "9331     3\n",
       "13358    3\n",
       "13828    3\n",
       "15067    3\n",
       "8978     3\n",
       "15108    3\n",
       "4510     3\n",
       "7292     3\n",
       "3124     3\n",
       "6222     3\n",
       "5941     3\n",
       "1847     3\n",
       "13065    3\n",
       "10391    3\n",
       "12557    3\n",
       "944      3\n",
       "11915    3\n",
       "14847    3\n",
       "9444     3\n",
       "10964    3\n",
       "5557     3\n",
       "1967     3\n",
       "2299     3\n",
       "15562    3\n",
       "4940     3\n",
       "158      3\n",
       "10939    3\n",
       "4101     3\n",
       "7019     3\n",
       "13211    3\n",
       "830      3\n",
       "7526     3\n",
       "7034     3\n",
       "333      3\n",
       "3048     3\n",
       "11200    3\n",
       "4070     3\n",
       "8763     3\n",
       "2238     3\n",
       "11937    3\n",
       "4071     3\n",
       "15097    3\n",
       "3000     3\n",
       "7114     3\n",
       "14329    3\n",
       "5344     3\n",
       "7793     3\n",
       "8875     3\n",
       "11654    3\n",
       "5883     3\n",
       "1482     3\n",
       "14404    3\n",
       "2025     3\n",
       "3187     3\n",
       "12917    3\n",
       "8268     3\n",
       "6048     3\n",
       "1534     3\n",
       "3780     3\n",
       "15414    3\n",
       "5651     3\n",
       "4237     3\n",
       "3074     2\n",
       "12401    2\n",
       "3098     2\n",
       "3283     2\n",
       "8680     2\n",
       "13417    2\n",
       "9217     2\n",
       "11628    2\n",
       "4898     2\n",
       "6663     2\n",
       "3106     2\n",
       "6802     2\n",
       "5079     2\n",
       "6729     2\n",
       "13671    2\n",
       "12021    2\n",
       "2817     2\n",
       "8837     2\n",
       "15480    2\n",
       "2198     2\n",
       "3480     2\n",
       "14464    2\n",
       "7236     2\n",
       "5462     2\n",
       "1102     2\n",
       "9298     2\n",
       "7268     2\n",
       "8522     2\n",
       "15362    2\n",
       "10539    2\n",
       "6647     2\n",
       "6430     2\n",
       "1094     2\n",
       "3090     2\n",
       "5089     2\n",
       "8355     2\n",
       "7134     2\n",
       "6639     2\n",
       "13416    2\n",
       "10042    2\n",
       "8829     2\n",
       "458      2\n",
       "10440    2\n",
       "13493    2\n",
       "3557     2\n",
       "7476     2\n",
       "2215     2\n",
       "14651    2\n",
       "7730     2\n",
       "13778    2\n",
       "4244     2\n",
       "4422     2\n",
       "3624     2\n",
       "9765     2\n",
       "3226     2\n",
       "3188     2\n",
       "3921     2\n",
       "6487     2\n",
       "8748     2\n",
       "10387    2\n",
       "14562    2\n",
       "2030     2\n",
       "520      2\n",
       "14304    2\n",
       "10424    2\n",
       "8314     2\n",
       "5324     2\n",
       "2175     2\n",
       "11769    2\n",
       "7524     2\n",
       "2244     2\n",
       "14320    2\n",
       "3422     2\n",
       "276      2\n",
       "434      2\n",
       "1219     2\n",
       "11761    2\n",
       "1609     2\n",
       "8796     2\n",
       "2657     2\n",
       "7610     2\n",
       "15023    2\n",
       "12682    2\n",
       "664      2\n",
       "1223     2\n",
       "7979     2\n",
       "13604    2\n",
       "4616     2\n",
       "5914     2\n",
       "3865     2\n",
       "3170     2\n",
       "7332     2\n",
       "8303     2\n",
       "12714    2\n",
       "9996     2\n",
       "12990    2\n",
       "13347    2\n",
       "10791    2\n",
       "8852     2\n",
       "5199     2\n",
       "9749     2\n",
       "372      2\n",
       "13839    2\n",
       "47       2\n",
       "12365    2\n",
       "6224     2\n",
       "8560     2\n",
       "10877    2\n",
       "12658    2\n",
       "2689     2\n",
       "13738    2\n",
       "9305     2\n",
       "12345    2\n",
       "5349     2\n",
       "10617    2\n",
       "12788    2\n",
       "8279     2\n",
       "6527     2\n",
       "2372     2\n",
       "11181    2\n",
       "5818     2\n",
       "15445    2\n",
       "4740     2\n",
       "8905     2\n",
       "3136     2\n",
       "3165     2\n",
       "15032    2\n",
       "8883     2\n",
       "2756     2\n",
       "4745     2\n",
       "12969    2\n",
       "643      2\n",
       "11089    2\n",
       "14740    2\n",
       "5198     2\n",
       "10646    2\n",
       "4984     2\n",
       "5152     2\n",
       "9056     2\n",
       "9340     2\n",
       "4972     2\n",
       "13001    2\n",
       "12997    2\n",
       "10974    2\n",
       "926      2\n",
       "3213     2\n",
       "11055    2\n",
       "13066    2\n",
       "4449     2\n",
       "6856     2\n",
       "10992    2\n",
       "9320     2\n",
       "10986    2\n",
       "5230     2\n",
       "4821     2\n",
       "11717    2\n",
       "15471    2\n",
       "12779    2\n",
       "5234     2\n",
       "6552     2\n",
       "4956     2\n",
       "3241     2\n",
       "964      2\n",
       "11177    2\n",
       "2775     2\n",
       "13550    2\n",
       "6732     2\n",
       "3093     2\n",
       "2602     2\n",
       "5054     2\n",
       "3013     2\n",
       "8775     2\n",
       "8743     2\n",
       "972      2\n",
       "14840    2\n",
       "12813    2\n",
       "5080     2\n",
       "4884     2\n",
       "7106     2\n",
       "5115     2\n",
       "2634     2\n",
       "4987     2\n",
       "13332    2\n",
       "7023     2\n",
       "8807     2\n",
       "12717    2\n",
       "11284    2\n",
       "9102     2\n",
       "4705     2\n",
       "4990     2\n",
       "10846    2\n",
       "10850    2\n",
       "13194    2\n",
       "702      2\n",
       "595      2\n",
       "2957     2\n",
       "8651     2\n",
       "9110     2\n",
       "8783     2\n",
       "5618     2\n",
       "739      2\n",
       "3769     2\n",
       "8979     2\n",
       "2930     2\n",
       "13567    2\n",
       "5018     2\n",
       "5092     2\n",
       "2906     2\n",
       "15271    2\n",
       "9804     2\n",
       "8455     2\n",
       "9445     2\n",
       "15256    2\n",
       "2898     2\n",
       "7060     2\n",
       "4859     2\n",
       "9796     2\n",
       "9788     2\n",
       "4824     2\n",
       "2942     2\n",
       "11133    2\n",
       "10482    2\n",
       "13257    2\n",
       "3745     2\n",
       "15306    2\n",
       "183      2\n",
       "12477    2\n",
       "8379     2\n",
       "14973    2\n",
       "5802     2\n",
       "1704     2\n",
       "1007     2\n",
       "3705     2\n",
       "2768     2\n",
       "4970     2\n",
       "14556    2\n",
       "15320    2\n",
       "4455     2\n",
       "1292     2\n",
       "7431     2\n",
       "6424     2\n",
       "4377     2\n",
       "3023     2\n",
       "8511     2\n",
       "8746     2\n",
       "4903     2\n",
       "11066    2\n",
       "809      2\n",
       "15100    2\n",
       "4907     2\n",
       "13232    2\n",
       "2390     2\n",
       "4644     2\n",
       "15092    2\n",
       "15144    2\n",
       "2802     2\n",
       "8539     2\n",
       "8977     2\n",
       "10982    2\n",
       "2828     2\n",
       "13412    2\n",
       "3232     2\n",
       "303      2\n",
       "11229    2\n",
       "2866     2\n",
       "13169    2\n",
       "9033     2\n",
       "2559     2\n",
       "6558     2\n",
       "9067     2\n",
       "4905     2\n",
       "6889     2\n",
       "2886     2\n",
       "5299     2\n",
       "829      2\n",
       "13085    2\n",
       "13854    2\n",
       "15043    2\n",
       "5114     2\n",
       "2591     2\n",
       "6160     2\n",
       "12797    2\n",
       "1395     2\n",
       "11938    2\n",
       "2387     2\n",
       "8260     2\n",
       "2024     2\n",
       "4035     2\n",
       "1745     2\n",
       "8344     2\n",
       "8129     2\n",
       "6        2\n",
       "1310     2\n",
       "12223    2\n",
       "7840     2\n",
       "10397    2\n",
       "6123     2\n",
       "14686    2\n",
       "2040     2\n",
       "1935     2\n",
       "11622    2\n",
       "12215    2\n",
       "3364     2\n",
       "10035    2\n",
       "10079    2\n",
       "14394    2\n",
       "7972     2\n",
       "6090     2\n",
       "4162     2\n",
       "5351     2\n",
       "14240    2\n",
       "12237    2\n",
       "12474    2\n",
       "2087     2\n",
       "6571     2\n",
       "14277    2\n",
       "2465     2\n",
       "14097    2\n",
       "12047    2\n",
       "10141    2\n",
       "13584    2\n",
       "13733    2\n",
       "12647    2\n",
       "14224    2\n",
       "4184     2\n",
       "4096     2\n",
       "5832     2\n",
       "12214    2\n",
       "13571    2\n",
       "4163     2\n",
       "1754     2\n",
       "3888     2\n",
       "5988     2\n",
       "3803     2\n",
       "6475     2\n",
       "11662    2\n",
       "12422    2\n",
       "2012     2\n",
       "10103    2\n",
       "1825     2\n",
       "13780    2\n",
       "1374     2\n",
       "6230     2\n",
       "10118    2\n",
       "7991     2\n",
       "6433     2\n",
       "13970    2\n",
       "9839     2\n",
       "1846     2\n",
       "10321    2\n",
       "10181    2\n",
       "14169    2\n",
       "9843     2\n",
       "7686     2\n",
       "1817     2\n",
       "5887     2\n",
       "1419     2\n",
       "10349    2\n",
       "8548     2\n",
       "13917    2\n",
       "11947    2\n",
       "2004     2\n",
       "6254     2\n",
       "1583     2\n",
       "314      2\n",
       "1325     2\n",
       "12120    2\n",
       "2392     2\n",
       "11999    2\n",
       "3827     2\n",
       "96       2\n",
       "13624    2\n",
       "1762     2\n",
       "12199    2\n",
       "14201    2\n",
       "6491     2\n",
       "3812     2\n",
       "1765     2\n",
       "1615     2\n",
       "8140     2\n",
       "13976    2\n",
       "11738    2\n",
       "14397    2\n",
       "16       2\n",
       "3908     2\n",
       "12227    2\n",
       "1774     2\n",
       "5567     2\n",
       "10636    2\n",
       "6619     2\n",
       "13737    2\n",
       "10631    2\n",
       "12019    2\n",
       "12006    2\n",
       "14717    2\n",
       "10261    2\n",
       "220      2\n",
       "7604     2\n",
       "9610     2\n",
       "1572     2\n",
       "9951     2\n",
       "13552    2\n",
       "9458     2\n",
       "14422    2\n",
       "9986     2\n",
       "8424     2\n",
       "1834     2\n",
       "3692     2\n",
       "236      2\n",
       "1772     2\n",
       "6253     2\n",
       "11785    2\n",
       "8298     2\n",
       "5353     2\n",
       "3306     2\n",
       "1779     2\n",
       "6147     2\n",
       "2151     2\n",
       "9743     2\n",
       "265      2\n",
       "1758     2\n",
       "4304     2\n",
       "3993     2\n",
       "5870     2\n",
       "6166     2\n",
       "3716     2\n",
       "1850     2\n",
       "14183    2\n",
       "11491    2\n",
       "2168     2\n",
       "5838     2\n",
       "11783    2\n",
       "5892     2\n",
       "11730    2\n",
       "9775     2\n",
       "1853     2\n",
       "14783    2\n",
       "1826     2\n",
       "8250     2\n",
       "11550    2\n",
       "10112    2\n",
       "9754     2\n",
       "9802     2\n",
       "7709     2\n",
       "8636     2\n",
       "2253     2\n",
       "12326    2\n",
       "7597     2\n",
       "11720    2\n",
       "7924     2\n",
       "11936    2\n",
       "6082     2\n",
       "7569     2\n",
       "5680     1\n",
       "Name: RESTAURANT_ID, dtype: int64"
      ]
     },
     "execution_count": 145,
     "metadata": {},
     "output_type": "execute_result"
    }
   ],
   "source": [
    "train['RESTAURANT_ID'].value_counts().head(590)"
   ]
  },
  {
   "cell_type": "code",
   "execution_count": 66,
   "metadata": {},
   "outputs": [],
   "source": [
    "# 589 restauants ids are being repeated\n",
    "# maybe they are branches of same restaurant"
   ]
  },
  {
   "cell_type": "code",
   "execution_count": 146,
   "metadata": {},
   "outputs": [
    {
     "data": {
      "text/plain": [
       "(8, 1)"
      ]
     },
     "execution_count": 146,
     "metadata": {},
     "output_type": "execute_result"
    }
   ],
   "source": [
    "# lets seperate the cuisines\n",
    "num_cus_train = train.CUISINES.apply(lambda x: len(x.split(',')))\n",
    "num_cus_train.max(),num_cus_train.min()"
   ]
  },
  {
   "cell_type": "code",
   "execution_count": 147,
   "metadata": {},
   "outputs": [
    {
     "data": {
      "text/plain": [
       "(8, 1)"
      ]
     },
     "execution_count": 147,
     "metadata": {},
     "output_type": "execute_result"
    }
   ],
   "source": [
    "num_cus_test = test.CUISINES.apply(lambda x: len(x.split(',')))\n",
    "num_cus_test.max(),num_cus_test.min()"
   ]
  },
  {
   "cell_type": "code",
   "execution_count": 148,
   "metadata": {},
   "outputs": [],
   "source": [
    "# lets seperate the cuisines"
   ]
  },
  {
   "cell_type": "code",
   "execution_count": 149,
   "metadata": {},
   "outputs": [
    {
     "data": {
      "text/plain": [
       "['Continental',\n",
       " ' American',\n",
       " ' Asian',\n",
       " ' North Indian',\n",
       " ' Chinese',\n",
       " ' Pizza',\n",
       " ' Biryani',\n",
       " '']"
      ]
     },
     "execution_count": 149,
     "metadata": {},
     "output_type": "execute_result"
    }
   ],
   "source": [
    "train.CUISINES[train.CUISINES.apply(lambda y : len(y.split(','))).idxmax()].split(',')"
   ]
  },
  {
   "cell_type": "code",
   "execution_count": 150,
   "metadata": {},
   "outputs": [
    {
     "data": {
      "text/plain": [
       "0                          [Malwani,  Goan,  North Indian]\n",
       "1                       [Asian,  Modern Indian,  Japanese]\n",
       "2          [North Indian,  Chinese,  Biryani,  Hyderabadi]\n",
       "3                                      [Tibetan,  Chinese]\n",
       "4                                               [Desserts]\n",
       "                               ...                        \n",
       "12685                      [North Indian,  Burger,  Kebab]\n",
       "12686                                 [Goan,  Continental]\n",
       "12687        [Finger Food,  Continental,  Asian,  Chinese]\n",
       "12688    [North Indian,  South Indian,  Chinese,  Stree...\n",
       "12689                             [North Indian,  Chinese]\n",
       "Name: CUISINES, Length: 12690, dtype: object"
      ]
     },
     "execution_count": 150,
     "metadata": {},
     "output_type": "execute_result"
    }
   ],
   "source": [
    "train['CUISINES'].str.split(',')"
   ]
  },
  {
   "cell_type": "code",
   "execution_count": 151,
   "metadata": {},
   "outputs": [],
   "source": [
    "def seperate_cus(df, column, col_number):\n",
    "    return df[column].str.split(',').str[col_number]"
   ]
  },
  {
   "cell_type": "code",
   "execution_count": 152,
   "metadata": {},
   "outputs": [],
   "source": [
    "for i in range(0,8):\n",
    "    cus = \"Cuisine_\"+ str(i+1)\n",
    "    train[cus] = seperate_cus(train,'CUISINES', i)"
   ]
  },
  {
   "cell_type": "code",
   "execution_count": 153,
   "metadata": {},
   "outputs": [],
   "source": [
    "for i in range(0,8):\n",
    "    cus = \"Cuisine_\"+ str(i+1)\n",
    "    test[cus] = seperate_cus(test,'CUISINES', i)"
   ]
  },
  {
   "cell_type": "code",
   "execution_count": 79,
   "metadata": {},
   "outputs": [],
   "source": [
    "# test.head(1)"
   ]
  },
  {
   "cell_type": "code",
   "execution_count": 80,
   "metadata": {},
   "outputs": [],
   "source": [
    "# we'll drop cuisines from both"
   ]
  },
  {
   "cell_type": "code",
   "execution_count": 154,
   "metadata": {},
   "outputs": [
    {
     "data": {
      "text/plain": [
       "0                  11am – 4pm, 7:30pm – 11:30pm (Mon-Sun\n",
       "1                                    6pm – 11pm (Mon-Sun\n",
       "2                     11am – 3:30pm, 7pm – 11pm (Mon-Sun\n",
       "3                                 11:30am – 1am (Mon-Sun\n",
       "4                                    11am – 1am (Mon-Sun\n",
       "                              ...                       \n",
       "12685    12noon – 12midnight (Mon, Tue, Wed, Thu, Sun...\n",
       "12686     12noon – 1am (Mon-Fri,11am – 5pm, 7pm – 1am...\n",
       "12687                          12noon – 12:30AM (Mon-Sun\n",
       "12688                             6am – 10:45pm (Mon-Sun\n",
       "12689                            12:30pm – 11pm (Mon-Sun\n",
       "Name: TIME, Length: 12690, dtype: object"
      ]
     },
     "execution_count": 154,
     "metadata": {},
     "output_type": "execute_result"
    }
   ],
   "source": [
    "train['TIME'].str.replace(')','')"
   ]
  },
  {
   "cell_type": "code",
   "execution_count": 155,
   "metadata": {},
   "outputs": [],
   "source": [
    "train['days']=train['TIME'].str.replace(')','').str.split('(').str[1]"
   ]
  },
  {
   "cell_type": "code",
   "execution_count": 156,
   "metadata": {},
   "outputs": [],
   "source": [
    "train['days']=train['days'].str.replace('-',',')"
   ]
  },
  {
   "cell_type": "code",
   "execution_count": 106,
   "metadata": {},
   "outputs": [],
   "source": [
    "# we can extract the number of days a rest in open"
   ]
  },
  {
   "cell_type": "code",
   "execution_count": 111,
   "metadata": {},
   "outputs": [],
   "source": [
    "# train['num_days']=0\n",
    "# day_dict={'Mon':0,'Tue':1,'Wed':2,'Thu':3,'Fri':4,'Sat':5,'Sun':6}\n",
    "# # count_dict={'Mon':1,'Tue':1,'Wed':1,'Thu':1,'Fri':1,'Sat':1,'Sun':1}\n",
    "# day_list=['Mon','Tue','Wed','Thu','Fri','Sat','Sun']\n",
    "# for i in range(len(train)):\n",
    "#     len_days=0\n",
    "#     token=train['days'][i].split(',')\n",
    "#     for j in token:\n",
    "#         if j in day_list:\n",
    "#             len_days+=1\n",
    "#     if len_days==2:\n",
    "#         train['num_days'].iloc[i]=day_dict[token[1]]-day_dict[token[0]]+1\n",
    "#     else:\n",
    "#         train['num_days'].iloc[i]=len_days"
   ]
  },
  {
   "cell_type": "code",
   "execution_count": 157,
   "metadata": {},
   "outputs": [
    {
     "data": {
      "text/plain": [
       "['Mon', '11am – 11pm ']"
      ]
     },
     "execution_count": 157,
     "metadata": {},
     "output_type": "execute_result"
    }
   ],
   "source": [
    "train['days'][1370].split(',')"
   ]
  },
  {
   "cell_type": "code",
   "execution_count": 158,
   "metadata": {},
   "outputs": [
    {
     "data": {
      "text/plain": [
       "Mon,Sun                                        10825\n",
       "Mon,Sat,Closed                                    95\n",
       "Mon, Wed, Thu, Fri, Sat, Sun...                   68\n",
       "Mon, Tue, Wed, Thu, Sun...                        37\n",
       "Mon, Wed, Thu, Fri, Sat, Sun, Closed...           33\n",
       "Mon, Tue, Wed, Thu, Sun, 12noon...                32\n",
       "Mon,11am – 11pm                                   25\n",
       "Mon, Wed, Thu, Fri...                             22\n",
       "Mon, Tue, Wed, Thu, Sat, Sun...                   20\n",
       "Mon,Thu,12noon –...                               17\n",
       "Mon, Tue, Wed...                                  16\n",
       "Mon, Tue, Wed, Thu, Sun, 11am –...                16\n",
       "Mon,Fri,12noon –...                               14\n",
       "Mon,12noon – 11pm                                 14\n",
       "Mon, Wed, Thu...                                  14\n",
       "Mon, Tue...                                       12\n",
       "Mon,Thu,12noon...                                 12\n",
       "Mon,Fri,12noon...                                 12\n",
       "Mon, Tue, Wed, Fri, Sat, Sun...                   12\n",
       "Mon,Thu,12noon – 1am                              10\n",
       "Mon, Tue, Thu, Fri, Sat, Sun...                   10\n",
       "Mon, Tue, Wed, Thu, Fri, Sun...                   10\n",
       "Mon,10am – 10pm                                   10\n",
       "Mon,Thu,12noon – 1am...                            9\n",
       "Mon, Wed, Thu, Fri, Sat...                         9\n",
       "Mon,Thu,11am – 1am                                 9\n",
       "Mon,12noon – 11:30pm                               9\n",
       "Mon, Tue, Wed, Thu...                              9\n",
       "Mon,8am – 11pm                                     8\n",
       "Mon,Thu,12noon – 12midnight...                     8\n",
       "Mon, Tue, Wed, Thu, Sat...                         7\n",
       "Mon,Fri,9am – 11pm                                 7\n",
       "Mon,Fri,8am –...                                   7\n",
       "Mon,Fri,Closed                                     6\n",
       "Mon,Fri,11am – 11pm                                6\n",
       "Mon, Tue, Wed, Fri, Sat, Sun, Closed...            6\n",
       "Mon,Thu,11am – 12midnight                          6\n",
       "Mon,Thu,12noon – 11:30pm                           6\n",
       "Mon, Tue, Thu, Fri...                              6\n",
       "Mon, Tue, Wed, Thu, Fri, Sun, 11am...              6\n",
       "Mon, Wed...                                        6\n",
       "Mon, Tue, Wed, Thu, Sun, 11am...                   6\n",
       "Mon,Fri,8am – 11pm                                 6\n",
       "Mon,9am – 10pm                                     5\n",
       "Mon,Sat,8am – 11pm                                 5\n",
       "Mon,12noon – 10pm                                  5\n",
       "Mon, Tue, Wed, Thu, Sat, Sun, 2pm...               5\n",
       "Mon,Sat,11am...                                    5\n",
       "Mon,11am – 4am                                     5\n",
       "Mon,12:30pm – 11pm                                 5\n",
       "Mon,11:30am – 11pm                                 5\n",
       "Mon,12noon – 4pm, 7pm – 11pm                       5\n",
       "Mon,Thu,11am – 12midnight...                       5\n",
       "Mon,11:30am – 11:30pm                              5\n",
       "Mon,Sat,12noon – 11pm                              5\n",
       "Mon,Thu,11:30am – 1am                              5\n",
       "Mon, Tue, Thu, Fri, Sat, Sun, Closed...            4\n",
       "Mon,Fri,8am – 10pm                                 4\n",
       "Mon,Thu,11am – 11:30pm                             4\n",
       "Mon,12noon – 10:30pm                               4\n",
       "Mon, Wed, Thu, Fri, Closed...                      4\n",
       "Mon,11am – 12midnight...                           4\n",
       "Mon,Fri,11am – 12midnight                          4\n",
       "Mon,Sat,12noon –...                                4\n",
       "Mon,Sat,11am – 11pm                                4\n",
       "Mon,Fri,7am – 11pm                                 4\n",
       "Mon,Fri,11am –...                                  4\n",
       "Mon,Fri,11:30am...                                 4\n",
       "Mon,Fri,10am – 11pm                                4\n",
       "Mon,Fri,7am –...                                   4\n",
       "Mon,11am – 10pm                                    4\n",
       "Mon,Fri,11am – 11:30pm                             4\n",
       "Mon,Thu,12midnight – 1am...                        4\n",
       "Mon,Fri,12noon – 12midnight...                     4\n",
       "Mon,Thu,11:30am – 11:30pm...                       4\n",
       "Mon,Thu,11am – 2am                                 3\n",
       "Mon, Tue, Wed, Fri, Sat, Sun, 6pm...               3\n",
       "Mon,Thu,12noon – 12:30AM...                        3\n",
       "Mon,11am – 10:30pm                                 3\n",
       "Mon,Thu,11:30am – 12midnight...                    3\n",
       "Mon,Sat,12noon...                                  3\n",
       "Mon,9am – 11pm                                     3\n",
       "Mon,5pm – 11pm                                     3\n",
       "Mon,Thu,Closed                                     3\n",
       "Mon,Sat,2pm – 11pm                                 3\n",
       "Mon, Tue, Wed, Fri, Sat, Sun, 4pm –...             3\n",
       "Mon,Thu,8am – 11pm                                 3\n",
       "Mon,Sat,1pm – 11pm                                 3\n",
       "Mon,Thu,11am...                                    3\n",
       "Mon,12noon – 12midnight                            3\n",
       "Mon,1pm – 11pm                                     3\n",
       "Mon...                                             3\n",
       "Mon,12noon – 1:30am                                3\n",
       "Mon,12noon...                                      3\n",
       "Mon,11:30am – 3:30pm, 7pm –...                     3\n",
       "Mon,12noon – 12midnight...                         3\n",
       "Mon,9:30am – 10pm                                  3\n",
       "Mon, Tue, Wed, Thu, Sun, 12noon –...               3\n",
       "Mon,Fri,11:30am – 11pm...                          3\n",
       "Mon, Tue, Wed, Thu, Sat, Sun, 10am...              3\n",
       "Mon,11am – 12midnight                              3\n",
       "Mon,Fri,11am – 10pm                                3\n",
       "Mon,10am – 11pm                                    3\n",
       "Mon,10am – 11:30pm                                 3\n",
       "Mon,Sat,Closed...                                  3\n",
       "Mon,12noon –...                                    3\n",
       "Mon,Thu,11am – 11pm                                3\n",
       "Mon,Sat,12noon – 10:30pm                           3\n",
       "Mon,Fri,11am...                                    2\n",
       "Mon,Sat,3pm – 11pm                                 2\n",
       "Mon, Tue, Wed, Fri...                              2\n",
       "Mon,Fri,12noon – 1am                               2\n",
       "Mon,11:30am – 12midnight                           2\n",
       "Mon,9:30am – 12midnight                            2\n",
       "Mon,Sat,7pm –...                                   2\n",
       "Mon,Fri,9am – 12midnight...                        2\n",
       "Mon,Sat,11am – 3pm                                 2\n",
       "Mon,Thu,9am – 11pm                                 2\n",
       "Mon, Wed, Thu, Fri, Sat, Sun, 3pm...               2\n",
       "Mon,Sat,11:30am – 12midnight...                    2\n",
       "Mon,Sat,10am – 9pm                                 2\n",
       "Mon,Fri,10am – 10:30pm                             2\n",
       "Mon, Wed, Thu, Fri, Sat, Closed...                 2\n",
       "Mon,Sat,12noon – 10pm                              2\n",
       "Mon, Sun...                                        2\n",
       "Mon,Fri,8:30am – 10pm                              2\n",
       "Mon,Thu,10:30am – 11:30pm...                       2\n",
       "Mon,7pm – 11pm                                     2\n",
       "Mon, Tue, Thu, 12noon – 1am...                     2\n",
       "Mon,Sat,12:30pm – 3:30pm...                        2\n",
       "Mon,Sat,9am –...                                   2\n",
       "Mon, Wed, Thu, Fri, Sat, 9am –...                  2\n",
       "Mon, Wed, Thu, Fri, Sat, Sun, 4pm...               2\n",
       "Mon,Sat,12:30pm – 11:30pm                          2\n",
       "Mon,Closed                                         2\n",
       "Mon,Sat,7am – 2pm                                  2\n",
       "Mon,12noon – 3pm, 6pm – 11pm                       2\n",
       "Mon,Sat,4pm – 10pm                                 2\n",
       "Mon,Sat,7am – 12noon                               2\n",
       "Mon,Sat,1pm –...                                   2\n",
       "Mon,11:30am –...                                   2\n",
       "Mon,Thu,11am – 1:30am                              2\n",
       "Mon, Thu...                                        2\n",
       "Mon,12:30pm – 12midnight                           2\n",
       "Mon,Sat,2pm – 12midnight                           2\n",
       "Mon,Sat,4pm – 11pm                                 2\n",
       "Mon,Sat,                                           2\n",
       "Mon,Fri,8am – 12midnight                           2\n",
       "Mon,Sat,6pm – 10pm                                 2\n",
       "Mon,7pm – 1:30am                                   2\n",
       "Mon,Sat,11am –...                                  2\n",
       "Mon,Thu,11am –...                                  2\n",
       "Mon,Wed,11:30am – 11:30pm...                       2\n",
       "Mon,Fri,12:30pm – 11:30pm...                       2\n",
       "Mon,10am – 12midnight                              2\n",
       "Mon,11am – 8:30pm                                  2\n",
       "Mon,12noon – 11:30pm...                            2\n",
       "Mon,7:30am – 12:30pm, 4:30pm...                    2\n",
       "Mon, Tue, Thu, Fri, Sat, Sun, 11am...              2\n",
       "Mon,Sat,8am –...                                   2\n",
       "Mon,12:30pm – 10pm                                 2\n",
       "Mon,7am – 11pm                                     2\n",
       "Mon,11am – 3pm, 7pm – 10pm                         2\n",
       "Mon, Tue, Wed, Thu, Sun, 5:30pm...                 2\n",
       "Mon,Fri,8am – 7pm                                  2\n",
       "Mon,4pm – 11pm                                     2\n",
       "Mon,Fri,7:30am – 11pm                              2\n",
       "Mon,Thu,8:30am –...                                2\n",
       "Mon,Thu,12:30pm – 11:30pm...                       2\n",
       "Mon, Tue, Wed, Thu, Sat, Sun, 11am...              2\n",
       "Mon,Fri,12noon – 1am...                            2\n",
       "Mon,9am – 9:30pm                                   2\n",
       "Mon,7am – 9:30pm                                   2\n",
       "Mon,Fri,8am – 6pm                                  2\n",
       "Mon,11am – 10:30pm...                              2\n",
       "Mon,7am – 10:30pm                                  2\n",
       "Mon,7am – 10pm                                     2\n",
       "Mon,12noon – 3:30pm, 7pm – 10:30pm...              2\n",
       "Mon,11am – 9:30pm                                  2\n",
       "Mon,11:30am – 3:30pm, 7:30pm – 11:30pm...          2\n",
       "Mon, Tue, Thu...                                   2\n",
       "Mon,Fri,10am –...                                  2\n",
       "Mon,Thu,10am – 11:30pm                             2\n",
       "Mon,Tue,11am – 11pm                                2\n",
       "Mon,5:30pm – 11pm                                  2\n",
       "Mon,Thu,11:30am – 12:30AM...                       2\n",
       "Mon,Fri,12noon – 4am                               2\n",
       "Mon,11:30am – 10:30pm                              2\n",
       "Mon,12noon – 4pm, 7pm – 11pm...                    2\n",
       "Mon,Fri,12noon – 11:30pm...                        2\n",
       "Mon,7pm – 11:30pm                                  2\n",
       "Mon,Tue,12noon – 12midnight...                     2\n",
       "Mon,Thu,7am – 11:45pm                              2\n",
       "Mon,Thu,11am – 3am                                 2\n",
       "Mon,Sat,9am – 11pm                                 2\n",
       "Mon,Thu,12noon – 2am                               2\n",
       "Mon,Sat,7am – 3pm                                  2\n",
       "Mon,Sat,12noon – 1am                               2\n",
       "Mon,Wed,12noon – 12midnight...                     2\n",
       "Mon,Fri,8:30am – 12midnight...                     2\n",
       "Mon,Thu,7pm – 1am                                  2\n",
       "Mon,11am – 3:30pm, 7pm – 11:30pm                   2\n",
       "Mon,11:30am...                                     2\n",
       "Mon, Wed, Thu, Fri, Sat, Sun, 9am –...             2\n",
       "Mon,12noon – 3:30pm, 7pm – 11:30pm...              2\n",
       "Mon, Tue, Wed, Sun, 6pm – 3:30am...                1\n",
       "Mon,Thu,10:30am – 12midnight...                    1\n",
       "Mon,Sat,7:30am – 11:30pm                           1\n",
       "Mon, Wed, Thu, Fri, Sat, Sun, 6pm...               1\n",
       "Mon,4:30pm – 1:30am                                1\n",
       "Mon,11am –...                                      1\n",
       "Mon,Tue,12:15pm – 11pm                             1\n",
       "Mon,Thu,11:30am – 11:30pm                          1\n",
       "Mon,Wed,6:30pm – 6am                               1\n",
       "Mon,12:30pm – 3:30pm, 8pm –...                     1\n",
       "Mon,12noon – 3pm, 6:30pm...                        1\n",
       "Mon,Sat,12noon – 12midnight...                     1\n",
       "Mon,12noon – 3pm, 7pm –...                         1\n",
       "Mon,3pm – 10pm                                     1\n",
       "Mon,Fri,11am – 11:45pm                             1\n",
       "Mon,Fri,7am – 9pm...                               1\n",
       "Mon,Fri,11am – 12:30AM                             1\n",
       "Mon,Sat,2pm – 11:30pm                              1\n",
       "Mon,Fri,11:30am – 11:30pm...                       1\n",
       "Mon, Tue, Thu, 6pm – 12midnight                    1\n",
       "Mon,11am – 11:30pm, 12midnight...                  1\n",
       "Mon,Thu,12:30pm – 1am                              1\n",
       "Mon, Tue, Wed, Thu, Sat, Sun, 9am...               1\n",
       "Mon,Sat,11am – 7pm                                 1\n",
       "Mon,Tue,3pm – 1am                                  1\n",
       "Mon, Wed, Fri, Sat, Sun, 12noon...                 1\n",
       "Mon,Tue,10pm – 1:30am                              1\n",
       "Mon, Tue, Wed, Thu, Sun, 6:30pm –...               1\n",
       "Mon,Sat,11am – 4pm...                              1\n",
       "Mon,Sat,9am – 11:1pm                               1\n",
       "Mon, Tue, Thu, Fri, Sat, Sun, 8am –...             1\n",
       "Mon, Tue, Thu, Fri, Sat, 10am –...                 1\n",
       "Mon,Sat,8:30am – 11:1pm                            1\n",
       "Mon,Sat,8am – 9pm                                  1\n",
       "Mon,11am – 1am                                     1\n",
       "Mon,Sat,12midnight...                              1\n",
       "Mon, Tue, Thu, Fri, Sat, Sun, 10am...              1\n",
       "Mon, Wed, Thu, Fri, Sat, Sun, 12noon...            1\n",
       "Mon,Thu,11:30am – 11:14pm...                       1\n",
       "Mon, Sun, 11am – 11pm...                           1\n",
       "Mon,Sat,12noon – 9pm                               1\n",
       "Mon,Sat,11:30am – 4pm                              1\n",
       "Mon,Thu,12midnight – 2:15am                        1\n",
       "Mon,Fri,12:30pm...                                 1\n",
       "Mon,Fri,10am – 7pm                                 1\n",
       "Mon, Tue, Wed, Thu, Sat, 5:30pm...                 1\n",
       "Mon,Sat,9am – 4pm...                               1\n",
       "Mon, Thu, Fri, Sat, Sun, 10:39am –...              1\n",
       "Mon,12:30pm – 3:30pm, 7:30pm – 10:30pm...          1\n",
       "Mon,6am – 11pm...                                  1\n",
       "Mon,12noon – 4pm, 7pm – 10pm                       1\n",
       "Mon,Thu,10am – 1:30am                              1\n",
       "Mon,Sat,8pm – 11pm                                 1\n",
       "Mon,11:30am – 10:45pm                              1\n",
       "Mon, Sun, 11am – 11pm                              1\n",
       "Mon,11am – 3:30pm, 7:30pm – 1am                    1\n",
       "Mon,Thu,8am – 1am                                  1\n",
       "Mon, Tue, Thu, 1pm – 11:1pm                        1\n",
       "Mon,12:30pm – 11pm...                              1\n",
       "Mon,Fri,10am – 1am                                 1\n",
       "Mon, Tue, Wed, Thu, Sat, Sun, 12midnight...        1\n",
       "Mon,7am – 10:45pm                                  1\n",
       "Mon,Thu,8am – 4am                                  1\n",
       "Mon, Tue, Thu, Sun, 11am – 3pm...                  1\n",
       "Mon,10am – 9:30pm                                  1\n",
       "Mon,Tue,11am – 11:30pm                             1\n",
       "Mon,Sat,7am – 12noon...                            1\n",
       "Mon,Wed,12noon...                                  1\n",
       "Mon,Fri,9am – 11:30pm...                           1\n",
       "Mon, Sun, 4am – 7am                                1\n",
       "Mon, Tue, Wed, Thu, Sun, 12midnight –...           1\n",
       "Mon, Tue, Sun, 11am – 10pm...                      1\n",
       "Mon,12noon – 2:30pm, 7pm – 9pm                     1\n",
       "Mon,Sat,7:30am – 12:30pm                           1\n",
       "Mon,11:30am – 3pm, 6:30pm – 11pm                   1\n",
       "Mon,Thu,2pm – 2am                                  1\n",
       "Mon,10:30am – 11:45pm...                           1\n",
       "Mon,Thu,12noon – 11pm                              1\n",
       "Mon,Thu,11am – 11:50pm...                          1\n",
       "Mon, Tue, Wed, Thu, Sun, 12noon – 1am...           1\n",
       "Mon,11am – 3pm, 7pm – 11pm...                      1\n",
       "Mon,Tue,12:30pm – 3:30pm, 7pm –...                 1\n",
       "Mon,Sat,5pm – 11pm                                 1\n",
       "Mon,Sat,4:30pm – 10:30pm                           1\n",
       "Mon,12:30pm – 11:30pm                              1\n",
       "Mon,Sat,4pm – 8pm                                  1\n",
       "Mon, Tue, Wed, Fri, Sat, Sun, 7am –...             1\n",
       "Mon,12:30pm – 4pm, 6:30pm...                       1\n",
       "Mon,Fri,11:30am – 1am                              1\n",
       "Mon,Sat,1pm – 10:30pm                              1\n",
       "Mon,Tue,7pm – 1am                                  1\n",
       "Mon,Fri,12:30pm – 2:45pm...                        1\n",
       "Mon, Wed, Thu, Fri, Sat, Sun, 7pm...               1\n",
       "Mon,10am – 5pm                                     1\n",
       "Mon,Thu,8am – 11:30pm                              1\n",
       "Mon,6am – 11pm                                     1\n",
       "Mon,Fri,9am – 10:30pm                              1\n",
       "Mon,11am – 4pm, 7pm – 11pm                         1\n",
       "Mon,8:57am – 12midnight                            1\n",
       "Mon,7pm – 1am                                      1\n",
       "Mon,Fri,1pm – 10pm                                 1\n",
       "Mon,Thu,7am – 12:30AM                              1\n",
       "Mon,Fri,12noon – 3pm, 6:30pm –...                  1\n",
       "Mon,Fri,12noon – 3pm, 6:30pm...                    1\n",
       "Mon,11am – 3:30pm, 7pm –...                        1\n",
       "Mon,10:34am – 12midnight...                        1\n",
       "Mon,Thu,9am – 11pm...                              1\n",
       "Mon,1pm – 12:30AM                                  1\n",
       "Mon,Fri,11:30am – 10:30pm...                       1\n",
       "Mon,12noon – 9pm                                   1\n",
       "Mon,Fri,12noon – 4pm, 7pm – 4am...                 1\n",
       "Mon,Sat,9:45am – 1am                               1\n",
       "Mon, Tue, Wed, Thu, Fri, Sun, 1:30pm...            1\n",
       "Mon, Tue, Sun, 12noon – 1am...                     1\n",
       "Mon,Thu,12noon – 4am                               1\n",
       "Mon,Fri,12noon – 3am                               1\n",
       "Mon,Fri,1pm – 11:30pm                              1\n",
       "Mon,Thu,9:30am – 1am                               1\n",
       "Mon,12noon – 3:15pm, 7pm – 11:15pm...              1\n",
       "Mon,Tue,1pm – 12midnight...                        1\n",
       "Mon,Sat,2pm – 9pm                                  1\n",
       "Mon,11am – 3:30pm, 7pm – 11pm...                   1\n",
       "Mon,Sat,7am – 3:30pm                               1\n",
       "Mon,Fri,8:30am – 4pm                               1\n",
       "Mon,11:30am – 4pm, 7:30pm – 10pm                   1\n",
       "Mon, Tue, Sun, 9pm – 12midnight                    1\n",
       "Mon,Fri,8:30am – 3pm...                            1\n",
       "Mon,Tue,12noon – 3pm, 6pm –...                     1\n",
       "Mon,Thu,7pm – 11:30pm                              1\n",
       "Mon,9am – 8pm                                      1\n",
       "Mon,Sat,11:4am – 12midnight                        1\n",
       "Mon,Sat,10am – 10:45pm                             1\n",
       "Mon,Fri,6am – 1am                                  1\n",
       "Mon,12:30pm – 4am                                  1\n",
       "Mon,Fri,12:30pm – 3pm...                           1\n",
       "Mon,Fri,6pm –...                                   1\n",
       "Mon, Tue, Wed, Sat, Sun, 11am –...                 1\n",
       "Mon,Fri,9am – 1:30am                               1\n",
       "Mon,6pm – 10:30pm                                  1\n",
       "Mon,Fri,12noon – 11pm                              1\n",
       "Mon, Sat, Sun, 11am – 11pm...                      1\n",
       "Mon,Sat,9am – 11:30pm                              1\n",
       "Mon,Sat,9am – 10pm                                 1\n",
       "Mon,10am – 1am                                     1\n",
       "Mon,Sat,8am – 11:30am                              1\n",
       "Mon,10:30am – 11pm                                 1\n",
       "Mon,Sat,6am – 12noon                               1\n",
       "Mon,Fri,4:30pm – 11pm                              1\n",
       "Mon,Thu,10am – 11:55pm                             1\n",
       "Mon,11:30am – 3:30pm, 6:30pm...                    1\n",
       "Mon,Thu,12noon – 1:30am...                         1\n",
       "Mon,Thu,11:30am...                                 1\n",
       "Mon,Thu,12noon – 10:30pm                           1\n",
       "Mon,9:30am – 2pm, 6pm – 9:30pm                     1\n",
       "Mon,Thu,12:30pm – 10:30pm...                       1\n",
       "Mon,Wed,8am – 4am                                  1\n",
       "Mon,Fri,11:30am – 12midnight...                    1\n",
       "Mon, Wed, Thu, Sun, 7pm – 1:30am                   1\n",
       "Mon, Tue, Wed, Fri, Sat, Sun, 5pm –...             1\n",
       "Mon,Tue,12noon – 5am                               1\n",
       "Mon,Thu,11:30am – 1am...                           1\n",
       "Mon, Tue, Wed, Thu, Sat, Closed...                 1\n",
       "Mon,Tue,Closed                                     1\n",
       "Mon,11:45am – 3:15pm, 7pm – 11:30pm...             1\n",
       "Mon,7:30am – 10:30pm                               1\n",
       "Mon,11:30am – 4:30pm, 6:30pm – 10:30pm...          1\n",
       "Mon,Wed,8am –...                                   1\n",
       "Mon,8:30am – 3pm, 5:30pm – 8:30pm...               1\n",
       "Mon, Tue, Wed, Thu, Fri, Sun, 5pm –...             1\n",
       "Mon,Thu,8am – 3:30pm...                            1\n",
       "Mon, Thu, 8am – 11pm                               1\n",
       "Mon,Thu,11:45am – 11pm...                          1\n",
       "Mon,11:55am – 12midnight...                        1\n",
       "Mon,11am – 3pm, 5:30pm – 11pm...                   1\n",
       "Mon,7am – 2:30pm, 4pm – 10pm                       1\n",
       "Mon,Fri,9am – 10pm                                 1\n",
       "Mon,Sat,10am – 6pm                                 1\n",
       "Mon, Wed, Thu, Fri, 12noon – 3pm...                1\n",
       "Mon,12:30pm – 3:30pm, 6:30pm – 10:30pm...          1\n",
       "Mon,Tue,12noon – 1am                               1\n",
       "Mon,1pm – 3am                                      1\n",
       "Mon, Sun, 7am – 11:30am, 4pm –...                  1\n",
       "Mon,12noon – 4pm, 6:30pm – 11pm...                 1\n",
       "Mon,7am – 3am                                      1\n",
       "Mon,Tue,11:30am –...                               1\n",
       "Mon,Thu,11:30am –...                               1\n",
       "Mon,11:30am – 1:30am...                            1\n",
       "Mon, Tue, Wed, Thu, Fri, Sun, 6pm...               1\n",
       "Mon,9am – 9pm                                      1\n",
       "Mon,Sat,9am – 12midnight...                        1\n",
       "Mon,12noon – 12:30AM                               1\n",
       "Mon,Thu,8am – 10:30pm                              1\n",
       "Mon,Thu,Closed...                                  1\n",
       "Mon,12noon – 4pm, 7pm – 9:30pm...                  1\n",
       "Mon,6:30am – 12:30pm, 4pm – 9pm                    1\n",
       "Mon,Sat,5am – 12noon                               1\n",
       "Mon,Sat,9:15am – 3pm                               1\n",
       "Mon, Tue, Wed, Thu, Sat, Sun, 2:30pm...            1\n",
       "Mon,Thu,8am – 12:30AM                              1\n",
       "Mon, Tue, Wed, Sun, 9am –...                       1\n",
       "Mon,3:30pm – 10:30pm                               1\n",
       "Mon,Fri,12noon – 3pm, 7pm –...                     1\n",
       "Mon,Fri,7am – 11am, 12noon –...                    1\n",
       "Mon,12noon – 4pm, 6:30pm – 10:30pm...              1\n",
       "Mon,8am – 10:30pm                                  1\n",
       "Mon, Tue, Wed, Fri, 10am – 11pm...                 1\n",
       "Mon,Tue,9am – 11pm...                              1\n",
       "Mon,11:45am...                                     1\n",
       "Mon,6pm – 2am                                      1\n",
       "Mon,1pm – 10pm                                     1\n",
       "Mon,Thu,12midnight – 12:5AM...                     1\n",
       "Mon, Tue, Wed, Thu, Sun, 3pm –...                  1\n",
       "Mon,Thu,10am – 11pm                                1\n",
       "Mon,Wed,12noon – 3:30pm...                         1\n",
       "Mon,11am – 8pm                                     1\n",
       "Mon, Sun, 8am – 9:30pm                             1\n",
       "Mon,12:30pm – 12midnight...                        1\n",
       "Mon,Thu,12noon – 11:45pm...                        1\n",
       "Mon,12noon – 3am                                   1\n",
       "Mon,1pm – 9:30pm                                   1\n",
       "Mon,Sat,11pm – 12midnight                          1\n",
       "Mon,10am – 4pm, 6pm – 9:30pm                       1\n",
       "Mon,Thu,9am – 11:30pm...                           1\n",
       "Mon, Tue, Thu, Closed                              1\n",
       "Mon,Sat,11am – 4pm, 7pm – 11pm...                  1\n",
       "Mon, Wed, Thu, Fri, 5pm – 10pm...                  1\n",
       "Mon,4pm – 12midnight                               1\n",
       "Mon,Wed,12noon –...                                1\n",
       "Mon,11:30am – 10pm                                 1\n",
       "Mon,12noon – 3:30pm, 6:30pm – 10:30pm...           1\n",
       "Mon, Tue, Wed, Thu, Sun, 9:30pm – 2am...           1\n",
       "Mon, Sat, 6am – 10pm                               1\n",
       "Mon, Tue, Wed, Sun, 10am – 11pm...                 1\n",
       "Mon,Sat,7am – 6:30pm                               1\n",
       "Mon,Fri,12:30pm – 11:45pm...                       1\n",
       "Mon,Tue,11am – 12midnight...                       1\n",
       "Mon,12midnight – 2:32am...                         1\n",
       "Mon, Sat, Sun, 10am – 8pm                          1\n",
       "Mon,11am – 4pm...                                  1\n",
       "Mon, Fri, Sat, 10am –...                           1\n",
       "Mon,Fri,10am – 4am                                 1\n",
       "Mon, Sat, 10am – 2:30pm, 6pm – 9:30pm...           1\n",
       "Mon,Sat,12noon – 3am                               1\n",
       "Mon,Thu,11am – 11pm...                             1\n",
       "Mon, Sat...                                        1\n",
       "Mon,Thu,11am – 9pm                                 1\n",
       "Mon, Tue, Thu, Fri, Sat, Sun, 1pm –...             1\n",
       "Mon,Thu,11am – 1am...                              1\n",
       "Mon,11:30am – 3pm, 5:30pm –...                     1\n",
       "Mon, Tue, Wed, Thu, Sun, 7pm –...                  1\n",
       "Mon,5pm – 3:30am                                   1\n",
       "Mon,12:2AM – 12midnight                            1\n",
       "Mon,Sat,7am – 11pm                                 1\n",
       "Mon,10:30am – 12midnight...                        1\n",
       "Mon,Thu,8:30am – 11pm...                           1\n",
       "Mon,Fri,7am...                                     1\n",
       "Mon,11:30am – 3:30pm, 7pm – 11pm                   1\n",
       "Mon,5am – 9:30pm                                   1\n",
       "Mon,Wed,8am – 11:30pm...                           1\n",
       "Mon,Thu,7am – 11pm                                 1\n",
       "Mon,12noon – 4pm, 7:30pm – 11:30pm...              1\n",
       "Mon,7:30am – 4pm, 6:30pm – 11pm                    1\n",
       "Mon,Sat,2pm – 10pm                                 1\n",
       "Mon,12noon – 4pm, 7pm – 10:30pm...                 1\n",
       "Mon,12noon – 3pm, 7pm – 12midnight...              1\n",
       "Mon, Tue, Wed, Thu, Sat, 3pm...                    1\n",
       "Mon,12noon – 2:45pm, 7pm – 10:45pm...              1\n",
       "Mon,Sat,9am – 1pm                                  1\n",
       "Mon,11am – 3am                                     1\n",
       "Mon,11:30am – 3:30pm, 7pm – 10:30pm...             1\n",
       "Mon,Sat,3:30am – 10pm                              1\n",
       "Mon,5pm – 11:45pm, 12midnight...                   1\n",
       "Mon,10:55am – 9:19pm...                            1\n",
       "Mon,9:30am – 10:30pm                               1\n",
       "Mon,Fri,12noon – 5am                               1\n",
       "Mon,Fri,4pm – 11pm                                 1\n",
       "Mon,Sat,7am – 4pm...                               1\n",
       "Mon,10:30am – 3pm, 5pm – 11pm...                   1\n",
       "Mon,Tue,9pm – 12midnight                           1\n",
       "Mon,Fri,8:30am – 8:30pm                            1\n",
       "Mon,12noon – 3pm, 6:30pm –...                      1\n",
       "Mon, Wed, Thu, Sun, Closed...                      1\n",
       "Mon,12noon – 1am                                   1\n",
       "Mon,Sat,6am – 4pm                                  1\n",
       "Mon,12noon – 9:30pm                                1\n",
       "Mon,11:30am – 8:30pm                               1\n",
       "Mon,Thu,12midnight – 1am, 4pm...                   1\n",
       "Mon,Sat,12noon – 5pm, 7pm – 1am...                 1\n",
       "Mon,Sat,8am – 3am                                  1\n",
       "Mon,Fri,12noon – 4pm, 7pm –...                     1\n",
       "Mon,Sat,1pm – 10pm                                 1\n",
       "Mon,Sat,6:30am...                                  1\n",
       "Mon,Fri,12:30pm – 11pm...                          1\n",
       "Mon,Fri,10am – 12midnight...                       1\n",
       "Mon, Tue, Sun, 10:30pm – 1:30am                    1\n",
       "Mon,Fri,10:30am – 11:30pm...                       1\n",
       "Mon,Tue,6:30pm – 11pm                              1\n",
       "Mon,Sat,12noon – 5am                               1\n",
       "Mon, Tue, Wed, Thu, Sun, 7pm – 3am...              1\n",
       "Mon,12:5pm – 11:55pm...                            1\n",
       "Mon,Fri,12noon – 12:30AM...                        1\n",
       "Mon, Tue, Thu, Sun, 12midnight –...                1\n",
       "Mon, Tue, Thu, Fri, 7am –...                       1\n",
       "Mon,Fri,11am – 2am                                 1\n",
       "Mon,12noon – 3pm, 6pm – 1am...                     1\n",
       "Mon,12:30pm – 4:30pm, 7:30pm – 10:30pm...          1\n",
       "Mon,Tue,10am – 4pm...                              1\n",
       "Mon,4:30pm – 11pm                                  1\n",
       "Mon, Tue, Wed, Thu, Fri, Sun, 8am –...             1\n",
       "Mon,11am – 3:30pm, 6:30pm –...                     1\n",
       "Mon,Fri,11am – 9pm                                 1\n",
       "Mon,7:30am – 11:45pm...                            1\n",
       "Mon,Sat,7am – 11am                                 1\n",
       "Mon, Thu, Sat, 12:31pm –...                        1\n",
       "Mon,10am – 9pm                                     1\n",
       "Mon, Wed, Thu, Fri, Sat, Sun, 6pm –...             1\n",
       "Mon,Tue,10pm – 4am                                 1\n",
       "Mon,Fri,7am – 1am                                  1\n",
       "Mon,Fri,7:30am – 11:30pm                           1\n",
       "Mon,Thu,4pm – 1am                                  1\n",
       "Mon, Tue, Wed, Fri, Sat, Sun, 10am...              1\n",
       "Mon,Tue,12noon – 11:45pm...                        1\n",
       "Mon,12noon – 10:30pm...                            1\n",
       "Mon,Sat,4:30pm – 12midnight...                     1\n",
       "Mon, Fri, 9:30am – 8pm                             1\n",
       "Mon,Sat,10:30am – 12:30pm                          1\n",
       "Mon, Tue, Wed, Thu, Sun, 12:1pm...                 1\n",
       "Mon,10am – 1pm                                     1\n",
       "Mon,Thu,12noon – 2:30am                            1\n",
       "Mon, Tue, Wed, Thu, Sun, 8:30am...                 1\n",
       "Mon, Fri, Sat, Sun, Closed...                      1\n",
       "Mon, Tue, Wed, Fri, Closed...                      1\n",
       "Mon, Tue, Fri, Sat, Sun, 11:15am...                1\n",
       "Mon,Sat,10am – 10pm                                1\n",
       "Mon,11am – 3pm, 6:30pm –...                        1\n",
       "Mon, Thu, 11:30am – 4:30pm, 6:30pm –...            1\n",
       "Mon,Fri,8am – 11:30pm                              1\n",
       "Mon,Thu,11:30am – 11pm...                          1\n",
       "Mon,Thu,11am – 4am                                 1\n",
       "Mon, Tue, Wed, Fri, Sat...                         1\n",
       "Mon,10:30am – 8:30pm                               1\n",
       "Mon,7:30am –...                                    1\n",
       "Mon,Fri,7:45am – 10:30am...                        1\n",
       "Mon,Sat,9:30am – 11pm                              1\n",
       "Mon,8am – 8pm                                      1\n",
       "Mon, Tue, Fri, Sat, Sun, 1pm –...                  1\n",
       "Mon, Sat, 3pm – 11:30pm...                         1\n",
       "Mon,Fri,9am – 3pm                                  1\n",
       "Mon,12noon – 3:30pm, 7pm – 10:45pm...              1\n",
       "Mon, Tue, Wed, Thu, Sun, 1pm...                    1\n",
       "Mon, Tue, Thu, 11:30am –...                        1\n",
       "Mon,Fri,11am – 12midnight...                       1\n",
       "Mon,Thu,10am – 10pm                                1\n",
       "Mon,Fri,12noon – 3:30pm, 7pm –...                  1\n",
       "Mon,Thu,5pm – 11pm                                 1\n",
       "Mon,Thu,11:30am – 3am                              1\n",
       "Mon,11am – 4pm, 6pm – 11pm...                      1\n",
       "Mon,Fri,10am – 10pm                                1\n",
       "Mon, Wed, Thu, Fri, Sat, Sun, 6:30am –...          1\n",
       "Mon,7am – 12noon, 4:30pm – 8pm                     1\n",
       "Mon,Sat,12:30pm – 12midnight...                    1\n",
       "Mon,11:30am – 10:15pm                              1\n",
       "Mon, Wed, 12noon – 11pm...                         1\n",
       "Mon,Fri,12:30pm – 3:30pm, 8pm –...                 1\n",
       "Mon,10:30am – 7:30pm...                            1\n",
       "Mon, Wed, Thu, Sat, 6:30am – 9am                   1\n",
       "Mon,Sat,8am – 1pm                                  1\n",
       "Mon,12noon – 3pm, 7pm – 10pm                       1\n",
       "Mon,11:30am – 3:30pm, 6:30pm – 10pm...             1\n",
       "Mon,Tue,12noon...                                  1\n",
       "Mon,10:30am – 4pm, 6pm – 10pm...                   1\n",
       "Mon,Fri,8am – 10:30am, 12noon...                   1\n",
       "Mon,Tue,11am – 11:30pm...                          1\n",
       "Mon,11am – 3pm...                                  1\n",
       "Mon,9:30am – 4pm, 6pm – 10:45pm...                 1\n",
       "Mon,Fri,11:30am –...                               1\n",
       "Mon,Thu,8:30am – 1am                               1\n",
       "Mon,Sat,2:29pm – 10:30pm                           1\n",
       "Mon,Tue,6:30am –...                                1\n",
       "Mon,Wed,11am – 1am                                 1\n",
       "Mon,12:30pm – 3pm, 7pm – 10pm                      1\n",
       "Mon,Sat,12:30pm – 1:30am                           1\n",
       "Mon,Fri,7:45am – 11:30pm...                        1\n",
       "Mon,Fri,9am –...                                   1\n",
       "Mon, Tue, Wed, Thu, Sun, 10am...                   1\n",
       "Mon,8am – 9pm                                      1\n",
       "Mon,Thu,10am – 12midnight                          1\n",
       "Mon,Fri,9am – 12midnight                           1\n",
       "Mon,Sat,9:29am – 11:30pm                           1\n",
       "Mon, Tue, Wed, Thu, Sun, 5pm –...                  1\n",
       "Mon,7am – 2:30pm, 4pm – 10:30pm                    1\n",
       "Mon, Tue, Wed, Thu, Sun, 8am – 1am...              1\n",
       "Mon,8:30am – 10pm                                  1\n",
       "Mon, Tue, Thu, Sun, 12noon...                      1\n",
       "Mon,6:30am – 11am, 12:30pm – 9pm                   1\n",
       "Mon,Sat,8am – 12midnight...                        1\n",
       "Mon,9am – 1am                                      1\n",
       "Mon,Fri,11am – 5pm, 7pm – 1am...                   1\n",
       "Mon,Thu,11am – 11:30pm...                          1\n",
       "Mon, Sun, 11am – 12:15AM                           1\n",
       "Mon,Thu,10am – 12:30AM                             1\n",
       "Mon,12:30pm – 9:30pm                               1\n",
       "Mon, Sun, 12:30pm – 11:30pm...                     1\n",
       "Mon,12:5pm – 11pm                                  1\n",
       "Mon,Thu,7am –...                                   1\n",
       "Mon, Wed, 12midnight – 9pm...                      1\n",
       "Mon,11am – 4pm, 6pm – 10:30pm                      1\n",
       "Mon,12:30pm – 4pm                                  1\n",
       "Mon,12noon – 4:30pm, 6:30pm – 10:30pm...           1\n",
       "Mon,Tue,11:30am – 1am...                           1\n",
       "Mon,Thu,9:30am – 11:52pm...                        1\n",
       "Mon, Tue, Thu, Fri, Sat, Sun, 12noon...            1\n",
       "Mon, Tue, Wed, Thu, Sat, Sun, Closed...            1\n",
       "Mon, Tue, Thu, Sun, 12noon –...                    1\n",
       "Mon,Fri,12:30pm – 2:30pm, 7pm...                   1\n",
       "Mon,6pm – 11pm                                     1\n",
       "Mon, Tue, Wed, Fri, Sat, Sun, 9am –...             1\n",
       "Mon,8pm – 11:45pm                                  1\n",
       "Mon,8:30am – 11pm                                  1\n",
       "Mon,Sat,8am – 11:30pm                              1\n",
       "Mon,Fri,8:30am – 3am...                            1\n",
       "Mon,Fri,8am – 10:30pm                              1\n",
       "Mon,12noon – 3pm, 7:30pm – 10:30pm...              1\n",
       "Mon,4pm – 10pm                                     1\n",
       "Mon,Sat,10am – 12noon                              1\n",
       "Mon,Fri,12noon – 1:30am                            1\n",
       "Mon,11am – 4pm, 7pm – 10:45pm...                   1\n",
       "Mon,Fri,6:30am – 10:30am...                        1\n",
       "Mon,Fri,12noon – 10pm                              1\n",
       "Mon,Sat,3pm – 10pm                                 1\n",
       "Mon, Wed, Thu, Fri, Sun, Closed...                 1\n",
       "Mon,Sat,9am – 8pm                                  1\n",
       "Mon,12noon – 4pm, 6pm – 10:30pm...                 1\n",
       "Mon, Tue, Thu, Fri, Closed...                      1\n",
       "Mon,12noon – 3pm, 6pm – 10pm                       1\n",
       "Mon,Thu,12noon – 11:30pm...                        1\n",
       "Mon,Fri,10:30am – 11pm                             1\n",
       "Mon,Sat,8am – 12midnight                           1\n",
       "Mon, Tue, Thu, Fri, Sat, 11:30am...                1\n",
       "Mon,Fri,12:30pm – 1am                              1\n",
       "Mon,12:30pm – 6pm                                  1\n",
       "Mon, Tue, Thu, Sun, 7pm – 3am                      1\n",
       "Mon,Tue,12noon – 11:30pm                           1\n",
       "Mon,6am – 2am                                      1\n",
       "Mon,Thu,10am – 1am                                 1\n",
       "Mon,Thu,7am – 11:30pm                              1\n",
       "Mon,Sat,8am – 3pm, 5pm – 9pm                       1\n",
       "Mon, Wed, 12midnight – 2am...                      1\n",
       "Mon, Tue, Wed, Thu, Fri, Sun, 4pm...               1\n",
       "Mon,Sat,11:30am...                                 1\n",
       "Mon,Sat,10am – 12midnight                          1\n",
       "Mon, Tue, Wed, Thu, Sun, 10am –...                 1\n",
       "Mon, Thu, Fri, Sat, Sun, 9am –...                  1\n",
       "Mon,1:30pm – 1am                                   1\n",
       "Mon, Tue, Wed, Sat, Sun, 2pm – 11pm...             1\n",
       "Mon,8am – 4pm, 6pm – 11pm                          1\n",
       "Mon,10am – 10:30pm                                 1\n",
       "Mon,Sat,12:30pm – 1am                              1\n",
       "Mon, Wed, Thu, 11:3am –...                         1\n",
       "Mon,Fri,12noon – 12midnight                        1\n",
       "Mon,Sat,6pm – 11pm                                 1\n",
       "Mon, Tue, Sat, Sun, 11am –...                      1\n",
       "Mon,Wed,7pm – 4am                                  1\n",
       "Mon,Fri,7am – 11:30pm                              1\n",
       "Mon,Fri,10am – 10:30pm...                          1\n",
       "Mon,Thu,7pm – 11pm                                 1\n",
       "Mon,Thu,10am – 12:30AM...                          1\n",
       "Mon,Sat,6am – 5pm                                  1\n",
       "Mon,Sat...                                         1\n",
       "Mon,11:30am – 12midnight...                        1\n",
       "Mon,Sat,11am – 10:30pm                             1\n",
       "Mon, Thu, Fri, 1pm – 9:45pm...                     1\n",
       "Mon,Fri,4pm – 10:30pm                              1\n",
       "Mon, Tue, Wed, Fri, 7:30am –...                    1\n",
       "Mon,Sat,1pm – 12:30AM                              1\n",
       "Mon,Thu,12noon – 6pm, 7pm –...                     1\n",
       "Mon,Fri,12noon – 10:55pm                           1\n",
       "Mon, Tue, Wed, Thu, Sun, 11:30am...                1\n",
       "Mon,11am – 11:55pm                                 1\n",
       "Mon,Tue,12noon – 2:30am                            1\n",
       "Mon,8:30am – 10:45pm                               1\n",
       "Mon,12noon – 3:30pm, 5:30pm – 10:30pm...           1\n",
       "Mon,Fri,1pm – 11pm                                 1\n",
       "Mon,7am – 1:30am                                   1\n",
       "Mon, Tue, Thu, Fri, 11am –...                      1\n",
       "Mon, Sun, 12noon – 11:30pm...                      1\n",
       "Mon,12noon – 4pm, 7pm – 10:30pm                    1\n",
       "Mon,Sat,8am – 3:30pm                               1\n",
       "Mon,Sat,11am – 12midnight...                       1\n",
       "Mon, Tue, Wed, Thu, Sun, 10pm – 1am...             1\n",
       "Mon,12:30pm –...                                   1\n",
       "Mon, Thu, 12noon – 12:30AM...                      1\n",
       "Mon,Fri,10am – 4pm...                              1\n",
       "Mon,12:30pm – 10:30pm                              1\n",
       "Mon, Tue, Wed, Thu, Sun, 4pm...                    1\n",
       "Mon,Fri,1pm – 12:30AM                              1\n",
       "Mon,Sat,8:30am – 1am                               1\n",
       "Mon,Thu,11am – 10:30pm                             1\n",
       "Mon,6pm – 1:30am                                   1\n",
       "Mon, Wed, Thu, Sun, 11am – 11pm...                 1\n",
       "Mon,Sat,5:30pm – 11:30pm                           1\n",
       "Mon,8am – 11:30am, 6:30pm – 11:30pm...             1\n",
       "Mon, Tue, Wed, Fri, Sat, Sun, 5pm...               1\n",
       "Mon,Tue,11am – 4am                                 1\n",
       "Mon,1:37am – 1:38am...                             1\n",
       "Mon,Tue,12:30pm – 1am...                           1\n",
       "Mon,Thu,10am – 11:30pm...                          1\n",
       "Mon,Thu,11am – 4pm...                              1\n",
       "Mon,Thu,7pm – 12:30AM                              1\n",
       "Mon,Sat,10am – 11:30pm                             1\n",
       "Mon,Fri,9:30am – 10:30pm...                        1\n",
       "Mon,9:30am – 11:45pm                               1\n",
       "Mon,10:30am – 4:30pm, 6:30pm – 10:30pm...          1\n",
       "Mon,Sat,6am –...                                   1\n",
       "Mon,12noon – 3pm, 6pm –...                         1\n",
       "Mon,Wed,9am – 10:33pm...                           1\n",
       "Mon,Thu,11am – 12:30AM                             1\n",
       "Mon,12:30pm – 4pm...                               1\n",
       "Mon,9:30am – 12midnight...                         1\n",
       "Mon, Tue, Sun, 10:30am – 3am                       1\n",
       "Mon, Tue, Fri, Sat, Sun, 6pm – 11pm...             1\n",
       "Mon,Sat,12:30pm – 3:30pm, 7pm...                   1\n",
       "Mon,9:30am – 9:30pm                                1\n",
       "Mon, Tue, Fri...                                   1\n",
       "Mon,Fri,12midnight – 2am...                        1\n",
       "Mon,11:30am – 4:30pm, 6:30pm – 11:30pm...          1\n",
       "Mon,Wed,10am – 11:30pm                             1\n",
       "Mon, Wed, Thu, Closed...                           1\n",
       "Mon, Thu, Fri, Sat, Sun, 9am...                    1\n",
       "Mon,Thu,12:30pm – 12midnight...                    1\n",
       "Mon,Thu,1pm – 12midnight                           1\n",
       "Mon,24 Hours                                       1\n",
       "Mon,Thu,10:30am – 12:30AM...                       1\n",
       "Mon, Tue, Wed, Thu, Sun, 5pm...                    1\n",
       "Mon,Thu,7:30pm – 11pm                              1\n",
       "Mon,12:30AM – 10:30am                              1\n",
       "Mon,Wed,8:30am – 12midnight...                     1\n",
       "Mon,11:45am – 3:30pm, 6:30pm –...                  1\n",
       "Mon,Fri,12noon – 2:45pm, 7pm –...                  1\n",
       "Mon,7:30am – 1am                                   1\n",
       "Mon,12noon – 4pm, 7pm – 10pm...                    1\n",
       "Mon,9am – 1:30am                                   1\n",
       "Mon,Sat,12:15pm – 11:45pm                          1\n",
       "Mon, Tue, Wed, Thu, Sun, 3pm...                    1\n",
       "Mon,1pm – 4pm, 7:30pm – 3am...                     1\n",
       "Mon,Fri,12noon – 11pm...                           1\n",
       "Mon,8am – 12midnight...                            1\n",
       "Mon,1:30pm – 10:30pm                               1\n",
       "Mon, Wed, Thu, Fri, Sat, Sun, 8am –...             1\n",
       "Mon,7:30pm – 12midnight                            1\n",
       "Mon, Fri, Sat, Sun, 11am – 3am...                  1\n",
       "Mon,Thu,12midnight – 1am, 11am –...                1\n",
       "Mon,8am – 1am                                      1\n",
       "Mon,12:30pm...                                     1\n",
       "Mon,Wed,11:30am –...                               1\n",
       "Mon, Tue, Wed, Thu, Sun, 7am...                    1\n",
       "Mon,Sat,1:30pm – 10:30pm                           1\n",
       "Mon,Fri,8:30am – 1am                               1\n",
       "Mon,Sat,12noon – 2:45am                            1\n",
       "Mon,Tue,4pm – 11:30pm                              1\n",
       "Mon,Wed,7am – 11:55pm                              1\n",
       "Mon,Sat,7am –...                                   1\n",
       "Mon,Fri,10:30am – 1:30am                           1\n",
       "Mon,Fri,9am – 9pm                                  1\n",
       "Mon,Fri,8am – 12midnight...                        1\n",
       "Mon, Wed, Thu, Fri, Closed                         1\n",
       "Mon,Tue,8pm – 11:40pm...                           1\n",
       "Mon,Sat,11:30am –...                               1\n",
       "Mon,Sat,11am – 12midnight                          1\n",
       "Mon, Wed, Thu, Closed                              1\n",
       "Mon,Thu,12:30pm – 11pm...                          1\n",
       "Mon,11:30am – 3:30pm, 4pm – 10:30pm...             1\n",
       "Mon,Sat,7am – 1am                                  1\n",
       "Mon,Thu,12noon – 4pm, 6pm –...                     1\n",
       "Mon,Sat,7am – 12:30pm                              1\n",
       "Mon,Fri,9am...                                     1\n",
       "Mon, Tue, Thu, Fri, Sat, Closed...                 1\n",
       "Mon,Fri,11am – 1:30am                              1\n",
       "Mon,Fri,8:45am – 11:30pm                           1\n",
       "Mon,12noon – 2am                                   1\n",
       "Mon,Fri,5pm – 10:30pm                              1\n",
       "Mon, Thu, 12:30pm – 12midnight                     1\n",
       "Mon, Sat, 6am – 3:30pm, 7pm – 11pm...              1\n",
       "Mon,Sat,11am – 11:45pm                             1\n",
       "Mon,Sat,8am – 3:30pm...                            1\n",
       "Mon,1pm – 12midnight                               1\n",
       "Mon,Fri,12:30pm – 11:30pm                          1\n",
       "Mon, Wed, Fri, 12noon – 11:1pm...                  1\n",
       "Mon,Tue,12noon – 3am                               1\n",
       "Mon, Tue, Wed, Thu, Sat, Sun, 7am –...             1\n",
       "Mon,Thu,12:30pm –...                               1\n",
       "Mon,Thu,4pm – 11:30pm...                           1\n",
       "Mon, Wed, Thu, Fri, Sat, Sun, 1pm...               1\n",
       "Mon,11:30am – 3:30pm, 6:30pm – 11:30pm...          1\n",
       "Mon,Thu,12:30pm...                                 1\n",
       "Mon,8am – 12midnight                               1\n",
       "Mon, Wed, Fri, Sat, Sun...                         1\n",
       "Mon,8:30am – 8:30pm                                1\n",
       "Mon,Sat,2:30pm – 10:30pm                           1\n",
       "Mon, Tue, Wed, Sun...                              1\n",
       "Mon,7pm – 7am                                      1\n",
       "Mon,6pm – 1am                                      1\n",
       "Mon, Tue, Wed, Thu, Sun, 7:30pm...                 1\n",
       "Mon, Tue, Wed, Sat...                              1\n",
       "Mon,Fri,8am – 11:30am, 5pm –...                    1\n",
       "Mon,12noon – 4pm, 7pm – 12midnight...              1\n",
       "Mon, Tue, Wed, Thu, Sat, Sun, 2:30pm –...          1\n",
       "Mon, Tue, Thu, Sun, 12midnight...                  1\n",
       "Mon, Tue, Thu, Fri, Sat, 9:15am...                 1\n",
       "Mon,8am – 10pm                                     1\n",
       "Mon,Sat,12:30pm – 2:45pm, 7pm...                   1\n",
       "Mon,11am – 7pm                                     1\n",
       "Name: days, dtype: int64"
      ]
     },
     "execution_count": 158,
     "metadata": {},
     "output_type": "execute_result"
    }
   ],
   "source": [
    "train['days'].value_counts()"
   ]
  },
  {
   "cell_type": "code",
   "execution_count": 112,
   "metadata": {},
   "outputs": [],
   "source": [
    "# most of the shops are open mon to sun, so it does not give us any significant info"
   ]
  },
  {
   "cell_type": "code",
   "execution_count": 113,
   "metadata": {},
   "outputs": [],
   "source": [
    "# we'll drop time"
   ]
  },
  {
   "cell_type": "code",
   "execution_count": 115,
   "metadata": {},
   "outputs": [],
   "source": [
    "# in rating, there are missing values\n",
    "# first convert them to '1000'\n",
    "# then convert the dtype and then impute missing values with median"
   ]
  },
  {
   "cell_type": "code",
   "execution_count": 159,
   "metadata": {},
   "outputs": [
    {
     "data": {
      "text/plain": [
       "3.8"
      ]
     },
     "execution_count": 159,
     "metadata": {},
     "output_type": "execute_result"
    }
   ],
   "source": [
    "train['RATING']=train['RATING'].replace(np.NaN,'1000').str.replace('NEW','0').str.replace('-','1000')\n",
    "train['RATING']=train['RATING'].astype(np.float64)\n",
    "train['RATING'].median()"
   ]
  },
  {
   "cell_type": "code",
   "execution_count": 160,
   "metadata": {},
   "outputs": [],
   "source": [
    "train['RATING']=train['RATING'].replace(1000.0,3.8)"
   ]
  },
  {
   "cell_type": "code",
   "execution_count": null,
   "metadata": {},
   "outputs": [],
   "source": []
  },
  {
   "cell_type": "code",
   "execution_count": 126,
   "metadata": {},
   "outputs": [],
   "source": [
    "# binning required,\n",
    "# make a class of 2.5 and below together"
   ]
  },
  {
   "cell_type": "code",
   "execution_count": 161,
   "metadata": {},
   "outputs": [],
   "source": [
    "test['RATING']=test['RATING'].replace(np.NaN,'1000').str.replace('NEW','0').str.replace('-','1000')\n",
    "test['RATING']=test['RATING'].astype(np.float64)\n",
    "test['RATING']=test['RATING'].replace(1000.0,3.8)"
   ]
  },
  {
   "cell_type": "code",
   "execution_count": 162,
   "metadata": {},
   "outputs": [],
   "source": [
    "# lets apply binning\n",
    "for i in range(len(train)):\n",
    "    if train['RATING'].iloc[i]<=2.5:\n",
    "        train['RATING'].iloc[i]=2.0"
   ]
  },
  {
   "cell_type": "code",
   "execution_count": 130,
   "metadata": {},
   "outputs": [],
   "source": [
    "# train['RATING'].value_counts()"
   ]
  },
  {
   "cell_type": "code",
   "execution_count": 163,
   "metadata": {},
   "outputs": [],
   "source": [
    "for i in range(len(test)):\n",
    "    if test['RATING'].iloc[i]<=2.5:\n",
    "        test['RATING'].iloc[i]=2.0"
   ]
  },
  {
   "cell_type": "code",
   "execution_count": 170,
   "metadata": {},
   "outputs": [],
   "source": [
    "train['VOTES']=train['VOTES'].str.split(' ').str[0]\n",
    "train['VOTES']=train['VOTES'].astype(np.float64)"
   ]
  },
  {
   "cell_type": "code",
   "execution_count": 166,
   "metadata": {},
   "outputs": [],
   "source": [
    "test['VOTES']=test['VOTES'].str.split(' ').str[0]"
   ]
  },
  {
   "cell_type": "code",
   "execution_count": 168,
   "metadata": {},
   "outputs": [],
   "source": [
    "test['VOTES']=test['VOTES'].astype(np.float64)"
   ]
  },
  {
   "cell_type": "code",
   "execution_count": 172,
   "metadata": {},
   "outputs": [],
   "source": [
    "# train['VOTES'].value_counts()"
   ]
  },
  {
   "cell_type": "code",
   "execution_count": 173,
   "metadata": {},
   "outputs": [
    {
     "data": {
      "text/plain": [
       "TITLE             object\n",
       "RESTAURANT_ID      int64\n",
       "CUISINES          object\n",
       "TIME              object\n",
       "CITY              object\n",
       "LOCALITY          object\n",
       "RATING           float64\n",
       "VOTES            float64\n",
       "COST               int64\n",
       "TITLE_1           object\n",
       "TITLE_2           object\n",
       "Cuisine_1         object\n",
       "Cuisine_2         object\n",
       "Cuisine_3         object\n",
       "Cuisine_4         object\n",
       "Cuisine_5         object\n",
       "Cuisine_6         object\n",
       "Cuisine_7         object\n",
       "Cuisine_8         object\n",
       "days              object\n",
       "dtype: object"
      ]
     },
     "execution_count": 173,
     "metadata": {},
     "output_type": "execute_result"
    }
   ],
   "source": [
    "train.dtypes"
   ]
  },
  {
   "cell_type": "code",
   "execution_count": 174,
   "metadata": {},
   "outputs": [
    {
     "data": {
      "text/plain": [
       "TITLE             object\n",
       "RESTAURANT_ID      int64\n",
       "CUISINES          object\n",
       "TIME              object\n",
       "CITY              object\n",
       "LOCALITY          object\n",
       "RATING           float64\n",
       "VOTES            float64\n",
       "TITLE_1           object\n",
       "TITLE_2           object\n",
       "Cuisine_1         object\n",
       "Cuisine_2         object\n",
       "Cuisine_3         object\n",
       "Cuisine_4         object\n",
       "Cuisine_5         object\n",
       "Cuisine_6         object\n",
       "Cuisine_7         object\n",
       "Cuisine_8         object\n",
       "dtype: object"
      ]
     },
     "execution_count": 174,
     "metadata": {},
     "output_type": "execute_result"
    }
   ],
   "source": [
    "test.dtypes"
   ]
  },
  {
   "cell_type": "code",
   "execution_count": 175,
   "metadata": {},
   "outputs": [],
   "source": [
    "train.drop(['TITLE','CUISINES','TIME','days'],axis=1,inplace=True)"
   ]
  },
  {
   "cell_type": "code",
   "execution_count": 176,
   "metadata": {},
   "outputs": [],
   "source": [
    "test.drop(['TITLE','CUISINES','TIME'],axis=1,inplace=True)"
   ]
  },
  {
   "cell_type": "code",
   "execution_count": 177,
   "metadata": {},
   "outputs": [
    {
     "data": {
      "text/plain": [
       "RESTAURANT_ID      int64\n",
       "CITY              object\n",
       "LOCALITY          object\n",
       "RATING           float64\n",
       "VOTES            float64\n",
       "COST               int64\n",
       "TITLE_1           object\n",
       "TITLE_2           object\n",
       "Cuisine_1         object\n",
       "Cuisine_2         object\n",
       "Cuisine_3         object\n",
       "Cuisine_4         object\n",
       "Cuisine_5         object\n",
       "Cuisine_6         object\n",
       "Cuisine_7         object\n",
       "Cuisine_8         object\n",
       "dtype: object"
      ]
     },
     "execution_count": 177,
     "metadata": {},
     "output_type": "execute_result"
    }
   ],
   "source": [
    "train.dtypes"
   ]
  },
  {
   "cell_type": "code",
   "execution_count": 178,
   "metadata": {},
   "outputs": [],
   "source": [
    "# all dtypes ok"
   ]
  },
  {
   "cell_type": "code",
   "execution_count": 179,
   "metadata": {},
   "outputs": [],
   "source": [
    "# lets create a new column num_branch denoting the number of branches of a rest"
   ]
  },
  {
   "cell_type": "code",
   "execution_count": 186,
   "metadata": {},
   "outputs": [],
   "source": [
    "train['num_branch']=1\n",
    "for i in range(len(train)):\n",
    "    id=train['RESTAURANT_ID'].iloc[i]\n",
    "    count=train['RESTAURANT_ID'].value_counts()[id]\n",
    "    train['num_branch'].iloc[i]=count"
   ]
  },
  {
   "cell_type": "code",
   "execution_count": 187,
   "metadata": {},
   "outputs": [
    {
     "data": {
      "text/plain": [
       "1    11303\n",
       "2      906\n",
       "3      258\n",
       "4      132\n",
       "5       70\n",
       "8        8\n",
       "7        7\n",
       "6        6\n",
       "Name: num_branch, dtype: int64"
      ]
     },
     "execution_count": 187,
     "metadata": {},
     "output_type": "execute_result"
    }
   ],
   "source": [
    "train['num_branch'].value_counts()"
   ]
  },
  {
   "cell_type": "code",
   "execution_count": 188,
   "metadata": {},
   "outputs": [],
   "source": [
    "test['num_branch']=1\n",
    "for i in range(len(test)):\n",
    "    id=test['RESTAURANT_ID'].iloc[i]\n",
    "    count=test['RESTAURANT_ID'].value_counts()[id]\n",
    "    test['num_branch'].iloc[i]=count"
   ]
  },
  {
   "cell_type": "code",
   "execution_count": 189,
   "metadata": {},
   "outputs": [],
   "source": [
    "# engineered all the features as much as possible"
   ]
  },
  {
   "cell_type": "code",
   "execution_count": 190,
   "metadata": {},
   "outputs": [],
   "source": [
    "# now lets treat missing values"
   ]
  },
  {
   "cell_type": "code",
   "execution_count": 195,
   "metadata": {},
   "outputs": [],
   "source": [
    "# train.dtypes"
   ]
  },
  {
   "cell_type": "code",
   "execution_count": 197,
   "metadata": {},
   "outputs": [],
   "source": [
    "# test.dtypes"
   ]
  },
  {
   "cell_type": "code",
   "execution_count": 191,
   "metadata": {},
   "outputs": [
    {
     "data": {
      "text/plain": [
       "Index(['RESTAURANT_ID', 'CITY', 'LOCALITY', 'RATING', 'VOTES', 'COST', 'TITLE_1', 'TITLE_2', 'Cuisine_1', 'Cuisine_2', 'Cuisine_3', 'Cuisine_4', 'Cuisine_5', 'Cuisine_6', 'Cuisine_7', 'Cuisine_8', 'num_branch'], dtype='object')"
      ]
     },
     "execution_count": 191,
     "metadata": {},
     "output_type": "execute_result"
    }
   ],
   "source": [
    "train.columns"
   ]
  },
  {
   "cell_type": "code",
   "execution_count": 192,
   "metadata": {},
   "outputs": [
    {
     "data": {
      "text/plain": [
       "Index(['RESTAURANT_ID', 'CITY', 'LOCALITY', 'RATING', 'VOTES', 'TITLE_1', 'TITLE_2', 'Cuisine_1', 'Cuisine_2', 'Cuisine_3', 'Cuisine_4', 'Cuisine_5', 'Cuisine_6', 'Cuisine_7', 'Cuisine_8', 'num_branch'], dtype='object')"
      ]
     },
     "execution_count": 192,
     "metadata": {},
     "output_type": "execute_result"
    }
   ],
   "source": [
    "test.columns"
   ]
  },
  {
   "cell_type": "code",
   "execution_count": 198,
   "metadata": {},
   "outputs": [
    {
     "data": {
      "text/plain": [
       "RESTAURANT_ID        0\n",
       "CITY               112\n",
       "LOCALITY            98\n",
       "RATING               0\n",
       "VOTES             1204\n",
       "COST                 0\n",
       "TITLE_1              0\n",
       "TITLE_2          11208\n",
       "Cuisine_1            0\n",
       "Cuisine_2         3062\n",
       "Cuisine_3         6999\n",
       "Cuisine_4         9995\n",
       "Cuisine_5        11675\n",
       "Cuisine_6        12276\n",
       "Cuisine_7        12514\n",
       "Cuisine_8        12613\n",
       "num_branch           0\n",
       "dtype: int64"
      ]
     },
     "execution_count": 198,
     "metadata": {},
     "output_type": "execute_result"
    }
   ],
   "source": [
    "train.isnull().sum()"
   ]
  },
  {
   "cell_type": "code",
   "execution_count": 204,
   "metadata": {},
   "outputs": [],
   "source": [
    "train['CITY']=train['CITY'].replace(np.NaN,'Other')"
   ]
  },
  {
   "cell_type": "code",
   "execution_count": 206,
   "metadata": {},
   "outputs": [],
   "source": [
    "# train['CITY'].value_counts(dropna=False)"
   ]
  },
  {
   "cell_type": "code",
   "execution_count": 207,
   "metadata": {},
   "outputs": [],
   "source": [
    "# lets apply binning"
   ]
  },
  {
   "cell_type": "code",
   "execution_count": 208,
   "metadata": {},
   "outputs": [],
   "source": [
    "for i in range(len(train)):\n",
    "    id=train['CITY'].iloc[i]\n",
    "    count=train['CITY'].value_counts()[id]\n",
    "    if count < 50:\n",
    "        train['CITY'].iloc[i]='Other'"
   ]
  },
  {
   "cell_type": "code",
   "execution_count": 209,
   "metadata": {},
   "outputs": [
    {
     "data": {
      "text/plain": [
       "Chennai         2174\n",
       "Bangalore       2149\n",
       "Hyderabad       1819\n",
       "Mumbai          1722\n",
       "New Delhi       1321\n",
       "Kochi           1279\n",
       "Other            762\n",
       "Gurgaon          379\n",
       "Secunderabad     310\n",
       "Noida            211\n",
       "Navi Mumbai      165\n",
       "Ghaziabad        102\n",
       "Thane             97\n",
       "Faridabad         79\n",
       "Bandra West       69\n",
       "Thane West        52\n",
       "Name: CITY, dtype: int64"
      ]
     },
     "execution_count": 209,
     "metadata": {},
     "output_type": "execute_result"
    }
   ],
   "source": [
    "train['CITY'].value_counts()"
   ]
  },
  {
   "cell_type": "code",
   "execution_count": 210,
   "metadata": {},
   "outputs": [],
   "source": [
    "test['CITY']=test['CITY'].replace(np.NaN,'Other')\n",
    "for i in range(len(test)):\n",
    "    id=test['CITY'].iloc[i]\n",
    "    count=test['CITY'].value_counts()[id]\n",
    "    if count < 50:\n",
    "        test['CITY'].iloc[i]='Other'"
   ]
  },
  {
   "cell_type": "code",
   "execution_count": 213,
   "metadata": {},
   "outputs": [
    {
     "data": {
      "text/plain": [
       "Gachibowli                      166\n",
       "Indiranagar                     138\n",
       "Edappally                       122\n",
       "Kakkanad                        121\n",
       "HSR                             120\n",
       "Madhapur                        117\n",
       "Kukatpally                      117\n",
       "Marathahalli                    116\n",
       "Banjara Hills                   113\n",
       "Jubilee Hills                   113\n",
       "Whitefield                      111\n",
       "Fort Kochi                      103\n",
       "BTM                              99\n",
       "NaN                              98\n",
       "Jayanagar                        96\n",
       "Nungambakkam                     93\n",
       "MG Road                          92\n",
       "T. Nagar                         92\n",
       "Kaloor                           91\n",
       "Andheri West                     89\n",
       "Kondapur                         87\n",
       "JP Nagar                         84\n",
       "Borivali West                    79\n",
       "Anna Nagar East                  79\n",
       "Koramangala 5th Block            77\n",
       "Connaught Place                  76\n",
       "Electronic City                  75\n",
       "Thane West                       74\n",
       "Velachery                        71\n",
       "Malad West                       65\n",
       "Lower Parel                      64\n",
       "Hitech City                      61\n",
       "Mira Road                        61\n",
       "Vyttila                          59\n",
       "Rohini                           58\n",
       "Adyar                            57\n",
       "Bandra West                      56\n",
       "Powai                            56\n",
       "Anna Nagar West                  55\n",
       "Juhu                             53\n",
       "Kilpauk                          51\n",
       "Palarivattom                     51\n",
       "Porur                            50\n",
       "Chembur                          50\n",
       "Marine Drive                     49\n",
       "Alwarpet                         49\n",
       "Panampilly Nagar                 48\n",
       "Uppal                            47\n",
       "Mulund West                      46\n",
       "Ramapuram                        46\n",
       "Begumpet                         45\n",
       "Perungudi                        45\n",
       "Besant Nagar                     44\n",
       "Indirapuram                      44\n",
       "Pallimukku                       44\n",
       "Egmore                           44\n",
       "Kandivali West                   43\n",
       "Mylapore                         43\n",
       "Bannerghatta Road                42\n",
       "New BEL Road                     41\n",
       "Vile Parle East                  40\n",
       "Kalyan Nagar                     40\n",
       "Bellandur                        40\n",
       "Navallur                         40\n",
       "Ameerpet                         39\n",
       "Thuraipakkam                     39\n",
       "Colaba                           39\n",
       "Sarjapur Road                    39\n",
       "Dilsukhnagar                     39\n",
       "Manikonda                        38\n",
       "Kacheripady                      38\n",
       "Fort                             38\n",
       "Malleshwaram                     37\n",
       "Aluva                            37\n",
       "Royapettah                       37\n",
       "Marad                            37\n",
       "DLF Phase 4                      36\n",
       "Vijay Nagar                      36\n",
       "Himayath Nagar                   36\n",
       "Vadapalani                       36\n",
       "Mogappair                        35\n",
       "Sector 29                        35\n",
       "Goregaon East                    34\n",
       "Mattancherry                     34\n",
       "Chakala                          34\n",
       "Khar                             34\n",
       "Sainikpuri                       34\n",
       "Sholinganallur                   34\n",
       "Tolichowki                       34\n",
       "Kadavanthra                      33\n",
       "Dwarka                           33\n",
       "Vashi                            33\n",
       "Delhi University-GTB Nagar       33\n",
       "Banashankari                     33\n",
       "DLF Phase 3                      33\n",
       "GST Road                         32\n",
       "Kodambakkam                      32\n",
       "Rajouri Garden                   32\n",
       "Elamkulam                        32\n",
       "Marol                            31\n",
       "Ambattur                         31\n",
       "Mehdipatnam                      31\n",
       "Basavanagudi                     31\n",
       "Rajarajeshwari Nagar             31\n",
       "Sector 50                        31\n",
       "Abids                            31\n",
       "Medavakkam                       31\n",
       "Brookefield                      30\n",
       "Kalamassery                      30\n",
       "Pitampura                        30\n",
       "Golf Course Road                 30\n",
       "Lingampally                      30\n",
       "Tripunithura                     29\n",
       "Sector 18                        29\n",
       "Rajajinagar                      28\n",
       "Tambaram                         28\n",
       "Potheri                          28\n",
       "Kolathur                         28\n",
       "Koramangala 4th Block            28\n",
       "Teynampet                        28\n",
       "Goregaon West                    28\n",
       "Kharghar                         28\n",
       "Kothapet                         28\n",
       "Miyapur                          28\n",
       "Uttam Nagar                      28\n",
       "Bandra Kurla Complex             27\n",
       "Nedumbassery                     27\n",
       "Koramangala 1st Block            27\n",
       "Thopumpady                       27\n",
       "Dombivali East                   27\n",
       "Chromepet                        27\n",
       "Malviya Nagar                    27\n",
       "Saket                            27\n",
       "Thevera                          27\n",
       "Pali Hill                        26\n",
       "Gopalapuram                      26\n",
       "Janakpuri                        26\n",
       "Jalahalli                        26\n",
       "Kammanahalli                     26\n",
       "Saroor Nagar                     26\n",
       "Habsiguda                        26\n",
       "Thiruvanmiyur                    25\n",
       "Paschim Vihar                    25\n",
       "Vasai                            25\n",
       "Purasavakkam                     25\n",
       "Koramangala 6th Block            25\n",
       "Ashok Nagar                      25\n",
       "Mahabalipuram                    24\n",
       "Yelahanka                        24\n",
       "Chittoor Road                    24\n",
       "Mahim                            24\n",
       "Kompally                         24\n",
       "Karapakkam                       24\n",
       "Andheri Lokhandwala              24\n",
       "A S Rao Nagar                    24\n",
       "S R Nagar                        24\n",
       "Chullickal                       24\n",
       "Kandivali East                   23\n",
       "L B Nagar                        23\n",
       "Punjabi Bagh                     23\n",
       "Perambur                         23\n",
       "Frazer Town                      23\n",
       "Banaswadi                        23\n",
       "Matunga East                     23\n",
       "DLF Cyber City                   23\n",
       "Bowenpally                       23\n",
       "Sector 15                        22\n",
       "Vasant Kunj                      22\n",
       "Hennur                           22\n",
       "Guindy                           22\n",
       "Airoli                           22\n",
       "Malakpet                         22\n",
       "Karol Bagh                       22\n",
       "Selaiyur                         22\n",
       "Mahakali                         22\n",
       "S D Road                         21\n",
       "Nagawara                         21\n",
       "Vepery                           21\n",
       "Kamla Nagar                      21\n",
       "Shahdara                         21\n",
       "Church Street                    21\n",
       "Koramangala 7th Block            21\n",
       "Ulsoor                           21\n",
       "Somajiguda                       21\n",
       "Ghatkopar East                   21\n",
       "Worli                            21\n",
       "Nampally                         20\n",
       "Vennala                          20\n",
       "Lavelle Road                     20\n",
       "Kumaraswamy Layout               20\n",
       "Dadar West                       20\n",
       "Valasaravakkam                   20\n",
       "Hyderabad                        20\n",
       "Aminijikarai                     20\n",
       "Film Nagar                       20\n",
       "Chennai                          20\n",
       "RT Nagar                         19\n",
       "Madipakkam                       19\n",
       "Vikaspuri                        19\n",
       "KR Puram                         19\n",
       "Triplicane                       19\n",
       "Bhayandar                        19\n",
       "Old Airport Road                 19\n",
       "Ernakulam                        19\n",
       "Attapur                          19\n",
       "Sion                             18\n",
       "Masab Tank                       18\n",
       "Nizampet                         18\n",
       "Krishna Nagar                    18\n",
       "Residency Road                   18\n",
       "Nerul                            18\n",
       "Greater Kailash (GK) 2           18\n",
       "Vanasthalipuram                  17\n",
       "Linking Road                     17\n",
       "Lakdikapul                       17\n",
       "Brigade Road                     17\n",
       "Vile Parle West                  17\n",
       "Chengalpattu                     17\n",
       "Kochi                            17\n",
       "Moti Nagar                       17\n",
       "Neelangarai                      17\n",
       "Sakinaka                         17\n",
       "Kalkaji                          17\n",
       "Pallavaram                       16\n",
       "Chetpet                          16\n",
       "K.K. Nagar                       16\n",
       "Girgaum                          16\n",
       "ECIL                             16\n",
       "Amberpet                         16\n",
       "Santacruz West                   16\n",
       "Koti                             16\n",
       "Alwal                            16\n",
       "Defence Colony                   16\n",
       "Santacruz East                   16\n",
       "Marredpally                      16\n",
       "NIT                              16\n",
       "Sector 49                        15\n",
       "Dadar Shivaji Park               15\n",
       "Satyaniketan                     15\n",
       "Kacheguda                        15\n",
       "Taramani                         15\n",
       "Chowpatty                        15\n",
       "Sahakara Nagar                   15\n",
       "Aerocity                         15\n",
       "West Mambalam                    15\n",
       "Choolaimedu                      15\n",
       "Poonamalle                       15\n",
       "Near Sector 72                   15\n",
       "Sector 37                        15\n",
       "Virar                            15\n",
       "Sushant Lok                      14\n",
       "Chanakyapuri                     14\n",
       "Sector 62                        14\n",
       "Hebbal                           14\n",
       "Perumbavoor                      14\n",
       "Chanda Nagar                     14\n",
       "RA Puram                         14\n",
       "Sector 31                        14\n",
       "PG Road                          14\n",
       "Pallikaranai                     14\n",
       "4 Bungalows                      14\n",
       "Jeevan Bhima Nagar               14\n",
       "Kaggadasapura                    14\n",
       "Nacharam                         14\n",
       "Jogeshwari                       14\n",
       "CBD-Belapur                      14\n",
       "Panch Pakhadi                    14\n",
       "Near Andheri East Station        13\n",
       "Panjagutta                       13\n",
       "Maduravoyal                      13\n",
       "Khan Market                      13\n",
       "Charni Road                      13\n",
       "Adambakkam                       13\n",
       "Kanakapura Road                  13\n",
       "Seshadripuram                    13\n",
       "Cunningham Road                  13\n",
       "Charminar                        13\n",
       "Nallakunta                       13\n",
       "Basheer Bagh                     13\n",
       "Egatoor                          13\n",
       "Laxmi Nagar                      13\n",
       "Ghatkopar West                   13\n",
       "George Town                      13\n",
       "Tardeo                           12\n",
       "Willingdon Island                12\n",
       "Yeshwantpur                      12\n",
       "Kurla                            12\n",
       "Karkhana                         12\n",
       "Avadi                            12\n",
       "Sector 7                         12\n",
       "Rajinder Nagar                   12\n",
       "Safdarjung                       12\n",
       "Bandra East                      12\n",
       "Old Mahabalipuram Road (OMR)     12\n",
       "Nanganallur                      12\n",
       "Semmancheri                      12\n",
       "Elamakkara                       12\n",
       "South City 2                     12\n",
       "Basaveshwara Nagar               12\n",
       "Vasant Vihar                     12\n",
       "Greater Kailash 1 (GK 1)         11\n",
       "East of Kailash                  11\n",
       "Thousand Lights                  11\n",
       "Jeedimetla                       11\n",
       "Oshiwara                         11\n",
       "M.G. Road                        11\n",
       "Hauz Khas Village                11\n",
       "Old Railway Road                 11\n",
       "Green Park                       11\n",
       "Karkardooma                      11\n",
       "Tilak Nagar                      11\n",
       "Mohammad Ali Road                11\n",
       "Srinagar Colony                  11\n",
       "Malkajgiri                       11\n",
       "Jail Road                        11\n",
       "Ravipuram                        11\n",
       "Greater Kailash (GK) 1           11\n",
       "Majestic                         11\n",
       "Richmond Road                    11\n",
       "Hill Road                        11\n",
       "Borivali East                    11\n",
       "Hafeezpet                        11\n",
       "Naupada                          11\n",
       "Sector 14                        11\n",
       "Nagarbhavi                       11\n",
       "Lajpat Nagar 4                   11\n",
       "Kanchipuram District             11\n",
       "Sector 45                        11\n",
       "Sohna Road                       11\n",
       "Virugambakkam                    11\n",
       "Chittaranjan Park                10\n",
       "Paradise Circle                  10\n",
       "Shanti Nagar                     10\n",
       "CV Raman Nagar                   10\n",
       "Domlur                           10\n",
       "Sowcarpet                        10\n",
       "Sanpada                          10\n",
       "St. Marks Road                   10\n",
       "Parel                            10\n",
       "Tarnaka                          10\n",
       "Crossing Republik                10\n",
       "Veera Desai Area                 10\n",
       "Raj Nagar                        10\n",
       "International Airport            10\n",
       "Medchal Road                     10\n",
       "Kalyan                           10\n",
       "Bommanahalli                     10\n",
       "Ashok Vihar Phase 2              10\n",
       "Netaji Subhash Place             10\n",
       "Koramangala 3rd Block            10\n",
       "Park Town                        10\n",
       "Lajpat Nagar 1                    9\n",
       "Bhandup                           9\n",
       "Nehru Place                       9\n",
       "Chhatarpur                        9\n",
       "Byculla                           9\n",
       "Kopar Khairane                    9\n",
       "Greater Kailash 2 (GK 2)          9\n",
       "Arumbakkam                        9\n",
       "Adikmet                           9\n",
       "Mulund East                       9\n",
       "Sector 16                         9\n",
       "Lajpat Nagar 2                    9\n",
       "Nariman Point                     9\n",
       "Yousufguda                        9\n",
       "Washermenpet                      9\n",
       "New Friends Colony                9\n",
       "Vypin                             9\n",
       "Saidapet                          9\n",
       "St. Thomas Mount                  9\n",
       "Nandanam                          9\n",
       "Mazgaon                           9\n",
       "Royapuram                         8\n",
       "MRC Nagar                         8\n",
       "Vandalur                          8\n",
       "Sector 38                         8\n",
       "Shakarpur                         8\n",
       "Moosapet                          8\n",
       "Azad Nagar                        8\n",
       "Rammurthy Nagar                   8\n",
       "Chandni Chowk                     8\n",
       "Kotturpuram                       8\n",
       "Narayanguda                       8\n",
       "Kottivakkam                       8\n",
       "Mukherjee Nagar                   8\n",
       "Shahpur Jat                       8\n",
       "Ekkaduthangal                     8\n",
       "Sector 63                         8\n",
       "DLF Phase 1                       8\n",
       "Sector 12                         8\n",
       "Ghodbunder Road                   8\n",
       "Race Course Road                  8\n",
       "SDA                               8\n",
       "Janpath                           8\n",
       "Sanjay Nagar                      8\n",
       "Subhash Nagar                     8\n",
       "Hauz Khas                         8\n",
       "Padmarao Nagar                    7\n",
       "Preet Vihar                       7\n",
       "IP Extension                      7\n",
       "Balanagar                         7\n",
       "Dahisar West                      7\n",
       "Sector 22                         7\n",
       "Churchgate                        7\n",
       "Model Town 2                      7\n",
       "Bengaluru                         7\n",
       "Vikhroli                          7\n",
       "Gandipet                          7\n",
       "Saligramam                        7\n",
       "Kanathur                          7\n",
       "Langer Houz                       7\n",
       "Geeta Colony                      7\n",
       "Sector 43                         7\n",
       "Khairatabad                       7\n",
       "Mumbai CST Area                   7\n",
       "Begum Bazaar                      7\n",
       "Sector 26                         7\n",
       "Mayur Vihar Phase 1               7\n",
       "Gaur City 1                       7\n",
       "Versova                           7\n",
       "Angamali                          7\n",
       "Kailash Colony                    7\n",
       "Paharganj                         7\n",
       "Vaishali                          7\n",
       "Kirti Nagar                       7\n",
       "Jama Masjid                       6\n",
       "Palace Road                       6\n",
       "Mysore Road                       6\n",
       "Gamma 1                           6\n",
       "Sainik Farms                      6\n",
       "Mehrauli                          6\n",
       "Mumbai                            6\n",
       "Ashok Vihar Phase 1               6\n",
       "Yusuf Sarai                       6\n",
       "New Delhi                         6\n",
       "Musheerabad                       6\n",
       "Shenoy Nagar                      6\n",
       "Khopat                            6\n",
       "Old Madras Road                   6\n",
       "Pandara Road Market               6\n",
       "Padur                             6\n",
       "Thane                             6\n",
       "Grant Road                        6\n",
       "HSR Layout                        6\n",
       "Lodhi Colony                      6\n",
       "S P Road                          6\n",
       "Adchini                           6\n",
       "Falaknuma                         6\n",
       "Tagore Garden                     6\n",
       "Mira Road East                    6\n",
       "Shamirpet                         6\n",
       "Prashant Vihar                    6\n",
       "City Market                       6\n",
       "Reclamation                       6\n",
       "Kemps Corner                      6\n",
       "Near Andheri West Station         6\n",
       "West Patel Nagar                  6\n",
       "Kamothe                           6\n",
       "Shamshabad                        6\n",
       "Near Sector 110                   6\n",
       "Sahibabad                         6\n",
       "Nagole                            6\n",
       "Necklace Road                     6\n",
       "Nalasopara                        6\n",
       "Thippasandra                      6\n",
       "Gujranwala Town                   6\n",
       "Prabhadevi                        5\n",
       "Sanath Nagar                      5\n",
       "Vasundhara                        5\n",
       "Chandivali                        5\n",
       "Shalimar Bagh                     5\n",
       "Chander Nagar                     5\n",
       "Sector 135                        5\n",
       "Udyog Vihar                       5\n",
       "Trimulgherry                      5\n",
       "Breach Candy                      5\n",
       "Sector 56                         5\n",
       "Amrapali Leisure Valley           5\n",
       "Munirka                           5\n",
       "7 Bungalows                       5\n",
       "Kelambakkam                       5\n",
       "Ulhasnagar                        5\n",
       "Amar Colony                       5\n",
       "Sector 110                        5\n",
       "Khel Gaon Marg                    5\n",
       "Kalbadevi                         5\n",
       "Dadar East                        5\n",
       "Kengeri                           5\n",
       "Greater Kailash 2 (GK2)           5\n",
       "Near Sector 83                    5\n",
       "East Patel Nagar                  5\n",
       "Railway Station Road              5\n",
       "DLF Phase 2                       5\n",
       "Old Rajinder Nagar                5\n",
       "Greater Kailash 1 (GK1)           5\n",
       "Mayur Vihar Phase 2               5\n",
       "Sadashiv Nagar                    5\n",
       "Wilson Garden                     5\n",
       "BTM Layout                        5\n",
       "HBR Layout                        5\n",
       "Name: LOCALITY, dtype: int64"
      ]
     },
     "execution_count": 213,
     "metadata": {},
     "output_type": "execute_result"
    }
   ],
   "source": [
    "train['LOCALITY'].value_counts(dropna=False).head(500)"
   ]
  },
  {
   "cell_type": "code",
   "execution_count": 214,
   "metadata": {},
   "outputs": [],
   "source": [
    "# we'll not apply binning"
   ]
  },
  {
   "cell_type": "code",
   "execution_count": 215,
   "metadata": {},
   "outputs": [],
   "source": [
    "train['LOCALITY']=train['LOCALITY'].replace(np.NaN,'Other')\n",
    "test['LOCALITY']=test['LOCALITY'].replace(np.NaN,'Other')"
   ]
  },
  {
   "cell_type": "code",
   "execution_count": 217,
   "metadata": {},
   "outputs": [
    {
     "data": {
      "text/plain": [
       "NaN       1204\n",
       "44.0        71\n",
       "29.0        66\n",
       "28.0        66\n",
       "38.0        65\n",
       "          ... \n",
       "865.0        1\n",
       "4980.0       1\n",
       "1131.0       1\n",
       "3369.0       1\n",
       "2055.0       1\n",
       "Name: VOTES, Length: 1848, dtype: int64"
      ]
     },
     "execution_count": 217,
     "metadata": {},
     "output_type": "execute_result"
    }
   ],
   "source": [
    "train['VOTES'].value_counts(dropna=False)"
   ]
  },
  {
   "cell_type": "code",
   "execution_count": 218,
   "metadata": {},
   "outputs": [],
   "source": [
    "train['VOTES']=train['VOTES'].replace(np.NaN,-1.0)\n",
    "test['VOTES']=test['VOTES'].replace(np.NaN,-1.0)"
   ]
  },
  {
   "cell_type": "code",
   "execution_count": 219,
   "metadata": {},
   "outputs": [
    {
     "data": {
      "text/plain": [
       "RESTAURANT_ID        0\n",
       "CITY                 0\n",
       "LOCALITY             0\n",
       "RATING               0\n",
       "VOTES                0\n",
       "COST                 0\n",
       "TITLE_1              0\n",
       "TITLE_2          11208\n",
       "Cuisine_1            0\n",
       "Cuisine_2         3062\n",
       "Cuisine_3         6999\n",
       "Cuisine_4         9995\n",
       "Cuisine_5        11675\n",
       "Cuisine_6        12276\n",
       "Cuisine_7        12514\n",
       "Cuisine_8        12613\n",
       "num_branch           0\n",
       "dtype: int64"
      ]
     },
     "execution_count": 219,
     "metadata": {},
     "output_type": "execute_result"
    }
   ],
   "source": [
    "train.isnull().sum()"
   ]
  },
  {
   "cell_type": "code",
   "execution_count": 220,
   "metadata": {},
   "outputs": [
    {
     "data": {
      "text/plain": [
       "RESTAURANT_ID       0\n",
       "CITY                0\n",
       "LOCALITY            0\n",
       "RATING              0\n",
       "VOTES               0\n",
       "TITLE_1             0\n",
       "TITLE_2          3769\n",
       "Cuisine_1           0\n",
       "Cuisine_2         985\n",
       "Cuisine_3        2331\n",
       "Cuisine_4        3314\n",
       "Cuisine_5        3875\n",
       "Cuisine_6        4094\n",
       "Cuisine_7        4157\n",
       "Cuisine_8        4200\n",
       "num_branch          0\n",
       "dtype: int64"
      ]
     },
     "execution_count": 220,
     "metadata": {},
     "output_type": "execute_result"
    }
   ],
   "source": [
    "test.isnull().sum()"
   ]
  },
  {
   "cell_type": "code",
   "execution_count": 221,
   "metadata": {},
   "outputs": [],
   "source": [
    "# lets impute na with 'null' now, as all the mising values are object type"
   ]
  },
  {
   "cell_type": "code",
   "execution_count": 223,
   "metadata": {},
   "outputs": [],
   "source": [
    "train.fillna('null',inplace=True)\n",
    "test.fillna('null',inplace=True)"
   ]
  },
  {
   "cell_type": "code",
   "execution_count": 224,
   "metadata": {},
   "outputs": [],
   "source": [
    "# engineered all the missing values"
   ]
  },
  {
   "cell_type": "markdown",
   "metadata": {},
   "source": [
    "# EDA"
   ]
  },
  {
   "cell_type": "code",
   "execution_count": 225,
   "metadata": {},
   "outputs": [
    {
     "data": {
      "text/plain": [
       "Index(['RESTAURANT_ID', 'CITY', 'LOCALITY', 'RATING', 'VOTES', 'COST', 'TITLE_1', 'TITLE_2', 'Cuisine_1', 'Cuisine_2', 'Cuisine_3', 'Cuisine_4', 'Cuisine_5', 'Cuisine_6', 'Cuisine_7', 'Cuisine_8', 'num_branch'], dtype='object')"
      ]
     },
     "execution_count": 225,
     "metadata": {},
     "output_type": "execute_result"
    }
   ],
   "source": [
    "train.columns"
   ]
  },
  {
   "cell_type": "code",
   "execution_count": 226,
   "metadata": {},
   "outputs": [
    {
     "data": {
      "text/plain": [
       "Chennai         2174\n",
       "Bangalore       2149\n",
       "Hyderabad       1819\n",
       "Mumbai          1722\n",
       "New Delhi       1321\n",
       "Kochi           1279\n",
       "Other            762\n",
       "Gurgaon          379\n",
       "Secunderabad     310\n",
       "Noida            211\n",
       "Navi Mumbai      165\n",
       "Ghaziabad        102\n",
       "Thane             97\n",
       "Faridabad         79\n",
       "Bandra West       69\n",
       "Thane West        52\n",
       "Name: CITY, dtype: int64"
      ]
     },
     "execution_count": 226,
     "metadata": {},
     "output_type": "execute_result"
    }
   ],
   "source": [
    "train['CITY'].value_counts()"
   ]
  },
  {
   "cell_type": "code",
   "execution_count": 227,
   "metadata": {},
   "outputs": [
    {
     "data": {
      "text/plain": [
       "<matplotlib.axes._subplots.AxesSubplot at 0x1b4fab97488>"
      ]
     },
     "execution_count": 227,
     "metadata": {},
     "output_type": "execute_result"
    },
    {
     "data": {
      "image/png": "[encoded data removed]",
      "text/plain": [
       "<Figure size 432x288 with 1 Axes>"
      ]
     },
     "metadata": {
      "needs_background": "light"
     },
     "output_type": "display_data"
    }
   ],
   "source": [
    "train['CITY'].value_counts().plot.bar()"
   ]
  },
  {
   "cell_type": "code",
   "execution_count": 228,
   "metadata": {},
   "outputs": [
    {
     "data": {
      "text/plain": [
       "3.8    1687\n",
       "3.9    1238\n",
       "4.0    1099\n",
       "3.7    1086\n",
       "3.6     951\n",
       "4.1     936\n",
       "2.0     774\n",
       "3.5     771\n",
       "4.2     723\n",
       "3.4     575\n",
       "4.3     556\n",
       "3.3     365\n",
       "4.4     362\n",
       "3.2     266\n",
       "4.5     199\n",
       "2.9     186\n",
       "3.1     186\n",
       "3.0     170\n",
       "2.8     146\n",
       "4.6     141\n",
       "2.7      89\n",
       "4.7      69\n",
       "2.6      61\n",
       "4.8      32\n",
       "4.9      22\n",
       "Name: RATING, dtype: int64"
      ]
     },
     "execution_count": 228,
     "metadata": {},
     "output_type": "execute_result"
    }
   ],
   "source": [
    "train['RATING'].value_counts()"
   ]
  },
  {
   "cell_type": "code",
   "execution_count": 229,
   "metadata": {},
   "outputs": [
    {
     "data": {
      "text/plain": [
       "<matplotlib.axes._subplots.AxesSubplot at 0x1b4ff584d88>"
      ]
     },
     "execution_count": 229,
     "metadata": {},
     "output_type": "execute_result"
    },
    {
     "data": {
      "image/png": "[encoded data removed]",
      "text/plain": [
       "<Figure size 432x288 with 1 Axes>"
      ]
     },
     "metadata": {
      "needs_background": "light"
     },
     "output_type": "display_data"
    }
   ],
   "source": [
    "train['RATING'].value_counts().plot.bar()"
   ]
  },
  {
   "cell_type": "code",
   "execution_count": 230,
   "metadata": {},
   "outputs": [
    {
     "data": {
      "text/plain": [
       "-1.0       1204\n",
       " 44.0        71\n",
       " 29.0        66\n",
       " 28.0        66\n",
       " 38.0        65\n",
       "           ... \n",
       " 865.0        1\n",
       " 4980.0       1\n",
       " 1131.0       1\n",
       " 3369.0       1\n",
       " 2055.0       1\n",
       "Name: VOTES, Length: 1848, dtype: int64"
      ]
     },
     "execution_count": 230,
     "metadata": {},
     "output_type": "execute_result"
    }
   ],
   "source": [
    "train['VOTES'].value_counts()"
   ]
  },
  {
   "cell_type": "code",
   "execution_count": 231,
   "metadata": {},
   "outputs": [
    {
     "data": {
      "text/plain": [
       "QUICK BITES       4337\n",
       "CASUAL DINING     4122\n",
       "None              1003\n",
       "CAFÉ               749\n",
       "DESSERT PARLOR     478\n",
       "BAKERY             463\n",
       "FINE DINING        350\n",
       "BAR                254\n",
       "BEVERAGE SHOP      215\n",
       "LOUNGE             154\n",
       "PUB                103\n",
       "SWEET SHOP         102\n",
       "FOOD COURT          93\n",
       "KIOSK               56\n",
       "MESS                53\n",
       "DHABA               45\n",
       "MICROBREWERY        44\n",
       "FOOD TRUCK          30\n",
       "CLUB                23\n",
       "COCKTAIL BAR         6\n",
       "PAAN SHOP            4\n",
       "CONFECTIONERY        3\n",
       "MEAT SHOP            3\n",
       "Name: TITLE_1, dtype: int64"
      ]
     },
     "execution_count": 231,
     "metadata": {},
     "output_type": "execute_result"
    }
   ],
   "source": [
    "train['TITLE_1'].value_counts()"
   ]
  },
  {
   "cell_type": "code",
   "execution_count": 233,
   "metadata": {},
   "outputs": [],
   "source": [
    "# binning required"
   ]
  },
  {
   "cell_type": "code",
   "execution_count": 232,
   "metadata": {},
   "outputs": [
    {
     "data": {
      "text/plain": [
       "<matplotlib.axes._subplots.AxesSubplot at 0x1b4feff5948>"
      ]
     },
     "execution_count": 232,
     "metadata": {},
     "output_type": "execute_result"
    },
    {
     "data": {
      "image/png": "[encoded data removed]",
      "text/plain": [
       "<Figure size 432x288 with 1 Axes>"
      ]
     },
     "metadata": {
      "needs_background": "light"
     },
     "output_type": "display_data"
    }
   ],
   "source": [
    "train['TITLE_1'].value_counts().plot.bar()"
   ]
  },
  {
   "cell_type": "code",
   "execution_count": 234,
   "metadata": {},
   "outputs": [
    {
     "data": {
      "text/plain": [
       "null              11208\n",
       "BAR                 428\n",
       "QUICK BITES         261\n",
       "CASUAL DINING       257\n",
       "DESSERT PARLOR      138\n",
       "CAFÉ                 94\n",
       "BAKERY               69\n",
       "SWEET SHOP           53\n",
       "LOUNGE               47\n",
       "PUB                  35\n",
       "BEVERAGE SHOP        34\n",
       "MICROBREWERY         27\n",
       "FOOD COURT           15\n",
       "FINE DINING           8\n",
       "CLUB                  5\n",
       "KIOSK                 4\n",
       "IRANI CAFE            3\n",
       "CONFECTIONERY         2\n",
       "FOOD TRUCK            1\n",
       "PAAN SHOP             1\n",
       "Name: TITLE_2, dtype: int64"
      ]
     },
     "execution_count": 234,
     "metadata": {},
     "output_type": "execute_result"
    }
   ],
   "source": [
    "train['TITLE_2'].value_counts()"
   ]
  },
  {
   "cell_type": "code",
   "execution_count": 235,
   "metadata": {},
   "outputs": [],
   "source": [
    "# binning can be applied"
   ]
  },
  {
   "cell_type": "code",
   "execution_count": 236,
   "metadata": {
    "scrolled": true
   },
   "outputs": [
    {
     "data": {
      "text/plain": [
       "North Indian        3129\n",
       "South Indian        1241\n",
       "Chinese              996\n",
       "Fast Food            762\n",
       "Cafe                 713\n",
       "Biryani              522\n",
       "Bakery               514\n",
       "Continental          514\n",
       "Kerala               358\n",
       "Desserts             333\n",
       "Street Food          294\n",
       "Italian              251\n",
       "Beverages            200\n",
       "Pizza                199\n",
       "Arabian              199\n",
       "Ice Cream            168\n",
       "Finger Food          167\n",
       "Andhra               150\n",
       "Asian                137\n",
       "Mughlai              128\n",
       "Seafood              126\n",
       "Mithai               111\n",
       "American             110\n",
       "Healthy Food          95\n",
       "Burger                93\n",
       "European              85\n",
       "Juices                72\n",
       "Lebanese              57\n",
       "Chettinad             56\n",
       "Mexican               55\n",
       "Thai                  53\n",
       "Japanese              52\n",
       "Rolls                 51\n",
       "Bengali               51\n",
       "BBQ                   47\n",
       "Hyderabadi            45\n",
       "Maharashtrian         38\n",
       "Sandwich              36\n",
       "Modern Indian         35\n",
       "Mediterranean         35\n",
       "Momos                 26\n",
       "Tibetan               26\n",
       "Gujarati              23\n",
       "Rajasthani            23\n",
       "Malwani               19\n",
       "Kebab                 18\n",
       "Salad                 17\n",
       "Bar Food              15\n",
       "Mangalorean           15\n",
       "Tea                   14\n",
       "Korean                12\n",
       "North Eastern         12\n",
       "Oriya                 11\n",
       "Goan                  10\n",
       "Parsi                 10\n",
       "Turkish               10\n",
       "Burmese                9\n",
       "Indian                 9\n",
       "Coffee                 9\n",
       "Konkan                 8\n",
       "Spanish                7\n",
       "Bihari                 7\n",
       "Middle Eastern         6\n",
       "Malaysian              6\n",
       "French                 6\n",
       "Kashmiri               5\n",
       "Steak                  4\n",
       "Nepalese               4\n",
       "Awadhi                 4\n",
       "Wraps                  4\n",
       "Vietnamese             4\n",
       "Paan                   4\n",
       "Tamil                  3\n",
       "Sindhi                 3\n",
       "Naga                   3\n",
       "Singaporean            3\n",
       "Raw Meats              3\n",
       "Drinks Only            3\n",
       "Bohri                  3\n",
       "Sushi                  3\n",
       "Portuguese             3\n",
       "German                 2\n",
       "Bubble Tea             2\n",
       "Tex-Mex                2\n",
       "Sri Lankan             2\n",
       "South American         2\n",
       "Assamese               1\n",
       "Cafe Food              1\n",
       "Lucknowi               1\n",
       "Irish                  1\n",
       "Hot dogs               1\n",
       "Armenian               1\n",
       "Indonesian             1\n",
       "Pakistani              1\n",
       "Iranian                1\n",
       "Russian                1\n",
       "Roast Chicken          1\n",
       "Afghan                 1\n",
       "Ethiopian              1\n",
       "Multi Cuisine          1\n",
       "Egyptian               1\n",
       "African                1\n",
       "Charcoal Chicken       1\n",
       "British                1\n",
       "Name: Cuisine_1, dtype: int64"
      ]
     },
     "execution_count": 236,
     "metadata": {},
     "output_type": "execute_result"
    }
   ],
   "source": [
    "train['Cuisine_1'].value_counts()"
   ]
  },
  {
   "cell_type": "code",
   "execution_count": 237,
   "metadata": {},
   "outputs": [],
   "source": [
    "# binning can be applied"
   ]
  },
  {
   "cell_type": "code",
   "execution_count": 238,
   "metadata": {
    "scrolled": true
   },
   "outputs": [
    {
     "data": {
      "text/plain": [
       "null                 3062\n",
       " Chinese             1830\n",
       " North Indian        1373\n",
       " Fast Food            782\n",
       " South Indian         638\n",
       " Continental          497\n",
       " Desserts             484\n",
       " Italian              380\n",
       " Mughlai              377\n",
       " Biryani              322\n",
       " Beverages            292\n",
       " Street Food          192\n",
       " Seafood              147\n",
       " Ice Cream            126\n",
       " Asian                122\n",
       " Pizza                118\n",
       " Thai                 115\n",
       " Burger               110\n",
       " Momos                 95\n",
       " American              92\n",
       " Bakery                88\n",
       " Kerala                87\n",
       " Arabian               85\n",
       " Mexican               79\n",
       " Sandwich              77\n",
       " European              67\n",
       " Rolls                 65\n",
       " Andhra                60\n",
       " Healthy Food          60\n",
       " Juices                57\n",
       " Cafe                  57\n",
       " Kebab                 56\n",
       " Mediterranean         53\n",
       " Hyderabadi            44\n",
       " Salad                 41\n",
       " Mithai                39\n",
       " Lebanese              37\n",
       " Chettinad             36\n",
       " Finger Food           35\n",
       " BBQ                   35\n",
       " Japanese              30\n",
       " Maharashtrian         25\n",
       " Mangalorean           20\n",
       " Tea                   19\n",
       " Modern Indian         19\n",
       " Bengali               17\n",
       " Tibetan               16\n",
       " Rajasthani            15\n",
       " Sushi                 15\n",
       " Gujarati              12\n",
       " Coffee                11\n",
       " Wraps                 11\n",
       " Indian                10\n",
       " Malwani               10\n",
       " Malaysian              9\n",
       " Middle Eastern         8\n",
       " Korean                 8\n",
       " Goan                   8\n",
       " Nepalese               7\n",
       " Tex-Mex                7\n",
       " Bihari                 6\n",
       " Iranian                6\n",
       " French                 6\n",
       " Turkish                6\n",
       " Konkan                 5\n",
       " Awadhi                 5\n",
       " Bar Food               4\n",
       " Lucknowi               4\n",
       " Oriya                  4\n",
       " Steak                  4\n",
       " Naga                   3\n",
       " Charcoal Chicken       3\n",
       " Vietnamese             3\n",
       " Singaporean            3\n",
       " Burmese                3\n",
       " Portuguese             3\n",
       " Bubble Tea             3\n",
       " Parsi                  3\n",
       " Afghan                 3\n",
       " Spanish                2\n",
       " Indonesian             2\n",
       " Cantonese              2\n",
       " North Eastern          2\n",
       " Roast Chicken          1\n",
       " German                 1\n",
       " Assamese               1\n",
       " Panini                 1\n",
       " Pan Asian              1\n",
       " Grill                  1\n",
       " Russian                1\n",
       " Greek                  1\n",
       " Pakistani              1\n",
       " Belgian                1\n",
       " Kashmiri               1\n",
       " British                1\n",
       " Sri Lankan             1\n",
       " Oriental               1\n",
       " Tamil                  1\n",
       " Sindhi                 1\n",
       "Name: Cuisine_2, dtype: int64"
      ]
     },
     "execution_count": 238,
     "metadata": {},
     "output_type": "execute_result"
    }
   ],
   "source": [
    "train['Cuisine_2'].value_counts()"
   ]
  },
  {
   "cell_type": "code",
   "execution_count": 239,
   "metadata": {
    "scrolled": true
   },
   "outputs": [
    {
     "data": {
      "text/plain": [
       "null                  6999\n",
       " Chinese              1146\n",
       " North Indian          593\n",
       " Fast Food             387\n",
       " Continental           345\n",
       " Italian               276\n",
       " Biryani               274\n",
       " South Indian          252\n",
       " Beverages             200\n",
       " Mughlai               181\n",
       " Seafood               146\n",
       " Desserts              138\n",
       " Momos                 111\n",
       " Asian                  97\n",
       " Street Food            93\n",
       " Thai                   79\n",
       " Pizza                  78\n",
       " Burger                 76\n",
       " Rolls                  74\n",
       " Kebab                  72\n",
       " Arabian                65\n",
       " European               65\n",
       " Sandwich               65\n",
       " Salad                  64\n",
       " American               61\n",
       " Mexican                55\n",
       " Juices                 45\n",
       " Kerala                 40\n",
       " Ice Cream              35\n",
       " BBQ                    35\n",
       " Japanese               33\n",
       " Cafe                   32\n",
       " Lebanese               32\n",
       " Healthy Food           31\n",
       " Bakery                 28\n",
       " Finger Food            28\n",
       " Chettinad              28\n",
       " Hyderabadi             26\n",
       " Mediterranean          25\n",
       " Andhra                 21\n",
       " Sushi                  17\n",
       " Malwani                15\n",
       " Mithai                 15\n",
       " Mangalorean            14\n",
       " Tea                    13\n",
       " Indian                 11\n",
       " Maharashtrian          10\n",
       " Indonesian             10\n",
       " Coffee                  9\n",
       " Steak                   9\n",
       " Modern Indian           9\n",
       " Bengali                 8\n",
       " Lucknowi                7\n",
       " Vietnamese              7\n",
       " Wraps                   6\n",
       " Tex-Mex                 6\n",
       " Burmese                 5\n",
       " Malaysian               5\n",
       " Goan                    5\n",
       " French                  5\n",
       " Afghan                  5\n",
       " Charcoal Chicken        4\n",
       " Konkan                  4\n",
       " Oriya                   4\n",
       " Tibetan                 4\n",
       " Rajasthani              4\n",
       " Korean                  4\n",
       " Singaporean             3\n",
       " Awadhi                  3\n",
       " Spanish                 3\n",
       " Bar Food                3\n",
       " North Eastern           3\n",
       " Sri Lankan              2\n",
       " Drinks Only             2\n",
       " Grill                   2\n",
       " Roast Chicken           2\n",
       " Parsi                   2\n",
       " Moroccan                2\n",
       " Gujarati                2\n",
       " Cantonese               1\n",
       " Hot Pot                 1\n",
       " Paan                    1\n",
       " Naga                    1\n",
       " Fusion                  1\n",
       " Kashmiri                1\n",
       " Panini                  1\n",
       " Modern Australian       1\n",
       " Peruvian                1\n",
       " Belgian                 1\n",
       " British                 1\n",
       " Bubble Tea              1\n",
       " Turkish                 1\n",
       " Mongolian               1\n",
       " Middle Eastern          1\n",
       "Name: Cuisine_3, dtype: int64"
      ]
     },
     "execution_count": 239,
     "metadata": {},
     "output_type": "execute_result"
    }
   ],
   "source": [
    "train['Cuisine_3'].value_counts()"
   ]
  },
  {
   "cell_type": "code",
   "execution_count": 240,
   "metadata": {},
   "outputs": [
    {
     "data": {
      "text/plain": [
       "1    11303\n",
       "2      906\n",
       "3      258\n",
       "4      132\n",
       "5       70\n",
       "8        8\n",
       "7        7\n",
       "6        6\n",
       "Name: num_branch, dtype: int64"
      ]
     },
     "execution_count": 240,
     "metadata": {},
     "output_type": "execute_result"
    }
   ],
   "source": [
    "train['num_branch'].value_counts()"
   ]
  },
  {
   "cell_type": "code",
   "execution_count": 241,
   "metadata": {},
   "outputs": [
    {
     "data": {
      "text/html": [
       "<div>\n",
       "<style scoped>\n",
       "    .dataframe tbody tr th:only-of-type {\n",
       "        vertical-align: middle;\n",
       "    }\n",
       "\n",
       "    .dataframe tbody tr th {\n",
       "        vertical-align: top;\n",
       "    }\n",
       "\n",
       "    .dataframe thead th {\n",
       "        text-align: right;\n",
       "    }\n",
       "</style>\n",
       "<table border=\"1\" class=\"dataframe\">\n",
       "  <thead>\n",
       "    <tr style=\"text-align: right;\">\n",
       "      <th></th>\n",
       "      <th>RESTAURANT_ID</th>\n",
       "      <th>RATING</th>\n",
       "      <th>VOTES</th>\n",
       "      <th>COST</th>\n",
       "      <th>num_branch</th>\n",
       "    </tr>\n",
       "  </thead>\n",
       "  <tbody>\n",
       "    <tr>\n",
       "      <td>count</td>\n",
       "      <td>12690.000000</td>\n",
       "      <td>12690.000000</td>\n",
       "      <td>12690.000000</td>\n",
       "      <td>12690.000000</td>\n",
       "      <td>12690.000000</td>\n",
       "    </tr>\n",
       "    <tr>\n",
       "      <td>mean</td>\n",
       "      <td>7759.134121</td>\n",
       "      <td>3.684405</td>\n",
       "      <td>376.136249</td>\n",
       "      <td>655.252246</td>\n",
       "      <td>1.175414</td>\n",
       "    </tr>\n",
       "    <tr>\n",
       "      <td>std</td>\n",
       "      <td>4504.874150</td>\n",
       "      <td>0.579108</td>\n",
       "      <td>810.991015</td>\n",
       "      <td>627.003540</td>\n",
       "      <td>0.605328</td>\n",
       "    </tr>\n",
       "    <tr>\n",
       "      <td>min</td>\n",
       "      <td>0.000000</td>\n",
       "      <td>2.000000</td>\n",
       "      <td>-1.000000</td>\n",
       "      <td>20.000000</td>\n",
       "      <td>1.000000</td>\n",
       "    </tr>\n",
       "    <tr>\n",
       "      <td>25%</td>\n",
       "      <td>3863.250000</td>\n",
       "      <td>3.500000</td>\n",
       "      <td>39.250000</td>\n",
       "      <td>300.000000</td>\n",
       "      <td>1.000000</td>\n",
       "    </tr>\n",
       "    <tr>\n",
       "      <td>50%</td>\n",
       "      <td>7740.000000</td>\n",
       "      <td>3.800000</td>\n",
       "      <td>132.000000</td>\n",
       "      <td>500.000000</td>\n",
       "      <td>1.000000</td>\n",
       "    </tr>\n",
       "    <tr>\n",
       "      <td>75%</td>\n",
       "      <td>11688.750000</td>\n",
       "      <td>4.000000</td>\n",
       "      <td>405.000000</td>\n",
       "      <td>800.000000</td>\n",
       "      <td>1.000000</td>\n",
       "    </tr>\n",
       "    <tr>\n",
       "      <td>max</td>\n",
       "      <td>15573.000000</td>\n",
       "      <td>4.900000</td>\n",
       "      <td>41186.000000</td>\n",
       "      <td>14000.000000</td>\n",
       "      <td>8.000000</td>\n",
       "    </tr>\n",
       "  </tbody>\n",
       "</table>\n",
       "</div>"
      ],
      "text/plain": [
       "       RESTAURANT_ID        RATING         VOTES          COST    num_branch\n",
       "count   12690.000000  12690.000000  12690.000000  12690.000000  12690.000000\n",
       "mean     7759.134121      3.684405    376.136249    655.252246      1.175414\n",
       "std      4504.874150      0.579108    810.991015    627.003540      0.605328\n",
       "min         0.000000      2.000000     -1.000000     20.000000      1.000000\n",
       "25%      3863.250000      3.500000     39.250000    300.000000      1.000000\n",
       "50%      7740.000000      3.800000    132.000000    500.000000      1.000000\n",
       "75%     11688.750000      4.000000    405.000000    800.000000      1.000000\n",
       "max     15573.000000      4.900000  41186.000000  14000.000000      8.000000"
      ]
     },
     "execution_count": 241,
     "metadata": {},
     "output_type": "execute_result"
    }
   ],
   "source": [
    "train.describe()"
   ]
  },
  {
   "cell_type": "markdown",
   "metadata": {},
   "source": [
    "# Bivariate"
   ]
  },
  {
   "cell_type": "code",
   "execution_count": 242,
   "metadata": {},
   "outputs": [
    {
     "data": {
      "text/plain": [
       "Index(['RESTAURANT_ID', 'CITY', 'LOCALITY', 'RATING', 'VOTES', 'COST', 'TITLE_1', 'TITLE_2', 'Cuisine_1', 'Cuisine_2', 'Cuisine_3', 'Cuisine_4', 'Cuisine_5', 'Cuisine_6', 'Cuisine_7', 'Cuisine_8', 'num_branch'], dtype='object')"
      ]
     },
     "execution_count": 242,
     "metadata": {},
     "output_type": "execute_result"
    }
   ],
   "source": [
    "train.columns"
   ]
  },
  {
   "cell_type": "code",
   "execution_count": 244,
   "metadata": {},
   "outputs": [
    {
     "data": {
      "text/html": [
       "<div>\n",
       "<style scoped>\n",
       "    .dataframe tbody tr th:only-of-type {\n",
       "        vertical-align: middle;\n",
       "    }\n",
       "\n",
       "    .dataframe tbody tr th {\n",
       "        vertical-align: top;\n",
       "    }\n",
       "\n",
       "    .dataframe thead th {\n",
       "        text-align: right;\n",
       "    }\n",
       "</style>\n",
       "<table border=\"1\" class=\"dataframe\">\n",
       "  <thead>\n",
       "    <tr style=\"text-align: right;\">\n",
       "      <th></th>\n",
       "      <th>COST</th>\n",
       "    </tr>\n",
       "    <tr>\n",
       "      <th>CITY</th>\n",
       "      <th></th>\n",
       "    </tr>\n",
       "  </thead>\n",
       "  <tbody>\n",
       "    <tr>\n",
       "      <td>Bandra West</td>\n",
       "      <td>1275.362319</td>\n",
       "    </tr>\n",
       "    <tr>\n",
       "      <td>Bangalore</td>\n",
       "      <td>668.733830</td>\n",
       "    </tr>\n",
       "    <tr>\n",
       "      <td>Chennai</td>\n",
       "      <td>588.587856</td>\n",
       "    </tr>\n",
       "    <tr>\n",
       "      <td>Faridabad</td>\n",
       "      <td>469.240506</td>\n",
       "    </tr>\n",
       "    <tr>\n",
       "      <td>Ghaziabad</td>\n",
       "      <td>523.529412</td>\n",
       "    </tr>\n",
       "    <tr>\n",
       "      <td>Gurgaon</td>\n",
       "      <td>845.910290</td>\n",
       "    </tr>\n",
       "    <tr>\n",
       "      <td>Hyderabad</td>\n",
       "      <td>595.178670</td>\n",
       "    </tr>\n",
       "    <tr>\n",
       "      <td>Kochi</td>\n",
       "      <td>433.244722</td>\n",
       "    </tr>\n",
       "    <tr>\n",
       "      <td>Mumbai</td>\n",
       "      <td>865.272938</td>\n",
       "    </tr>\n",
       "    <tr>\n",
       "      <td>Navi Mumbai</td>\n",
       "      <td>667.575758</td>\n",
       "    </tr>\n",
       "    <tr>\n",
       "      <td>New Delhi</td>\n",
       "      <td>782.982589</td>\n",
       "    </tr>\n",
       "    <tr>\n",
       "      <td>Noida</td>\n",
       "      <td>673.459716</td>\n",
       "    </tr>\n",
       "    <tr>\n",
       "      <td>Other</td>\n",
       "      <td>583.283465</td>\n",
       "    </tr>\n",
       "    <tr>\n",
       "      <td>Secunderabad</td>\n",
       "      <td>459.516129</td>\n",
       "    </tr>\n",
       "    <tr>\n",
       "      <td>Thane</td>\n",
       "      <td>654.639175</td>\n",
       "    </tr>\n",
       "    <tr>\n",
       "      <td>Thane West</td>\n",
       "      <td>685.576923</td>\n",
       "    </tr>\n",
       "  </tbody>\n",
       "</table>\n",
       "</div>"
      ],
      "text/plain": [
       "                     COST\n",
       "CITY                     \n",
       "Bandra West   1275.362319\n",
       "Bangalore      668.733830\n",
       "Chennai        588.587856\n",
       "Faridabad      469.240506\n",
       "Ghaziabad      523.529412\n",
       "Gurgaon        845.910290\n",
       "Hyderabad      595.178670\n",
       "Kochi          433.244722\n",
       "Mumbai         865.272938\n",
       "Navi Mumbai    667.575758\n",
       "New Delhi      782.982589\n",
       "Noida          673.459716\n",
       "Other          583.283465\n",
       "Secunderabad   459.516129\n",
       "Thane          654.639175\n",
       "Thane West     685.576923"
      ]
     },
     "execution_count": 244,
     "metadata": {},
     "output_type": "execute_result"
    }
   ],
   "source": [
    "train.groupby('CITY').mean()[['COST']]"
   ]
  },
  {
   "cell_type": "code",
   "execution_count": 245,
   "metadata": {},
   "outputs": [
    {
     "data": {
      "text/plain": [
       "<matplotlib.axes._subplots.AxesSubplot at 0x1b4fef6a248>"
      ]
     },
     "execution_count": 245,
     "metadata": {},
     "output_type": "execute_result"
    },
    {
     "data": {
      "image/png": "[encoded data removed]",
      "text/plain": [
       "<Figure size 432x288 with 1 Axes>"
      ]
     },
     "metadata": {
      "needs_background": "light"
     },
     "output_type": "display_data"
    }
   ],
   "source": [
    "train.groupby('CITY').mean()[['COST']].plot.bar()"
   ]
  },
  {
   "cell_type": "code",
   "execution_count": 246,
   "metadata": {},
   "outputs": [
    {
     "data": {
      "text/html": [
       "<div>\n",
       "<style scoped>\n",
       "    .dataframe tbody tr th:only-of-type {\n",
       "        vertical-align: middle;\n",
       "    }\n",
       "\n",
       "    .dataframe tbody tr th {\n",
       "        vertical-align: top;\n",
       "    }\n",
       "\n",
       "    .dataframe thead th {\n",
       "        text-align: right;\n",
       "    }\n",
       "</style>\n",
       "<table border=\"1\" class=\"dataframe\">\n",
       "  <thead>\n",
       "    <tr style=\"text-align: right;\">\n",
       "      <th></th>\n",
       "      <th>COST</th>\n",
       "    </tr>\n",
       "    <tr>\n",
       "      <th>num_branch</th>\n",
       "      <th></th>\n",
       "    </tr>\n",
       "  </thead>\n",
       "  <tbody>\n",
       "    <tr>\n",
       "      <td>1</td>\n",
       "      <td>659.805538</td>\n",
       "    </tr>\n",
       "    <tr>\n",
       "      <td>2</td>\n",
       "      <td>631.511038</td>\n",
       "    </tr>\n",
       "    <tr>\n",
       "      <td>3</td>\n",
       "      <td>600.465116</td>\n",
       "    </tr>\n",
       "    <tr>\n",
       "      <td>4</td>\n",
       "      <td>626.136364</td>\n",
       "    </tr>\n",
       "    <tr>\n",
       "      <td>5</td>\n",
       "      <td>540.000000</td>\n",
       "    </tr>\n",
       "    <tr>\n",
       "      <td>6</td>\n",
       "      <td>800.000000</td>\n",
       "    </tr>\n",
       "    <tr>\n",
       "      <td>7</td>\n",
       "      <td>264.285714</td>\n",
       "    </tr>\n",
       "    <tr>\n",
       "      <td>8</td>\n",
       "      <td>400.000000</td>\n",
       "    </tr>\n",
       "  </tbody>\n",
       "</table>\n",
       "</div>"
      ],
      "text/plain": [
       "                  COST\n",
       "num_branch            \n",
       "1           659.805538\n",
       "2           631.511038\n",
       "3           600.465116\n",
       "4           626.136364\n",
       "5           540.000000\n",
       "6           800.000000\n",
       "7           264.285714\n",
       "8           400.000000"
      ]
     },
     "execution_count": 246,
     "metadata": {},
     "output_type": "execute_result"
    }
   ],
   "source": [
    "train.groupby('num_branch').mean()[['COST']]"
   ]
  },
  {
   "cell_type": "code",
   "execution_count": 247,
   "metadata": {},
   "outputs": [
    {
     "data": {
      "text/plain": [
       "<matplotlib.axes._subplots.AxesSubplot at 0x1b4fefb2ac8>"
      ]
     },
     "execution_count": 247,
     "metadata": {},
     "output_type": "execute_result"
    },
    {
     "data": {
      "image/png": "[encoded data removed]",
      "text/plain": [
       "<Figure size 432x288 with 1 Axes>"
      ]
     },
     "metadata": {
      "needs_background": "light"
     },
     "output_type": "display_data"
    }
   ],
   "source": [
    "train.groupby('num_branch').mean()[['COST']].plot.bar()"
   ]
  },
  {
   "cell_type": "code",
   "execution_count": 249,
   "metadata": {},
   "outputs": [
    {
     "data": {
      "text/plain": [
       "<seaborn.axisgrid.PairGrid at 0x1b4fe55f408>"
      ]
     },
     "execution_count": 249,
     "metadata": {},
     "output_type": "execute_result"
    },
    {
     "data": {
      "image/png": "[encoded data removed]",
      "text/plain": [
       "<Figure size 900x900 with 30 Axes>"
      ]
     },
     "metadata": {
      "needs_background": "light"
     },
     "output_type": "display_data"
    }
   ],
   "source": [
    "sns.pairplot(train)"
   ]
  },
  {
   "cell_type": "code",
   "execution_count": 251,
   "metadata": {},
   "outputs": [],
   "source": [
    "# plt.figure(figsize=(12,6))\n",
    "# sns.heatmap(train.corr(),annot=True,cmap='coolwarm',linewidths=0.8)"
   ]
  },
  {
   "cell_type": "markdown",
   "metadata": {},
   "source": [
    "# Encoding"
   ]
  },
  {
   "cell_type": "code",
   "execution_count": 252,
   "metadata": {},
   "outputs": [],
   "source": [
    "from sklearn.preprocessing import LabelEncoder\n",
    "def le(df,col):\n",
    "    lab=LabelEncoder()\n",
    "    df[col]=pd.Series(lab.fit_transform(df[col]))"
   ]
  },
  {
   "cell_type": "code",
   "execution_count": 254,
   "metadata": {},
   "outputs": [
    {
     "data": {
      "text/html": [
       "<div>\n",
       "<style scoped>\n",
       "    .dataframe tbody tr th:only-of-type {\n",
       "        vertical-align: middle;\n",
       "    }\n",
       "\n",
       "    .dataframe tbody tr th {\n",
       "        vertical-align: top;\n",
       "    }\n",
       "\n",
       "    .dataframe thead th {\n",
       "        text-align: right;\n",
       "    }\n",
       "</style>\n",
       "<table border=\"1\" class=\"dataframe\">\n",
       "  <thead>\n",
       "    <tr style=\"text-align: right;\">\n",
       "      <th></th>\n",
       "      <th>RESTAURANT_ID</th>\n",
       "      <th>CITY</th>\n",
       "      <th>LOCALITY</th>\n",
       "      <th>RATING</th>\n",
       "      <th>VOTES</th>\n",
       "      <th>COST</th>\n",
       "      <th>TITLE_1</th>\n",
       "      <th>TITLE_2</th>\n",
       "      <th>Cuisine_1</th>\n",
       "      <th>Cuisine_2</th>\n",
       "      <th>Cuisine_3</th>\n",
       "      <th>Cuisine_4</th>\n",
       "      <th>Cuisine_5</th>\n",
       "      <th>Cuisine_6</th>\n",
       "      <th>Cuisine_7</th>\n",
       "      <th>Cuisine_8</th>\n",
       "      <th>num_branch</th>\n",
       "    </tr>\n",
       "  </thead>\n",
       "  <tbody>\n",
       "    <tr>\n",
       "      <td>0</td>\n",
       "      <td>9438</td>\n",
       "      <td>Thane</td>\n",
       "      <td>Dombivali East</td>\n",
       "      <td>3.6</td>\n",
       "      <td>49.0</td>\n",
       "      <td>1200</td>\n",
       "      <td>CASUAL DINING</td>\n",
       "      <td>null</td>\n",
       "      <td>Malwani</td>\n",
       "      <td>Goan</td>\n",
       "      <td>North Indian</td>\n",
       "      <td>null</td>\n",
       "      <td>null</td>\n",
       "      <td>null</td>\n",
       "      <td>null</td>\n",
       "      <td>null</td>\n",
       "      <td>1</td>\n",
       "    </tr>\n",
       "    <tr>\n",
       "      <td>1</td>\n",
       "      <td>13198</td>\n",
       "      <td>Chennai</td>\n",
       "      <td>Ramapuram</td>\n",
       "      <td>4.2</td>\n",
       "      <td>30.0</td>\n",
       "      <td>1500</td>\n",
       "      <td>CASUAL DINING</td>\n",
       "      <td>BAR</td>\n",
       "      <td>Asian</td>\n",
       "      <td>Modern Indian</td>\n",
       "      <td>Japanese</td>\n",
       "      <td>null</td>\n",
       "      <td>null</td>\n",
       "      <td>null</td>\n",
       "      <td>null</td>\n",
       "      <td>null</td>\n",
       "      <td>1</td>\n",
       "    </tr>\n",
       "    <tr>\n",
       "      <td>2</td>\n",
       "      <td>10915</td>\n",
       "      <td>Chennai</td>\n",
       "      <td>Saligramam</td>\n",
       "      <td>3.8</td>\n",
       "      <td>221.0</td>\n",
       "      <td>800</td>\n",
       "      <td>CASUAL DINING</td>\n",
       "      <td>null</td>\n",
       "      <td>North Indian</td>\n",
       "      <td>Chinese</td>\n",
       "      <td>Biryani</td>\n",
       "      <td>Hyderabadi</td>\n",
       "      <td>null</td>\n",
       "      <td>null</td>\n",
       "      <td>null</td>\n",
       "      <td>null</td>\n",
       "      <td>1</td>\n",
       "    </tr>\n",
       "    <tr>\n",
       "      <td>3</td>\n",
       "      <td>6346</td>\n",
       "      <td>Mumbai</td>\n",
       "      <td>Bandra West</td>\n",
       "      <td>4.1</td>\n",
       "      <td>24.0</td>\n",
       "      <td>800</td>\n",
       "      <td>QUICK BITES</td>\n",
       "      <td>null</td>\n",
       "      <td>Tibetan</td>\n",
       "      <td>Chinese</td>\n",
       "      <td>null</td>\n",
       "      <td>null</td>\n",
       "      <td>null</td>\n",
       "      <td>null</td>\n",
       "      <td>null</td>\n",
       "      <td>null</td>\n",
       "      <td>1</td>\n",
       "    </tr>\n",
       "    <tr>\n",
       "      <td>4</td>\n",
       "      <td>15387</td>\n",
       "      <td>Mumbai</td>\n",
       "      <td>Lower Parel</td>\n",
       "      <td>3.8</td>\n",
       "      <td>165.0</td>\n",
       "      <td>300</td>\n",
       "      <td>DESSERT PARLOR</td>\n",
       "      <td>null</td>\n",
       "      <td>Desserts</td>\n",
       "      <td>null</td>\n",
       "      <td>null</td>\n",
       "      <td>null</td>\n",
       "      <td>null</td>\n",
       "      <td>null</td>\n",
       "      <td>null</td>\n",
       "      <td>null</td>\n",
       "      <td>1</td>\n",
       "    </tr>\n",
       "  </tbody>\n",
       "</table>\n",
       "</div>"
      ],
      "text/plain": [
       "   RESTAURANT_ID     CITY        LOCALITY  RATING  VOTES  COST         TITLE_1 TITLE_2     Cuisine_1       Cuisine_2      Cuisine_3    Cuisine_4 Cuisine_5 Cuisine_6 Cuisine_7 Cuisine_8  num_branch\n",
       "0           9438    Thane  Dombivali East     3.6   49.0  1200   CASUAL DINING    null       Malwani            Goan   North Indian         null      null      null      null      null           1\n",
       "1          13198  Chennai       Ramapuram     4.2   30.0  1500   CASUAL DINING     BAR         Asian   Modern Indian       Japanese         null      null      null      null      null           1\n",
       "2          10915  Chennai      Saligramam     3.8  221.0   800   CASUAL DINING    null  North Indian         Chinese        Biryani   Hyderabadi      null      null      null      null           1\n",
       "3           6346   Mumbai     Bandra West     4.1   24.0   800     QUICK BITES    null       Tibetan         Chinese           null         null      null      null      null      null           1\n",
       "4          15387   Mumbai     Lower Parel     3.8  165.0   300  DESSERT PARLOR    null      Desserts            null           null         null      null      null      null      null           1"
      ]
     },
     "execution_count": 254,
     "metadata": {},
     "output_type": "execute_result"
    }
   ],
   "source": [
    "train.head()"
   ]
  },
  {
   "cell_type": "code",
   "execution_count": 253,
   "metadata": {},
   "outputs": [
    {
     "data": {
      "text/plain": [
       "Index(['RESTAURANT_ID', 'CITY', 'LOCALITY', 'RATING', 'VOTES', 'COST', 'TITLE_1', 'TITLE_2', 'Cuisine_1', 'Cuisine_2', 'Cuisine_3', 'Cuisine_4', 'Cuisine_5', 'Cuisine_6', 'Cuisine_7', 'Cuisine_8', 'num_branch'], dtype='object')"
      ]
     },
     "execution_count": 253,
     "metadata": {},
     "output_type": "execute_result"
    }
   ],
   "source": [
    "train.columns"
   ]
  },
  {
   "cell_type": "code",
   "execution_count": 255,
   "metadata": {},
   "outputs": [],
   "source": [
    "le(train,'CITY')\n",
    "le(train,'LOCALITY')\n",
    "le(train,'TITLE_1')\n",
    "le(train,'TITLE_2')\n",
    "le(train,'Cuisine_1')\n",
    "le(train,'Cuisine_2')\n",
    "le(train,'Cuisine_3')\n",
    "le(train,'Cuisine_4')\n",
    "le(train,'Cuisine_5')\n",
    "le(train,'Cuisine_6')\n",
    "le(train,'Cuisine_7')\n",
    "le(train,'Cuisine_8')"
   ]
  },
  {
   "cell_type": "code",
   "execution_count": 256,
   "metadata": {},
   "outputs": [],
   "source": [
    "le(test,'CITY')\n",
    "le(test,'LOCALITY')\n",
    "le(test,'TITLE_1')\n",
    "le(test,'TITLE_2')\n",
    "le(test,'Cuisine_1')\n",
    "le(test,'Cuisine_2')\n",
    "le(test,'Cuisine_3')\n",
    "le(test,'Cuisine_4')\n",
    "le(test,'Cuisine_5')\n",
    "le(test,'Cuisine_6')\n",
    "le(test,'Cuisine_7')\n",
    "le(test,'Cuisine_8')"
   ]
  },
  {
   "cell_type": "markdown",
   "metadata": {},
   "source": [
    "# Comparing two data sets"
   ]
  },
  {
   "cell_type": "code",
   "execution_count": 257,
   "metadata": {},
   "outputs": [
    {
     "data": {
      "text/html": [
       "<div>\n",
       "<style scoped>\n",
       "    .dataframe tbody tr th:only-of-type {\n",
       "        vertical-align: middle;\n",
       "    }\n",
       "\n",
       "    .dataframe tbody tr th {\n",
       "        vertical-align: top;\n",
       "    }\n",
       "\n",
       "    .dataframe thead th {\n",
       "        text-align: right;\n",
       "    }\n",
       "</style>\n",
       "<table border=\"1\" class=\"dataframe\">\n",
       "  <thead>\n",
       "    <tr style=\"text-align: right;\">\n",
       "      <th></th>\n",
       "      <th>RESTAURANT_ID</th>\n",
       "      <th>CITY</th>\n",
       "      <th>LOCALITY</th>\n",
       "      <th>RATING</th>\n",
       "      <th>VOTES</th>\n",
       "      <th>COST</th>\n",
       "      <th>TITLE_1</th>\n",
       "      <th>TITLE_2</th>\n",
       "      <th>Cuisine_1</th>\n",
       "      <th>Cuisine_2</th>\n",
       "      <th>Cuisine_3</th>\n",
       "      <th>Cuisine_4</th>\n",
       "      <th>Cuisine_5</th>\n",
       "      <th>Cuisine_6</th>\n",
       "      <th>Cuisine_7</th>\n",
       "      <th>Cuisine_8</th>\n",
       "      <th>num_branch</th>\n",
       "    </tr>\n",
       "  </thead>\n",
       "  <tbody>\n",
       "    <tr>\n",
       "      <td>0</td>\n",
       "      <td>9438</td>\n",
       "      <td>14</td>\n",
       "      <td>285</td>\n",
       "      <td>3.6</td>\n",
       "      <td>49.0</td>\n",
       "      <td>1200</td>\n",
       "      <td>4</td>\n",
       "      <td>19</td>\n",
       "      <td>59</td>\n",
       "      <td>32</td>\n",
       "      <td>66</td>\n",
       "      <td>85</td>\n",
       "      <td>78</td>\n",
       "      <td>69</td>\n",
       "      <td>47</td>\n",
       "      <td>19</td>\n",
       "      <td>1</td>\n",
       "    </tr>\n",
       "    <tr>\n",
       "      <td>1</td>\n",
       "      <td>13198</td>\n",
       "      <td>2</td>\n",
       "      <td>1047</td>\n",
       "      <td>4.2</td>\n",
       "      <td>30.0</td>\n",
       "      <td>1500</td>\n",
       "      <td>4</td>\n",
       "      <td>1</td>\n",
       "      <td>6</td>\n",
       "      <td>60</td>\n",
       "      <td>41</td>\n",
       "      <td>85</td>\n",
       "      <td>78</td>\n",
       "      <td>69</td>\n",
       "      <td>47</td>\n",
       "      <td>19</td>\n",
       "      <td>1</td>\n",
       "    </tr>\n",
       "    <tr>\n",
       "      <td>2</td>\n",
       "      <td>10915</td>\n",
       "      <td>2</td>\n",
       "      <td>1102</td>\n",
       "      <td>3.8</td>\n",
       "      <td>221.0</td>\n",
       "      <td>800</td>\n",
       "      <td>4</td>\n",
       "      <td>19</td>\n",
       "      <td>72</td>\n",
       "      <td>23</td>\n",
       "      <td>12</td>\n",
       "      <td>32</td>\n",
       "      <td>78</td>\n",
       "      <td>69</td>\n",
       "      <td>47</td>\n",
       "      <td>19</td>\n",
       "      <td>1</td>\n",
       "    </tr>\n",
       "    <tr>\n",
       "      <td>3</td>\n",
       "      <td>6346</td>\n",
       "      <td>8</td>\n",
       "      <td>136</td>\n",
       "      <td>4.1</td>\n",
       "      <td>24.0</td>\n",
       "      <td>800</td>\n",
       "      <td>21</td>\n",
       "      <td>19</td>\n",
       "      <td>100</td>\n",
       "      <td>23</td>\n",
       "      <td>93</td>\n",
       "      <td>85</td>\n",
       "      <td>78</td>\n",
       "      <td>69</td>\n",
       "      <td>47</td>\n",
       "      <td>19</td>\n",
       "      <td>1</td>\n",
       "    </tr>\n",
       "    <tr>\n",
       "      <td>4</td>\n",
       "      <td>15387</td>\n",
       "      <td>8</td>\n",
       "      <td>620</td>\n",
       "      <td>3.8</td>\n",
       "      <td>165.0</td>\n",
       "      <td>300</td>\n",
       "      <td>8</td>\n",
       "      <td>19</td>\n",
       "      <td>28</td>\n",
       "      <td>98</td>\n",
       "      <td>93</td>\n",
       "      <td>85</td>\n",
       "      <td>78</td>\n",
       "      <td>69</td>\n",
       "      <td>47</td>\n",
       "      <td>19</td>\n",
       "      <td>1</td>\n",
       "    </tr>\n",
       "    <tr>\n",
       "      <td>5</td>\n",
       "      <td>5618</td>\n",
       "      <td>8</td>\n",
       "      <td>1361</td>\n",
       "      <td>4.0</td>\n",
       "      <td>550.0</td>\n",
       "      <td>800</td>\n",
       "      <td>4</td>\n",
       "      <td>19</td>\n",
       "      <td>72</td>\n",
       "      <td>23</td>\n",
       "      <td>78</td>\n",
       "      <td>11</td>\n",
       "      <td>78</td>\n",
       "      <td>69</td>\n",
       "      <td>47</td>\n",
       "      <td>19</td>\n",
       "      <td>2</td>\n",
       "    </tr>\n",
       "    <tr>\n",
       "      <td>6</td>\n",
       "      <td>4383</td>\n",
       "      <td>1</td>\n",
       "      <td>575</td>\n",
       "      <td>4.1</td>\n",
       "      <td>509.0</td>\n",
       "      <td>600</td>\n",
       "      <td>3</td>\n",
       "      <td>19</td>\n",
       "      <td>21</td>\n",
       "      <td>23</td>\n",
       "      <td>72</td>\n",
       "      <td>61</td>\n",
       "      <td>13</td>\n",
       "      <td>69</td>\n",
       "      <td>47</td>\n",
       "      <td>19</td>\n",
       "      <td>1</td>\n",
       "    </tr>\n",
       "    <tr>\n",
       "      <td>7</td>\n",
       "      <td>1249</td>\n",
       "      <td>5</td>\n",
       "      <td>1154</td>\n",
       "      <td>4.3</td>\n",
       "      <td>1612.0</td>\n",
       "      <td>1600</td>\n",
       "      <td>17</td>\n",
       "      <td>19</td>\n",
       "      <td>11</td>\n",
       "      <td>98</td>\n",
       "      <td>93</td>\n",
       "      <td>85</td>\n",
       "      <td>78</td>\n",
       "      <td>69</td>\n",
       "      <td>47</td>\n",
       "      <td>19</td>\n",
       "      <td>1</td>\n",
       "    </tr>\n",
       "    <tr>\n",
       "      <td>8</td>\n",
       "      <td>7062</td>\n",
       "      <td>1</td>\n",
       "      <td>142</td>\n",
       "      <td>3.9</td>\n",
       "      <td>101.0</td>\n",
       "      <td>300</td>\n",
       "      <td>21</td>\n",
       "      <td>19</td>\n",
       "      <td>90</td>\n",
       "      <td>66</td>\n",
       "      <td>93</td>\n",
       "      <td>85</td>\n",
       "      <td>78</td>\n",
       "      <td>69</td>\n",
       "      <td>47</td>\n",
       "      <td>19</td>\n",
       "      <td>1</td>\n",
       "    </tr>\n",
       "    <tr>\n",
       "      <td>9</td>\n",
       "      <td>10109</td>\n",
       "      <td>6</td>\n",
       "      <td>282</td>\n",
       "      <td>3.3</td>\n",
       "      <td>219.0</td>\n",
       "      <td>200</td>\n",
       "      <td>21</td>\n",
       "      <td>19</td>\n",
       "      <td>72</td>\n",
       "      <td>98</td>\n",
       "      <td>93</td>\n",
       "      <td>85</td>\n",
       "      <td>78</td>\n",
       "      <td>69</td>\n",
       "      <td>47</td>\n",
       "      <td>19</td>\n",
       "      <td>1</td>\n",
       "    </tr>\n",
       "  </tbody>\n",
       "</table>\n",
       "</div>"
      ],
      "text/plain": [
       "   RESTAURANT_ID  CITY  LOCALITY  RATING   VOTES  COST  TITLE_1  TITLE_2  Cuisine_1  Cuisine_2  Cuisine_3  Cuisine_4  Cuisine_5  Cuisine_6  Cuisine_7  Cuisine_8  num_branch\n",
       "0           9438    14       285     3.6    49.0  1200        4       19         59         32         66         85         78         69         47         19           1\n",
       "1          13198     2      1047     4.2    30.0  1500        4        1          6         60         41         85         78         69         47         19           1\n",
       "2          10915     2      1102     3.8   221.0   800        4       19         72         23         12         32         78         69         47         19           1\n",
       "3           6346     8       136     4.1    24.0   800       21       19        100         23         93         85         78         69         47         19           1\n",
       "4          15387     8       620     3.8   165.0   300        8       19         28         98         93         85         78         69         47         19           1\n",
       "5           5618     8      1361     4.0   550.0   800        4       19         72         23         78         11         78         69         47         19           2\n",
       "6           4383     1       575     4.1   509.0   600        3       19         21         23         72         61         13         69         47         19           1\n",
       "7           1249     5      1154     4.3  1612.0  1600       17       19         11         98         93         85         78         69         47         19           1\n",
       "8           7062     1       142     3.9   101.0   300       21       19         90         66         93         85         78         69         47         19           1\n",
       "9          10109     6       282     3.3   219.0   200       21       19         72         98         93         85         78         69         47         19           1"
      ]
     },
     "execution_count": 257,
     "metadata": {},
     "output_type": "execute_result"
    }
   ],
   "source": [
    "train.head(10)"
   ]
  },
  {
   "cell_type": "code",
   "execution_count": 258,
   "metadata": {},
   "outputs": [
    {
     "data": {
      "text/html": [
       "<div>\n",
       "<style scoped>\n",
       "    .dataframe tbody tr th:only-of-type {\n",
       "        vertical-align: middle;\n",
       "    }\n",
       "\n",
       "    .dataframe tbody tr th {\n",
       "        vertical-align: top;\n",
       "    }\n",
       "\n",
       "    .dataframe thead th {\n",
       "        text-align: right;\n",
       "    }\n",
       "</style>\n",
       "<table border=\"1\" class=\"dataframe\">\n",
       "  <thead>\n",
       "    <tr style=\"text-align: right;\">\n",
       "      <th></th>\n",
       "      <th>RESTAURANT_ID</th>\n",
       "      <th>CITY</th>\n",
       "      <th>LOCALITY</th>\n",
       "      <th>RATING</th>\n",
       "      <th>VOTES</th>\n",
       "      <th>TITLE_1</th>\n",
       "      <th>TITLE_2</th>\n",
       "      <th>Cuisine_1</th>\n",
       "      <th>Cuisine_2</th>\n",
       "      <th>Cuisine_3</th>\n",
       "      <th>Cuisine_4</th>\n",
       "      <th>Cuisine_5</th>\n",
       "      <th>Cuisine_6</th>\n",
       "      <th>Cuisine_7</th>\n",
       "      <th>Cuisine_8</th>\n",
       "      <th>num_branch</th>\n",
       "    </tr>\n",
       "  </thead>\n",
       "  <tbody>\n",
       "    <tr>\n",
       "      <td>0</td>\n",
       "      <td>4085</td>\n",
       "      <td>8</td>\n",
       "      <td>663</td>\n",
       "      <td>4.3</td>\n",
       "      <td>564.0</td>\n",
       "      <td>5</td>\n",
       "      <td>16</td>\n",
       "      <td>60</td>\n",
       "      <td>19</td>\n",
       "      <td>56</td>\n",
       "      <td>33</td>\n",
       "      <td>57</td>\n",
       "      <td>42</td>\n",
       "      <td>34</td>\n",
       "      <td>7</td>\n",
       "      <td>1</td>\n",
       "    </tr>\n",
       "    <tr>\n",
       "      <td>1</td>\n",
       "      <td>12680</td>\n",
       "      <td>5</td>\n",
       "      <td>221</td>\n",
       "      <td>4.2</td>\n",
       "      <td>61.0</td>\n",
       "      <td>22</td>\n",
       "      <td>16</td>\n",
       "      <td>73</td>\n",
       "      <td>24</td>\n",
       "      <td>61</td>\n",
       "      <td>49</td>\n",
       "      <td>57</td>\n",
       "      <td>42</td>\n",
       "      <td>34</td>\n",
       "      <td>7</td>\n",
       "      <td>1</td>\n",
       "    </tr>\n",
       "    <tr>\n",
       "      <td>2</td>\n",
       "      <td>1411</td>\n",
       "      <td>5</td>\n",
       "      <td>411</td>\n",
       "      <td>3.8</td>\n",
       "      <td>350.0</td>\n",
       "      <td>5</td>\n",
       "      <td>16</td>\n",
       "      <td>60</td>\n",
       "      <td>69</td>\n",
       "      <td>13</td>\n",
       "      <td>15</td>\n",
       "      <td>57</td>\n",
       "      <td>42</td>\n",
       "      <td>34</td>\n",
       "      <td>7</td>\n",
       "      <td>1</td>\n",
       "    </tr>\n",
       "    <tr>\n",
       "      <td>3</td>\n",
       "      <td>204</td>\n",
       "      <td>9</td>\n",
       "      <td>456</td>\n",
       "      <td>3.8</td>\n",
       "      <td>1445.0</td>\n",
       "      <td>19</td>\n",
       "      <td>16</td>\n",
       "      <td>12</td>\n",
       "      <td>81</td>\n",
       "      <td>80</td>\n",
       "      <td>68</td>\n",
       "      <td>57</td>\n",
       "      <td>42</td>\n",
       "      <td>34</td>\n",
       "      <td>7</td>\n",
       "      <td>1</td>\n",
       "    </tr>\n",
       "    <tr>\n",
       "      <td>4</td>\n",
       "      <td>13453</td>\n",
       "      <td>4</td>\n",
       "      <td>300</td>\n",
       "      <td>3.6</td>\n",
       "      <td>23.0</td>\n",
       "      <td>22</td>\n",
       "      <td>16</td>\n",
       "      <td>73</td>\n",
       "      <td>42</td>\n",
       "      <td>80</td>\n",
       "      <td>68</td>\n",
       "      <td>57</td>\n",
       "      <td>42</td>\n",
       "      <td>34</td>\n",
       "      <td>7</td>\n",
       "      <td>1</td>\n",
       "    </tr>\n",
       "    <tr>\n",
       "      <td>5</td>\n",
       "      <td>4518</td>\n",
       "      <td>3</td>\n",
       "      <td>77</td>\n",
       "      <td>3.7</td>\n",
       "      <td>36.0</td>\n",
       "      <td>13</td>\n",
       "      <td>6</td>\n",
       "      <td>34</td>\n",
       "      <td>22</td>\n",
       "      <td>80</td>\n",
       "      <td>68</td>\n",
       "      <td>57</td>\n",
       "      <td>42</td>\n",
       "      <td>34</td>\n",
       "      <td>7</td>\n",
       "      <td>1</td>\n",
       "    </tr>\n",
       "    <tr>\n",
       "      <td>6</td>\n",
       "      <td>1643</td>\n",
       "      <td>6</td>\n",
       "      <td>328</td>\n",
       "      <td>2.0</td>\n",
       "      <td>-1.0</td>\n",
       "      <td>5</td>\n",
       "      <td>16</td>\n",
       "      <td>60</td>\n",
       "      <td>72</td>\n",
       "      <td>26</td>\n",
       "      <td>68</td>\n",
       "      <td>57</td>\n",
       "      <td>42</td>\n",
       "      <td>34</td>\n",
       "      <td>7</td>\n",
       "      <td>1</td>\n",
       "    </tr>\n",
       "    <tr>\n",
       "      <td>7</td>\n",
       "      <td>5109</td>\n",
       "      <td>1</td>\n",
       "      <td>471</td>\n",
       "      <td>4.0</td>\n",
       "      <td>703.0</td>\n",
       "      <td>5</td>\n",
       "      <td>16</td>\n",
       "      <td>12</td>\n",
       "      <td>19</td>\n",
       "      <td>80</td>\n",
       "      <td>68</td>\n",
       "      <td>57</td>\n",
       "      <td>42</td>\n",
       "      <td>34</td>\n",
       "      <td>7</td>\n",
       "      <td>1</td>\n",
       "    </tr>\n",
       "    <tr>\n",
       "      <td>8</td>\n",
       "      <td>5606</td>\n",
       "      <td>7</td>\n",
       "      <td>252</td>\n",
       "      <td>3.4</td>\n",
       "      <td>475.0</td>\n",
       "      <td>19</td>\n",
       "      <td>16</td>\n",
       "      <td>60</td>\n",
       "      <td>19</td>\n",
       "      <td>61</td>\n",
       "      <td>20</td>\n",
       "      <td>57</td>\n",
       "      <td>42</td>\n",
       "      <td>34</td>\n",
       "      <td>7</td>\n",
       "      <td>1</td>\n",
       "    </tr>\n",
       "    <tr>\n",
       "      <td>9</td>\n",
       "      <td>14319</td>\n",
       "      <td>4</td>\n",
       "      <td>562</td>\n",
       "      <td>3.2</td>\n",
       "      <td>6.0</td>\n",
       "      <td>5</td>\n",
       "      <td>16</td>\n",
       "      <td>60</td>\n",
       "      <td>81</td>\n",
       "      <td>80</td>\n",
       "      <td>68</td>\n",
       "      <td>57</td>\n",
       "      <td>42</td>\n",
       "      <td>34</td>\n",
       "      <td>7</td>\n",
       "      <td>1</td>\n",
       "    </tr>\n",
       "  </tbody>\n",
       "</table>\n",
       "</div>"
      ],
      "text/plain": [
       "   RESTAURANT_ID  CITY  LOCALITY  RATING   VOTES  TITLE_1  TITLE_2  Cuisine_1  Cuisine_2  Cuisine_3  Cuisine_4  Cuisine_5  Cuisine_6  Cuisine_7  Cuisine_8  num_branch\n",
       "0           4085     8       663     4.3   564.0        5       16         60         19         56         33         57         42         34          7           1\n",
       "1          12680     5       221     4.2    61.0       22       16         73         24         61         49         57         42         34          7           1\n",
       "2           1411     5       411     3.8   350.0        5       16         60         69         13         15         57         42         34          7           1\n",
       "3            204     9       456     3.8  1445.0       19       16         12         81         80         68         57         42         34          7           1\n",
       "4          13453     4       300     3.6    23.0       22       16         73         42         80         68         57         42         34          7           1\n",
       "5           4518     3        77     3.7    36.0       13        6         34         22         80         68         57         42         34          7           1\n",
       "6           1643     6       328     2.0    -1.0        5       16         60         72         26         68         57         42         34          7           1\n",
       "7           5109     1       471     4.0   703.0        5       16         12         19         80         68         57         42         34          7           1\n",
       "8           5606     7       252     3.4   475.0       19       16         60         19         61         20         57         42         34          7           1\n",
       "9          14319     4       562     3.2     6.0        5       16         60         81         80         68         57         42         34          7           1"
      ]
     },
     "execution_count": 258,
     "metadata": {},
     "output_type": "execute_result"
    }
   ],
   "source": [
    "test.head(10)"
   ]
  },
  {
   "cell_type": "code",
   "execution_count": 283,
   "metadata": {},
   "outputs": [],
   "source": [
    "# lets create one more features num_cuisines\n",
    "train['num_cus'] = train_2.CUISINES.apply(lambda x: len(x.split(',')))\n",
    "train['num_title'] = train_2.TITLE.apply(lambda x: len(x.split(',')))\n",
    "test['num_cus'] = test_2.CUISINES.apply(lambda x: len(x.split(',')))\n",
    "test['num_title'] = test_2.TITLE.apply(lambda x: len(x.split(',')))"
   ]
  },
  {
   "cell_type": "code",
   "execution_count": 286,
   "metadata": {},
   "outputs": [],
   "source": [
    "# lets create a copy of both\n",
    "traincopy=train.copy()\n",
    "testcopy=test.copy()"
   ]
  },
  {
   "cell_type": "code",
   "execution_count": 287,
   "metadata": {},
   "outputs": [
    {
     "data": {
      "text/plain": [
       "<matplotlib.axes._subplots.AxesSubplot at 0x1b491b45388>"
      ]
     },
     "execution_count": 287,
     "metadata": {},
     "output_type": "execute_result"
    },
    {
     "data": {
      "image/png": "[encoded data removed]",
      "text/plain": [
       "<Figure size 1224x864 with 2 Axes>"
      ]
     },
     "metadata": {
      "needs_background": "light"
     },
     "output_type": "display_data"
    }
   ],
   "source": [
    "plt.figure(figsize=(17,12))\n",
    "sns.heatmap(train.corr(),annot=True,cmap='coolwarm',linewidths=0.8)"
   ]
  },
  {
   "cell_type": "markdown",
   "metadata": {},
   "source": [
    "# Definitions"
   ]
  },
  {
   "cell_type": "code",
   "execution_count": 262,
   "metadata": {},
   "outputs": [],
   "source": [
    "# this is a regression problem"
   ]
  },
  {
   "cell_type": "code",
   "execution_count": 263,
   "metadata": {},
   "outputs": [],
   "source": [
    "# lets seperate x and y"
   ]
  },
  {
   "cell_type": "code",
   "execution_count": 288,
   "metadata": {},
   "outputs": [],
   "source": [
    "x=train.drop('COST',axis=1)\n",
    "y=train['COST']"
   ]
  },
  {
   "cell_type": "code",
   "execution_count": 289,
   "metadata": {},
   "outputs": [],
   "source": [
    "xs=std(x)"
   ]
  },
  {
   "cell_type": "code",
   "execution_count": 265,
   "metadata": {},
   "outputs": [],
   "source": [
    "from sklearn.linear_model import LinearRegression\n",
    "from sklearn.linear_model import Ridge\n",
    "from sklearn.linear_model import Lasso\n",
    "from sklearn.tree import DecisionTreeRegressor\n",
    "from sklearn.neighbors import KNeighborsRegressor\n",
    "from sklearn.svm import SVR\n",
    "from sklearn.ensemble import RandomForestRegressor,GradientBoostingRegressor\n",
    "from xgboost import XGBRegressor\n",
    "from sklearn.ensemble import AdaBoostRegressor\n",
    "from sklearn.model_selection import cross_val_score,cross_val_predict,cross_validate\n",
    "from sklearn.model_selection import train_test_split\n",
    "from sklearn.metrics import mean_squared_error, mean_absolute_error, r2_score"
   ]
  },
  {
   "cell_type": "code",
   "execution_count": 266,
   "metadata": {},
   "outputs": [],
   "source": [
    "lr=LinearRegression(n_jobs=-1)\n",
    "rid=Ridge(random_state=45)\n",
    "ls=Lasso(random_state=45)\n",
    "dt=DecisionTreeRegressor(random_state=45)\n",
    "svr=SVR()\n",
    "knn=KNeighborsRegressor(n_jobs=-1)\n",
    "rf=RandomForestRegressor(n_jobs=-1,random_state=45)\n",
    "gb=GradientBoostingRegressor(random_state=45)\n",
    "xgb=XGBRegressor(n_jobs=-1,random_state=45)\n",
    "ada=AdaBoostRegressor(random_state=45)"
   ]
  },
  {
   "cell_type": "code",
   "execution_count": 401,
   "metadata": {},
   "outputs": [],
   "source": [
    "# Now, let's define some functions to reuse them\n",
    "def fit(m,x,y,rs=45):\n",
    "    x_train, x_test, y_train, y_test=train_test_split(x,y,test_size=0.25,random_state=rs)\n",
    "    m.fit(x_train,y_train)\n",
    "    \n",
    "def get_score(m,x,y,rs=45):\n",
    "    x_train, x_test, y_train, y_test=train_test_split(x,y,test_size=0.25,random_state=rs)\n",
    "    m.fit(x_train,y_train)\n",
    "    train_score=m.score(x_train,y_train)\n",
    "    pred=m.predict(x_test)\n",
    "    test_score=m.score(x_test,y_test)\n",
    "    rmse=np.sqrt(mean_squared_error(pred,y_test))\n",
    "    return train_score,test_score,rmse\n",
    "\n",
    "def get_pred(m,x,y,rs=45):\n",
    "    x_train, x_test, y_train, y_test=train_test_split(x,y,test_size=0.25,random_state=rs)\n",
    "    m.fit(x_train,y_train)\n",
    "    pred=m.predict(x_test)\n",
    "    return pred\n",
    "\n",
    "def get_metrics(m,x,y,rs=45):\n",
    "    x_train, x_test, y_train, y_test=train_test_split(x,y,test_size=0.25,random_state=rs)\n",
    "    m.fit(x_train,y_train)\n",
    "    pred=m.predict(x_test)\n",
    "    mse=mean_squared_error(pred,y_test)\n",
    "    mae=mean_absolute_error(pred,y_test)\n",
    "    rmse=np.sqrt(mean_squared_error(pred,y_test))\n",
    "    return mse,rmse,mae\n",
    "\n",
    "from sklearn.model_selection import GridSearchCV\n",
    "def gridcv(m,p,x,y):\n",
    "    gkb=GridSearchCV(m,p,n_jobs=-1,cv=4,verbose=5)\n",
    "    gkb.fit(x,y)\n",
    "    return gkb.best_params_\n",
    "\n",
    "\n",
    "from sklearn.model_selection import RandomizedSearchCV\n",
    "def randomcv(m,p,x,y):\n",
    "    from sklearn.model_selection import RandomizedSearchCV\n",
    "    gkb=RandomizedSearchCV(estimator=m,param_distributions=p,\n",
    "                          cv=4,n_iter=100,\n",
    "                          n_jobs=-1, verbose=5,return_train_score=True,random_state=45)\n",
    "    gkb.fit(x,y)\n",
    "    return gkb.best_params_\n",
    "\n",
    "from mlxtend.feature_selection import SequentialFeatureSelector as sfs\n",
    "def bfe(m,x,y,k):\n",
    "    sf=sfs(m, k_features=k, forward=False, verbose=3, cv=5, n_jobs=-1)\n",
    "    sf.fit(x,y)\n",
    "    feat_names=list(sf.k_feature_names_)\n",
    "    xbfe=x[feat_names]\n",
    "    return xbfe\n",
    "\n",
    "def ffs(m,x,y,k):\n",
    "    sf=sfs(m, k_features=k, forward=True, cv=5, n_jobs=-1)\n",
    "    sf.fit(x,y)\n",
    "    feat_names=list(sf.k_feature_names_)\n",
    "    xffs=x[feat_names]\n",
    "    return xffs\n",
    "\n",
    "from sklearn.decomposition import PCA\n",
    "def nforpca(x):\n",
    "    pca=PCA().fit(x)\n",
    "    plt.figure()\n",
    "    plt.plot(np.cumsum(pca.explained_variance_ratio_)*100)\n",
    "    plt.xlabel('No of Components')\n",
    "    plt.ylabel('Variance')\n",
    "    plt.axhline(y=95, color='r', linestyle='--')\n",
    "    plt.show()\n",
    "    \n",
    "def pca(m,x,n):\n",
    "    pca=PCA(n_components=n)\n",
    "    xpca=pd.DataFrame(pca.fit_transform(x))\n",
    "    return xpca\n",
    "\n",
    "\n",
    "def cross(m,x,y,c=5):\n",
    "    score=cross_val_score(m,x,y,cv=c,n_jobs=-1)\n",
    "    return (score.mean(), score.std())\n",
    "\n",
    "from sklearn.preprocessing import StandardScaler\n",
    "def std(x):\n",
    "    scx=StandardScaler()\n",
    "    xs=pd.DataFrame(scx.fit_transform(x), columns=x.columns)\n",
    "    return xs\n",
    "\n",
    "from sklearn.preprocessing import MinMaxScaler\n",
    "def mmc(x):\n",
    "    mm=MinMaxScaler()\n",
    "    xm=pd.DataFrame(mm.fit_transform(x), columns=x.columns)\n",
    "    return xm\n",
    "\n",
    "def modified_bfe(m,x,y,k):\n",
    "    sf=sfs(m, k_features=k,verbose=5, forward=False, cv=5, n_jobs=-1)\n",
    "    sf.fit(x,y)\n",
    "    feat_names=list(sf.k_feature_names_)\n",
    "    xbfe=x[feat_names]\n",
    "    x_train, x_test, y_train, y_test=train_test_split(xbfe,y,test_size=0.25,random_state=45)\n",
    "    m.fit(x_train,y_train)\n",
    "    pred=m.predict(x_test)\n",
    "    test_score=m.score(x_test,y_test)\n",
    "    rmse=np.sqrt(mean_squared_error(pred,y_test))\n",
    "    return test_score,rmse\n",
    "\n",
    "def modified_ffs(m,x,y,k):\n",
    "    sf=sfs(m, k_features=k, forward=True, cv=5, n_jobs=-1)\n",
    "    sf.fit(x,y)\n",
    "    feat_names=list(sf.k_feature_names_)\n",
    "    xffs=x[feat_names]\n",
    "    x_train, x_test, y_train, y_test=train_test_split(xffs,y,test_size=0.25,random_state=45)\n",
    "    m.fit(x_train,y_train)\n",
    "    pred=m.predict(x_test)\n",
    "    test_score=r2_score(pred,y_test)\n",
    "    return test_score\n",
    "\n",
    "def modified_pca(m,x,y,n):\n",
    "    pca=PCA(n_components=n)\n",
    "    xpca=pd.DataFrame(pca.fit_transform(x))\n",
    "    x_train, x_test, y_train, y_test=train_test_split(xpca,y,test_size=0.25,random_state=45)\n",
    "    m.fit(x_train,y_train)\n",
    "    pred=m.predict(x_test)\n",
    "    test_score=m.score(x_test,y_test)\n",
    "    rmse=np.sqrt(mean_squared_error(pred,y_test))\n",
    "    return test_score,rmse\n",
    "\n",
    "def tts(x,y,rs=45):\n",
    "    x_train, x_test, y_train, y_test=train_test_split(x,y,test_size=0.25,random_state=rs)\n",
    "    return x_train, x_test, y_train, y_test"
   ]
  },
  {
   "cell_type": "markdown",
   "metadata": {},
   "source": [
    "# Iteration A"
   ]
  },
  {
   "cell_type": "code",
   "execution_count": 399,
   "metadata": {},
   "outputs": [
    {
     "name": "stdout",
     "output_type": "stream",
     "text": [
      "LR  (0.21063285618062288, 0.22030161190657738, 542.1369263085596)\n",
      "RID  (0.21063281208983753, 0.2203006680868913, 542.1372544350228)\n",
      "LS  (0.21048367106270816, 0.22005716960203725, 542.2219019970142)\n",
      "DT  (1.0, 0.4870266821330643, 439.73705040070826)\n",
      "SVR  (-0.059998444020413766, -0.06302420281272014, 633.0197313684893)\n",
      "KNN  (0.3254923082353818, -0.02394725138534115, 621.2758371938103)\n",
      "RF  (0.9384387505201166, 0.6622680023459697, 356.8056932234573)\n",
      "GB  (0.7240739859210574, 0.6785447826057592, 348.1015126473802)\n",
      "XGB  (0.9378135317672289, 0.6902783654046492, 341.68934974335065)\n"
     ]
    }
   ],
   "source": [
    "print(\"LR \", get_score(lr,x,y))\n",
    "print(\"RID \", get_score(rid,x,y))\n",
    "print(\"LS \", get_score(ls,x,y))\n",
    "print(\"DT \", get_score(dt,x,y))\n",
    "print(\"SVR \", get_score(svr,x,y))\n",
    "print(\"KNN \", get_score(knn,x,y))\n",
    "print(\"RF \", get_score(rf,x,y))\n",
    "print(\"GB \", get_score(gb,x,y))\n",
    "print(\"XGB \", get_score(xgb,x,y))"
   ]
  },
  {
   "cell_type": "markdown",
   "metadata": {},
   "source": [
    "# Iteration B"
   ]
  },
  {
   "cell_type": "code",
   "execution_count": 400,
   "metadata": {},
   "outputs": [
    {
     "name": "stdout",
     "output_type": "stream",
     "text": [
      "LR  (0.21063285618062275, 0.22030161190657727, 542.1369263085597)\n",
      "RID  (0.21063284348096956, 0.22030170302147123, 542.1368946317275)\n",
      "LS  (0.21044420322125904, 0.2201818967190201, 542.1785446662007)\n",
      "DT  (1.0, 0.4867570520752077, 439.8526029509465)\n",
      "SVR  (0.05782920220180188, 0.06760306097790425, 592.8517286562264)\n",
      "KNN  (0.5411626653444872, 0.30031752331814554, 513.5658883008306)\n",
      "RF  (0.9384478282247585, 0.6625808919339151, 356.6403747811605)\n",
      "GB  (0.7240739859210574, 0.6806980323013204, 346.9336845007251)\n",
      "XGB  (0.9378135317672289, 0.6901075396624504, 341.78356545857196)\n"
     ]
    }
   ],
   "source": [
    "print(\"LR \", get_score(lr,xs,y))\n",
    "print(\"RID \", get_score(rid,xs,y))\n",
    "print(\"LS \", get_score(ls,xs,y))\n",
    "print(\"DT \", get_score(dt,xs,y))\n",
    "print(\"SVR \", get_score(svr,xs,y))\n",
    "print(\"KNN \", get_score(knn,xs,y))\n",
    "print(\"RF \", get_score(rf,xs,y))\n",
    "print(\"GB \", get_score(gb,xs,y))\n",
    "print(\"XGB \", get_score(xgb,xs,y))"
   ]
  },
  {
   "cell_type": "code",
   "execution_count": 272,
   "metadata": {},
   "outputs": [],
   "source": [
    "# lets build a DT, RF, GB and XGB with x"
   ]
  },
  {
   "cell_type": "markdown",
   "metadata": {},
   "source": [
    "# cross validate"
   ]
  },
  {
   "cell_type": "code",
   "execution_count": 292,
   "metadata": {},
   "outputs": [
    {
     "name": "stdout",
     "output_type": "stream",
     "text": [
      "2   (0.376717771402978, 0.14834925369155905)\n",
      "3   (0.4008456088282049, 0.11120216585896235)\n",
      "4   (0.3878867552064398, 0.1284234066224939)\n",
      "5   (0.3992156634720588, 0.09859718120388797)\n",
      "6   (0.40475776934070157, 0.12318178541584796)\n",
      "7   (0.4134154532362463, 0.1817794363195314)\n",
      "8   (0.4163911930158489, 0.16480507709500314)\n",
      "9   (0.4603353072748426, 0.09887465750405589)\n",
      "10   (0.4987707267455911, 0.053629267103841985)\n",
      "11   (0.45622322616009964, 0.12176421931891226)\n",
      "12   (0.40984166739073374, 0.12809518431023967)\n",
      "13   (0.46361204343804563, 0.08809563972550233)\n",
      "14   (0.5000654895187203, 0.06846526864874194)\n",
      "15   (0.3969041764716425, 0.24446593271667375)\n",
      "16   (0.4412326774438615, 0.1356232686004953)\n",
      "17   (0.41780070950649695, 0.1839395881081454)\n",
      "18   (0.4508003043214395, 0.12120099456867667)\n",
      "19   (0.4215031075966368, 0.17766612442863366)\n",
      "20   (0.35436495196125833, 0.3130725469018113)\n",
      "21   (0.46852241843552944, 0.17045402109136765)\n",
      "22   (0.3932695134829526, 0.31071588260031435)\n",
      "23   (0.42692805277958934, 0.164391149974634)\n",
      "24   (0.33953147660469735, 0.3382261199112446)\n"
     ]
    }
   ],
   "source": [
    "for i in range(2,25):\n",
    "    print(i,\" \",cross(dt,x,y,i))"
   ]
  },
  {
   "cell_type": "code",
   "execution_count": 293,
   "metadata": {
    "scrolled": false
   },
   "outputs": [
    {
     "name": "stdout",
     "output_type": "stream",
     "text": [
      "2   (0.6568215563574706, 0.007073093091473082)\n",
      "3   (0.6716383370713631, 0.008386972279266961)\n",
      "4   (0.6627370225869537, 0.03685582298349829)\n",
      "5   (0.6743854650169958, 0.03455838637204341)\n",
      "6   (0.6626155817352196, 0.03652223513758161)\n",
      "7   (0.6738206522799075, 0.04609657217680525)\n",
      "8   (0.6732819569798487, 0.04511792867038785)\n",
      "9   (0.6710594849841838, 0.04660317419208069)\n",
      "10   (0.6640091719474114, 0.07076497084169243)\n",
      "11   (0.6772411652428204, 0.05934855960136151)\n",
      "12   (0.6734252612913801, 0.0642853190666899)\n",
      "13   (0.6801305796656659, 0.058799361822006214)\n",
      "14   (0.6704953029349918, 0.07480471117498634)\n",
      "15   (0.6750650757954113, 0.08057979861919966)\n",
      "16   (0.6824469820069611, 0.05021256227353595)\n",
      "17   (0.6535482687550698, 0.08217120103069729)\n",
      "18   (0.6768241358942002, 0.06338407598569883)\n",
      "19   (0.6757710954495452, 0.09402975296951031)\n",
      "20   (0.6791106985443718, 0.05883882850073167)\n",
      "21   (0.6658489568135441, 0.07353249853536707)\n",
      "22   (0.6801277939990302, 0.06328054343383686)\n",
      "23   (0.6760253723127794, 0.09170559145771397)\n",
      "24   (0.6775110087218147, 0.07906859497849741)\n"
     ]
    }
   ],
   "source": [
    "for i in range(2,25):\n",
    "    print(i,\" \",cross(rf,x,y,i))"
   ]
  },
  {
   "cell_type": "code",
   "execution_count": 296,
   "metadata": {},
   "outputs": [],
   "source": [
    "# max score=6824 at cv=16"
   ]
  },
  {
   "cell_type": "code",
   "execution_count": 294,
   "metadata": {},
   "outputs": [
    {
     "name": "stdout",
     "output_type": "stream",
     "text": [
      "2   (0.6757675252306068, 0.02431749266296751)\n",
      "3   (0.6880679654513596, 0.03231267032762902)\n",
      "4   (0.6845137181142624, 0.03521578439483711)\n",
      "5   (0.6865524929226704, 0.039885825465397595)\n",
      "6   (0.6907275797282009, 0.0424618000494228)\n",
      "7   (0.6888577062967737, 0.04716802216375505)\n",
      "8   (0.6871029526792083, 0.04511459649951579)\n",
      "9   (0.6933012921541724, 0.04711281199595612)\n",
      "10   (0.6955452046907664, 0.05210155413624665)\n",
      "11   (0.6955920079331611, 0.0515106868640479)\n",
      "12   (0.6917513427749498, 0.05437711046897797)\n",
      "13   (0.696150690869443, 0.05801185638725264)\n",
      "14   (0.6918266239947662, 0.05843737135567054)\n",
      "15   (0.6933505746657059, 0.054891768027408964)\n",
      "16   (0.6915611284243355, 0.05812387900359044)\n",
      "17   (0.6962261125625003, 0.059978399532600694)\n",
      "18   (0.6958359044539453, 0.05437843376957439)\n",
      "19   (0.6961339460674987, 0.057281506186034774)\n",
      "20   (0.697221470254805, 0.06252948697860833)\n",
      "21   (0.6973098499736784, 0.06486880396284583)\n",
      "22   (0.6957249043775783, 0.05998714263261864)\n",
      "23   (0.6971143917687612, 0.06127375286090226)\n",
      "24   (0.6937268552013439, 0.06795310156946797)\n"
     ]
    }
   ],
   "source": [
    "for i in range(2,25):\n",
    "    print(i,\" \",cross(gb,x,y,i))"
   ]
  },
  {
   "cell_type": "code",
   "execution_count": 297,
   "metadata": {},
   "outputs": [],
   "source": [
    "# max score=6973 at cv=21"
   ]
  },
  {
   "cell_type": "code",
   "execution_count": 295,
   "metadata": {},
   "outputs": [
    {
     "name": "stdout",
     "output_type": "stream",
     "text": [
      "2   (0.7005865571427379, 0.008217778010535692)\n",
      "3   (0.7166537751850615, 0.016300359537495476)\n",
      "4   (0.7083248288365231, 0.028471366894297103)\n",
      "5   (0.7204978794706699, 0.037305261997807246)\n",
      "6   (0.7227728525895851, 0.04580626822250402)\n",
      "7   (0.7199754336230809, 0.04842718193161665)\n",
      "8   (0.7208559064171347, 0.04880274818345503)\n",
      "9   (0.7294900807234013, 0.04478061354363389)\n",
      "10   (0.7333581774261098, 0.0488142976969972)\n",
      "11   (0.7255436345139992, 0.04824136382546612)\n",
      "12   (0.7272198635815453, 0.055488902294169556)\n",
      "13   (0.7318112092938988, 0.05871534488350626)\n",
      "14   (0.7202712982794297, 0.05824193916617792)\n",
      "15   (0.7282220794091582, 0.06202703436117543)\n",
      "16   (0.7273404735153306, 0.05504261366863455)\n",
      "17   (0.7275348396645986, 0.059680298398255754)\n",
      "18   (0.7332401796441661, 0.06545776767868311)\n",
      "19   (0.7272619446152566, 0.06373964272908039)\n",
      "20   (0.7276821513016235, 0.06277882511484036)\n",
      "21   (0.7330341903117925, 0.06918586519486865)\n",
      "22   (0.7262777684989128, 0.06594188004278323)\n",
      "23   (0.7289448121132743, 0.06519998232938815)\n",
      "24   (0.7258515101492669, 0.0721851533851321)\n"
     ]
    }
   ],
   "source": [
    "for i in range(2,25):\n",
    "    print(i,\" \",cross(xgb,x,y,i))"
   ]
  },
  {
   "cell_type": "code",
   "execution_count": 298,
   "metadata": {},
   "outputs": [],
   "source": [
    "# max score=7333 at cv=10"
   ]
  },
  {
   "cell_type": "code",
   "execution_count": 299,
   "metadata": {},
   "outputs": [],
   "source": [
    "# lets compare errors of each\n",
    "predrf=cross_val_predict(rf,x,y,cv=16)\n",
    "predgb=cross_val_predict(gb,x,y,cv=21)\n",
    "predxgb=cross_val_predict(xgb,x,y,cv=10)"
   ]
  },
  {
   "cell_type": "code",
   "execution_count": 300,
   "metadata": {},
   "outputs": [
    {
     "name": "stdout",
     "output_type": "stream",
     "text": [
      "354.6646319941548 349.1520551298389 327.3229691665264\n"
     ]
    }
   ],
   "source": [
    "rmserf=np.sqrt(mean_squared_error(y,predrf))\n",
    "rmsegb=np.sqrt(mean_squared_error(y,predgb))\n",
    "rmsexgb=np.sqrt(mean_squared_error(y,predxgb))\n",
    "print( rmserf,rmsegb,rmsexgb)"
   ]
  },
  {
   "cell_type": "code",
   "execution_count": 301,
   "metadata": {},
   "outputs": [],
   "source": [
    "# best 2 are gb and xgb"
   ]
  },
  {
   "cell_type": "markdown",
   "metadata": {},
   "source": [
    "# GradientBoosting"
   ]
  },
  {
   "cell_type": "code",
   "execution_count": 302,
   "metadata": {},
   "outputs": [],
   "source": [
    "# lets try feature reduction first"
   ]
  },
  {
   "cell_type": "code",
   "execution_count": 303,
   "metadata": {},
   "outputs": [
    {
     "data": {
      "text/plain": [
       "Index(['RESTAURANT_ID', 'CITY', 'LOCALITY', 'RATING', 'VOTES', 'COST', 'TITLE_1', 'TITLE_2', 'Cuisine_1', 'Cuisine_2', 'Cuisine_3', 'Cuisine_4', 'Cuisine_5', 'Cuisine_6', 'Cuisine_7', 'Cuisine_8', 'num_branch', 'num_cus', 'num_title'], dtype='object')"
      ]
     },
     "execution_count": 303,
     "metadata": {},
     "output_type": "execute_result"
    }
   ],
   "source": [
    "train.columns"
   ]
  },
  {
   "cell_type": "code",
   "execution_count": 304,
   "metadata": {},
   "outputs": [
    {
     "data": {
      "text/plain": [
       "Index(['RESTAURANT_ID', 'CITY', 'LOCALITY', 'RATING', 'VOTES', 'TITLE_1', 'TITLE_2', 'Cuisine_1', 'Cuisine_2', 'Cuisine_3', 'Cuisine_4', 'Cuisine_5', 'Cuisine_6', 'Cuisine_7', 'Cuisine_8', 'num_branch', 'num_cus', 'num_title'], dtype='object')"
      ]
     },
     "execution_count": 304,
     "metadata": {},
     "output_type": "execute_result"
    }
   ],
   "source": [
    "test.columns"
   ]
  },
  {
   "cell_type": "code",
   "execution_count": 305,
   "metadata": {},
   "outputs": [],
   "source": [
    "# max score=0.6973 at cv=21"
   ]
  },
  {
   "cell_type": "code",
   "execution_count": 306,
   "metadata": {},
   "outputs": [
    {
     "data": {
      "text/plain": [
       "(0.6985811845474773, 0.06547410877147976)"
      ]
     },
     "execution_count": 306,
     "metadata": {},
     "output_type": "execute_result"
    }
   ],
   "source": [
    "x1=x.drop(['RESTAURANT_ID'],axis=1)\n",
    "cross(gb,x1,y,21)"
   ]
  },
  {
   "cell_type": "code",
   "execution_count": 307,
   "metadata": {},
   "outputs": [],
   "source": [
    "# score improved"
   ]
  },
  {
   "cell_type": "code",
   "execution_count": 308,
   "metadata": {},
   "outputs": [
    {
     "data": {
      "text/plain": [
       "(0.6994106549314703, 0.06539371474971892)"
      ]
     },
     "execution_count": 308,
     "metadata": {},
     "output_type": "execute_result"
    }
   ],
   "source": [
    "x2=x.drop(['RESTAURANT_ID','LOCALITY'],axis=1)\n",
    "cross(gb,x2,y,21)"
   ]
  },
  {
   "cell_type": "code",
   "execution_count": 309,
   "metadata": {},
   "outputs": [],
   "source": [
    "# score improved"
   ]
  },
  {
   "cell_type": "code",
   "execution_count": 312,
   "metadata": {},
   "outputs": [
    {
     "data": {
      "text/plain": [
       "(0.401095267776418, 0.07153553905434976)"
      ]
     },
     "execution_count": 312,
     "metadata": {},
     "output_type": "execute_result"
    }
   ],
   "source": [
    "x3=x.drop(['RESTAURANT_ID','LOCALITY','TITLE_1'],axis=1)\n",
    "cross(gb,x3,y,21)"
   ]
  },
  {
   "cell_type": "code",
   "execution_count": 311,
   "metadata": {},
   "outputs": [],
   "source": [
    "# reduced"
   ]
  },
  {
   "cell_type": "code",
   "execution_count": 313,
   "metadata": {},
   "outputs": [
    {
     "data": {
      "text/plain": [
       "(0.6993904236137516, 0.06492560457275075)"
      ]
     },
     "execution_count": 313,
     "metadata": {},
     "output_type": "execute_result"
    }
   ],
   "source": [
    "x4=x.drop(['RESTAURANT_ID','LOCALITY','num_branch'],axis=1)\n",
    "cross(gb,x4,y,21)"
   ]
  },
  {
   "cell_type": "code",
   "execution_count": 314,
   "metadata": {},
   "outputs": [],
   "source": [
    "# reduced"
   ]
  },
  {
   "cell_type": "code",
   "execution_count": 315,
   "metadata": {},
   "outputs": [
    {
     "data": {
      "text/plain": [
       "(0.6994345286141146, 0.06537373018224629)"
      ]
     },
     "execution_count": 315,
     "metadata": {},
     "output_type": "execute_result"
    }
   ],
   "source": [
    "x5=x.drop(['RESTAURANT_ID','LOCALITY','num_title'],axis=1)\n",
    "cross(gb,x5,y,21)"
   ]
  },
  {
   "cell_type": "code",
   "execution_count": 316,
   "metadata": {},
   "outputs": [],
   "source": [
    "# score improved a little"
   ]
  },
  {
   "cell_type": "code",
   "execution_count": 317,
   "metadata": {},
   "outputs": [
    {
     "data": {
      "text/plain": [
       "(0.6994610074852436, 0.06539312148556779)"
      ]
     },
     "execution_count": 317,
     "metadata": {},
     "output_type": "execute_result"
    }
   ],
   "source": [
    "x6=x.drop(['RESTAURANT_ID','LOCALITY','num_title','num_cus'],axis=1)\n",
    "cross(gb,x6,y,21)"
   ]
  },
  {
   "cell_type": "code",
   "execution_count": 318,
   "metadata": {},
   "outputs": [],
   "source": [
    "# score improved"
   ]
  },
  {
   "cell_type": "code",
   "execution_count": 319,
   "metadata": {},
   "outputs": [
    {
     "data": {
      "text/plain": [
       "Index(['RESTAURANT_ID', 'CITY', 'LOCALITY', 'RATING', 'VOTES', 'COST', 'TITLE_1', 'TITLE_2', 'Cuisine_1', 'Cuisine_2', 'Cuisine_3', 'Cuisine_4', 'Cuisine_5', 'Cuisine_6', 'Cuisine_7', 'Cuisine_8', 'num_branch', 'num_cus', 'num_title'], dtype='object')"
      ]
     },
     "execution_count": 319,
     "metadata": {},
     "output_type": "execute_result"
    }
   ],
   "source": [
    "train.columns"
   ]
  },
  {
   "cell_type": "code",
   "execution_count": 321,
   "metadata": {},
   "outputs": [
    {
     "data": {
      "text/plain": [
       "(0.6995521897023937, 0.06539405438113491)"
      ]
     },
     "execution_count": 321,
     "metadata": {},
     "output_type": "execute_result"
    }
   ],
   "source": [
    "x7=x.drop(['RESTAURANT_ID','LOCALITY','num_title','num_cus','Cuisine_8','Cuisine_7','Cuisine_6','Cuisine_5'],axis=1)\n",
    "cross(gb,x7,y,21)"
   ]
  },
  {
   "cell_type": "code",
   "execution_count": 322,
   "metadata": {},
   "outputs": [],
   "source": [
    "# score improved"
   ]
  },
  {
   "cell_type": "code",
   "execution_count": 329,
   "metadata": {},
   "outputs": [
    {
     "data": {
      "text/plain": [
       "(0.7022403346609065, 0.06348381142747174)"
      ]
     },
     "execution_count": 329,
     "metadata": {},
     "output_type": "execute_result"
    }
   ],
   "source": [
    "x8=x.drop(['RESTAURANT_ID','LOCALITY','num_title','num_cus','Cuisine_8','Cuisine_7','Cuisine_6','Cuisine_5','Cuisine_4','Cuisine_3'],axis=1)\n",
    "cross(gb,x8,y,21)"
   ]
  },
  {
   "cell_type": "code",
   "execution_count": 327,
   "metadata": {},
   "outputs": [
    {
     "data": {
      "text/plain": [
       "(0.6939595722971151, 0.06226038095581659)"
      ]
     },
     "execution_count": 327,
     "metadata": {},
     "output_type": "execute_result"
    }
   ],
   "source": [
    "x9=x.drop(['RESTAURANT_ID','LOCALITY','Cuisine_8','Cuisine_7','Cuisine_6','Cuisine_5','Cuisine_4','Cuisine_3','Cuisine_2','Cuisine_1','num_title','num_cus'],axis=1)\n",
    "cross(gb,x9,y,21)"
   ]
  },
  {
   "cell_type": "code",
   "execution_count": 328,
   "metadata": {},
   "outputs": [
    {
     "data": {
      "text/plain": [
       "(0.69999735234044, 0.06299684430720612)"
      ]
     },
     "execution_count": 328,
     "metadata": {},
     "output_type": "execute_result"
    }
   ],
   "source": [
    "x10=x.drop(['RESTAURANT_ID','LOCALITY','num_title','num_cus','Cuisine_8','Cuisine_7','Cuisine_6','Cuisine_5','Cuisine_4','Cuisine_3','Cuisine_2'],axis=1)\n",
    "cross(gb,x10,y,21)"
   ]
  },
  {
   "cell_type": "code",
   "execution_count": 331,
   "metadata": {},
   "outputs": [
    {
     "data": {
      "text/plain": [
       "(12690, 8)"
      ]
     },
     "execution_count": 331,
     "metadata": {},
     "output_type": "execute_result"
    }
   ],
   "source": [
    "# the best score is with x8\n",
    "x8.shape"
   ]
  },
  {
   "cell_type": "code",
   "execution_count": 334,
   "metadata": {},
   "outputs": [
    {
     "data": {
      "text/plain": [
       "346.21841203621375"
      ]
     },
     "execution_count": 334,
     "metadata": {},
     "output_type": "execute_result"
    }
   ],
   "source": [
    "# evaluation metrics of x8\n",
    "pred8=cross_val_predict(gb,x8,y,cv=21)\n",
    "rmsex8=np.sqrt(mean_squared_error(y,pred8))\n",
    "rmsex8"
   ]
  },
  {
   "cell_type": "code",
   "execution_count": 332,
   "metadata": {},
   "outputs": [],
   "source": [
    "# we have chosen 8 features"
   ]
  },
  {
   "cell_type": "code",
   "execution_count": 333,
   "metadata": {},
   "outputs": [
    {
     "data": {
      "text/plain": [
       "(12690, 18)"
      ]
     },
     "execution_count": 333,
     "metadata": {},
     "output_type": "execute_result"
    }
   ],
   "source": [
    "# now, lets apply bfe on x as well as x8\n",
    "x.shape"
   ]
  },
  {
   "cell_type": "code",
   "execution_count": null,
   "metadata": {},
   "outputs": [],
   "source": [
    "# rmse of gb with x is 349.1520551298389"
   ]
  },
  {
   "cell_type": "code",
   "execution_count": 337,
   "metadata": {},
   "outputs": [
    {
     "name": "stderr",
     "output_type": "stream",
     "text": [
      "[Parallel(n_jobs=-1)]: Using backend LokyBackend with 4 concurrent workers.\n",
      "[Parallel(n_jobs=-1)]: Done  10 tasks      | elapsed:   35.0s\n",
      "[Parallel(n_jobs=-1)]: Done  15 out of  18 | elapsed:   45.2s remaining:    9.0s\n",
      "[Parallel(n_jobs=-1)]: Done  18 out of  18 | elapsed:   52.3s finished\n",
      "\n",
      "[2020-03-29 19:07:16] Features: 17/7 -- score: 0.6937176620739363[Parallel(n_jobs=-1)]: Using backend LokyBackend with 4 concurrent workers.\n",
      "[Parallel(n_jobs=-1)]: Done  10 tasks      | elapsed:   28.5s\n",
      "[Parallel(n_jobs=-1)]: Done  14 out of  17 | elapsed:   37.7s remaining:    8.0s\n",
      "[Parallel(n_jobs=-1)]: Done  17 out of  17 | elapsed:   42.1s finished\n",
      "\n",
      "[2020-03-29 19:07:59] Features: 16/7 -- score: 0.6956420103561666[Parallel(n_jobs=-1)]: Using backend LokyBackend with 4 concurrent workers.\n",
      "[Parallel(n_jobs=-1)]: Done  13 out of  16 | elapsed:   32.8s remaining:    7.5s\n",
      "[Parallel(n_jobs=-1)]: Done  16 out of  16 | elapsed:   33.6s finished\n",
      "\n",
      "[2020-03-29 19:08:32] Features: 15/7 -- score: 0.6973406376179035[Parallel(n_jobs=-1)]: Using backend LokyBackend with 4 concurrent workers.\n",
      "[Parallel(n_jobs=-1)]: Done  12 out of  15 | elapsed:   24.9s remaining:    6.2s\n",
      "[Parallel(n_jobs=-1)]: Done  15 out of  15 | elapsed:   32.3s finished\n",
      "\n",
      "[2020-03-29 19:09:05] Features: 14/7 -- score: 0.6975256858999062[Parallel(n_jobs=-1)]: Using backend LokyBackend with 4 concurrent workers.\n",
      "[Parallel(n_jobs=-1)]: Done  10 out of  14 | elapsed:   20.0s remaining:    7.9s\n",
      "[Parallel(n_jobs=-1)]: Done  14 out of  14 | elapsed:   25.2s finished\n",
      "\n",
      "[2020-03-29 19:09:30] Features: 13/7 -- score: 0.698766592117353[Parallel(n_jobs=-1)]: Using backend LokyBackend with 4 concurrent workers.\n",
      "[Parallel(n_jobs=-1)]: Done   9 out of  13 | elapsed:   18.0s remaining:    8.0s\n",
      "[Parallel(n_jobs=-1)]: Done  13 out of  13 | elapsed:   21.7s finished\n",
      "\n",
      "[2020-03-29 19:09:52] Features: 12/7 -- score: 0.6997872851724181[Parallel(n_jobs=-1)]: Using backend LokyBackend with 4 concurrent workers.\n",
      "[Parallel(n_jobs=-1)]: Done   8 out of  12 | elapsed:   11.5s remaining:    5.7s\n",
      "[Parallel(n_jobs=-1)]: Done  12 out of  12 | elapsed:   17.2s finished\n",
      "\n",
      "[2020-03-29 19:10:09] Features: 11/7 -- score: 0.6998709448970691[Parallel(n_jobs=-1)]: Using backend LokyBackend with 4 concurrent workers.\n",
      "[Parallel(n_jobs=-1)]: Done   7 out of  11 | elapsed:   10.4s remaining:    5.9s\n",
      "[Parallel(n_jobs=-1)]: Done  11 out of  11 | elapsed:   15.3s finished\n",
      "\n",
      "[2020-03-29 19:10:25] Features: 10/7 -- score: 0.6998839298753875[Parallel(n_jobs=-1)]: Using backend LokyBackend with 4 concurrent workers.\n",
      "[Parallel(n_jobs=-1)]: Done   6 out of  10 | elapsed:    9.0s remaining:    6.0s\n",
      "[Parallel(n_jobs=-1)]: Done  10 out of  10 | elapsed:   12.7s finished\n",
      "\n",
      "[2020-03-29 19:10:37] Features: 9/7 -- score: 0.6998525454364584[Parallel(n_jobs=-1)]: Using backend LokyBackend with 4 concurrent workers.\n",
      "[Parallel(n_jobs=-1)]: Done   4 out of   9 | elapsed:    4.7s remaining:    5.9s\n",
      "[Parallel(n_jobs=-1)]: Done   6 out of   9 | elapsed:    8.7s remaining:    4.3s\n",
      "[Parallel(n_jobs=-1)]: Done   9 out of   9 | elapsed:   11.2s finished\n",
      "\n",
      "[2020-03-29 19:10:49] Features: 8/7 -- score: 0.6990655440622153[Parallel(n_jobs=-1)]: Using backend LokyBackend with 4 concurrent workers.\n",
      "[Parallel(n_jobs=-1)]: Done   3 out of   8 | elapsed:    3.5s remaining:    5.9s\n",
      "[Parallel(n_jobs=-1)]: Done   5 out of   8 | elapsed:    7.1s remaining:    4.2s\n",
      "[Parallel(n_jobs=-1)]: Done   8 out of   8 | elapsed:    7.4s finished\n",
      "\n",
      "[2020-03-29 19:10:56] Features: 7/7 -- score: 0.7011712735097965"
     ]
    },
    {
     "data": {
      "text/plain": [
       "(0.5432309915472193, 336.8828929744155)"
      ]
     },
     "execution_count": 337,
     "metadata": {},
     "output_type": "execute_result"
    }
   ],
   "source": [
    "modified_bfe(gb,x,y,7)"
   ]
  },
  {
   "cell_type": "code",
   "execution_count": 338,
   "metadata": {},
   "outputs": [],
   "source": [
    "# max score at 10 features"
   ]
  },
  {
   "cell_type": "code",
   "execution_count": 339,
   "metadata": {},
   "outputs": [
    {
     "name": "stderr",
     "output_type": "stream",
     "text": [
      "[Parallel(n_jobs=-1)]: Using backend LokyBackend with 4 concurrent workers.\n",
      "[Parallel(n_jobs=-1)]: Done  10 tasks      | elapsed:   32.3s\n",
      "[Parallel(n_jobs=-1)]: Done  15 out of  18 | elapsed:   43.1s remaining:    8.5s\n",
      "[Parallel(n_jobs=-1)]: Done  18 out of  18 | elapsed:   51.0s finished\n",
      "\n",
      "[2020-03-29 19:12:36] Features: 17/10 -- score: 0.6937176620739363[Parallel(n_jobs=-1)]: Using backend LokyBackend with 4 concurrent workers.\n",
      "[Parallel(n_jobs=-1)]: Done  10 tasks      | elapsed:   30.7s\n",
      "[Parallel(n_jobs=-1)]: Done  14 out of  17 | elapsed:   42.8s remaining:    9.1s\n",
      "[Parallel(n_jobs=-1)]: Done  17 out of  17 | elapsed:   48.9s finished\n",
      "\n",
      "[2020-03-29 19:13:25] Features: 16/10 -- score: 0.6956420103561666[Parallel(n_jobs=-1)]: Using backend LokyBackend with 4 concurrent workers.\n",
      "[Parallel(n_jobs=-1)]: Done  13 out of  16 | elapsed:   33.4s remaining:    7.6s\n",
      "[Parallel(n_jobs=-1)]: Done  16 out of  16 | elapsed:   34.0s finished\n",
      "\n",
      "[2020-03-29 19:13:59] Features: 15/10 -- score: 0.6973406376179035[Parallel(n_jobs=-1)]: Using backend LokyBackend with 4 concurrent workers.\n",
      "[Parallel(n_jobs=-1)]: Done  12 out of  15 | elapsed:   25.6s remaining:    6.3s\n",
      "[Parallel(n_jobs=-1)]: Done  15 out of  15 | elapsed:   33.0s finished\n",
      "\n",
      "[2020-03-29 19:14:32] Features: 14/10 -- score: 0.6975256858999062[Parallel(n_jobs=-1)]: Using backend LokyBackend with 4 concurrent workers.\n",
      "[Parallel(n_jobs=-1)]: Done  10 out of  14 | elapsed:   20.1s remaining:    8.0s\n",
      "[Parallel(n_jobs=-1)]: Done  14 out of  14 | elapsed:   25.3s finished\n",
      "\n",
      "[2020-03-29 19:14:58] Features: 13/10 -- score: 0.698766592117353[Parallel(n_jobs=-1)]: Using backend LokyBackend with 4 concurrent workers.\n",
      "[Parallel(n_jobs=-1)]: Done   9 out of  13 | elapsed:   18.7s remaining:    8.2s\n",
      "[Parallel(n_jobs=-1)]: Done  13 out of  13 | elapsed:   22.4s finished\n",
      "\n",
      "[2020-03-29 19:15:20] Features: 12/10 -- score: 0.6997872851724181[Parallel(n_jobs=-1)]: Using backend LokyBackend with 4 concurrent workers.\n",
      "[Parallel(n_jobs=-1)]: Done   8 out of  12 | elapsed:   12.3s remaining:    6.1s\n",
      "[Parallel(n_jobs=-1)]: Done  12 out of  12 | elapsed:   19.2s finished\n",
      "\n",
      "[2020-03-29 19:15:40] Features: 11/10 -- score: 0.6998709448970691[Parallel(n_jobs=-1)]: Using backend LokyBackend with 4 concurrent workers.\n",
      "[Parallel(n_jobs=-1)]: Done   7 out of  11 | elapsed:   12.1s remaining:    6.9s\n",
      "[Parallel(n_jobs=-1)]: Done  11 out of  11 | elapsed:   17.1s finished\n",
      "\n",
      "[2020-03-29 19:15:57] Features: 10/10 -- score: 0.6998839298753875"
     ]
    },
    {
     "data": {
      "text/plain": [
       "(0.5390476436650065, 339.157531606754)"
      ]
     },
     "execution_count": 339,
     "metadata": {},
     "output_type": "execute_result"
    }
   ],
   "source": [
    "modified_bfe(gb,x,y,10)"
   ]
  },
  {
   "cell_type": "code",
   "execution_count": 340,
   "metadata": {},
   "outputs": [
    {
     "name": "stderr",
     "output_type": "stream",
     "text": [
      "[Parallel(n_jobs=-1)]: Using backend LokyBackend with 4 concurrent workers.\n",
      "[Parallel(n_jobs=-1)]: Done  10 tasks      | elapsed:   31.7s\n",
      "[Parallel(n_jobs=-1)]: Done  15 out of  18 | elapsed:   42.4s remaining:    8.4s\n",
      "[Parallel(n_jobs=-1)]: Done  18 out of  18 | elapsed:   50.1s finished\n",
      "\n",
      "[2020-03-29 19:17:18] Features: 17/8 -- score: 0.6937176620739363[Parallel(n_jobs=-1)]: Using backend LokyBackend with 4 concurrent workers.\n",
      "[Parallel(n_jobs=-1)]: Done  10 tasks      | elapsed:   28.6s\n",
      "[Parallel(n_jobs=-1)]: Done  14 out of  17 | elapsed:   38.1s remaining:    8.1s\n",
      "[Parallel(n_jobs=-1)]: Done  17 out of  17 | elapsed:   42.9s finished\n",
      "\n",
      "[2020-03-29 19:18:01] Features: 16/8 -- score: 0.6956420103561666[Parallel(n_jobs=-1)]: Using backend LokyBackend with 4 concurrent workers.\n",
      "[Parallel(n_jobs=-1)]: Done  13 out of  16 | elapsed:   34.1s remaining:    7.8s\n",
      "[Parallel(n_jobs=-1)]: Done  16 out of  16 | elapsed:   34.7s finished\n",
      "\n",
      "[2020-03-29 19:18:36] Features: 15/8 -- score: 0.6973406376179035[Parallel(n_jobs=-1)]: Using backend LokyBackend with 4 concurrent workers.\n",
      "[Parallel(n_jobs=-1)]: Done  12 out of  15 | elapsed:   26.8s remaining:    6.6s\n",
      "[Parallel(n_jobs=-1)]: Done  15 out of  15 | elapsed:   35.4s finished\n",
      "\n",
      "[2020-03-29 19:19:11] Features: 14/8 -- score: 0.6975256858999062[Parallel(n_jobs=-1)]: Using backend LokyBackend with 4 concurrent workers.\n",
      "[Parallel(n_jobs=-1)]: Done  10 out of  14 | elapsed:   22.1s remaining:    8.8s\n",
      "[Parallel(n_jobs=-1)]: Done  14 out of  14 | elapsed:   28.0s finished\n",
      "\n",
      "[2020-03-29 19:19:39] Features: 13/8 -- score: 0.698766592117353[Parallel(n_jobs=-1)]: Using backend LokyBackend with 4 concurrent workers.\n",
      "[Parallel(n_jobs=-1)]: Done   9 out of  13 | elapsed:   23.4s remaining:   10.4s\n",
      "[Parallel(n_jobs=-1)]: Done  13 out of  13 | elapsed:   28.7s finished\n",
      "\n",
      "[2020-03-29 19:20:08] Features: 12/8 -- score: 0.6997872851724181[Parallel(n_jobs=-1)]: Using backend LokyBackend with 4 concurrent workers.\n",
      "[Parallel(n_jobs=-1)]: Done   8 out of  12 | elapsed:   12.3s remaining:    6.1s\n",
      "[Parallel(n_jobs=-1)]: Done  12 out of  12 | elapsed:   18.8s finished\n",
      "\n",
      "[2020-03-29 19:20:27] Features: 11/8 -- score: 0.6998709448970691[Parallel(n_jobs=-1)]: Using backend LokyBackend with 4 concurrent workers.\n",
      "[Parallel(n_jobs=-1)]: Done   7 out of  11 | elapsed:   12.0s remaining:    6.8s\n",
      "[Parallel(n_jobs=-1)]: Done  11 out of  11 | elapsed:   17.0s finished\n",
      "\n",
      "[2020-03-29 19:20:44] Features: 10/8 -- score: 0.6998839298753875[Parallel(n_jobs=-1)]: Using backend LokyBackend with 4 concurrent workers.\n",
      "[Parallel(n_jobs=-1)]: Done   6 out of  10 | elapsed:    9.1s remaining:    6.0s\n",
      "[Parallel(n_jobs=-1)]: Done  10 out of  10 | elapsed:   13.0s finished\n",
      "\n",
      "[2020-03-29 19:20:57] Features: 9/8 -- score: 0.6998525454364584[Parallel(n_jobs=-1)]: Using backend LokyBackend with 4 concurrent workers.\n",
      "[Parallel(n_jobs=-1)]: Done   4 out of   9 | elapsed:    6.4s remaining:    8.0s\n",
      "[Parallel(n_jobs=-1)]: Done   6 out of   9 | elapsed:   11.3s remaining:    5.6s\n",
      "[Parallel(n_jobs=-1)]: Done   9 out of   9 | elapsed:   14.1s finished\n",
      "\n",
      "[2020-03-29 19:21:12] Features: 8/8 -- score: 0.6990655440622153"
     ]
    },
    {
     "data": {
      "text/plain": [
       "(0.5490527547763284, 335.2658409819451)"
      ]
     },
     "execution_count": 340,
     "metadata": {},
     "output_type": "execute_result"
    }
   ],
   "source": [
    "modified_bfe(gb,x,y,8)"
   ]
  },
  {
   "cell_type": "code",
   "execution_count": 341,
   "metadata": {},
   "outputs": [
    {
     "name": "stderr",
     "output_type": "stream",
     "text": [
      "[Parallel(n_jobs=-1)]: Using backend LokyBackend with 4 concurrent workers.\n",
      "[Parallel(n_jobs=-1)]: Done  10 tasks      | elapsed:   31.6s\n",
      "[Parallel(n_jobs=-1)]: Done  15 out of  18 | elapsed:   42.0s remaining:    8.3s\n",
      "[Parallel(n_jobs=-1)]: Done  18 out of  18 | elapsed:   49.9s finished\n",
      "\n",
      "[2020-03-29 19:22:43] Features: 17/6 -- score: 0.6937176620739363[Parallel(n_jobs=-1)]: Using backend LokyBackend with 4 concurrent workers.\n",
      "[Parallel(n_jobs=-1)]: Done  10 tasks      | elapsed:   28.8s\n",
      "[Parallel(n_jobs=-1)]: Done  14 out of  17 | elapsed:   38.3s remaining:    8.1s\n",
      "[Parallel(n_jobs=-1)]: Done  17 out of  17 | elapsed:   43.1s finished\n",
      "\n",
      "[2020-03-29 19:23:26] Features: 16/6 -- score: 0.6956420103561666[Parallel(n_jobs=-1)]: Using backend LokyBackend with 4 concurrent workers.\n",
      "[Parallel(n_jobs=-1)]: Done  13 out of  16 | elapsed:   32.9s remaining:    7.5s\n",
      "[Parallel(n_jobs=-1)]: Done  16 out of  16 | elapsed:   33.6s finished\n",
      "\n",
      "[2020-03-29 19:24:00] Features: 15/6 -- score: 0.6973406376179035[Parallel(n_jobs=-1)]: Using backend LokyBackend with 4 concurrent workers.\n",
      "[Parallel(n_jobs=-1)]: Done  12 out of  15 | elapsed:   23.6s remaining:    5.8s\n",
      "[Parallel(n_jobs=-1)]: Done  15 out of  15 | elapsed:   31.0s finished\n",
      "\n",
      "[2020-03-29 19:24:31] Features: 14/6 -- score: 0.6975256858999062[Parallel(n_jobs=-1)]: Using backend LokyBackend with 4 concurrent workers.\n",
      "[Parallel(n_jobs=-1)]: Done  10 out of  14 | elapsed:   20.6s remaining:    8.2s\n",
      "[Parallel(n_jobs=-1)]: Done  14 out of  14 | elapsed:   25.6s finished\n",
      "\n",
      "[2020-03-29 19:24:56] Features: 13/6 -- score: 0.698766592117353[Parallel(n_jobs=-1)]: Using backend LokyBackend with 4 concurrent workers.\n",
      "[Parallel(n_jobs=-1)]: Done   9 out of  13 | elapsed:   18.8s remaining:    8.3s\n",
      "[Parallel(n_jobs=-1)]: Done  13 out of  13 | elapsed:   22.5s finished\n",
      "\n",
      "[2020-03-29 19:25:19] Features: 12/6 -- score: 0.6997872851724181[Parallel(n_jobs=-1)]: Using backend LokyBackend with 4 concurrent workers.\n",
      "[Parallel(n_jobs=-1)]: Done   8 out of  12 | elapsed:   11.5s remaining:    5.7s\n",
      "[Parallel(n_jobs=-1)]: Done  12 out of  12 | elapsed:   17.3s finished\n",
      "\n",
      "[2020-03-29 19:25:36] Features: 11/6 -- score: 0.6998709448970691[Parallel(n_jobs=-1)]: Using backend LokyBackend with 4 concurrent workers.\n",
      "[Parallel(n_jobs=-1)]: Done   7 out of  11 | elapsed:   10.4s remaining:    5.9s\n",
      "[Parallel(n_jobs=-1)]: Done  11 out of  11 | elapsed:   15.4s finished\n",
      "\n",
      "[2020-03-29 19:25:52] Features: 10/6 -- score: 0.6998839298753875[Parallel(n_jobs=-1)]: Using backend LokyBackend with 4 concurrent workers.\n",
      "[Parallel(n_jobs=-1)]: Done   6 out of  10 | elapsed:    9.6s remaining:    6.3s\n",
      "[Parallel(n_jobs=-1)]: Done  10 out of  10 | elapsed:   13.3s finished\n",
      "\n",
      "[2020-03-29 19:26:05] Features: 9/6 -- score: 0.6998525454364584[Parallel(n_jobs=-1)]: Using backend LokyBackend with 4 concurrent workers.\n",
      "[Parallel(n_jobs=-1)]: Done   4 out of   9 | elapsed:    4.4s remaining:    5.5s\n",
      "[Parallel(n_jobs=-1)]: Done   6 out of   9 | elapsed:    8.3s remaining:    4.1s\n",
      "[Parallel(n_jobs=-1)]: Done   9 out of   9 | elapsed:   11.1s finished\n",
      "\n",
      "[2020-03-29 19:26:17] Features: 8/6 -- score: 0.6990655440622153[Parallel(n_jobs=-1)]: Using backend LokyBackend with 4 concurrent workers.\n",
      "[Parallel(n_jobs=-1)]: Done   3 out of   8 | elapsed:    3.6s remaining:    6.1s\n",
      "[Parallel(n_jobs=-1)]: Done   5 out of   8 | elapsed:    7.3s remaining:    4.4s\n",
      "[Parallel(n_jobs=-1)]: Done   8 out of   8 | elapsed:    7.5s finished\n",
      "\n",
      "[2020-03-29 19:26:24] Features: 7/6 -- score: 0.7011712735097965[Parallel(n_jobs=-1)]: Using backend LokyBackend with 4 concurrent workers.\n",
      "[Parallel(n_jobs=-1)]: Done   2 out of   7 | elapsed:    3.5s remaining:    8.9s\n",
      "[Parallel(n_jobs=-1)]: Done   4 out of   7 | elapsed:    3.7s remaining:    2.8s\n",
      "[Parallel(n_jobs=-1)]: Done   7 out of   7 | elapsed:    6.9s finished\n",
      "\n",
      "[2020-03-29 19:26:31] Features: 6/6 -- score: 0.700161694148067"
     ]
    },
    {
     "data": {
      "text/plain": [
       "(0.5467343463622183, 337.94121066881627)"
      ]
     },
     "execution_count": 341,
     "metadata": {},
     "output_type": "execute_result"
    }
   ],
   "source": [
    "modified_bfe(gb,x,y,6)"
   ]
  },
  {
   "cell_type": "code",
   "execution_count": 342,
   "metadata": {},
   "outputs": [
    {
     "name": "stderr",
     "output_type": "stream",
     "text": [
      "[Parallel(n_jobs=-1)]: Using backend LokyBackend with 4 concurrent workers.\n",
      "[Parallel(n_jobs=-1)]: Done  10 tasks      | elapsed:   31.2s\n",
      "[Parallel(n_jobs=-1)]: Done  15 out of  18 | elapsed:   41.7s remaining:    8.3s\n",
      "[Parallel(n_jobs=-1)]: Done  18 out of  18 | elapsed:   49.2s finished\n",
      "\n",
      "[2020-03-29 19:27:39] Features: 17/9 -- score: 0.6937176620739363[Parallel(n_jobs=-1)]: Using backend LokyBackend with 4 concurrent workers.\n",
      "[Parallel(n_jobs=-1)]: Done  10 tasks      | elapsed:   29.4s\n",
      "[Parallel(n_jobs=-1)]: Done  14 out of  17 | elapsed:   38.8s remaining:    8.2s\n",
      "[Parallel(n_jobs=-1)]: Done  17 out of  17 | elapsed:   43.6s finished\n",
      "\n",
      "[2020-03-29 19:28:23] Features: 16/9 -- score: 0.6956420103561666[Parallel(n_jobs=-1)]: Using backend LokyBackend with 4 concurrent workers.\n",
      "[Parallel(n_jobs=-1)]: Done  13 out of  16 | elapsed:   33.2s remaining:    7.6s\n",
      "[Parallel(n_jobs=-1)]: Done  16 out of  16 | elapsed:   33.9s finished\n",
      "\n",
      "[2020-03-29 19:28:57] Features: 15/9 -- score: 0.6973406376179035[Parallel(n_jobs=-1)]: Using backend LokyBackend with 4 concurrent workers.\n",
      "[Parallel(n_jobs=-1)]: Done  12 out of  15 | elapsed:   23.3s remaining:    5.8s\n",
      "[Parallel(n_jobs=-1)]: Done  15 out of  15 | elapsed:   30.5s finished\n",
      "\n",
      "[2020-03-29 19:29:28] Features: 14/9 -- score: 0.6975256858999062[Parallel(n_jobs=-1)]: Using backend LokyBackend with 4 concurrent workers.\n",
      "[Parallel(n_jobs=-1)]: Done  10 out of  14 | elapsed:   20.2s remaining:    8.0s\n",
      "[Parallel(n_jobs=-1)]: Done  14 out of  14 | elapsed:   25.2s finished\n",
      "\n",
      "[2020-03-29 19:29:53] Features: 13/9 -- score: 0.698766592117353[Parallel(n_jobs=-1)]: Using backend LokyBackend with 4 concurrent workers.\n",
      "[Parallel(n_jobs=-1)]: Done   9 out of  13 | elapsed:   18.7s remaining:    8.3s\n",
      "[Parallel(n_jobs=-1)]: Done  13 out of  13 | elapsed:   22.3s finished\n",
      "\n",
      "[2020-03-29 19:30:16] Features: 12/9 -- score: 0.6997872851724181[Parallel(n_jobs=-1)]: Using backend LokyBackend with 4 concurrent workers.\n",
      "[Parallel(n_jobs=-1)]: Done   8 out of  12 | elapsed:   11.5s remaining:    5.7s\n",
      "[Parallel(n_jobs=-1)]: Done  12 out of  12 | elapsed:   17.0s finished\n",
      "\n",
      "[2020-03-29 19:30:33] Features: 11/9 -- score: 0.6998709448970691[Parallel(n_jobs=-1)]: Using backend LokyBackend with 4 concurrent workers.\n",
      "[Parallel(n_jobs=-1)]: Done   7 out of  11 | elapsed:   10.3s remaining:    5.9s\n",
      "[Parallel(n_jobs=-1)]: Done  11 out of  11 | elapsed:   15.3s finished\n",
      "\n",
      "[2020-03-29 19:30:48] Features: 10/9 -- score: 0.6998839298753875[Parallel(n_jobs=-1)]: Using backend LokyBackend with 4 concurrent workers.\n",
      "[Parallel(n_jobs=-1)]: Done   6 out of  10 | elapsed:    9.5s remaining:    6.3s\n",
      "[Parallel(n_jobs=-1)]: Done  10 out of  10 | elapsed:   13.4s finished\n",
      "\n",
      "[2020-03-29 19:31:02] Features: 9/9 -- score: 0.6998525454364584"
     ]
    },
    {
     "data": {
      "text/plain": [
       "(0.5390671065209336, 339.3220699602727)"
      ]
     },
     "execution_count": 342,
     "metadata": {},
     "output_type": "execute_result"
    }
   ],
   "source": [
    "modified_bfe(gb,x,y,9)"
   ]
  },
  {
   "cell_type": "code",
   "execution_count": 343,
   "metadata": {},
   "outputs": [
    {
     "name": "stderr",
     "output_type": "stream",
     "text": [
      "[Parallel(n_jobs=-1)]: Using backend LokyBackend with 4 concurrent workers.\n",
      "[Parallel(n_jobs=-1)]: Done  18 out of  18 | elapsed:   55.6s remaining:    0.0s\n",
      "[Parallel(n_jobs=-1)]: Done  18 out of  18 | elapsed:   55.6s finished\n",
      "\n",
      "[2020-03-29 19:33:10] Features: 17/8 -- score: 0.6937176620739363[Parallel(n_jobs=-1)]: Using backend LokyBackend with 4 concurrent workers.\n",
      "[Parallel(n_jobs=-1)]: Done  17 out of  17 | elapsed:   51.6s finished\n",
      "\n",
      "[2020-03-29 19:34:02] Features: 16/8 -- score: 0.6956420103561666[Parallel(n_jobs=-1)]: Using backend LokyBackend with 4 concurrent workers.\n",
      "[Parallel(n_jobs=-1)]: Done  16 out of  16 | elapsed:   33.2s finished\n",
      "\n",
      "[2020-03-29 19:34:35] Features: 15/8 -- score: 0.6973406376179035[Parallel(n_jobs=-1)]: Using backend LokyBackend with 4 concurrent workers.\n",
      "[Parallel(n_jobs=-1)]: Done  15 out of  15 | elapsed:   30.4s finished\n",
      "\n",
      "[2020-03-29 19:35:05] Features: 14/8 -- score: 0.6975256858999062[Parallel(n_jobs=-1)]: Using backend LokyBackend with 4 concurrent workers.\n",
      "[Parallel(n_jobs=-1)]: Done  12 out of  14 | elapsed:   21.1s remaining:    3.4s\n",
      "[Parallel(n_jobs=-1)]: Done  14 out of  14 | elapsed:   26.1s finished\n",
      "\n",
      "[2020-03-29 19:35:32] Features: 13/8 -- score: 0.698766592117353[Parallel(n_jobs=-1)]: Using backend LokyBackend with 4 concurrent workers.\n",
      "[Parallel(n_jobs=-1)]: Done  11 out of  13 | elapsed:   21.1s remaining:    3.7s\n",
      "[Parallel(n_jobs=-1)]: Done  13 out of  13 | elapsed:   24.7s finished\n",
      "\n",
      "[2020-03-29 19:35:57] Features: 12/8 -- score: 0.6997872851724181[Parallel(n_jobs=-1)]: Using backend LokyBackend with 4 concurrent workers.\n",
      "[Parallel(n_jobs=-1)]: Done  10 out of  12 | elapsed:   18.3s remaining:    3.6s\n",
      "[Parallel(n_jobs=-1)]: Done  12 out of  12 | elapsed:   18.5s finished\n",
      "\n",
      "[2020-03-29 19:36:15] Features: 11/8 -- score: 0.6998709448970691[Parallel(n_jobs=-1)]: Using backend LokyBackend with 4 concurrent workers.\n",
      "[Parallel(n_jobs=-1)]: Done   8 out of  11 | elapsed:   10.5s remaining:    3.9s\n",
      "[Parallel(n_jobs=-1)]: Done  11 out of  11 | elapsed:   15.3s finished\n",
      "\n",
      "[2020-03-29 19:36:30] Features: 10/8 -- score: 0.6998839298753875[Parallel(n_jobs=-1)]: Using backend LokyBackend with 4 concurrent workers.\n",
      "[Parallel(n_jobs=-1)]: Done   7 out of  10 | elapsed:    9.4s remaining:    4.0s\n",
      "[Parallel(n_jobs=-1)]: Done  10 out of  10 | elapsed:   13.0s finished\n",
      "\n",
      "[2020-03-29 19:36:44] Features: 9/8 -- score: 0.6998525454364584[Parallel(n_jobs=-1)]: Using backend LokyBackend with 4 concurrent workers.\n",
      "[Parallel(n_jobs=-1)]: Done   6 out of   9 | elapsed:    8.7s remaining:    4.3s\n",
      "[Parallel(n_jobs=-1)]: Done   9 out of   9 | elapsed:   11.5s finished\n",
      "\n",
      "[2020-03-29 19:36:55] Features: 8/8 -- score: 0.6990655440622153"
     ]
    },
    {
     "data": {
      "text/html": [
       "<div>\n",
       "<style scoped>\n",
       "    .dataframe tbody tr th:only-of-type {\n",
       "        vertical-align: middle;\n",
       "    }\n",
       "\n",
       "    .dataframe tbody tr th {\n",
       "        vertical-align: top;\n",
       "    }\n",
       "\n",
       "    .dataframe thead th {\n",
       "        text-align: right;\n",
       "    }\n",
       "</style>\n",
       "<table border=\"1\" class=\"dataframe\">\n",
       "  <thead>\n",
       "    <tr style=\"text-align: right;\">\n",
       "      <th></th>\n",
       "      <th>CITY</th>\n",
       "      <th>RATING</th>\n",
       "      <th>TITLE_1</th>\n",
       "      <th>TITLE_2</th>\n",
       "      <th>Cuisine_1</th>\n",
       "      <th>Cuisine_2</th>\n",
       "      <th>Cuisine_6</th>\n",
       "      <th>num_cus</th>\n",
       "    </tr>\n",
       "  </thead>\n",
       "  <tbody>\n",
       "    <tr>\n",
       "      <td>0</td>\n",
       "      <td>14</td>\n",
       "      <td>3.6</td>\n",
       "      <td>4</td>\n",
       "      <td>19</td>\n",
       "      <td>59</td>\n",
       "      <td>32</td>\n",
       "      <td>69</td>\n",
       "      <td>3</td>\n",
       "    </tr>\n",
       "    <tr>\n",
       "      <td>1</td>\n",
       "      <td>2</td>\n",
       "      <td>4.2</td>\n",
       "      <td>4</td>\n",
       "      <td>1</td>\n",
       "      <td>6</td>\n",
       "      <td>60</td>\n",
       "      <td>69</td>\n",
       "      <td>3</td>\n",
       "    </tr>\n",
       "    <tr>\n",
       "      <td>2</td>\n",
       "      <td>2</td>\n",
       "      <td>3.8</td>\n",
       "      <td>4</td>\n",
       "      <td>19</td>\n",
       "      <td>72</td>\n",
       "      <td>23</td>\n",
       "      <td>69</td>\n",
       "      <td>4</td>\n",
       "    </tr>\n",
       "    <tr>\n",
       "      <td>3</td>\n",
       "      <td>8</td>\n",
       "      <td>4.1</td>\n",
       "      <td>21</td>\n",
       "      <td>19</td>\n",
       "      <td>100</td>\n",
       "      <td>23</td>\n",
       "      <td>69</td>\n",
       "      <td>2</td>\n",
       "    </tr>\n",
       "    <tr>\n",
       "      <td>4</td>\n",
       "      <td>8</td>\n",
       "      <td>3.8</td>\n",
       "      <td>8</td>\n",
       "      <td>19</td>\n",
       "      <td>28</td>\n",
       "      <td>98</td>\n",
       "      <td>69</td>\n",
       "      <td>1</td>\n",
       "    </tr>\n",
       "  </tbody>\n",
       "</table>\n",
       "</div>"
      ],
      "text/plain": [
       "   CITY  RATING  TITLE_1  TITLE_2  Cuisine_1  Cuisine_2  Cuisine_6  num_cus\n",
       "0    14     3.6        4       19         59         32         69        3\n",
       "1     2     4.2        4        1          6         60         69        3\n",
       "2     2     3.8        4       19         72         23         69        4\n",
       "3     8     4.1       21       19        100         23         69        2\n",
       "4     8     3.8        8       19         28         98         69        1"
      ]
     },
     "execution_count": 343,
     "metadata": {},
     "output_type": "execute_result"
    }
   ],
   "source": [
    "# least error at k=8\n",
    "xb8=bfe(gb,x,y,8)\n",
    "xb8.head()"
   ]
  },
  {
   "cell_type": "code",
   "execution_count": 345,
   "metadata": {},
   "outputs": [
    {
     "data": {
      "text/plain": [
       "(0.7052450052938766, 0.062468429401064236)"
      ]
     },
     "execution_count": 345,
     "metadata": {},
     "output_type": "execute_result"
    }
   ],
   "source": [
    "# lets check cross val score\n",
    "cross(gb,xb8,y,21)"
   ]
  },
  {
   "cell_type": "code",
   "execution_count": 346,
   "metadata": {},
   "outputs": [
    {
     "data": {
      "text/plain": [
       "344.552638844301"
      ]
     },
     "execution_count": 346,
     "metadata": {},
     "output_type": "execute_result"
    }
   ],
   "source": [
    "predxb8=cross_val_predict(gb,xb8,y,cv=21)\n",
    "rmsexb8=np.sqrt(mean_squared_error(y,predxb8))\n",
    "rmsexb8"
   ]
  },
  {
   "cell_type": "code",
   "execution_count": 350,
   "metadata": {},
   "outputs": [
    {
     "data": {
      "text/plain": [
       "346.4848567363434"
      ]
     },
     "execution_count": 350,
     "metadata": {},
     "output_type": "execute_result"
    }
   ],
   "source": [
    "predxb8=cross_val_predict(gb,xb8,y,cv=2)\n",
    "rmsexb8=np.sqrt(mean_squared_error(y,predxb8))\n",
    "rmsexb8"
   ]
  },
  {
   "cell_type": "code",
   "execution_count": 351,
   "metadata": {},
   "outputs": [],
   "source": [
    "# error increased\n",
    "# the cross validated score has better r2_score but the error is better in gb with xb8"
   ]
  },
  {
   "cell_type": "code",
   "execution_count": 352,
   "metadata": {},
   "outputs": [
    {
     "name": "stdout",
     "output_type": "stream",
     "text": [
      "6   (-1.978500983985422, 527.6886991814542)\n",
      "7   (-1.9269683243332718, 524.5424233260783)\n",
      "8   (-1.8253968427772125, 523.1484699540188)\n",
      "9   (-1.8354879759152851, 522.3000461529851)\n",
      "10   (-1.8435660369673768, 523.1814044804594)\n",
      "11   (-1.84691473548948, 521.5978448179786)\n",
      "12   (-1.8529539095827925, 519.7400405353724)\n",
      "13   (-1.8848986823918508, 519.0326990688505)\n",
      "14   (-1.8249236523821621, 518.0037503590231)\n",
      "15   (-1.8402222306222127, 518.4823929749094)\n",
      "16   (-1.8353110973885696, 517.0639536941685)\n",
      "17   (-1.5322008787778487, 507.02488802937313)\n"
     ]
    }
   ],
   "source": [
    "# lets apply pca\n",
    "for i in range(6,18):\n",
    "    print(i,\" \",modified_pca(gb,xs,y,i))"
   ]
  },
  {
   "cell_type": "code",
   "execution_count": 353,
   "metadata": {},
   "outputs": [],
   "source": [
    "# we won't use pca"
   ]
  },
  {
   "cell_type": "code",
   "execution_count": 355,
   "metadata": {},
   "outputs": [],
   "source": [
    "# now, lets compare cross validated vs normal models"
   ]
  },
  {
   "cell_type": "code",
   "execution_count": 377,
   "metadata": {},
   "outputs": [],
   "source": [
    "xb8tr,xb8te,yb8tr,yb8te=tts(xb8,y)"
   ]
  },
  {
   "cell_type": "code",
   "execution_count": 378,
   "metadata": {},
   "outputs": [
    {
     "data": {
      "text/plain": [
       "((9517, 8), (9517,))"
      ]
     },
     "execution_count": 378,
     "metadata": {},
     "output_type": "execute_result"
    }
   ],
   "source": [
    "xb8tr.shape,yb8tr.shape"
   ]
  },
  {
   "cell_type": "code",
   "execution_count": 379,
   "metadata": {},
   "outputs": [
    {
     "data": {
      "text/plain": [
       "0.7172388806680146"
      ]
     },
     "execution_count": 379,
     "metadata": {},
     "output_type": "execute_result"
    }
   ],
   "source": [
    "gb.fit(xb8tr,yb8tr)\n",
    "gb.score(xb8tr,yb8tr)"
   ]
  },
  {
   "cell_type": "code",
   "execution_count": 380,
   "metadata": {},
   "outputs": [
    {
     "data": {
      "text/plain": [
       "0.7018139843469136"
      ]
     },
     "execution_count": 380,
     "metadata": {},
     "output_type": "execute_result"
    }
   ],
   "source": [
    "pred=gb.predict(xb8te)\n",
    "# pred=pred.reshape(-1,1)\n",
    "# yb8te=np.array(yb8te).reshape(-1,1)\n",
    "gb.score(xb8te,yb8te)"
   ]
  },
  {
   "cell_type": "code",
   "execution_count": 383,
   "metadata": {},
   "outputs": [
    {
     "data": {
      "text/plain": [
       "335.2658409819451"
      ]
     },
     "execution_count": 383,
     "metadata": {},
     "output_type": "execute_result"
    }
   ],
   "source": [
    "rmse=np.sqrt(mean_squared_error(yb8te,pred))\n",
    "rmse"
   ]
  },
  {
   "cell_type": "code",
   "execution_count": 384,
   "metadata": {},
   "outputs": [],
   "source": [
    "# the score is 335"
   ]
  },
  {
   "cell_type": "code",
   "execution_count": 393,
   "metadata": {},
   "outputs": [
    {
     "data": {
      "text/plain": [
       "(0.7052450052938766, 0.062468429401064215)"
      ]
     },
     "execution_count": 393,
     "metadata": {},
     "output_type": "execute_result"
    }
   ],
   "source": [
    "cross(gb,xb8,y,21)"
   ]
  },
  {
   "cell_type": "code",
   "execution_count": 386,
   "metadata": {},
   "outputs": [
    {
     "data": {
      "text/plain": [
       "344.552638844301"
      ]
     },
     "execution_count": 386,
     "metadata": {},
     "output_type": "execute_result"
    }
   ],
   "source": [
    "predxb8=cross_val_predict(gb,xb8,y,cv=21)\n",
    "rmsexb8=np.sqrt(mean_squared_error(y,predxb8))\n",
    "rmsexb8"
   ]
  },
  {
   "cell_type": "code",
   "execution_count": 396,
   "metadata": {},
   "outputs": [
    {
     "data": {
      "text/plain": [
       "(0.7172388806680146, 0.7018139843469136, 335.2658409819451)"
      ]
     },
     "execution_count": 396,
     "metadata": {},
     "output_type": "execute_result"
    }
   ],
   "source": [
    "get_score(gb,xb8,y)"
   ]
  },
  {
   "cell_type": "code",
   "execution_count": 387,
   "metadata": {},
   "outputs": [],
   "source": [
    "# so, gb with xb8 is better than cross validated"
   ]
  },
  {
   "cell_type": "code",
   "execution_count": 388,
   "metadata": {},
   "outputs": [],
   "source": [
    "# lets compare x8 also"
   ]
  },
  {
   "cell_type": "code",
   "execution_count": 392,
   "metadata": {
    "scrolled": true
   },
   "outputs": [
    {
     "data": {
      "text/plain": [
       "(0.7169149744669172, 0.6913069151180539, 341.12152253083804)"
      ]
     },
     "execution_count": 392,
     "metadata": {},
     "output_type": "execute_result"
    }
   ],
   "source": [
    "get_score(gb,x8,y)"
   ]
  },
  {
   "cell_type": "code",
   "execution_count": 394,
   "metadata": {},
   "outputs": [
    {
     "data": {
      "text/plain": [
       "(0.7022403346609065, 0.06348381142747174)"
      ]
     },
     "execution_count": 394,
     "metadata": {},
     "output_type": "execute_result"
    }
   ],
   "source": [
    "cross(gb,x8,y,21)"
   ]
  },
  {
   "cell_type": "code",
   "execution_count": 395,
   "metadata": {},
   "outputs": [],
   "source": [
    "# the cross val model is performing lesser than the normal one"
   ]
  },
  {
   "cell_type": "code",
   "execution_count": 397,
   "metadata": {},
   "outputs": [],
   "source": [
    "# so far, the best score is with gb,xb8,y"
   ]
  },
  {
   "cell_type": "code",
   "execution_count": 398,
   "metadata": {},
   "outputs": [],
   "source": [
    "# lets tune the model"
   ]
  },
  {
   "cell_type": "code",
   "execution_count": 402,
   "metadata": {},
   "outputs": [],
   "source": [
    "GradientBoostingRegressor?"
   ]
  },
  {
   "cell_type": "code",
   "execution_count": 403,
   "metadata": {},
   "outputs": [
    {
     "name": "stdout",
     "output_type": "stream",
     "text": [
      "Fitting 4 folds for each of 24 candidates, totalling 96 fits\n"
     ]
    },
    {
     "name": "stderr",
     "output_type": "stream",
     "text": [
      "[Parallel(n_jobs=-1)]: Using backend LokyBackend with 4 concurrent workers.\n",
      "[Parallel(n_jobs=-1)]: Done  10 tasks      | elapsed:    2.0s\n",
      "[Parallel(n_jobs=-1)]: Done  64 tasks      | elapsed:   13.3s\n",
      "[Parallel(n_jobs=-1)]: Done  96 out of  96 | elapsed:   21.2s finished\n"
     ]
    },
    {
     "data": {
      "text/plain": [
       "{'loss': 'ls', 'max_features': 'auto', 'warm_start': True}"
      ]
     },
     "execution_count": 403,
     "metadata": {},
     "output_type": "execute_result"
    }
   ],
   "source": [
    "param_gb={'loss':['ls', 'lad', 'huber', 'quantile'],\n",
    "          'max_features':['auto','sqrt','log2'],'warm_start':[True,False]}\n",
    "gridcv(gb,param_gb,xb8,y)"
   ]
  },
  {
   "cell_type": "code",
   "execution_count": 404,
   "metadata": {},
   "outputs": [],
   "source": [
    "gb1=GradientBoostingRegressor(random_state=45,loss='ls',max_features= 'auto', warm_start= True)"
   ]
  },
  {
   "cell_type": "code",
   "execution_count": 405,
   "metadata": {},
   "outputs": [
    {
     "name": "stdout",
     "output_type": "stream",
     "text": [
      "Fitting 4 folds for each of 100 candidates, totalling 400 fits\n"
     ]
    },
    {
     "name": "stderr",
     "output_type": "stream",
     "text": [
      "[Parallel(n_jobs=-1)]: Using backend LokyBackend with 4 concurrent workers.\n",
      "[Parallel(n_jobs=-1)]: Done  10 tasks      | elapsed:    6.9s\n",
      "[Parallel(n_jobs=-1)]: Done  64 tasks      | elapsed:  1.1min\n",
      "[Parallel(n_jobs=-1)]: Done 154 tasks      | elapsed:  3.1min\n",
      "[Parallel(n_jobs=-1)]: Done 280 tasks      | elapsed:  6.3min\n",
      "[Parallel(n_jobs=-1)]: Done 400 out of 400 | elapsed:  8.2min finished\n"
     ]
    },
    {
     "data": {
      "text/plain": [
       "{'min_samples_split': 2,\n",
       " 'min_samples_leaf': 4,\n",
       " 'max_depth': 4,\n",
       " 'learning_rate': 0.1,\n",
       " 'alpha': 0.7}"
      ]
     },
     "execution_count": 405,
     "metadata": {},
     "output_type": "execute_result"
    }
   ],
   "source": [
    "param_gb1={'learning_rate':[0.0001,0.001,0.01,0.1,1,2],'min_samples_split':[2,3,4,5,8],\n",
    "          'min_samples_leaf':[1,2,3,4],'max_depth':[2,4,6,8,10,12],'alpha':[0.1,0.2,0.4,0.7,0.9]}\n",
    "randomcv(gb1,param_gb1,xb8,y)"
   ]
  },
  {
   "cell_type": "code",
   "execution_count": 409,
   "metadata": {},
   "outputs": [
    {
     "name": "stdout",
     "output_type": "stream",
     "text": [
      "Fitting 4 folds for each of 100 candidates, totalling 400 fits\n"
     ]
    },
    {
     "name": "stderr",
     "output_type": "stream",
     "text": [
      "[Parallel(n_jobs=-1)]: Using backend LokyBackend with 4 concurrent workers.\n",
      "[Parallel(n_jobs=-1)]: Done  10 tasks      | elapsed:    7.5s\n",
      "[Parallel(n_jobs=-1)]: Done  64 tasks      | elapsed:   26.9s\n",
      "[Parallel(n_jobs=-1)]: Done 154 tasks      | elapsed:  1.2min\n",
      "[Parallel(n_jobs=-1)]: Done 280 tasks      | elapsed:  2.2min\n",
      "[Parallel(n_jobs=-1)]: Done 400 out of 400 | elapsed:  3.2min finished\n"
     ]
    },
    {
     "data": {
      "text/plain": [
       "{'min_samples_split': 5,\n",
       " 'min_samples_leaf': 6,\n",
       " 'max_depth': 5,\n",
       " 'learning_rate': 0.2,\n",
       " 'alpha': 0.8}"
      ]
     },
     "execution_count": 409,
     "metadata": {},
     "output_type": "execute_result"
    }
   ],
   "source": [
    "param_gb2={'learning_rate':[0.1,0.2,0.4,0.6],'min_samples_split':[3,4,5,6],\n",
    "          'min_samples_leaf':[5,6,7,8],'max_depth':[4,5,6,7,8],'alpha':[0.3,0.5,0.6,0.7,0.8]}\n",
    "randomcv(gb1,param_gb2,xb8,y)"
   ]
  },
  {
   "cell_type": "code",
   "execution_count": 410,
   "metadata": {},
   "outputs": [],
   "source": [
    "gb2=GradientBoostingRegressor(random_state=45,loss='ls',max_features= 'auto', warm_start= True,min_samples_split= 5,\n",
    " min_samples_leaf= 6,\n",
    " max_depth= 5,\n",
    " learning_rate= 0.2,\n",
    " alpha= 0.8)"
   ]
  },
  {
   "cell_type": "code",
   "execution_count": 413,
   "metadata": {},
   "outputs": [
    {
     "name": "stdout",
     "output_type": "stream",
     "text": [
      "Fitting 4 folds for each of 7 candidates, totalling 28 fits\n"
     ]
    },
    {
     "name": "stderr",
     "output_type": "stream",
     "text": [
      "[Parallel(n_jobs=-1)]: Using backend LokyBackend with 4 concurrent workers.\n",
      "[Parallel(n_jobs=-1)]: Done  10 tasks      | elapsed:    7.7s\n",
      "[Parallel(n_jobs=-1)]: Done  28 out of  28 | elapsed:   35.6s finished\n"
     ]
    },
    {
     "data": {
      "text/plain": [
       "{'n_estimators': 90}"
      ]
     },
     "execution_count": 413,
     "metadata": {},
     "output_type": "execute_result"
    }
   ],
   "source": [
    "param_gb3={'n_estimators':range(90,700,100)}\n",
    "gridcv(gb2,param_gb3,xb8,y)"
   ]
  },
  {
   "cell_type": "code",
   "execution_count": 414,
   "metadata": {},
   "outputs": [
    {
     "data": {
      "text/plain": [
       "(0.8100826726382503, 0.7303864120422079, 318.79871262444624)"
      ]
     },
     "execution_count": 414,
     "metadata": {},
     "output_type": "execute_result"
    }
   ],
   "source": [
    "gb3=GradientBoostingRegressor(random_state=45,loss='ls',max_features= 'auto', warm_start= True,min_samples_split= 5,\n",
    " min_samples_leaf= 6,\n",
    " max_depth= 5,\n",
    " learning_rate= 0.2,\n",
    " alpha= 0.8,n_estimators= 90)\n",
    "get_score(gb3,xb8,y)"
   ]
  },
  {
   "cell_type": "code",
   "execution_count": 416,
   "metadata": {},
   "outputs": [
    {
     "name": "stdout",
     "output_type": "stream",
     "text": [
      "Fitting 4 folds for each of 100 candidates, totalling 400 fits\n"
     ]
    },
    {
     "name": "stderr",
     "output_type": "stream",
     "text": [
      "[Parallel(n_jobs=-1)]: Using backend LokyBackend with 4 concurrent workers.\n",
      "[Parallel(n_jobs=-1)]: Done  10 tasks      | elapsed:    6.1s\n",
      "[Parallel(n_jobs=-1)]: Done  64 tasks      | elapsed:   29.9s\n",
      "[Parallel(n_jobs=-1)]: Done 154 tasks      | elapsed:  1.2min\n",
      "[Parallel(n_jobs=-1)]: Done 280 tasks      | elapsed:  2.2min\n",
      "[Parallel(n_jobs=-1)]: Done 400 out of 400 | elapsed:  3.2min finished\n"
     ]
    },
    {
     "data": {
      "text/plain": [
       "{'min_samples_split': 6,\n",
       " 'min_samples_leaf': 4,\n",
       " 'max_depth': 4,\n",
       " 'learning_rate': 0.3,\n",
       " 'alpha': 0.3}"
      ]
     },
     "execution_count": 416,
     "metadata": {},
     "output_type": "execute_result"
    }
   ],
   "source": [
    "param_gb4={'learning_rate':[0.1,0.2,0.3,0.4,0.5],'min_samples_split':[3,4,5,6,7],\n",
    "          'min_samples_leaf':[3,4,5,6,7],'max_depth':[4,5,6,7,8],'alpha':[0.3,0.4,0.5,0.6,0.7,0.8]}\n",
    "randomcv(gb,param_gb4,xb8,y)"
   ]
  },
  {
   "cell_type": "code",
   "execution_count": 417,
   "metadata": {},
   "outputs": [],
   "source": [
    "gbr=GradientBoostingRegressor(random_state=45,min_samples_split= 6,\n",
    " min_samples_leaf= 4,\n",
    " max_depth= 4,\n",
    " learning_rate= 0.3,\n",
    " alpha= 0.3)"
   ]
  },
  {
   "cell_type": "code",
   "execution_count": 419,
   "metadata": {},
   "outputs": [
    {
     "name": "stdout",
     "output_type": "stream",
     "text": [
      "Fitting 4 folds for each of 15 candidates, totalling 60 fits\n"
     ]
    },
    {
     "name": "stderr",
     "output_type": "stream",
     "text": [
      "[Parallel(n_jobs=-1)]: Using backend LokyBackend with 4 concurrent workers.\n",
      "[Parallel(n_jobs=-1)]: Done  10 tasks      | elapsed:    1.2s\n",
      "[Parallel(n_jobs=-1)]: Done  60 out of  60 | elapsed:   15.1s finished\n"
     ]
    },
    {
     "data": {
      "text/plain": [
       "{'n_estimators': 110}"
      ]
     },
     "execution_count": 419,
     "metadata": {},
     "output_type": "execute_result"
    }
   ],
   "source": [
    "param_gb5={'n_estimators':range(30,180,10)}\n",
    "gridcv(gbr,param_gb5,xb8,y)"
   ]
  },
  {
   "cell_type": "code",
   "execution_count": 420,
   "metadata": {},
   "outputs": [],
   "source": [
    "gbr1=GradientBoostingRegressor(random_state=45,min_samples_split= 6,\n",
    " min_samples_leaf= 4,\n",
    " max_depth= 4,\n",
    " learning_rate= 0.3,\n",
    " alpha= 0.3,n_estimators= 110)"
   ]
  },
  {
   "cell_type": "code",
   "execution_count": 421,
   "metadata": {},
   "outputs": [
    {
     "data": {
      "text/plain": [
       "(0.8016068684587061, 0.7362205939472943, 315.3305976989418)"
      ]
     },
     "execution_count": 421,
     "metadata": {},
     "output_type": "execute_result"
    }
   ],
   "source": [
    "get_score(gbr1,xb8,y)"
   ]
  },
  {
   "cell_type": "code",
   "execution_count": 426,
   "metadata": {},
   "outputs": [
    {
     "data": {
      "text/plain": [
       "(0.8063219731829817, 0.7467326763959221, 308.98347378866214)"
      ]
     },
     "execution_count": 426,
     "metadata": {},
     "output_type": "execute_result"
    }
   ],
   "source": [
    "# lets boost gbr1,xb8,y\n",
    "adagb=AdaBoostRegressor(base_estimator=gbr1, random_state=45, n_estimators=50, learning_rate=0.001)\n",
    "get_score(adagb,xb8,y)"
   ]
  },
  {
   "cell_type": "code",
   "execution_count": null,
   "metadata": {},
   "outputs": [],
   "source": [
    "# best score with adagb"
   ]
  },
  {
   "cell_type": "code",
   "execution_count": 427,
   "metadata": {},
   "outputs": [
    {
     "data": {
      "text/plain": [
       "(0.7469176455200921, 0.05278156620756017)"
      ]
     },
     "execution_count": 427,
     "metadata": {},
     "output_type": "execute_result"
    }
   ],
   "source": [
    "# lets cross validate adagb,xb8,y\n",
    "cross(adagb,xb8,y,10)"
   ]
  },
  {
   "cell_type": "code",
   "execution_count": 428,
   "metadata": {},
   "outputs": [],
   "source": [
    "# no over fitting or under fitting"
   ]
  },
  {
   "cell_type": "markdown",
   "metadata": {},
   "source": [
    "# XGB"
   ]
  },
  {
   "cell_type": "code",
   "execution_count": 429,
   "metadata": {},
   "outputs": [
    {
     "data": {
      "text/plain": [
       "(0.9308283595746148, 0.7075939247876448, 332.00059861546384)"
      ]
     },
     "execution_count": 429,
     "metadata": {},
     "output_type": "execute_result"
    }
   ],
   "source": [
    "x1=x.drop(['RESTAURANT_ID'],axis=1)\n",
    "get_score(xgb,x1,y)"
   ]
  },
  {
   "cell_type": "code",
   "execution_count": 430,
   "metadata": {},
   "outputs": [
    {
     "data": {
      "text/plain": [
       "(0.9187752235816611, 0.6809677884598639, 346.78710339220464)"
      ]
     },
     "execution_count": 430,
     "metadata": {},
     "output_type": "execute_result"
    }
   ],
   "source": [
    "x2=x.drop(['RESTAURANT_ID','LOCALITY'],axis=1)\n",
    "get_score(xgb,x2,y)"
   ]
  },
  {
   "cell_type": "code",
   "execution_count": 431,
   "metadata": {},
   "outputs": [
    {
     "data": {
      "text/plain": [
       "(0.8250848894040246, 0.4179026047906571, 468.42870331458664)"
      ]
     },
     "execution_count": 431,
     "metadata": {},
     "output_type": "execute_result"
    }
   ],
   "source": [
    "x3=x.drop(['RESTAURANT_ID','LOCALITY','TITLE_1'],axis=1)\n",
    "get_score(xgb,x3,y)"
   ]
  },
  {
   "cell_type": "code",
   "execution_count": 432,
   "metadata": {},
   "outputs": [
    {
     "data": {
      "text/plain": [
       "(0.9247463258233962, 0.6865938053391376, 343.715770560427)"
      ]
     },
     "execution_count": 432,
     "metadata": {},
     "output_type": "execute_result"
    }
   ],
   "source": [
    "x4=x.drop(['RESTAURANT_ID','LOCALITY','num_branch'],axis=1)\n",
    "get_score(xgb,x4,y)"
   ]
  },
  {
   "cell_type": "code",
   "execution_count": 433,
   "metadata": {},
   "outputs": [
    {
     "data": {
      "text/plain": [
       "(0.9187752235816611, 0.6809677884598639, 346.78710339220464)"
      ]
     },
     "execution_count": 433,
     "metadata": {},
     "output_type": "execute_result"
    }
   ],
   "source": [
    "x5=x.drop(['RESTAURANT_ID','LOCALITY','num_title'],axis=1)\n",
    "get_score(xgb,x5,y)"
   ]
  },
  {
   "cell_type": "code",
   "execution_count": 434,
   "metadata": {},
   "outputs": [
    {
     "data": {
      "text/plain": [
       "(0.9187752235816611, 0.6809677884598639, 346.78710339220464)"
      ]
     },
     "execution_count": 434,
     "metadata": {},
     "output_type": "execute_result"
    }
   ],
   "source": [
    "x6=x.drop(['RESTAURANT_ID','LOCALITY','num_title','num_cus'],axis=1)\n",
    "get_score(xgb,x6,y)"
   ]
  },
  {
   "cell_type": "code",
   "execution_count": 435,
   "metadata": {},
   "outputs": [
    {
     "data": {
      "text/plain": [
       "(0.9273351106692242, 0.6858998566375222, 344.0960904591451)"
      ]
     },
     "execution_count": 435,
     "metadata": {},
     "output_type": "execute_result"
    }
   ],
   "source": [
    "x7=x.drop(['RESTAURANT_ID','LOCALITY','num_title','num_cus','Cuisine_8','Cuisine_7','Cuisine_6','Cuisine_5'],axis=1)\n",
    "get_score(xgb,x7,y)"
   ]
  },
  {
   "cell_type": "code",
   "execution_count": 436,
   "metadata": {},
   "outputs": [
    {
     "data": {
      "text/plain": [
       "(0.9179868705748906, 0.7126573962953777, 329.1134888145826)"
      ]
     },
     "execution_count": 436,
     "metadata": {},
     "output_type": "execute_result"
    }
   ],
   "source": [
    "x8=x.drop(['RESTAURANT_ID','LOCALITY','num_title','num_cus','Cuisine_8','Cuisine_7','Cuisine_6','Cuisine_5','Cuisine_4','Cuisine_3'],axis=1)\n",
    "get_score(xgb,x8,y)"
   ]
  },
  {
   "cell_type": "code",
   "execution_count": 437,
   "metadata": {},
   "outputs": [
    {
     "data": {
      "text/plain": [
       "(0.8833802428775757, 0.6939502764831345, 339.6578582090458)"
      ]
     },
     "execution_count": 437,
     "metadata": {},
     "output_type": "execute_result"
    }
   ],
   "source": [
    "x9=x.drop(['RESTAURANT_ID','LOCALITY','Cuisine_8','Cuisine_7','Cuisine_6','Cuisine_5','Cuisine_4','Cuisine_3','Cuisine_2','Cuisine_1','num_title','num_cus'],axis=1)\n",
    "get_score(xgb,x9,y)"
   ]
  },
  {
   "cell_type": "code",
   "execution_count": 438,
   "metadata": {},
   "outputs": [
    {
     "data": {
      "text/plain": [
       "(0.9069458461317873, 0.7055555512754765, 333.1557830994709)"
      ]
     },
     "execution_count": 438,
     "metadata": {},
     "output_type": "execute_result"
    }
   ],
   "source": [
    "x10=x.drop(['RESTAURANT_ID','LOCALITY','num_title','num_cus','Cuisine_8','Cuisine_7','Cuisine_6','Cuisine_5','Cuisine_4','Cuisine_3','Cuisine_2'],axis=1)\n",
    "get_score(xgb,x10,y)"
   ]
  },
  {
   "cell_type": "code",
   "execution_count": 439,
   "metadata": {},
   "outputs": [],
   "source": [
    "# best score is with xgb,x8"
   ]
  },
  {
   "cell_type": "code",
   "execution_count": 440,
   "metadata": {},
   "outputs": [
    {
     "name": "stderr",
     "output_type": "stream",
     "text": [
      "[Parallel(n_jobs=-1)]: Using backend LokyBackend with 4 concurrent workers.\n",
      "[Parallel(n_jobs=-1)]: Done  10 tasks      | elapsed:  1.1min\n",
      "[Parallel(n_jobs=-1)]: Done  15 out of  18 | elapsed:  1.4min remaining:   16.9s\n",
      "[Parallel(n_jobs=-1)]: Done  18 out of  18 | elapsed:  1.6min finished\n",
      "\n",
      "[2020-03-29 21:54:51] Features: 17/8 -- score: 0.7324492747993566[Parallel(n_jobs=-1)]: Using backend LokyBackend with 4 concurrent workers.\n",
      "[Parallel(n_jobs=-1)]: Done  10 tasks      | elapsed:   56.7s\n",
      "[Parallel(n_jobs=-1)]: Done  14 out of  17 | elapsed:  1.3min remaining:   16.1s\n",
      "[Parallel(n_jobs=-1)]: Done  17 out of  17 | elapsed:  1.4min finished\n",
      "\n",
      "[2020-03-29 21:56:16] Features: 16/8 -- score: 0.7324492747993566[Parallel(n_jobs=-1)]: Using backend LokyBackend with 4 concurrent workers.\n",
      "[Parallel(n_jobs=-1)]: Done  13 out of  16 | elapsed:  1.2min remaining:   16.4s\n",
      "[Parallel(n_jobs=-1)]: Done  16 out of  16 | elapsed:  1.2min finished\n",
      "\n",
      "[2020-03-29 21:57:28] Features: 15/8 -- score: 0.7324492747993566[Parallel(n_jobs=-1)]: Using backend LokyBackend with 4 concurrent workers.\n",
      "[Parallel(n_jobs=-1)]: Done  12 out of  15 | elapsed:   52.4s remaining:   13.0s\n",
      "[Parallel(n_jobs=-1)]: Done  15 out of  15 | elapsed:  1.1min finished\n",
      "\n",
      "[2020-03-29 21:58:34] Features: 14/8 -- score: 0.7324147515955642[Parallel(n_jobs=-1)]: Using backend LokyBackend with 4 concurrent workers.\n",
      "[Parallel(n_jobs=-1)]: Done  10 out of  14 | elapsed:   50.0s remaining:   19.9s\n",
      "[Parallel(n_jobs=-1)]: Done  14 out of  14 | elapsed:  1.0min finished\n",
      "\n",
      "[2020-03-29 21:59:34] Features: 13/8 -- score: 0.7304450136592726[Parallel(n_jobs=-1)]: Using backend LokyBackend with 4 concurrent workers.\n",
      "[Parallel(n_jobs=-1)]: Done   9 out of  13 | elapsed:   47.7s remaining:   21.1s\n",
      "[Parallel(n_jobs=-1)]: Done  13 out of  13 | elapsed:   55.7s finished\n",
      "\n",
      "[2020-03-29 22:00:30] Features: 12/8 -- score: 0.7329669674210992[Parallel(n_jobs=-1)]: Using backend LokyBackend with 4 concurrent workers.\n",
      "[Parallel(n_jobs=-1)]: Done   8 out of  12 | elapsed:   30.5s remaining:   15.2s\n",
      "[Parallel(n_jobs=-1)]: Done  12 out of  12 | elapsed:   45.4s finished\n",
      "\n",
      "[2020-03-29 22:01:15] Features: 11/8 -- score: 0.7310385920882384[Parallel(n_jobs=-1)]: Using backend LokyBackend with 4 concurrent workers.\n",
      "[Parallel(n_jobs=-1)]: Done   7 out of  11 | elapsed:   26.7s remaining:   15.2s\n",
      "[Parallel(n_jobs=-1)]: Done  11 out of  11 | elapsed:   37.2s finished\n",
      "\n",
      "[2020-03-29 22:01:53] Features: 10/8 -- score: 0.7337835012774264[Parallel(n_jobs=-1)]: Using backend LokyBackend with 4 concurrent workers.\n",
      "[Parallel(n_jobs=-1)]: Done   6 out of  10 | elapsed:   25.0s remaining:   16.6s\n",
      "[Parallel(n_jobs=-1)]: Done  10 out of  10 | elapsed:   33.0s finished\n",
      "\n",
      "[2020-03-29 22:02:26] Features: 9/8 -- score: 0.7330163095092439[Parallel(n_jobs=-1)]: Using backend LokyBackend with 4 concurrent workers.\n",
      "[Parallel(n_jobs=-1)]: Done   4 out of   9 | elapsed:   11.5s remaining:   14.4s\n",
      "[Parallel(n_jobs=-1)]: Done   6 out of   9 | elapsed:   22.9s remaining:   11.4s\n",
      "[Parallel(n_jobs=-1)]: Done   9 out of   9 | elapsed:   29.2s finished\n",
      "\n",
      "[2020-03-29 22:02:55] Features: 8/8 -- score: 0.7352219274939308"
     ]
    },
    {
     "data": {
      "text/plain": [
       "(0.7207408721668508, 324.4511812380308)"
      ]
     },
     "execution_count": 440,
     "metadata": {},
     "output_type": "execute_result"
    }
   ],
   "source": [
    "modified_bfe(xgb,x,y,8)"
   ]
  },
  {
   "cell_type": "code",
   "execution_count": 441,
   "metadata": {},
   "outputs": [],
   "source": [
    "# best score is with k=8"
   ]
  },
  {
   "cell_type": "code",
   "execution_count": 442,
   "metadata": {},
   "outputs": [
    {
     "name": "stderr",
     "output_type": "stream",
     "text": [
      "[Parallel(n_jobs=-1)]: Using backend LokyBackend with 4 concurrent workers.\n",
      "[Parallel(n_jobs=-1)]: Done  18 out of  18 | elapsed:  1.6min remaining:    0.0s\n",
      "[Parallel(n_jobs=-1)]: Done  18 out of  18 | elapsed:  1.6min finished\n",
      "\n",
      "[2020-03-29 22:06:31] Features: 17/8 -- score: 0.7324492747993566[Parallel(n_jobs=-1)]: Using backend LokyBackend with 4 concurrent workers.\n",
      "[Parallel(n_jobs=-1)]: Done  17 out of  17 | elapsed:  1.4min finished\n",
      "\n",
      "[2020-03-29 22:07:55] Features: 16/8 -- score: 0.7324492747993566[Parallel(n_jobs=-1)]: Using backend LokyBackend with 4 concurrent workers.\n",
      "[Parallel(n_jobs=-1)]: Done  16 out of  16 | elapsed:  1.2min finished\n",
      "\n",
      "[2020-03-29 22:09:08] Features: 15/8 -- score: 0.7324492747993566[Parallel(n_jobs=-1)]: Using backend LokyBackend with 4 concurrent workers.\n",
      "[Parallel(n_jobs=-1)]: Done  15 out of  15 | elapsed:  1.1min finished\n",
      "\n",
      "[2020-03-29 22:10:14] Features: 14/8 -- score: 0.7324147515955642[Parallel(n_jobs=-1)]: Using backend LokyBackend with 4 concurrent workers.\n",
      "[Parallel(n_jobs=-1)]: Done  12 out of  14 | elapsed:   50.2s remaining:    8.3s\n",
      "[Parallel(n_jobs=-1)]: Done  14 out of  14 | elapsed:  1.0min finished\n",
      "\n",
      "[2020-03-29 22:11:15] Features: 13/8 -- score: 0.7304450136592726[Parallel(n_jobs=-1)]: Using backend LokyBackend with 4 concurrent workers.\n",
      "[Parallel(n_jobs=-1)]: Done  11 out of  13 | elapsed:   47.6s remaining:    8.6s\n",
      "[Parallel(n_jobs=-1)]: Done  13 out of  13 | elapsed:   55.3s finished\n",
      "\n",
      "[2020-03-29 22:12:11] Features: 12/8 -- score: 0.7329669674210992[Parallel(n_jobs=-1)]: Using backend LokyBackend with 4 concurrent workers.\n",
      "[Parallel(n_jobs=-1)]: Done  10 out of  12 | elapsed:   45.1s remaining:    8.9s\n",
      "[Parallel(n_jobs=-1)]: Done  12 out of  12 | elapsed:   45.4s finished\n",
      "\n",
      "[2020-03-29 22:12:56] Features: 11/8 -- score: 0.7310385920882384[Parallel(n_jobs=-1)]: Using backend LokyBackend with 4 concurrent workers.\n",
      "[Parallel(n_jobs=-1)]: Done   8 out of  11 | elapsed:   26.8s remaining:   10.0s\n",
      "[Parallel(n_jobs=-1)]: Done  11 out of  11 | elapsed:   37.4s finished\n",
      "\n",
      "[2020-03-29 22:13:34] Features: 10/8 -- score: 0.7337835012774264[Parallel(n_jobs=-1)]: Using backend LokyBackend with 4 concurrent workers.\n",
      "[Parallel(n_jobs=-1)]: Done   7 out of  10 | elapsed:   24.7s remaining:   10.5s\n",
      "[Parallel(n_jobs=-1)]: Done  10 out of  10 | elapsed:   32.8s finished\n",
      "\n",
      "[2020-03-29 22:14:06] Features: 9/8 -- score: 0.7330163095092439[Parallel(n_jobs=-1)]: Using backend LokyBackend with 4 concurrent workers.\n",
      "[Parallel(n_jobs=-1)]: Done   6 out of   9 | elapsed:   23.2s remaining:   11.5s\n",
      "[Parallel(n_jobs=-1)]: Done   9 out of   9 | elapsed:   29.1s finished\n",
      "\n",
      "[2020-03-29 22:14:36] Features: 8/8 -- score: 0.7352219274939308"
     ]
    }
   ],
   "source": [
    "xb=bfe(xgb,x,y,8)"
   ]
  },
  {
   "cell_type": "code",
   "execution_count": 443,
   "metadata": {},
   "outputs": [
    {
     "data": {
      "text/html": [
       "<div>\n",
       "<style scoped>\n",
       "    .dataframe tbody tr th:only-of-type {\n",
       "        vertical-align: middle;\n",
       "    }\n",
       "\n",
       "    .dataframe tbody tr th {\n",
       "        vertical-align: top;\n",
       "    }\n",
       "\n",
       "    .dataframe thead th {\n",
       "        text-align: right;\n",
       "    }\n",
       "</style>\n",
       "<table border=\"1\" class=\"dataframe\">\n",
       "  <thead>\n",
       "    <tr style=\"text-align: right;\">\n",
       "      <th></th>\n",
       "      <th>CITY</th>\n",
       "      <th>LOCALITY</th>\n",
       "      <th>TITLE_1</th>\n",
       "      <th>TITLE_2</th>\n",
       "      <th>Cuisine_1</th>\n",
       "      <th>Cuisine_2</th>\n",
       "      <th>Cuisine_3</th>\n",
       "      <th>num_branch</th>\n",
       "    </tr>\n",
       "  </thead>\n",
       "  <tbody>\n",
       "    <tr>\n",
       "      <td>0</td>\n",
       "      <td>14</td>\n",
       "      <td>285</td>\n",
       "      <td>4</td>\n",
       "      <td>19</td>\n",
       "      <td>59</td>\n",
       "      <td>32</td>\n",
       "      <td>66</td>\n",
       "      <td>1</td>\n",
       "    </tr>\n",
       "    <tr>\n",
       "      <td>1</td>\n",
       "      <td>2</td>\n",
       "      <td>1047</td>\n",
       "      <td>4</td>\n",
       "      <td>1</td>\n",
       "      <td>6</td>\n",
       "      <td>60</td>\n",
       "      <td>41</td>\n",
       "      <td>1</td>\n",
       "    </tr>\n",
       "    <tr>\n",
       "      <td>2</td>\n",
       "      <td>2</td>\n",
       "      <td>1102</td>\n",
       "      <td>4</td>\n",
       "      <td>19</td>\n",
       "      <td>72</td>\n",
       "      <td>23</td>\n",
       "      <td>12</td>\n",
       "      <td>1</td>\n",
       "    </tr>\n",
       "    <tr>\n",
       "      <td>3</td>\n",
       "      <td>8</td>\n",
       "      <td>136</td>\n",
       "      <td>21</td>\n",
       "      <td>19</td>\n",
       "      <td>100</td>\n",
       "      <td>23</td>\n",
       "      <td>93</td>\n",
       "      <td>1</td>\n",
       "    </tr>\n",
       "    <tr>\n",
       "      <td>4</td>\n",
       "      <td>8</td>\n",
       "      <td>620</td>\n",
       "      <td>8</td>\n",
       "      <td>19</td>\n",
       "      <td>28</td>\n",
       "      <td>98</td>\n",
       "      <td>93</td>\n",
       "      <td>1</td>\n",
       "    </tr>\n",
       "  </tbody>\n",
       "</table>\n",
       "</div>"
      ],
      "text/plain": [
       "   CITY  LOCALITY  TITLE_1  TITLE_2  Cuisine_1  Cuisine_2  Cuisine_3  num_branch\n",
       "0    14       285        4       19         59         32         66           1\n",
       "1     2      1047        4        1          6         60         41           1\n",
       "2     2      1102        4       19         72         23         12           1\n",
       "3     8       136       21       19        100         23         93           1\n",
       "4     8       620        8       19         28         98         93           1"
      ]
     },
     "execution_count": 443,
     "metadata": {},
     "output_type": "execute_result"
    }
   ],
   "source": [
    "xb.head()"
   ]
  },
  {
   "cell_type": "code",
   "execution_count": 444,
   "metadata": {},
   "outputs": [],
   "source": [
    "# lets tune xgb"
   ]
  },
  {
   "cell_type": "code",
   "execution_count": 446,
   "metadata": {},
   "outputs": [],
   "source": [
    "XGBRegressor?"
   ]
  },
  {
   "cell_type": "code",
   "execution_count": 447,
   "metadata": {},
   "outputs": [
    {
     "name": "stdout",
     "output_type": "stream",
     "text": [
      "Fitting 4 folds for each of 15 candidates, totalling 60 fits\n"
     ]
    },
    {
     "name": "stderr",
     "output_type": "stream",
     "text": [
      "[Parallel(n_jobs=-1)]: Using backend LokyBackend with 4 concurrent workers.\n",
      "[Parallel(n_jobs=-1)]: Done  10 tasks      | elapsed:    6.6s\n",
      "[Parallel(n_jobs=-1)]: Done  60 out of  60 | elapsed:   48.1s finished\n"
     ]
    },
    {
     "data": {
      "text/plain": [
       "{'booster': 'dart', 'importance_type': 'gain'}"
      ]
     },
     "execution_count": 447,
     "metadata": {},
     "output_type": "execute_result"
    }
   ],
   "source": [
    "param_xgb={'booster':['gbtree', 'gblinear', 'dart'],'importance_type':[\"gain\", \"weight\", \"cover\", \"total_gain\",\"total_cover\"]}\n",
    "gridcv(xgb,param_xgb,xb,y)"
   ]
  },
  {
   "cell_type": "code",
   "execution_count": 448,
   "metadata": {},
   "outputs": [],
   "source": [
    "xgb1=XGBRegressor(n_jobs=-1,random_state=45,booster= 'dart',importance_type= 'gain')"
   ]
  },
  {
   "cell_type": "code",
   "execution_count": 449,
   "metadata": {},
   "outputs": [
    {
     "name": "stdout",
     "output_type": "stream",
     "text": [
      "Fitting 4 folds for each of 100 candidates, totalling 400 fits\n"
     ]
    },
    {
     "name": "stderr",
     "output_type": "stream",
     "text": [
      "[Parallel(n_jobs=-1)]: Using backend LokyBackend with 4 concurrent workers.\n",
      "[Parallel(n_jobs=-1)]: Done  10 tasks      | elapsed:   29.7s\n",
      "[Parallel(n_jobs=-1)]: Done  64 tasks      | elapsed:  1.7min\n",
      "[Parallel(n_jobs=-1)]: Done 154 tasks      | elapsed:  4.2min\n",
      "[Parallel(n_jobs=-1)]: Done 280 tasks      | elapsed:  8.1min\n",
      "[Parallel(n_jobs=-1)]: Done 400 out of 400 | elapsed: 12.1min finished\n"
     ]
    },
    {
     "data": {
      "text/plain": [
       "{'reg_lambda': 4,\n",
       " 'reg_alpha': 1,\n",
       " 'min_child_weight': 8,\n",
       " 'max_depth': 8,\n",
       " 'learning_rate': 0.1,\n",
       " 'gamma': 1}"
      ]
     },
     "execution_count": 449,
     "metadata": {},
     "output_type": "execute_result"
    }
   ],
   "source": [
    "param_xgb1={'max_depth':[2,4,8,12],'learning_rate':[0.001,0.01,0.1,1,2],'gamma':[0.1,1,2,4,8],'min_child_weight':[1,2,4,8],\n",
    "           'reg_alpha':[0.1,0.5,1,2,4],'reg_lambda':[0.1,0.5,1,2,4]}\n",
    "randomcv(xgb1,param_xgb1,xb,y)"
   ]
  },
  {
   "cell_type": "code",
   "execution_count": 450,
   "metadata": {},
   "outputs": [
    {
     "name": "stdout",
     "output_type": "stream",
     "text": [
      "Fitting 4 folds for each of 100 candidates, totalling 400 fits\n"
     ]
    },
    {
     "name": "stderr",
     "output_type": "stream",
     "text": [
      "[Parallel(n_jobs=-1)]: Using backend LokyBackend with 4 concurrent workers.\n",
      "[Parallel(n_jobs=-1)]: Done  10 tasks      | elapsed:   31.8s\n",
      "[Parallel(n_jobs=-1)]: Done  64 tasks      | elapsed:  2.6min\n",
      "[Parallel(n_jobs=-1)]: Done 154 tasks      | elapsed:  6.0min\n",
      "[Parallel(n_jobs=-1)]: Done 280 tasks      | elapsed: 10.6min\n",
      "[Parallel(n_jobs=-1)]: Done 400 out of 400 | elapsed: 15.1min finished\n"
     ]
    },
    {
     "data": {
      "text/plain": [
       "{'reg_lambda': 4,\n",
       " 'reg_alpha': 1.4,\n",
       " 'min_child_weight': 8,\n",
       " 'max_depth': 6,\n",
       " 'learning_rate': 0.2,\n",
       " 'gamma': 0.5}"
      ]
     },
     "execution_count": 450,
     "metadata": {},
     "output_type": "execute_result"
    }
   ],
   "source": [
    "param_xgb2={'max_depth':[5,6,7,8,9,10,11],'learning_rate':[0.1,0.2,0.3,0.4,0.6,0.8],'gamma':[0.5,1,2,3,4],'min_child_weight':[3,4,5,6,7,8],\n",
    "           'reg_alpha':[0.5,0.8,1,1.2,1.4,1.6],'reg_lambda':[3.5,4,4.5,5,6]}\n",
    "randomcv(xgb1,param_xgb2,xb,y)"
   ]
  },
  {
   "cell_type": "code",
   "execution_count": 451,
   "metadata": {},
   "outputs": [
    {
     "name": "stdout",
     "output_type": "stream",
     "text": [
      "Fitting 4 folds for each of 100 candidates, totalling 400 fits\n"
     ]
    },
    {
     "name": "stderr",
     "output_type": "stream",
     "text": [
      "[Parallel(n_jobs=-1)]: Using backend LokyBackend with 4 concurrent workers.\n",
      "[Parallel(n_jobs=-1)]: Done  10 tasks      | elapsed:   31.3s\n",
      "[Parallel(n_jobs=-1)]: Done  64 tasks      | elapsed:  2.1min\n",
      "[Parallel(n_jobs=-1)]: Done 154 tasks      | elapsed:  5.0min\n",
      "[Parallel(n_jobs=-1)]: Done 280 tasks      | elapsed:  8.8min\n",
      "[Parallel(n_jobs=-1)]: Done 400 out of 400 | elapsed: 12.6min finished\n"
     ]
    },
    {
     "data": {
      "text/plain": [
       "{'reg_lambda': 3.5,\n",
       " 'reg_alpha': 1.5,\n",
       " 'min_child_weight': 6,\n",
       " 'max_depth': 6,\n",
       " 'learning_rate': 0.2,\n",
       " 'gamma': 0.3}"
      ]
     },
     "execution_count": 451,
     "metadata": {},
     "output_type": "execute_result"
    }
   ],
   "source": [
    "param_xgb3={'max_depth':[5,6,7,8,9],'learning_rate':[0.1,0.2,0.3,0.4,0.5],'gamma':[0.3,0.4,0.5,0.6,0.7],'min_child_weight':[5,6,7,8,9,10],\n",
    "           'reg_alpha':[1.1,1.2,1.3,1.4,1.5],'reg_lambda':[3.5,4,4.5,5]}\n",
    "randomcv(xgb1,param_xgb3,xb,y)"
   ]
  },
  {
   "cell_type": "code",
   "execution_count": 452,
   "metadata": {},
   "outputs": [
    {
     "name": "stdout",
     "output_type": "stream",
     "text": [
      "Fitting 4 folds for each of 100 candidates, totalling 400 fits\n"
     ]
    },
    {
     "name": "stderr",
     "output_type": "stream",
     "text": [
      "[Parallel(n_jobs=-1)]: Using backend LokyBackend with 4 concurrent workers.\n",
      "[Parallel(n_jobs=-1)]: Done  10 tasks      | elapsed:   20.6s\n",
      "[Parallel(n_jobs=-1)]: Done  64 tasks      | elapsed:  1.8min\n",
      "[Parallel(n_jobs=-1)]: Done 154 tasks      | elapsed:  4.3min\n",
      "[Parallel(n_jobs=-1)]: Done 280 tasks      | elapsed:  7.7min\n",
      "[Parallel(n_jobs=-1)]: Done 400 out of 400 | elapsed: 10.8min finished\n"
     ]
    },
    {
     "data": {
      "text/plain": [
       "{'reg_lambda': 4,\n",
       " 'reg_alpha': 1.4,\n",
       " 'min_child_weight': 7,\n",
       " 'max_depth': 6,\n",
       " 'learning_rate': 0.2,\n",
       " 'gamma': 0.2}"
      ]
     },
     "execution_count": 452,
     "metadata": {},
     "output_type": "execute_result"
    }
   ],
   "source": [
    "param_xgb4={'max_depth':[5,6,7],'learning_rate':[0.1,0.2,0.3],'gamma':[0.2,0.3,0.4,0.5,0.6],'min_child_weight':[5,6,7,8],\n",
    "           'reg_alpha':[1.3,1.4,1.5,2],'reg_lambda':[3,3.5,4,4.5]}\n",
    "randomcv(xgb1,param_xgb4,xb,y)"
   ]
  },
  {
   "cell_type": "code",
   "execution_count": 453,
   "metadata": {},
   "outputs": [
    {
     "data": {
      "text/plain": [
       "(0.8438663782630165, 0.7362412474738786, 315.31825250401494)"
      ]
     },
     "execution_count": 453,
     "metadata": {},
     "output_type": "execute_result"
    }
   ],
   "source": [
    "xgb2=XGBRegressor(n_jobs=-1,random_state=45,booster= 'dart',importance_type= 'gain',reg_lambda= 4,\n",
    " reg_alpha= 1.4,\n",
    " min_child_weight= 7,\n",
    " max_depth= 6,\n",
    " learning_rate= 0.2,\n",
    " gamma= 0.2)\n",
    "get_score(xgb2,xb,y)"
   ]
  },
  {
   "cell_type": "code",
   "execution_count": 455,
   "metadata": {},
   "outputs": [
    {
     "name": "stdout",
     "output_type": "stream",
     "text": [
      "Fitting 4 folds for each of 5 candidates, totalling 20 fits\n"
     ]
    },
    {
     "name": "stderr",
     "output_type": "stream",
     "text": [
      "[Parallel(n_jobs=-1)]: Using backend LokyBackend with 4 concurrent workers.\n",
      "[Parallel(n_jobs=-1)]: Done  10 tasks      | elapsed:   59.2s\n",
      "[Parallel(n_jobs=-1)]: Done  18 out of  20 | elapsed:  4.3min remaining:   28.7s\n",
      "[Parallel(n_jobs=-1)]: Done  20 out of  20 | elapsed:  4.3min finished\n"
     ]
    },
    {
     "data": {
      "text/plain": [
       "{'n_estimators': 150}"
      ]
     },
     "execution_count": 455,
     "metadata": {},
     "output_type": "execute_result"
    }
   ],
   "source": [
    "param_xgb4={'n_estimators':range(50,460,100)}\n",
    "randomcv(xgb2,param_xgb4,xb,y)"
   ]
  },
  {
   "cell_type": "code",
   "execution_count": 456,
   "metadata": {},
   "outputs": [
    {
     "name": "stdout",
     "output_type": "stream",
     "text": [
      "Fitting 4 folds for each of 15 candidates, totalling 60 fits\n"
     ]
    },
    {
     "name": "stderr",
     "output_type": "stream",
     "text": [
      "[Parallel(n_jobs=-1)]: Using backend LokyBackend with 4 concurrent workers.\n",
      "[Parallel(n_jobs=-1)]: Done  10 tasks      | elapsed:    6.4s\n",
      "[Parallel(n_jobs=-1)]: Done  60 out of  60 | elapsed:  2.2min finished\n"
     ]
    },
    {
     "data": {
      "text/plain": [
       "{'n_estimators': 110}"
      ]
     },
     "execution_count": 456,
     "metadata": {},
     "output_type": "execute_result"
    }
   ],
   "source": [
    "param_xgb5={'n_estimators':range(40,190,10)}\n",
    "randomcv(xgb2,param_xgb5,xb,y)"
   ]
  },
  {
   "cell_type": "code",
   "execution_count": 457,
   "metadata": {},
   "outputs": [
    {
     "data": {
      "text/plain": [
       "(0.8497039138098071, 0.7355017907211185, 315.7599459389309)"
      ]
     },
     "execution_count": 457,
     "metadata": {},
     "output_type": "execute_result"
    }
   ],
   "source": [
    "xgb3=XGBRegressor(n_jobs=-1,random_state=45,booster= 'dart',importance_type= 'gain',reg_lambda= 4,\n",
    " reg_alpha= 1.4,\n",
    " min_child_weight= 7,\n",
    " max_depth= 6,\n",
    " learning_rate= 0.2,\n",
    " gamma= 0.2,n_estimators= 110)\n",
    "get_score(xgb3,xb,y)"
   ]
  },
  {
   "cell_type": "code",
   "execution_count": 466,
   "metadata": {},
   "outputs": [
    {
     "data": {
      "text/plain": [
       "(0.8907156699040355, 0.7395356383629905, 313.3428760976738)"
      ]
     },
     "execution_count": 466,
     "metadata": {},
     "output_type": "execute_result"
    }
   ],
   "source": [
    "# lets boost xgb2,xb,y\n",
    "adaxgb=AdaBoostRegressor(base_estimator=xgb2, random_state=45, n_estimators=20, learning_rate=0.1)\n",
    "get_score(adaxgb,xb,y)"
   ]
  },
  {
   "cell_type": "code",
   "execution_count": 467,
   "metadata": {},
   "outputs": [
    {
     "data": {
      "text/plain": [
       "(0.7377011250157777, 0.03689091108960139)"
      ]
     },
     "execution_count": 467,
     "metadata": {},
     "output_type": "execute_result"
    }
   ],
   "source": [
    "# score improved\n",
    "# lets cross validate adaxgb,xb,y\n",
    "cross(adaxgb,xb,y)"
   ]
  },
  {
   "cell_type": "code",
   "execution_count": 468,
   "metadata": {},
   "outputs": [],
   "source": [
    "# no under fitting or over fitting"
   ]
  },
  {
   "cell_type": "markdown",
   "metadata": {},
   "source": [
    "# Saving the model"
   ]
  },
  {
   "cell_type": "code",
   "execution_count": 469,
   "metadata": {},
   "outputs": [
    {
     "data": {
      "text/plain": [
       "['adagb_food_cost.pkl']"
      ]
     },
     "execution_count": 469,
     "metadata": {},
     "output_type": "execute_result"
    }
   ],
   "source": [
    "# adagb performed better than adaxgb\n",
    "import joblib\n",
    "joblib.dump(adagb,'adagb_food_cost.pkl')"
   ]
  },
  {
   "cell_type": "code",
   "execution_count": 471,
   "metadata": {},
   "outputs": [
    {
     "data": {
      "text/plain": [
       "Index(['RESTAURANT_ID', 'CITY', 'LOCALITY', 'RATING', 'VOTES', 'TITLE_1', 'TITLE_2', 'Cuisine_1', 'Cuisine_2', 'Cuisine_3', 'Cuisine_4', 'Cuisine_5', 'Cuisine_6', 'Cuisine_7', 'Cuisine_8', 'num_branch', 'num_cus', 'num_title'], dtype='object')"
      ]
     },
     "execution_count": 471,
     "metadata": {},
     "output_type": "execute_result"
    }
   ],
   "source": [
    "test.columns"
   ]
  },
  {
   "cell_type": "code",
   "execution_count": 472,
   "metadata": {},
   "outputs": [],
   "source": [
    "# columns to drop in test\n",
    "test_to_use=test.drop(['RESTAURANT_ID','LOCALITY','VOTES','Cuisine_3','Cuisine_4','Cuisine_5','Cuisine_7','Cuisine_8','num_branch','num_title'],axis=1)"
   ]
  },
  {
   "cell_type": "code",
   "execution_count": 473,
   "metadata": {},
   "outputs": [
    {
     "data": {
      "text/html": [
       "<div>\n",
       "<style scoped>\n",
       "    .dataframe tbody tr th:only-of-type {\n",
       "        vertical-align: middle;\n",
       "    }\n",
       "\n",
       "    .dataframe tbody tr th {\n",
       "        vertical-align: top;\n",
       "    }\n",
       "\n",
       "    .dataframe thead th {\n",
       "        text-align: right;\n",
       "    }\n",
       "</style>\n",
       "<table border=\"1\" class=\"dataframe\">\n",
       "  <thead>\n",
       "    <tr style=\"text-align: right;\">\n",
       "      <th></th>\n",
       "      <th>CITY</th>\n",
       "      <th>RATING</th>\n",
       "      <th>TITLE_1</th>\n",
       "      <th>TITLE_2</th>\n",
       "      <th>Cuisine_1</th>\n",
       "      <th>Cuisine_2</th>\n",
       "      <th>Cuisine_6</th>\n",
       "      <th>num_cus</th>\n",
       "    </tr>\n",
       "  </thead>\n",
       "  <tbody>\n",
       "    <tr>\n",
       "      <td>0</td>\n",
       "      <td>8</td>\n",
       "      <td>4.3</td>\n",
       "      <td>5</td>\n",
       "      <td>16</td>\n",
       "      <td>60</td>\n",
       "      <td>19</td>\n",
       "      <td>42</td>\n",
       "      <td>4</td>\n",
       "    </tr>\n",
       "  </tbody>\n",
       "</table>\n",
       "</div>"
      ],
      "text/plain": [
       "   CITY  RATING  TITLE_1  TITLE_2  Cuisine_1  Cuisine_2  Cuisine_6  num_cus\n",
       "0     8     4.3        5       16         60         19         42        4"
      ]
     },
     "execution_count": 473,
     "metadata": {},
     "output_type": "execute_result"
    }
   ],
   "source": [
    "test_to_use.head(1)"
   ]
  },
  {
   "cell_type": "code",
   "execution_count": 475,
   "metadata": {},
   "outputs": [],
   "source": [
    "pred=adagb.predict(test_to_use)\n",
    "predic=pd.DataFrame(pred)\n",
    "predic.to_csv('pred_food_cost.csv')"
   ]
  },
  {
   "cell_type": "code",
   "execution_count": null,
   "metadata": {},
   "outputs": [],
   "source": []
  }
 ],
 "metadata": {
  "kernelspec": {
   "display_name": "Python 3",
   "language": "python",
   "name": "python3"
  },
  "language_info": {
   "codemirror_mode": {
    "name": "ipython",
    "version": 3
   },
   "file_extension": ".py",
   "mimetype": "text/x-python",
   "name": "python",
   "nbconvert_exporter": "python",
   "pygments_lexer": "ipython3",
   "version": "3.7.4"
  }
 },
 "nbformat": 4,
 "nbformat_minor": 2
}
